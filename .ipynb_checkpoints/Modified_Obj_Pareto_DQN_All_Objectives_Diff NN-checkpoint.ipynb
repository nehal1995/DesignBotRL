{
 "cells": [
  {
   "cell_type": "markdown",
   "metadata": {
    "id": "f4f5J83gfrM-"
   },
   "source": [
    "Just s,a,r\n",
    "https://tomroth.com.au/dqn-simple/\n",
    "https://markus-x-buchholz.medium.com/deep-reinforcement-learning-introduction-deep-q-network-dqn-algorithm-fb74bf4d6862\n",
    "\n",
    "Using images\n",
    "https://towardsdatascience.com/deep-q-network-with-pytorch-146bfa939dfe"
   ]
  },
  {
   "cell_type": "code",
   "execution_count": null,
   "metadata": {
    "colab": {
     "base_uri": "https://localhost:8080/"
    },
    "id": "NlQnqdWLnCFl",
    "outputId": "c14341f3-f229-4c3f-d280-f3265852b059"
   },
   "outputs": [],
   "source": [
    "val = np.array([1,2,3,4])\n",
    "print(np.argmax(val))"
   ]
  },
  {
   "cell_type": "code",
   "execution_count": null,
   "metadata": {
    "id": "l_3tDg6ERSTt"
   },
   "outputs": [],
   "source": [
    "import numpy as np\n",
    "import matplotlib.pyplot as plt\n",
    "import random\n",
    "import math\n",
    "import itertools\n",
    "import time\n",
    "from google.colab import output\n",
    "import pandas as pd\n",
    "from keras.models import Sequential\n",
    "from keras.layers import Dense\n",
    "from tensorflow.keras.optimizers import Adam\n",
    "import matplotlib.pyplot as plt\n",
    "import seaborn as sns"
   ]
  },
  {
   "cell_type": "markdown",
   "metadata": {
    "id": "Zt9nX80RQd1H"
   },
   "source": [
    "Building NN net"
   ]
  },
  {
   "cell_type": "code",
   "execution_count": null,
   "metadata": {
    "id": "kz26X1PVLRQ7"
   },
   "outputs": [],
   "source": [
    "from tensorflow import keras\n",
    "lr_schedule = keras.optimizers.schedules.ExponentialDecay(\n",
    "    initial_learning_rate=1e-2,\n",
    "    decay_steps=10000,\n",
    "    decay_rate=0.9)"
   ]
  },
  {
   "cell_type": "code",
   "execution_count": null,
   "metadata": {
    "id": "-bcE4XdcPncV"
   },
   "outputs": [],
   "source": [
    "num_actions = 7\n",
    "#input_dim -> num of values in single state 1D or 3D\n",
    "model = Sequential()\n",
    "model.add(Dense(64,input_dim = 1, activation='relu'))\n",
    "model.add(Dense(32,activation='relu'))\n",
    "model.add(Dense(num_actions,activation='linear'))\n",
    "model.compile(optimizer=Adam(learning_rate=lr_schedule), loss='mse')"
   ]
  },
  {
   "cell_type": "code",
   "execution_count": null,
   "metadata": {
    "colab": {
     "base_uri": "https://localhost:8080/"
    },
    "id": "RkR5aURJHSfK",
    "outputId": "bda158b3-b14e-4c23-ec8d-7ba066cff877"
   },
   "outputs": [],
   "source": [
    "model.summary()"
   ]
  },
  {
   "cell_type": "markdown",
   "metadata": {
    "id": "F7KRpiBzQlSE"
   },
   "source": [
    "Some initial parameters"
   ]
  },
  {
   "cell_type": "code",
   "execution_count": null,
   "metadata": {
    "id": "_b_A2MvYQndP"
   },
   "outputs": [],
   "source": [
    "num_ep = 10\n",
    "gamma = 0.99\n",
    "epsilon = 1\n",
    "minibatch_size = 32\n",
    "rew_sums = [] #stores rew for each episode\n",
    "replay_memory1 = []\n",
    "replay_memory2 = []\n",
    "replay_memory3 = []\n",
    "replay_memory4 = []\n",
    "replay_memory5 = []\n",
    "replay_memory6 = []\n",
    "replay_memory7 = []\n",
    "replay_memory8 = [] #stores s,a,r,s'\n",
    "max_mem_size = 100000"
   ]
  },
  {
   "cell_type": "code",
   "execution_count": null,
   "metadata": {
    "colab": {
     "base_uri": "https://localhost:8080/"
    },
    "id": "3VxO1iyyjzwj",
    "outputId": "323678e4-5552-4cad-cb53-4a2f15e90fcc"
   },
   "outputs": [],
   "source": [
    "from google.colab import drive\n",
    "\n",
    "drive.mount('/content/drive')"
   ]
  },
  {
   "cell_type": "code",
   "execution_count": null,
   "metadata": {
    "id": "qKbR5tpervXI"
   },
   "outputs": [],
   "source": [
    "class GreenHouseEnv(object):\n",
    "  def __init__(self,m,n,o):  #m, n and o is the dimension of the grid\n",
    "    #self.grid = np.zeros((m,n))\n",
    "    self.m = m\n",
    "    self.n = n\n",
    "    self.o = o\n",
    "    self.occupied = []\n",
    "    self.statePosDict ={}\n",
    "    self.statePositionDict(m,n,o)\n",
    "    #self.obsSpace = [[[k for k in range(self.o)] for j in range(self.n)] for i in range(self.m)]\n",
    "    self.obsSpace = [i for i in range(self.m * self.n * self.o)]\n",
    "    #print(self.obsSpace)\n",
    "    self.actSpace = {'U': 0, 'D': 1, 'L': 2, 'R': 3, 'B': 4, 'F': 5}\n",
    "    self.possibleAct = ['U','D','L','R', 'B', 'F']\n",
    "    self.addComponents()\n",
    "    self.rules_arr_rew = [9999,9999,0,0,9999,9999]\n",
    "    self.objectives_comp_1 = {\n",
    "        1: 'heater',\n",
    "        2: 'water tank'\n",
    "    }\n",
    "    self.env_pos_log = []\n",
    "    self.rew_vec = [99999,99999,0,0,99999,99999] #6 is number of objectives\n",
    "    self.log_d = {0:[], 1: [], 2:[], 3:[], 4:[], 5:[], 6:[]}\n",
    "    self.log_best_d =  {0:[], 1: [], 2:[], 3:[], 4:[], 5:[], 6:[]}\n",
    "    self.rew_obtained =  {0:[], 1: [], 2:[], 3:[], 4:[], 5:[], 6:[]}\n",
    "    self.best_pos = [999,999,999]\n",
    "    self.best_pos_2 = [999,999]\n",
    "    self.best_pos_3 = [0,0]\n",
    "    self.best_pos_4 = [0,0]\n",
    "    self.best_pos_5 = [999,999]\n",
    "    self.best_pos_6 = [999,999]\n",
    "    self.best_pos_log_2 =  []\n",
    "    self.best_pos_log_3 =  []\n",
    "    self.best_pos_log_4 =  []\n",
    "    self.best_pos_log_5 =  []\n",
    "    self.best_pos_log_6 =  []\n",
    "    self.best_pos_log =  []\n",
    "    self.prev_distance = [99999,99999,0,0,99999,99999] #to keep record of the prev distance\n",
    "  \n",
    "  def addComponents(self):\n",
    "    self.components = [1,2,3,4,5,6,7,8] #[1,2,3,4,5,6,7,8,9,10]\n",
    "\n",
    "    if len(self.components)> self.m*self.n*self.o:\n",
    "      print('errorrrr')\n",
    "      return 0\n",
    "\n",
    "    \n",
    "    self.comp_dictionary = {\n",
    "        1: 'heater',\n",
    "        2: 'water tank',\n",
    "        3: 'pack soil',\n",
    "        4: 'heat sensor',\n",
    "        5: 'camera',\n",
    "        6: 'fan',\n",
    "        7: 'led',\n",
    "        8: 'water pump',\n",
    "        9: 'PCB',\n",
    "        10: 'Pipes'\n",
    "    }\n",
    "\n",
    "    #self.grid = np.zeros((self.m,self.n,self.o))\n",
    "    #print('grid: 111', self.grid)  \n",
    "    \n",
    "    len_com = len(self.components)\n",
    "    i = 0\n",
    "    while len_com != 0:\n",
    "      #print('i',i)\n",
    "      x = random.choice(range(0,self.m))\n",
    "      y = random.choice(range(0,self.n))\n",
    "      z = random.choice(range(0,self.o))\n",
    "      if (x,y,z) not in self.occupied:\n",
    "        #self.grid[x,y,z] = components[i]\n",
    "        self.occupied.append((x,y,z))\n",
    "        len_com -= 1\n",
    "        i += 1\n",
    "      \n",
    "\n",
    "      #else:\n",
    "      #  x = random.choice(range(0,self.m))\n",
    "      #  y = random.choice(range(0,self.n))\n",
    "      #  z = random.choice(range(0,self.o))\n",
    "      #  self.grid[x,y,z] = components[i]\n",
    "      #  self.occupied.append((x,y,z))\n",
    "    #print('grid: ', np.shape(self.grid))   \n",
    "    print('occupied:',self.occupied)\n",
    "\n",
    "  def getComponentPosition(self, index):\n",
    "    return self.occupied[index]\n",
    "\n",
    "  def getComponentValue(self, pos):\n",
    "    if pos in self.occupied:\n",
    "      id = self.occupied.index(pos)\n",
    "      val = self.components[id]\n",
    "    else:\n",
    "      val = -1\n",
    "    return val\n",
    "\n",
    "  def setState(self, state, comp_id):\n",
    "    x,y,z = self.getComponentPosition(comp_id)\n",
    "    #self.grid[x,y,z] = -1\n",
    "    x,y,z = state\n",
    "    #self.grid[x,y,z] = components[comp_id]\n",
    "    self.occupied[comp_id] = state\n",
    "\n",
    "  def totalDistance(self, components):\n",
    "    total_dist = 0\n",
    "    for i in range(len(components)):\n",
    "      for j in range(len(components)):\n",
    "        i_pos = self.getComponentPosition(i+1)\n",
    "        j_pos = self.getComponentPosition(j+1)\n",
    "        dist_temp = self.calcDistance(i_pos, j_pos)\n",
    "        total_dist += dist_temp\n",
    "\n",
    "    return total_dist\n",
    "\n",
    "\n",
    "  def obj1(self):\n",
    "    #print(self.rules_arr_rew)\n",
    "    total = 0\n",
    "    rew_comp = np.zeros(6) #6 here is number of objective\n",
    "    temp_rew_vec = np.zeros(6)\n",
    "\n",
    "\n",
    "    \n",
    "    #rule 1 - minimize distance between pack soil, water tank and water pump\n",
    "    #if component == 2 or component == 3 or component == 8:\n",
    "    print('RULE 1')\n",
    "    d1 = self.calcDistance(1,2)\n",
    "    d2 = self.calcDistance(2,7)\n",
    "    d3 = self.calcDistance(1,7)\n",
    "    avg_d = (d1 + d2 + d3)/3\n",
    "    #print('avg',avg_d)\n",
    "      \n",
    "    temp_rew_vec[0] = avg_d\n",
    "\n",
    "    #find diff from last distance and new distance\n",
    "    diff_1 = avg_d - self.rew_vec[0]\n",
    "    diff_2 = self.prev_distance[0] - self.rew_vec[0]\n",
    "\n",
    "    diff = diff_1 - diff_2\n",
    "\n",
    "      \n",
    "    #reward for moving closer or away from the best distance\n",
    "    if avg_d>self.prev_distance[0]: # move away\n",
    "      rew_comp[0] = -1\n",
    "    elif avg_d<self.prev_distance[0]: # move closer\n",
    "      #if it moves closer then check for the best score\n",
    "      if avg_d<self.rew_vec[0]: #set a new best score\n",
    "        rew_comp[0] = 10\n",
    "        self.rew_vec[0] = avg_d\n",
    "        pos1 = self.getComponentPosition(1)\n",
    "        pos2 = self.getComponentPosition(2)\n",
    "        pos3 = self.getComponentPosition(7)\n",
    "        self.best_pos = [pos1, pos2, pos3]\n",
    "        self.best_pos_log.append(self.best_pos)\n",
    "      elif avg_d==self.rew_vec[0]: #find a similar best score\n",
    "        rew_comp[0] = 5\n",
    "        #add code here later to save the coordinates if it is different from the previous one\n",
    "      else:\n",
    "        rew_comp[0] = 2\n",
    "    elif avg_d==self.prev_distance[0]: # stay in same place\n",
    "      rew_comp[0] = 0.5\n",
    "\n",
    "        \n",
    "\n",
    "    #save the new distance as prev distance\n",
    "    self.prev_distance[0] = avg_d\n",
    "      \n",
    "    '''\n",
    "      if avg_d<self.rew_vec[0]:\n",
    "        rew_comp[0] = 1\n",
    "        self.rew_vec[0] = avg_d\n",
    "        \n",
    "      elif avg_d>self.rew_vec[0]:\n",
    "        rew_comp[0] = -20\n",
    "      else:\n",
    "        rew_comp[0] = 0\n",
    "      '''\n",
    "    self.log_d[0].append(avg_d)\n",
    "    self.log_best_d[0].append(self.rew_vec[0])\n",
    "    self.rew_obtained[0].append(rew_comp[0])\n",
    "    print('score obtained',rew_comp[0])\n",
    "    print('avg_d', avg_d)\n",
    "    print('slf.rew_vec', self.rew_vec[0])\n",
    "    print('reward',rew_comp[0])\n",
    "      \n",
    "      #total += rew1\n",
    "      #print('#MINIMIZE# old dist: ', self.rules_arr_rew[0], 'new dist:', avg_d ,'rew1:', rew1)\n",
    "    '''\n",
    "    #rule 2 - minimize distance between heater and the fan\n",
    "    if component == 1 or component == 6:\n",
    "      #print('RULE 2')\n",
    "      #print(self.rules_arr_rew)\n",
    "      hf = self.calcDistance(0,5)\n",
    "      #print('dist',hf)\n",
    "      \n",
    "      temp_rew_vec[1] = hf\n",
    "      if hf<self.rew_vec[1]:\n",
    "        rew_comp[1] = 1\n",
    "        \n",
    "      elif hf > self.rew_vec[1]:\n",
    "        rew_comp[1] = -1\n",
    "      else:\n",
    "        rew_comp[1] = 0\n",
    "      #print('#MINIMIZE# old dist: ', self.rules_arr_rew[1],'new dist:', hf , 'rew2:', rew2)\n",
    "\n",
    "    #rule 3 - maximize distance between LED and heat sensor\n",
    "    if component == 4 or component == 7:\n",
    "      #print('RULE 3')\n",
    "      lhs = self.calcDistance(3,6)\n",
    "      \n",
    "      temp_rew_vec[2] = lhs\n",
    "      if lhs>self.rew_vec[2]:\n",
    "        rew_comp[2] = 1\n",
    "        \n",
    "      elif lhs < self.rew_vec[2]:\n",
    "        rew_comp[2] = -1\n",
    "      else:\n",
    "        rew_comp[2] = 0\n",
    "      \n",
    "      #print('#MAXIMIZE# old dist: ', self.rules_arr_rew[2],'new dist:', lhs , 'rew3:', rew3)\n",
    "\n",
    "    #rule 4 - maximize distance between heater and heat sensor\n",
    "    \n",
    "    if component == 1 or component == 4:\n",
    "      #print('RULE 4')\n",
    "      hhs = self.calcDistance(0,3)\n",
    "      #print('hhs',hhs,'rules_arr',self.rules_arr_rew[3])\n",
    "      \n",
    "      temp_rew_vec[3] = hhs\n",
    "      if hhs>self.rew_vec[3]:\n",
    "        rew_comp[3] = 1\n",
    "        \n",
    "      elif hhs < self.rew_vec[3]:\n",
    "        rew_comp[3] = -1\n",
    "      else:\n",
    "        rew_comp[3] = 0\n",
    "      #print('#MAXIMIZE#  old dist: ', self.rules_arr_rew[3], 'new dist:', hhs ,'rew4:', rew4)\n",
    "    \n",
    "    #rule 5 - maximize lighting of pack soil by the LED\n",
    "    if component == 7 or component == 3:\n",
    "      #print('RULE 5')\n",
    "      x_1, y_1, z_1 = self.getComponentPosition(3)\n",
    "      z_1 = 0  #z moves to the top of the greenhouse\n",
    "      x_2, y_2, z_2 = self.getComponentPosition(7)\n",
    "      psl = math.sqrt((x_2 - x_1)**2 + (y_2 - y_1)**2 + (z_2 - z_1)**2)\n",
    "      \n",
    "      temp_rew_vec[4] = psl\n",
    "      if psl>self.rew_vec[4]:\n",
    "        rew_comp[4] = 1\n",
    "        \n",
    "      elif psl < self.rew_vec[4]:\n",
    "        rew_comp[4] = -1\n",
    "      else:\n",
    "        rew_comp[4] = 0\n",
    "      #print('#MAXIMIZE#  old dist: ', self.rules_arr_rew[4], 'new dist:', psl ,'rew5:', rew5)\n",
    "    \n",
    "    #rule 6 - maximize view of pack soil captured by the camera\n",
    "    if component == 5 or component == 3:\n",
    "      #print('RULE 6')\n",
    "      x_1, y_1, z_1 = self.getComponentPosition(3)\n",
    "      z_1 = 0  #z moves to the top of the greenhouse\n",
    "      x_2, y_2, z_2 = self.getComponentPosition(5)\n",
    "      psc = math.sqrt((x_2 - x_1)**2 + (y_2 - y_1)**2 + (z_2 - z_1)**2)\n",
    "      \n",
    "      temp_rew_vec[5] = psc\n",
    "      if psc>self.rew_vec[5]:\n",
    "        rew_comp[5] = 1\n",
    "        \n",
    "      elif psc < self.rew_vec[5]:\n",
    "        rew_comp[5] = -1\n",
    "      else:\n",
    "        rew_comp[5] = 0\n",
    "      #print('#MAXIMIZE#  old dist: ', self.rules_arr_rew[5], 'new dist:', psc , 'rew6:', rew6)\n",
    "    '''\n",
    "    return rew_comp,temp_rew_vec\n",
    "\n",
    "  def obj2(self):\n",
    "    #print(self.rules_arr_rew)\n",
    "    total = 0\n",
    "    rew_comp = np.zeros(6) #6 here is number of objective\n",
    "    temp_rew_vec = np.zeros(6)\n",
    "    \n",
    "    #rule 2 - minimize distance between heater and the fan\n",
    "\n",
    "    hf = self.calcDistance(0,5)\n",
    "    #print('dist',hf)\n",
    "    \n",
    "    temp_rew_vec[0] = hf\n",
    "\n",
    "    #find diff from last distance and new distance\n",
    "    diff_1 = hf - self.rew_vec[1]\n",
    "    diff_2 = self.prev_distance[1] - self.rew_vec[1]\n",
    "\n",
    "    diff = diff_1 - diff_2\n",
    "\n",
    "      \n",
    "    #reward for moving closer or away from the best distance\n",
    "    if hf>self.prev_distance[1]: # move away\n",
    "      rew_comp[1] = -1\n",
    "    elif hf<self.prev_distance[1]: # move closer\n",
    "      #if it moves closer then check for the best score\n",
    "      if hf<self.rew_vec[1]: #set a new best score\n",
    "        rew_comp[1] = 10\n",
    "        self.rew_vec[1] = hf\n",
    "        pos1 = self.getComponentPosition(0)\n",
    "        pos2 = self.getComponentPosition(5)\n",
    "        self.best_pos_2 = [pos1, pos2]\n",
    "        self.best_pos_log_2.append(self.best_pos_2)\n",
    "      elif hf==self.rew_vec[1]: #find a similar best score\n",
    "        rew_comp[1] = 5\n",
    "        #add code here later to save the coordinates if it is different from the previous one\n",
    "      else:\n",
    "        rew_comp[1] = 2\n",
    "    elif hf==self.prev_distance[1]: # stay in same place\n",
    "      rew_comp[1] = 0.5\n",
    "\n",
    "        \n",
    "\n",
    "    #save the new distance as prev distance\n",
    "    self.prev_distance[1] = hf\n",
    "      \n",
    "    self.log_d[1].append(hf)\n",
    "    self.log_best_d[1].append(self.rew_vec[1])\n",
    "    self.rew_obtained[1].append(rew_comp[1])\n",
    "    print('score obtained',rew_comp[1])\n",
    "    print('avg_d', hf)\n",
    "    print('slf.rew_vec', self.rew_vec[1])\n",
    "    print('reward',rew_comp[1])\n",
    "      \n",
    "    return rew_comp,temp_rew_vec\n",
    "\n",
    "  def obj3(self):\n",
    "\n",
    "    #rule 3 - maximize distance between LED and heat sensor\n",
    "    total = 0\n",
    "    rew_comp = np.zeros(6) #6 here is number of objective\n",
    "    temp_rew_vec = np.zeros(6)\n",
    "\n",
    "    lhs = self.calcDistance(3,6)\n",
    "\n",
    "    temp_rew_vec[0] = lhs\n",
    "    \n",
    "    #reward for moving closer or away from the best distance\n",
    "    if lhs<self.prev_distance[2]: # move closer\n",
    "      rew_comp[2] = -1\n",
    "    elif lhs>self.prev_distance[2]: # move away\n",
    "      #if it moves closer then check for the best score\n",
    "      if lhs>self.rew_vec[2]: #set a new best score\n",
    "        rew_comp[2] = 10\n",
    "        self.rew_vec[2] = lhs\n",
    "        pos1 = self.getComponentPosition(3)\n",
    "        pos2 = self.getComponentPosition(6)\n",
    "        self.best_pos_3 = [pos1, pos2]\n",
    "        self.best_pos_log_3.append(self.best_pos_3)\n",
    "      elif lhs==self.rew_vec[2]: #find a similar best score\n",
    "        rew_comp[2] = 5\n",
    "        #add code here later to save the coordinates if it is different from the previous one\n",
    "      else:\n",
    "        rew_comp[2] = 2\n",
    "    elif lhs==self.prev_distance[2]: # stay in same place\n",
    "      rew_comp[2] = 0.5\n",
    "    \n",
    "    self.prev_distance[2] = lhs\n",
    "    \n",
    "    self.log_d[2].append(lhs)\n",
    "    self.log_best_d[2].append(self.rew_vec[2])\n",
    "    self.rew_obtained[2].append(rew_comp[2])\n",
    "    print('score obtained',rew_comp[2])\n",
    "    print('avg_d', lhs)\n",
    "    print('slf.rew_vec', self.rew_vec[2])\n",
    "    print('reward',rew_comp[2])\n",
    "      \n",
    "    return rew_comp,temp_rew_vec\n",
    "\n",
    "  def obj4(self):\n",
    "\n",
    "    #rule 4 - maximize distance between heater and heat sensor\n",
    "    total = 0\n",
    "    rew_comp = np.zeros(6) #6 here is number of objective\n",
    "    temp_rew_vec = np.zeros(6)\n",
    "\n",
    "    hhs = self.calcDistance(0,3)\n",
    "\n",
    "    temp_rew_vec[0] = hhs\n",
    "    \n",
    "    #reward for moving closer or away from the best distance\n",
    "    if hhs<self.prev_distance[3]: # move closer\n",
    "      rew_comp[3] = -1\n",
    "    elif hhs>self.prev_distance[3]: # move away\n",
    "      #if it moves closer then check for the best score\n",
    "      if hhs>self.rew_vec[3]: #set a new best score\n",
    "        rew_comp[3] = 10\n",
    "        self.rew_vec[3] = hhs\n",
    "        pos1 = self.getComponentPosition(0)\n",
    "        pos2 = self.getComponentPosition(3)\n",
    "        self.best_pos_4 = [pos1, pos2]\n",
    "        self.best_pos_log_4.append(self.best_pos_4)\n",
    "      elif hhs==self.rew_vec[3]: #find a similar best score\n",
    "        rew_comp[3] = 5\n",
    "        #add code here later to save the coordinates if it is different from the previous one\n",
    "      else:\n",
    "        rew_comp[3] = 2\n",
    "    elif hhs==self.prev_distance[3]: # stay in same place\n",
    "      rew_comp[3] = 0.5\n",
    "    \n",
    "    self.prev_distance[3] = hhs\n",
    "\n",
    "    self.log_d[3].append(hhs)\n",
    "    self.log_best_d[3].append(self.rew_vec[3])\n",
    "    self.rew_obtained[3].append(rew_comp[3])\n",
    "    print('score obtained',rew_comp[3])\n",
    "    print('avg_d', hhs)\n",
    "    print('slf.rew_vec', self.rew_vec[3])\n",
    "    print('reward',rew_comp[3])\n",
    "      \n",
    "    return rew_comp,temp_rew_vec\n",
    "\n",
    "  def obj5(self):\n",
    "\n",
    "    #rule 5 - maximize lighting of pack soil by the LED\n",
    "    total = 0\n",
    "    rew_comp = np.zeros(6) #6 here is number of objective\n",
    "    temp_rew_vec = np.zeros(6)\n",
    "\n",
    "    x_1, y_1, z_1 = self.getComponentPosition(2)\n",
    "    z_1 = 0  #z moves to the top of the greenhouse for ps(ideal led position)\n",
    "    x_2, y_2, z_2 = self.getComponentPosition(6)\n",
    "    psl = math.sqrt((x_2 - x_1)**2 + (y_2 - y_1)**2 + (z_2 - z_1)**2)\n",
    "    \n",
    "\n",
    "    temp_rew_vec[0] = psl\n",
    "    \n",
    "    #reward for moving closer or away from the best distance\n",
    "    if psl>self.prev_distance[4]: # move away\n",
    "      rew_comp[4] = -1\n",
    "    elif psl<self.prev_distance[4]: # move closer\n",
    "      #if it moves closer then check for the best score\n",
    "      if psl<self.rew_vec[4]: #set a new best score\n",
    "        rew_comp[4] = 10\n",
    "        self.rew_vec[4] = psl\n",
    "        pos1 = self.getComponentPosition(2)\n",
    "        pos2 = self.getComponentPosition(6)\n",
    "        self.best_pos_5 = [pos1, pos2]\n",
    "        self.best_pos_log_5.append(self.best_pos_5)\n",
    "      elif psl==self.rew_vec[4]: #find a similar best score\n",
    "        rew_comp[4] = 5\n",
    "        #add code here later to save the coordinates if it is different from the previous one\n",
    "      else:\n",
    "        rew_comp[4] = 2\n",
    "    elif psl==self.prev_distance[4]: # stay in same place\n",
    "      rew_comp[4] = 0.5\n",
    "    \n",
    "    self.prev_distance[4] = psl\n",
    "    \n",
    "    self.log_d[4].append(psl)\n",
    "    self.log_best_d[4].append(self.rew_vec[4])\n",
    "    self.rew_obtained[4].append(rew_comp[4])\n",
    "    print('score obtained',rew_comp[4])\n",
    "    print('avg_d', psl)\n",
    "    print('slf.rew_vec', self.rew_vec[4])\n",
    "    print('reward',rew_comp[4])\n",
    "      \n",
    "    return rew_comp,temp_rew_vec\n",
    "\n",
    "  def obj6(self):\n",
    "\n",
    "    #rule 6 - maximize view of pack soil captured by the camera\n",
    "    total = 0\n",
    "    rew_comp = np.zeros(6) #6 here is number of objective\n",
    "    temp_rew_vec = np.zeros(6)\n",
    "\n",
    "    x_1, y_1, z_1 = self.getComponentPosition(2)\n",
    "    z_1 = 0  #z moves to the top of the greenhouse\n",
    "    x_2, y_2, z_2 = self.getComponentPosition(4)\n",
    "    psc = math.sqrt((x_2 - x_1)**2 + (y_2 - y_1)**2 + (z_2 - z_1)**2)\n",
    "\n",
    "    temp_rew_vec[0] = psc\n",
    "    \n",
    "    #reward for moving closer or away from the best distance\n",
    "    if psc>self.prev_distance[5]: # move away\n",
    "      rew_comp[5] = -1\n",
    "    elif psc<self.prev_distance[5]: # move closer\n",
    "      #if it moves closer then check for the best score\n",
    "      if psc<self.rew_vec[5]: #set a new best score\n",
    "        rew_comp[5] = 10\n",
    "        self.rew_vec[5] = psc\n",
    "        pos1 = self.getComponentPosition(2)\n",
    "        pos2 = self.getComponentPosition(4)\n",
    "        self.best_pos_5 = [pos1, pos2]\n",
    "        self.best_pos_log_5.append(self.best_pos_5)\n",
    "      elif psc==self.rew_vec[5]: #find a similar best score\n",
    "        rew_comp[5] = 5\n",
    "        #add code here later to save the coordinates if it is different from the previous one\n",
    "      else:\n",
    "        rew_comp[5] = 2\n",
    "    elif psc==self.prev_distance[5]: # stay in same place\n",
    "      rew_comp[5] = 0.5\n",
    "    \n",
    "    self.prev_distance[5] = psc\n",
    "    \n",
    "    self.log_d[5].append(psc)\n",
    "    self.log_best_d[5].append(self.rew_vec[5])\n",
    "    self.rew_obtained[5].append(rew_comp[5])\n",
    "    print('score obtained',rew_comp[5])\n",
    "    print('avg_d', psc)\n",
    "    print('slf.rew_vec', self.rew_vec[5])\n",
    "    print('reward',rew_comp[5])\n",
    "      \n",
    "    return rew_comp,temp_rew_vec\n",
    "\n",
    "\n",
    "\n",
    "\n",
    "\n",
    "  \n",
    "  #handling in step func\n",
    "  def avoidOffGrid(self, newState, oldState):\n",
    "    if newState not in self.obsSpace:\n",
    "      return True\n",
    "    ##add code here\n",
    "\n",
    "  def step(self, action, comp_id, obj): #,rule_val_arr\n",
    "    \n",
    "    obj_fun = {0:self.obj1 , 1:self.obj2, 2:self.obj3, 3:self.obj4, 4:self.obj5, 5:self.obj6}\n",
    "    x,y,z = self.getComponentPosition(comp_id)\n",
    "    if action == 0:\n",
    "      #up\n",
    "      if z == 0:  #checking end of grid\n",
    "        new_z = z\n",
    "        nextState = (x,y,new_z)\n",
    "        \n",
    "      elif self.getComponentValue((x,y,z-1)) > 0:\n",
    "        new_z = z\n",
    "        nextState = (x,y,new_z)\n",
    "        \n",
    "      else:\n",
    "        new_z = z - 1\n",
    "        nextState = (x,y,new_z)\n",
    "      self.setState(nextState,comp_id)\n",
    "      st = self.posToState(tuple(nextState))\n",
    "      \n",
    "    elif action == 1:\n",
    "      #down\n",
    "      if z == self.o-1:\n",
    "        new_z = z\n",
    "        nextState = (x,y,new_z)\n",
    "      elif self.getComponentValue((x,y,z+1)) > 0:\n",
    "        new_z = z\n",
    "        nextState = (x,y,new_z)\n",
    "      else:\n",
    "        new_z = z + 1\n",
    "        nextState = (x,y,new_z)\n",
    "      self.setState(nextState,comp_id)\n",
    "      st = self.posToState(tuple(nextState))\n",
    "      \n",
    "      \n",
    "    elif action == 2:\n",
    "      #left\n",
    "      if x == 0:\n",
    "        new_x = x\n",
    "        nextState = (new_x,y,z)\n",
    "      elif self.getComponentValue((x-1,y,z)) > 0:\n",
    "        new_x = x\n",
    "        nextState = (new_x,y,z)\n",
    "      else:\n",
    "        new_x = x - 1\n",
    "        nextState = (new_x,y,z)\n",
    "      self.setState(nextState,comp_id)\n",
    "      st = self.posToState(tuple(nextState))\n",
    "      \n",
    "\n",
    "    elif action == 3:\n",
    "      #right\n",
    "      if x == self.m - 1:\n",
    "        new_x = x\n",
    "        nextState = (new_x,y,z)\n",
    "      elif self.getComponentValue((x+1,y,z)) > 0:\n",
    "        new_x = x\n",
    "        nextState = (new_x,y,z)\n",
    "      else:\n",
    "        new_x = x + 1\n",
    "        nextState = (new_x,y,z)\n",
    "      self.setState(nextState,comp_id)\n",
    "      st = self.posToState(tuple(nextState))\n",
    "      \n",
    "\n",
    "    elif action == 4:\n",
    "      #front\n",
    "      if y == 0:\n",
    "        new_y = y\n",
    "        nextState = (x,new_y,z)\n",
    "      elif self.getComponentValue((x,y-1,z)) > 0:\n",
    "        new_y = y\n",
    "        nextState = (x,new_y,z)\n",
    "      else:\n",
    "        new_y = y - 1\n",
    "        nextState = (x,new_y,z)\n",
    "      self.setState(nextState,comp_id)\n",
    "      st = self.posToState(tuple(nextState))\n",
    "      \n",
    "\n",
    "    elif action == 5:\n",
    "      #back\n",
    "      if y == self.n - 1:\n",
    "        new_y = y\n",
    "        nextState = (x,new_y,z)\n",
    "      elif self.getComponentValue((x,y+1,z)) > 0:\n",
    "        new_y = y\n",
    "        nextState = (x,new_y,z)\n",
    "      else:\n",
    "        new_y = y + 1\n",
    "        nextState = (x,new_y,z)\n",
    "      self.setState(nextState,comp_id)\n",
    "      st = self.posToState(tuple(nextState))\n",
    "      \n",
    "\n",
    "    elif action == 6:\n",
    "      #don't move\n",
    "      nextState = (x,y,z)\n",
    "      self.setState(nextState,comp_id)\n",
    "      st = self.posToState(tuple(nextState))\n",
    "    temp1 = self.occupied\n",
    "    self.env_pos_log.append(temp1) \n",
    "    t = comp_id + 1\n",
    "    rew,trv = obj_fun[obj]()# self.rewardComponents(t)\n",
    "\n",
    "    \n",
    "\n",
    "    \n",
    "    rew = list(rew)\n",
    "    dom = rew.count(1)\n",
    "    non_dom = rew.count(-1)\n",
    "    #print('rew', rew)\n",
    "    #print('dom', dom)\n",
    "    #print('non dom', non_dom)\n",
    "    '''\n",
    "    if dom>non_dom:\n",
    "      reward_ret = 1\n",
    "      self.rew_vec = trv\n",
    "      #print('mi aahe')\n",
    "    elif dom<non_dom:\n",
    "      reward_ret = -1\n",
    "      #print('mi nai')\n",
    "    else:\n",
    "      reward_ret = 0.5\n",
    "      if random.uniform(0,1) < 0.5:\n",
    "        self.rew_vec = trv            \n",
    "    '''\n",
    "\n",
    "    \n",
    "\n",
    "    '''\n",
    "    dis = self.calcDistance(1,2)\n",
    "    if dis <= self.dist_arr[0]:\n",
    "      reward = 1\n",
    "      self.dist_arr[0] = dis\n",
    "    else:\n",
    "      reward = -1\n",
    "    '''\n",
    "    #print('next state innn', st)\n",
    "    return st, rew[obj], trv\n",
    "\n",
    "  def tupleToState(self, tup):\n",
    "    tem = ''\n",
    "    for i in tup:\n",
    "      s = str(i)\n",
    "      tem = tem + s\n",
    "    tem = int(tem)\n",
    "\n",
    "    return tem\n",
    "\n",
    "  \n",
    "\n",
    "  def step_main(self,state, act,comp_id_1, comp_id_2):\n",
    "    act_1 = int(act/7)\n",
    "    act_2 = int(act%7)\n",
    "\n",
    "    print('action 1: ', act_1)\n",
    "    print('action 2: ', act_2)\n",
    "    self.step(act_1,comp_id_1)\n",
    "    self.step(act_2,comp_id_2)\n",
    "    \n",
    "    dis = self.calcDistance(comp_id_1,comp_id_2)\n",
    "    if dis <= self.dist_arr[0]:\n",
    "      reward = 1\n",
    "    else:\n",
    "      reward = -1\n",
    "    \n",
    "    idx1 = comp_id_1 - 1\n",
    "    idx2 = comp_id_2 - 1\n",
    "\n",
    "    pos1 = self.getComponentPosition(idx1)\n",
    "    pos2 = self.getComponentPosition(idx2)\n",
    "    print('Comp',comp_id_1,' pos is: ',pos1)\n",
    "    print('Comp',comp_id_2,' pos is: ',pos2)\n",
    "\n",
    "    next_state = pos1 + pos2\n",
    "    next_state = self.tupleToState(next_state)\n",
    "\n",
    "    if dis<= 3:\n",
    "      done = True\n",
    "    else:\n",
    "      done = False\n",
    "\n",
    "    return next_state, reward, done\n",
    "\n",
    "  def statePositionDict(self,m,n,o):\n",
    "    cnt = 0\n",
    "    for i in range(m):\n",
    "      for j in range(n):\n",
    "        for k in range(o):\n",
    "          self.statePosDict[cnt] = (i,j,k)\n",
    "          cnt += 1\n",
    "    \n",
    "  def posToState(self,tup):\n",
    "    #print(self.statePosDict)\n",
    "    for k,v in self.statePosDict.items():\n",
    "      if v == tup:\n",
    "        ptos = k\n",
    "    return ptos\n",
    "\n",
    "  def stateToPos(self,s):\n",
    "    ret = self.statePosDict[s]\n",
    "\n",
    "    return ret\n",
    "\n",
    "\n",
    "  def calcDistance(self, comp_id_1, comp_id_2):\n",
    "    x_1, y_1, z_1 = self.getComponentPosition(comp_id_1)\n",
    "    x_2, y_2, z_2 = self.getComponentPosition(comp_id_2)\n",
    "    dist = math.sqrt((x_2 - x_1)**2 + (y_2 - y_1)**2 + (z_2 - z_1)**2)\n",
    "    return dist\n",
    "\n",
    "  \n",
    "  def reset(self):\n",
    "    #self.grid = np.zeros((self.m, self.n,self.o))\n",
    "    self.__init__(self.m, self.n,self.o)\n",
    "\n",
    "  def render(self):\n",
    "    #print(self.occupied)\n",
    "    print('components',self.components)\n",
    "    #print(\n",
    "    #    '#####################################################################'+\n",
    "    #    '#####################################################################'\n",
    "    #    +'########################')\n",
    "    x = []\n",
    "    y = []\n",
    "    z = []\n",
    "    for tup in self.occupied:\n",
    "      x.append(tup[0])\n",
    "      y.append(tup[1])\n",
    "      z.append(tup[2])\n",
    "    \n",
    "    print('*****FRONT VIEW*****')\n",
    "    print('Z_AXIS \\u2193')\n",
    "    \n",
    "    i=1\n",
    "    for y_id in range(self.n):\n",
    "      print('LAYER_',y_id)\n",
    "      for i in range(self.m):\n",
    "        print('################',end='')\n",
    "      print()\n",
    "      for z_id in range((self.o)):\n",
    "        for x_id in range((self.m)):\n",
    "          print('|',end='\\t')\n",
    "          temp = self.getComponentValue((x_id,y_id,z_id))\n",
    "          if temp>0:\n",
    "            print(temp,end='\\t')\n",
    "            #i+=1\n",
    "          else:\n",
    "            print(-1, end='\\t')\n",
    "        print('|',end='\\t')\n",
    "        print()\n",
    "        for i in range(self.m):\n",
    "          print('################',end='')\n",
    "        print()\n",
    "    print('X_AXIS \\u2192')\n",
    "    print('\\n\\n')\n",
    "    print('*****TOP VIEW*****')\n",
    "    print('Y_AXIS \\u2193')\n",
    "    \n",
    "    i=1\n",
    "    for z_id in range(self.o):\n",
    "      print('LAYER_',z_id)\n",
    "      for i in range(self.m):\n",
    "        print('################',end='')\n",
    "      print()\n",
    "      for y_id in range((self.n)):\n",
    "        for x_id in range((self.m)):\n",
    "          print('|',end='\\t')\n",
    "          temp = self.getComponentValue((x_id,y_id,z_id))\n",
    "          if temp>0:\n",
    "            print(temp,end='\\t')\n",
    "          #  i+=1\n",
    "          else:\n",
    "            print(-1, end='\\t')\n",
    "        print('|',end='\\t')\n",
    "        print()\n",
    "        for i in range(self.m):\n",
    "          print('################',end='')\n",
    "        print()\n",
    "      print('X_AXIS \\u2192')\n",
    "        \n",
    "\n"
   ]
  },
  {
   "cell_type": "code",
   "execution_count": null,
   "metadata": {
    "id": "HXnl4MvI_sJj"
   },
   "outputs": [],
   "source": [
    "def replay(replay_memory, minibatch_size=32):\n",
    "  minibatch = np.random.choice(replay_memory, minibatch_size, replace = True)\n",
    "  \n",
    "  state_ =      np.array(list(map(lambda x: x['state'], minibatch)))\n",
    "  action_ =      np.array(list(map(lambda x: x['action'], minibatch)))\n",
    "  reward_ =      np.array(list(map(lambda x: x['reward'], minibatch)))\n",
    "  next_state_ = np.array(list(map(lambda x: x['next_state'], minibatch)))\n",
    "  done_ = np.array(list(map(lambda x: x['done'], minibatch)))\n",
    "\n",
    "  #print('s prime', next_state_)\n",
    "  q_next_state_ = model.predict(next_state_)\n",
    "  target_f = model.predict(state_)\n",
    "\n",
    "  for i, (state,action,reward,q_next_state,done) in enumerate(zip(state_,action_,reward_,q_next_state_,done_)):\n",
    "    if not done:\n",
    "      target = reward + gamma * np.max(q_next_state)\n",
    "    else:\n",
    "      target = reward\n",
    "  \n",
    "  model.fit(state_,target_f,epochs = 1, verbose = 0)\n",
    "\n",
    "  return model\n",
    "\n",
    "\n"
   ]
  },
  {
   "cell_type": "code",
   "execution_count": null,
   "metadata": {
    "id": "ElmQOzX9HGbj"
   },
   "outputs": [],
   "source": [
    "from collections import defaultdict\n",
    "from copy import deepcopy\n",
    "class Agent:\n",
    "  def __init__(self, eps_prob):\n",
    "    self.time_step = 0\n",
    "    self.eps_prob = eps_prob\n",
    "    self.total_rew = 0\n",
    "    self.prev_action = None\n",
    "    self.action_cnt = 0\n",
    "    self.action_log = []\n",
    "    self.env_pos_log = []\n",
    "    self.obj_pos = {0: [], 1: [], 2: [], 3: [], 4: [], 5: [], 6: [], 7: []}\n",
    "    \n",
    "\n",
    "  def greedy_eps(self, Q, eps, num_act):\n",
    "    #https://www.geeksforgeeks.org/q-learning-in-python/\n",
    "    #https://www.learndatasci.com/tutorials/reinforcement-q-learning-scratch-python-openai-gym/\n",
    "\n",
    "    def policyFunc(state):\n",
    "      act_prob = np.ones(num_act, dtype = float) * eps / num_act\n",
    "\n",
    "      best_act = np.argmax(Q[state])\n",
    "      act_prob[best_act] += (1 - eps)\n",
    "      \n",
    "      return act_prob\n",
    "\n",
    "    return policyFunc\n",
    "\n",
    "  def qLearning(self, env, nS, nA, num_episodes, disc_fac = 1.0, alpha = 0.5, epsilon = 0.1):\n",
    "    \n",
    "    '''\n",
    "    Q_1 = np.zeros((nS,nA)) #num of action hardcoded\n",
    "    Q_2 = np.zeros((nS,nA))\n",
    "    Q_3 = np.zeros((nS,nA))\n",
    "    Q_4 = np.zeros((nS,nA))\n",
    "    Q_5 = np.zeros((nS,nA))\n",
    "    Q_6 = np.zeros((nS,nA))\n",
    "    '''\n",
    "\n",
    "    Q_1 = np.zeros((nS,nA))\n",
    "    Q_2 = np.zeros((nS,nA))\n",
    "    Q_3 = np.zeros((nS,nA))\n",
    "    Q_4 = np.zeros((nS,nA))\n",
    "    Q_5 = np.zeros((nS,nA))\n",
    "    Q_6 = np.zeros((nS,nA))\n",
    "    Q = np.zeros((nS,nA))\n",
    "    \n",
    "    \n",
    "    m1 = deepcopy(model)\n",
    "    m2 = deepcopy(model)\n",
    "    m3 = deepcopy(model)\n",
    "    m4 = deepcopy(model)\n",
    "    m5 = deepcopy(model)\n",
    "    m6 = deepcopy(model)\n",
    "    #num_obj = 6\n",
    "\n",
    "    obj_dict = {0:[1,2,7], 1:[0,5], 2:[3,6], 3:[0,3], 4:[2,6], 5:[2,4]} #0:[1,2,7], 1:[0,5], 2:[3,6], 3:[0,3], 4:[2,6], 5:[2,4]\n",
    "    \n",
    "    \n",
    "\n",
    "    step_cnt = 0\n",
    "\n",
    "    reward_total = 0\n",
    "\n",
    "    lr = 0.9\n",
    "\n",
    "    y = 0.95\n",
    "\n",
    "    '''Pareto Front Initializations'''\n",
    "    \n",
    "    paretoList = []\n",
    "\n",
    "    front1 = []\n",
    "\n",
    "    front2 = []\n",
    "\n",
    "    compList = []\n",
    "\n",
    "    check_arr = []\n",
    "    while reward_total<50000:\n",
    "\n",
    "    #for x in range(num_episodes):\n",
    "      #env.reset()\n",
    "      check_arr.append(step_cnt)\n",
    "      step_cnt += 1\n",
    "\n",
    "      for obj in obj_dict:\n",
    "        \n",
    "        for i in obj_dict[obj]:\n",
    "          \n",
    "          \n",
    "          state = env.getComponentPosition(i)\n",
    "          state = env.posToState(state)\n",
    "          #print('state is: ',state)\n",
    "          done = False\n",
    "          \n",
    "          start = time.time()\n",
    "\n",
    "          reward_log = [] #np.array(3000)\n",
    "\n",
    "          \n",
    "          \n",
    "          reward_total_log = [] #np.array(7)\n",
    "\n",
    "          while not done:\n",
    "            #if step_cnt % 200 == 0:\n",
    "            \n",
    "\n",
    "            #print('env occ', env.occupied)\n",
    "            #print('log', env.env_pos_log)\n",
    "\n",
    "            step_cnt += 1\n",
    "\n",
    "            '''\n",
    "            if random.uniform(0,1) < epsilon:\n",
    "              action = np.random.choice(7)\n",
    "              self.action_log.append(0) # 0 for random action\n",
    "            else:\n",
    "              if obj == 0:\n",
    "                action = np.argmax(Q_1[state])\n",
    "              elif obj == 1:\n",
    "                action = np.argmax(Q_2[state])\n",
    "              elif obj == 2:\n",
    "                action = np.argmax(Q_3[state])\n",
    "              elif obj == 3:\n",
    "                action = np.argmax(Q_4[state])\n",
    "              elif obj == 4:\n",
    "                action = np.argmax(Q_5[state])\n",
    "              elif obj == 5:\n",
    "                action = np.argmax(Q_6[state])\n",
    "              self.action_log.append(1) # 1 for best action\n",
    "            #print('action',action)\n",
    "            '''\n",
    "            print(Q[state, :])\n",
    "            #action = np.argmax(Q[state, :] + np.random.randn(1,7)*20)\n",
    "            state_s = np.array(state)\n",
    "            if obj==0:\n",
    "              qvals_s = m1.predict(state_s.reshape(1,1))\n",
    "            elif obj ==1:\n",
    "              qvals_s = m2.predict(state_s.reshape(1,1))\n",
    "            elif obj ==2:\n",
    "              qvals_s = m3.predict(state_s.reshape(1,1))\n",
    "            elif obj ==3:\n",
    "              qvals_s = m4.predict(state_s.reshape(1,1))\n",
    "            elif obj ==4:\n",
    "              qvals_s = m5.predict(state_s.reshape(1,1))\n",
    "            elif obj ==5:\n",
    "              qvals_s = m6.predict(state_s.reshape(1,1))\n",
    "\n",
    "\n",
    "            if np.random.random() < epsilon:\n",
    "              action = np.random.randint(0,7)\n",
    "            else:\n",
    "              #print('qvals is', qvals_s)\n",
    "              action = np.argmax(qvals_s) \n",
    "              #action = np.argmax(Q[state, :]) \n",
    "            #print('action: ', action)\n",
    "\n",
    "            \n",
    "            next_state, reward, dist = env.step(action, i, obj)\n",
    "\n",
    "            reward_total += reward\n",
    "\n",
    "            print('reward total', reward_total)\n",
    "            reward_log.append(reward)\n",
    "            if obj == 0:\n",
    "              if len(replay_memory1) > max_mem_size:\n",
    "                replay_memory1.pop(0)\n",
    "            \n",
    "              replay_memory1.append({'state':state, 'action':action, 'reward':reward,'next_state':next_state, 'done':done})\n",
    "            \n",
    "            elif obj == 1:\n",
    "              if len(replay_memory2) > max_mem_size:\n",
    "                replay_memory2.pop(0)\n",
    "            \n",
    "              replay_memory2.append({'state':state, 'action':action, 'reward':reward,'next_state':next_state, 'done':done})\n",
    "            \n",
    "            elif obj == 2:\n",
    "              if len(replay_memory3) > max_mem_size:\n",
    "                replay_memory3.pop(0)\n",
    "            \n",
    "              replay_memory3.append({'state':state, 'action':action, 'reward':reward,'next_state':next_state, 'done':done})\n",
    "            \n",
    "            elif obj == 3:\n",
    "              if len(replay_memory4) > max_mem_size:\n",
    "                replay_memory4.pop(0)\n",
    "            \n",
    "              replay_memory4.append({'state':state, 'action':action, 'reward':reward,'next_state':next_state, 'done':done})\n",
    "            \n",
    "            elif obj == 4:\n",
    "              if len(replay_memory5) > max_mem_size:\n",
    "                replay_memory5.pop(0)\n",
    "            \n",
    "              replay_memory5.append({'state':state, 'action':action, 'reward':reward,'next_state':next_state, 'done':done})\n",
    "\n",
    "            elif obj == 5:\n",
    "              if len(replay_memory6) > max_mem_size:\n",
    "                replay_memory6.pop(0)\n",
    "            \n",
    "              replay_memory6.append({'state':state, 'action':action, 'reward':reward,'next_state':next_state, 'done':done})\n",
    "\n",
    "\n",
    "\n",
    "            obj1_w = 0.5\n",
    "            obj2_w = 0.5\n",
    "\n",
    "\n",
    "\n",
    "            if obj == 0:\n",
    "              old_val = Q_1[state, action]\n",
    "              next_max = np.max(Q_1[next_state])              \n",
    "              Q_1[state,action] = qvals_s[0][action]\n",
    "              state = next_state\n",
    "            \n",
    "            elif obj == 1:\n",
    "              old_val = Q_2[state, action]\n",
    "              next_max = np.max(Q_2[next_state])              \n",
    "              Q_2[state,action] = qvals_s[0][action]\n",
    "              state = next_state\n",
    "\n",
    "            elif obj == 2:\n",
    "              old_val = Q_3[state, action]\n",
    "              next_max = np.max(Q_3[next_state])              \n",
    "              Q_3[state,action] = qvals_s[0][action]\n",
    "              state = next_state\n",
    "          \n",
    "            elif obj == 3:\n",
    "              old_val = Q_4[state, action]\n",
    "              next_max = np.max(Q_4[next_state])             \n",
    "              Q_4[state,action] = qvals_s[0][action]\n",
    "              state = next_state\n",
    "\n",
    "            elif obj == 4:\n",
    "              old_val = Q_5[state, action]\n",
    "              next_max = np.max(Q_5[next_state])            \n",
    "              Q_5[state,action] = qvals_s[0][action]\n",
    "              state = next_state\n",
    "\n",
    "            elif obj == 5:\n",
    "              old_val = Q_6[state, action]\n",
    "              next_max = np.max(Q_6[next_state])              \n",
    "              Q_6[state,action] = qvals_s[0][action]\n",
    "              state = next_state\n",
    "            \n",
    "            \n",
    "            \n",
    "            for ind in range(8):\n",
    "              self.obj_pos[ind].append(env.getComponentPosition(ind))\n",
    "              \n",
    "\n",
    "\n",
    "            end = time.time()\n",
    "\n",
    "            diff = end - start\n",
    "\n",
    "            if obj == 0:\n",
    "              m1 = replay(replay_memory1, minibatch_size=minibatch_size)\n",
    "            elif obj == 1:\n",
    "              m2 = replay(replay_memory2, minibatch_size=minibatch_size)\n",
    "            elif obj == 2:\n",
    "              m1 = replay(replay_memory3, minibatch_size=minibatch_size)\n",
    "            elif obj == 3:\n",
    "              m2 = replay(replay_memory4, minibatch_size=minibatch_size)\n",
    "            elif obj == 4:\n",
    "              m1 = replay(replay_memory5, minibatch_size=minibatch_size)\n",
    "            elif obj == 5:\n",
    "              m2 = replay(replay_memory6, minibatch_size=minibatch_size)\n",
    "\n",
    "            if epsilon > 0.01:\n",
    "              epsilon -= 0.001\n",
    "            \n",
    "            #val = 0\n",
    "            if reward>0:# or diff>90: #actual code was reward>=0 then done\n",
    "              done = True\n",
    "              #print('ep:',x)\n",
    "              #print('rew_tot', reward_total)\n",
    "              #print('diff', diff)\n",
    "\n",
    "          #log reward total outside the if loop\n",
    "          #log distance for each inside the if condition\n",
    "          #log individual reward inside the if condition\n",
    "          #log best distance inside the if condition\n",
    "          \n",
    "          #reward_total_log.append(reward_total)\n",
    "\n",
    "          #reward_log = np.array(reward_log)\n",
    "          #reward_total_log = np.array(reward_total_log)\n",
    "\n",
    "          #reward_file_name = 'reward_random_'+str(x)+'_'+str(i)\n",
    "\n",
    "                  \n",
    "          avg_d_glog = np.array(env.log_d[obj])\n",
    "\n",
    "          best_d_glog = np.array(env.log_best_d[obj])\n",
    "\n",
    "          rew_obt_glog = np.array(env.rew_obtained[obj])\n",
    "\n",
    "          reward_avg_d_file_name = 'avg_d_glog'+str(obj)+'_'+str(i)        \n",
    "          np.save('/content/drive/MyDrive/ProdDesign_Numpy3/'+reward_avg_d_file_name+'.npy', avg_d_glog)\n",
    "              \n",
    "          reward_best_d_file_name = 'best_d_glog'+str(obj)+'_'+str(i)\n",
    "          np.save('/content/drive/MyDrive/ProdDesign_Numpy3/'+reward_best_d_file_name+'.npy', best_d_glog)\n",
    "\n",
    "          reward_rew_obt_file_name = 'rew_obt_glog'+str(obj)+'_'+str(i)        \n",
    "          np.save('/content/drive/MyDrive/ProdDesign_Numpy3/'+reward_rew_obt_file_name+'.npy', rew_obt_glog)\n",
    "\n",
    "          reward_best_pos_log_obt_file_name = 'rew_best_pos_glog'+str(obj)+'_'+str(i)        \n",
    "          np.save('/content/drive/MyDrive/ProdDesign_Numpy3/'+reward_best_pos_log_obt_file_name+'.npy', env.best_pos_log)\n",
    "          \n",
    "          reward_act_log_obt_file_name = 'rew_act_glog'+str(obj)+'_'+str(i)        \n",
    "          np.save('/content/drive/MyDrive/ProdDesign_Numpy3/'+reward_act_log_obt_file_name+'.npy', self.action_log)\n",
    "\n",
    "        output.clear()\n",
    "        #np.save('/content/drive/MyDrive/ProdDesign_Numpy3/'+reward_file_name+'.npy', reward_log)\n",
    "      \n",
    "        #reward_total_file_name = 'reward_total_random_'+str(num_episodes)\n",
    "        #np.save('/content/drive/MyDrive/ProdDesign_Numpy3/'+reward_total_file_name+'.npy', reward_total_log)\n",
    "\n",
    "      paretoList.append([env.log_d[0][-1],env.log_d[1][-1],env.log_d[2][-1],env.log_d[3][-1],env.log_d[4][-1],env.log_d[5][-1]])\n",
    "      compList.append([env.getComponentPosition(0),env.getComponentPosition(1),env.getComponentPosition(2),env.getComponentPosition(3),env.getComponentPosition(4),env.getComponentPosition(5),env.getComponentPosition(6),env.getComponentPosition(7)])\n",
    "      paretoL = np.array(paretoList)\n",
    "      compL = np.array(compList)\n",
    "      np.save('/content/drive/MyDrive/ProdDesign_Numpy3/paretoList.npy', paretoL)\n",
    "      np.save('/content/drive/MyDrive/ProdDesign_Numpy3/compList.npy', compL)\n",
    "\n",
    "      #try to add count here if needed\n",
    "      # http://studentsrepo.um.edu.my/4592/1/APPENDIX_A.pdf\n",
    "\n",
    "      \n",
    "\n",
    "\n",
    "\n",
    "\n",
    "\n",
    "      '''\n",
    "      if front1: #1st front not empty\n",
    "        ob_val = [env.log_d[0][-1],env.log_d[1][-1]]]\n",
    "        temp_front = [] #keep temporary values to move to front2 at once later\n",
    "        for each in front1:\n",
    "          if (ob_val[0]<each[0] and ob_val[1]<=each[1]) or (ob_val[0]<=each[0] and ob_val[1]<each[1]) or (ob_val[0]<each[0] and ob_val[1]<each[1]): #check if new soln is dominating\n",
    "            temp_front.append(each)\n",
    "          elif (ob_val[0]>each[0] and ob_val[1]>=each[1]) or (ob_val[0]>=each[0] and ob_val[1]>each[1]) or (ob_val[0]>each[0] and ob_val[1]>each[1]): #new soln is dominated\n",
    "            temp_front.append(each)\n",
    "          \n",
    "\n",
    "\n",
    "        front2 = front1\n",
    "        front1 = temp_front\n",
    "      \n",
    "      elif not front1: #1st front empty\n",
    "        front1.append([env.log_d[0][-1],env.log_d[1][-1]])\n",
    "\n",
    "      '''\n",
    "\n",
    "      #comment #1 starts\n",
    "      '''\n",
    "      paretoList.append([env.log_d[0][-1],env.log_d[1][-1]])\n",
    "\n",
    "      paretoFront = []\n",
    "\n",
    "      paretoFront1 = []\n",
    "\n",
    "      for each in paretoList:\n",
    "        paretoFront.append(each)\n",
    "        for e in paretoList:\n",
    "          if(e[1]<each[1] and e[0]<=each[0]) or (e[1]<=each[1] and e[0]<each[0]):\n",
    "            paretoFront.remove(each) #each gets removed as e is dominating\n",
    "            paretoList.remove(each)\n",
    "            break\n",
    "\n",
    "      \n",
    "\n",
    "      for each in paretoFront:\n",
    "        if each not in paretoFront1:\n",
    "          paretoFront1.append(each)\n",
    "\n",
    "      #if len(env.log_best_d)>\n",
    "\n",
    "      #if env.log_best_d[-1]<env.log_best_d[-2]: #Just less than because both of the objective is minimize\n",
    "      #  paretoList.clear()\n",
    "      #print('log d len',len(env.log_d[0][-1]))\n",
    "\n",
    "    '''\n",
    "    #comment #1 ends\n",
    "    \n",
    "    '''\n",
    "    S=[[] for i in range(0,len(paretoList))]\n",
    "    front = [[]]\n",
    "    front_val = [[]]\n",
    "    n=[0 for i in range(0,len(paretoList))]\n",
    "    rank = [0 for i in range(0, len(paretoList))]\n",
    "    \n",
    "\n",
    "    for p in range(0, len(paretoList)):\n",
    "      n[p] = 0\n",
    "      S[p] = []\n",
    "      \n",
    "      for q in range(0, len(paretoList)):\n",
    "        #if(e[1]<each[1] and e[0]<=each[0]) or (e[1]<=each[1] and e[0]<each[0]):\n",
    "        if(p != q):\n",
    "          if ((paretoList[p][0]<paretoList[q][0] and paretoList[p][1]<=paretoList[q][1])\n",
    "          or (paretoList[p][0]<=paretoList[q][0] and paretoList[p][1]<paretoList[q][1])): #p dominates q\n",
    "            S[p].append(q)\n",
    "            \n",
    "          elif ((paretoList[q][0]<paretoList[p][0] and paretoList[q][1]<paretoList[p][1])): #q dominates p\n",
    "            n[p] = n[p] + 1\n",
    "        \n",
    "        if n[p] == 0:\n",
    "          rank[p] = 0\n",
    "          if p not in front[0]:  #adding distinct solutions to first front\n",
    "            front[0].append(p)\n",
    "            front_val[0].append(paretoList[p])\n",
    "            \n",
    "\n",
    "      \n",
    "    i = 0\n",
    "    while (front[i] != []): #empty\n",
    "      Q_P = []\n",
    "      Q_Pval = []\n",
    "      for p in front[i]:\n",
    "        for q in S[p]:\n",
    "          n[q] = n[q] - 1\n",
    "          if (n[q] == 0):\n",
    "            rank[q] = i+1\n",
    "            if q not in Q_P:\n",
    "              Q_P.append(q)\n",
    "              Q_Pval.append(paretoList[q])\n",
    "              \n",
    "        \n",
    "      i = i+1\n",
    "      front.append(Q_P)\n",
    "      front_val.append(Q_Pval)\n",
    "      \n",
    "        \n",
    "              \n",
    "    del front[len(front)-1]\n",
    "    del front_val[len(front_val)-1]\n",
    "\n",
    "    paretoFront = np.array(front)\n",
    "    np.save('/content/drive/MyDrive/ProdDesign_Numpy3/pareto_front.npy', paretoFront)\n",
    "    paretoFrontVal = np.array(front_val)\n",
    "    np.save('/content/drive/MyDrive/ProdDesign_Numpy3/pareto_front_val.npy', paretoFrontVal)\n",
    "    \n",
    "    '''\n",
    "\n",
    "    '''\n",
    "    print('Pareto Front')\n",
    "    paretoFront = []\n",
    "    paretoRem = []\n",
    "    for each in paretoList:\n",
    "      paretoFront.append(each)\n",
    "      for e in paretoList:\n",
    "        if(e[1]<each[1] and e[0]<=each[0]) or (e[1]<=each[1] and e[0]<each[0]):\n",
    "          paretoFront.remove(each) #each gets removed as e is dominating\n",
    "          paretoList.remove(each)\n",
    "          paretoRem.append([e[1],each[1]])\n",
    "          break\n",
    "    \n",
    "    paretoFront1 = []    #remove duplicate solutions\n",
    "    \n",
    "    for each in paretoFront:\n",
    "      if each not in paretoFront1:\n",
    "        paretoFront1.append(each)\n",
    "\n",
    "    print('The solution in pareto front have distance of obj 1 and obj 2 resp')\n",
    "    print(paretoFront1)\n",
    "    print('The solution removed')\n",
    "    print(paretoRem)\n",
    "    \n",
    "    paretoFront1 = np.array(paretoFront1)\n",
    "    np.save('/content/drive/MyDrive/ProdDesign_Numpy3/pareto_front.npy', paretoFront1)\n",
    "    #paretoRem = np.array(paretoRem)\n",
    "    #np.save('/content/drive/MyDrive/ProdDesign_Numpy3/pareto_rem.npy', paretoRem)\n",
    "    '''\n",
    "    env_occ_file_name = 'env_occ_glog'        \n",
    "    np.save('/content/drive/MyDrive/ProdDesign_Numpy3/'+env_occ_file_name+'.npy', self.env_pos_log)\n",
    "\n",
    "    print('CHECK', check_arr)\n",
    "    #print('append', append1, ' ', append2, ' ', append3, ' ', append4)\n",
    "    #print('OBJ POS', obj_pos[0])"
   ]
  },
  {
   "cell_type": "code",
   "execution_count": null,
   "metadata": {
    "colab": {
     "base_uri": "https://localhost:8080/"
    },
    "id": "E0nbhgNK1ZI1",
    "outputId": "36df7a86-8633-4543-8182-3834751ecbd2"
   },
   "outputs": [],
   "source": [
    "env = GreenHouseEnv(50 ,50, 50)"
   ]
  },
  {
   "cell_type": "code",
   "execution_count": null,
   "metadata": {
    "id": "OCglRNWSrwq1"
   },
   "outputs": [],
   "source": [
    "agent = Agent(0.1)"
   ]
  },
  {
   "cell_type": "code",
   "execution_count": null,
   "metadata": {
    "id": "vG3irsyjsIpx"
   },
   "outputs": [],
   "source": [
    "agent.qLearning(env=env,nS=50*50*50,nA=7,num_episodes=1000)"
   ]
  },
  {
   "cell_type": "code",
   "execution_count": null,
   "metadata": {
    "colab": {
     "base_uri": "https://localhost:8080/"
    },
    "id": "QZq38keuiJ6-",
    "outputId": "6206ecb1-2c8d-4666-feac-68089f7d46e0"
   },
   "outputs": [],
   "source": [
    "paretoList = np.load('/content/drive/MyDrive/ProdDesign_Numpy3/paretoList.npy')\n",
    "paretoList = paretoList.tolist()\n",
    "len(paretoList)"
   ]
  },
  {
   "cell_type": "code",
   "execution_count": null,
   "metadata": {
    "colab": {
     "base_uri": "https://localhost:8080/"
    },
    "id": "OcJTixIsATio",
    "outputId": "0afe7f7f-cba0-4da7-d1b9-a143c0771cf4"
   },
   "outputs": [],
   "source": [
    "len(paretoList)"
   ]
  },
  {
   "cell_type": "code",
   "execution_count": null,
   "metadata": {
    "colab": {
     "base_uri": "https://localhost:8080/",
     "height": 34
    },
    "id": "xo4al41Ym1dD",
    "outputId": "aa5fa5bf-0708-43cd-f939-45b687f9c97c"
   },
   "outputs": [],
   "source": [
    "from IPython.display import HTML, display\n",
    "import time\n",
    "\n",
    "def progress(value, max=100):\n",
    "    return HTML(\"\"\"\n",
    "        <progress\n",
    "            value='{value}'\n",
    "            max='{max}',\n",
    "            style='width: 100%'\n",
    "        >\n",
    "            {value}\n",
    "        </progress>\n",
    "    \"\"\".format(value=value, max=max))\n",
    "\n",
    "out = display(progress(0, 100), display_id=True)\n",
    "for ii in range(101):\n",
    "    time.sleep(0.02)\n",
    "    out.update(progress(ii, 100))"
   ]
  },
  {
   "cell_type": "code",
   "execution_count": null,
   "metadata": {
    "id": "YbFegG5AeQg7"
   },
   "outputs": [],
   "source": [
    "def paretoFrontFunc(paretoList, compList):\n",
    "  S=[[] for i in range(0,len(paretoList))]\n",
    "  front_val_comp = [[]]\n",
    "  front = [[]]\n",
    "  front_val = [[]]\n",
    "  n=[0 for i in range(0,len(paretoList))]\n",
    "  rank = [0 for i in range(0, len(paretoList))]\n",
    "  append1 = []\n",
    "  append2 = []\n",
    "  append3 = []\n",
    "  append4 = []\n",
    "  append5 = []\n",
    "  out = display(progress(0, 100), display_id=True)\n",
    "  for p in range(0, len(paretoList)):\n",
    "    #n[p] = 0\n",
    "    #S[p] = []\n",
    "  \n",
    "    for q in range(0, len(paretoList)):\n",
    "      #if(e[1]<each[1] and e[0]<=each[0]) or (e[1]<=each[1] and e[0]<each[0]):\n",
    "      if (p!=q):\n",
    "        if ((paretoList[p][0]<paretoList[q][0] and paretoList[p][1]<=paretoList[q][1] and paretoList[p][2]>=paretoList[q][2] and paretoList[p][3]>=paretoList[q][3] and paretoList[p][4]<=paretoList[q][4] and paretoList[p][5]<=paretoList[q][5])\n",
    "        or (paretoList[p][0]<=paretoList[q][0] and paretoList[p][1]<paretoList[q][1] and paretoList[p][2]>=paretoList[q][2] and paretoList[p][3]>=paretoList[q][3] and paretoList[p][4]<=paretoList[q][4] and paretoList[p][5]<=paretoList[q][5])\n",
    "        or (paretoList[p][0]<=paretoList[q][0] and paretoList[p][1]<=paretoList[q][1] and paretoList[p][2]>paretoList[q][2]) and paretoList[p][3]>=paretoList[q][3] and paretoList[p][4]<=paretoList[q][4] and paretoList[p][5]<=paretoList[q][5]\n",
    "        or (paretoList[p][0]<=paretoList[q][0] and paretoList[p][1]<=paretoList[q][1] and paretoList[p][2]>=paretoList[q][2]) and paretoList[p][3]>paretoList[q][3] and paretoList[p][4]<=paretoList[q][4] and paretoList[p][5]<=paretoList[q][5]\n",
    "        or (paretoList[p][0]<=paretoList[q][0] and paretoList[p][1]<=paretoList[q][1] and paretoList[p][2]>=paretoList[q][2]) and paretoList[p][3]>=paretoList[q][3] and paretoList[p][4]<paretoList[q][4] and paretoList[p][5]<=paretoList[q][5]\n",
    "        or (paretoList[p][0]<=paretoList[q][0] and paretoList[p][1]<=paretoList[q][1] and paretoList[p][2]>=paretoList[q][2]) and paretoList[p][3]>=paretoList[q][3] and paretoList[p][4]<=paretoList[q][4] and paretoList[p][5]<paretoList[q][5]): #p dominates q\n",
    "          if q not in S[p]: #new added line\n",
    "            S[p].append(q)\n",
    "            append1.append(paretoList[p])\n",
    "        elif ((paretoList[p][0]>paretoList[q][0] and paretoList[p][1]>=paretoList[q][1] and paretoList[p][2]<=paretoList[q][2] and paretoList[p][3]<=paretoList[q][3] and paretoList[p][4]>=paretoList[q][4] and paretoList[p][5]>=paretoList[q][5])\n",
    "        or (paretoList[p][0]>=paretoList[q][0] and paretoList[p][1]>paretoList[q][1] and paretoList[p][2]<=paretoList[q][2] and paretoList[p][3]<=paretoList[q][3] and paretoList[p][4]>=paretoList[q][4] and paretoList[p][5]>=paretoList[q][5])\n",
    "        or (paretoList[p][0]>=paretoList[q][0] and paretoList[p][1]>=paretoList[q][1] and paretoList[p][2]<paretoList[q][2]) and paretoList[p][3]<=paretoList[q][3] and paretoList[p][4]>=paretoList[q][4] and paretoList[p][5]>=paretoList[q][5]\n",
    "        or (paretoList[p][0]>=paretoList[q][0] and paretoList[p][1]>=paretoList[q][1] and paretoList[p][2]<=paretoList[q][2]) and paretoList[p][3]<paretoList[q][3] and paretoList[p][4]>=paretoList[q][4] and paretoList[p][5]>=paretoList[q][5]\n",
    "        or (paretoList[p][0]>=paretoList[q][0] and paretoList[p][1]>=paretoList[q][1] and paretoList[p][2]<=paretoList[q][2]) and paretoList[p][3]<=paretoList[q][3] and paretoList[p][4]>paretoList[q][4] and paretoList[p][5]>=paretoList[q][5]\n",
    "        or (paretoList[p][0]>=paretoList[q][0] and paretoList[p][1]>=paretoList[q][1] and paretoList[p][2]<=paretoList[q][2]) and paretoList[p][3]<=paretoList[q][3] and paretoList[p][4]>=paretoList[q][4] and paretoList[p][5]>paretoList[q][5]): #q dominates p\n",
    "          n[p] = n[p] + 1\n",
    "          append2.append(paretoList[q])\n",
    "    \n",
    "    if n[p] == 0:\n",
    "      rank[p] = 0   #modified to 0 from 1\n",
    "      if p not in front[0]:  #adding distinct solutions to first front\n",
    "        front[0].append(p)\n",
    "        front_val_comp[0].append(compList[p])\n",
    "\n",
    "        #adding to remove duplicates in front val [remove later based on co-ord]\n",
    "        if paretoList[p] not in front_val[0]:\n",
    "          front_val[0].append(paretoList[p])\n",
    "          front_val_comp[0].append(compList[p])\n",
    "          #paretoList.remove(paretoList[p])\n",
    "          append3.append(paretoList[p])\n",
    "    #output.clear()\n",
    "    completion = (p/len(paretoList))*50\n",
    "    out.update(progress(completion, 100))\n",
    "  \n",
    "    #print('completed:', completion,'%')\n",
    "    \n",
    "  i = 0\n",
    "  print('fronts',front[0])\n",
    "  while (front[i] != []): #not empty\n",
    "    Q_P = []\n",
    "    Q_Pval = []\n",
    "    #print('front',i,'',front[i])\n",
    "  \n",
    "    for p in front[i]:\n",
    "      #print('S[p]',p,S[p])\n",
    "      for q in S[p]:\n",
    "        n[q] = n[q] - 1\n",
    "        if (n[q] == 0):\n",
    "          rank[q] = i+1\n",
    "          if q not in Q_P:\n",
    "            Q_P.append(q)\n",
    "            #adding to remove duplicates in front val [remove later based on co-ord]\n",
    "            if paretoList[q] not in Q_Pval:\n",
    "              Q_Pval.append(paretoList[q])\n",
    "              #paretoList.remove(paretoList[q])\n",
    "              append4.append(paretoList[p])\n",
    "    \n",
    "    i = i+1\n",
    "\n",
    "    front.append(Q_P)\n",
    "    front_val.append(Q_Pval)\n",
    "    #append4 += 1\n",
    "    f_len = len(front)\n",
    "    output.clear()\n",
    "    completion = ((i/f_len)*50)+50\n",
    "    #print('completed:', completion,'%')    \n",
    "    out.update(progress(completion, 100))  \n",
    "              \n",
    "  del front[len(front)-1]\n",
    "  del front_val[len(front_val)-1]\n",
    "\n",
    "  print(len(front_val))\n",
    "\n",
    "  paretoFront = np.array(front)\n",
    "  np.save('/content/drive/MyDrive/ProdDesign_Numpy3/pareto_front.npy', front)\n",
    "  paretoFrontVal = np.array(front_val)\n",
    "  np.save('/content/drive/MyDrive/ProdDesign_Numpy3/pareto_front_val.npy', front_val)\n",
    "\n",
    "  return paretoFront, paretoFrontVal"
   ]
  },
  {
   "cell_type": "code",
   "execution_count": null,
   "metadata": {
    "colab": {
     "base_uri": "https://localhost:8080/",
     "height": 200
    },
    "id": "OqB1FYP0nQ1n",
    "outputId": "dfa2ac16-f076-4dfa-cba9-192807065599"
   },
   "outputs": [],
   "source": [
    "paretoList = np.load('/content/drive/MyDrive/ProdDesign_Numpy3/paretoList.npy')\n",
    "paretoList = paretoList.tolist()\n",
    "compList = np.load('/content/drive/MyDrive/ProdDesign_Numpy3/compList.npy')\n",
    "compList = compList.tolist()\n",
    "p,val = paretoFrontFunc(paretoList,compList)"
   ]
  },
  {
   "cell_type": "code",
   "execution_count": null,
   "metadata": {
    "id": "CpnpUQ5UAmHK"
   },
   "outputs": [],
   "source": [
    "pareto_val = np.load('/content/drive/MyDrive/ProdDesign_Numpy3/pareto_front_val.npy', allow_pickle=True)"
   ]
  },
  {
   "cell_type": "code",
   "execution_count": null,
   "metadata": {
    "id": "PAgcSr33tuh0"
   },
   "outputs": [],
   "source": [
    "comp = []\n",
    "for i in p[0]:\n",
    "  if compList[i] not in comp:\n",
    "    comp.append(compList[i])\n"
   ]
  },
  {
   "cell_type": "code",
   "execution_count": null,
   "metadata": {
    "colab": {
     "base_uri": "https://localhost:8080/"
    },
    "id": "mhoQ8ZWCassh",
    "outputId": "64e9ca00-6d71-4087-8c97-af7c1f69addd"
   },
   "outputs": [],
   "source": [
    "len(compList[0])"
   ]
  },
  {
   "cell_type": "code",
   "execution_count": null,
   "metadata": {
    "colab": {
     "base_uri": "https://localhost:8080/"
    },
    "id": "5vYYXw6ruHTB",
    "outputId": "7c9f8e69-39e8-4211-d51f-e93db2dcb393"
   },
   "outputs": [],
   "source": [
    "len(pareto_val[0])"
   ]
  },
  {
   "cell_type": "code",
   "execution_count": null,
   "metadata": {
    "colab": {
     "base_uri": "https://localhost:8080/"
    },
    "id": "fJgjthj7Z8hA",
    "outputId": "34b14a54-5542-4a2a-81f8-cbafc07d02be"
   },
   "outputs": [],
   "source": [
    "len(val[1])"
   ]
  },
  {
   "cell_type": "code",
   "execution_count": null,
   "metadata": {
    "colab": {
     "base_uri": "https://localhost:8080/"
    },
    "id": "DRDuqTMqan7B",
    "outputId": "8f6c325f-4e78-4572-cd59-0c3c98c63cb3"
   },
   "outputs": [],
   "source": [
    "len(pareto_val[0])"
   ]
  },
  {
   "cell_type": "code",
   "execution_count": null,
   "metadata": {
    "colab": {
     "base_uri": "https://localhost:8080/"
    },
    "id": "yZew1zAocP05",
    "outputId": "50181671-2381-4d0a-92b7-a8aef062d782"
   },
   "outputs": [],
   "source": [
    "len(comp)"
   ]
  },
  {
   "cell_type": "code",
   "execution_count": null,
   "metadata": {
    "id": "Acr50Q6RvAXP"
   },
   "outputs": [],
   "source": [
    "pareto_val[0] = np.array(pareto_val[0])"
   ]
  },
  {
   "cell_type": "code",
   "execution_count": null,
   "metadata": {
    "colab": {
     "base_uri": "https://localhost:8080/",
     "height": 235
    },
    "id": "JAmzOHSFv4Ah",
    "outputId": "18e999d7-f515-4c0a-feb2-c2cc24bcc31c"
   },
   "outputs": [],
   "source": [
    "for i in range(len(comp)):\n",
    "\n",
    "  fig = plt.figure(figsize=(8,8))\n",
    "\n",
    "  ax = fig.add_subplot(111, projection='3d')\n",
    "\n",
    "  ax.scatter(comp[i][0][0],comp[i][0][1],comp[i][0][2], label='heater', s=50)\n",
    "  ax.scatter(comp[i][1][0],comp[i][1][1],comp[i][1][2], label='water tank', s=50)\n",
    "  ax.scatter(comp[i][2][0],comp[i][2][1],comp[i][2][2], label='pack soil', s=50)\n",
    "  ax.scatter(comp[i][3][0],comp[i][3][1],comp[i][3][2], label='heat sensor', s=50)\n",
    "  ax.scatter(comp[i][4][0],comp[i][4][1],comp[i][4][2], label='camera', s=50)\n",
    "  ax.scatter(comp[i][5][0],comp[i][5][1],comp[i][5][2], label='fan', s=50)\n",
    "  ax.scatter(comp[i][6][0],comp[i][6][1],comp[i][6][2], label='led', s=50)\n",
    "  ax.scatter(comp[i][7][0],comp[i][7][1],comp[i][7][2], label='water pump', s=50)\n",
    "  ax.set_xlim3d(xmin=0,xmax=50)\n",
    "  ax.set_ylim3d(ymin=0,ymax=50)\n",
    "  ax.set_zlim3d(zmin=0,zmax=50)\n",
    "  plt.legend()\n",
    "  plt.show()\n",
    "  #output.clear(wait=True)"
   ]
  },
  {
   "cell_type": "code",
   "execution_count": null,
   "metadata": {
    "colab": {
     "base_uri": "https://localhost:8080/",
     "height": 778
    },
    "id": "MLMqXvcnyAHD",
    "outputId": "c65b3650-c269-4e34-8440-f899897acad9"
   },
   "outputs": [],
   "source": [
    " orig = [[[4, 6, 18], [16, 27, 46], [24, 38, 18]]]\n",
    " \n",
    "\n",
    " for i in range(len(orig)):\n",
    "\n",
    "  fig = plt.figure(figsize=(8,8))\n",
    "\n",
    "  ax = fig.add_subplot(111, projection='3d')\n",
    "\n",
    "  ax.scatter(orig[i][0][0],orig[i][0][1],orig[i][0][2], label='water tank')\n",
    "  ax.scatter(orig[i][1][0],orig[i][1][1],orig[i][1][2], label='Pack Soil')\n",
    "  ax.scatter(orig[i][2][0],orig[i][2][1],orig[i][2][2], label='water pump')\n",
    "  ax.set_xlim3d(xmin=0,xmax=50)\n",
    "  ax.set_ylim3d(ymin=0,ymax=50)\n",
    "  ax.set_zlim3d(zmin=0,zmax=50)\n",
    "  plt.legend()\n",
    "  plt.show()\n",
    "  #output.clear(wait=True)"
   ]
  },
  {
   "cell_type": "code",
   "execution_count": null,
   "metadata": {
    "colab": {
     "base_uri": "https://localhost:8080/",
     "height": 275
    },
    "id": "p6bW33AmuoYW",
    "outputId": "51809c08-3f91-4477-cdbb-7e9fe0a569de"
   },
   "outputs": [],
   "source": [
    "# create data\n",
    "x = np.arange(0,6) #OBJECTIVE INDEX\n",
    "#print(x)\n",
    "#data = [x,x*2,x*x,np.sqrt(x),-x*x,np.sin(x),np.cos(x)]\n",
    "#print(data)\n",
    "  \n",
    "# make subplots\n",
    "fig, (ax0,ax1,ax2,ax3,ax4) = plt.subplots(1, 5, sharey=False)\n",
    "ax = (ax0,ax1,ax2,ax3,ax4)\n",
    "fig.text(0.5, 0.04, 'Objectives', ha='center')\n",
    "fig.text(0.04, 0.5, 'Distance', va='center', rotation='vertical')\n",
    "\n",
    "# plot subplots and set xlimit\n",
    "for i in range(5):\n",
    "    for j in range(len(pareto_val[0])):\n",
    "        ax[i].plot(pareto_val[0][:,:])\n",
    "    ax[i].set_xlim([x[i],x[i+1]])\n",
    "    ax[i].set_xticks([x[i],x[i+1]])\n",
    "\n",
    "# set width space to zero\n",
    "plt.subplots_adjust(wspace=0)\n",
    "#plt.xticks([1,2,3,4,5])\n",
    "# show plot\n",
    "plt.show()"
   ]
  },
  {
   "cell_type": "code",
   "execution_count": null,
   "metadata": {
    "colab": {
     "base_uri": "https://localhost:8080/"
    },
    "id": "NcX3LjPf3JuD",
    "outputId": "35abf159-344c-4955-8543-3a6dd9a04af0"
   },
   "outputs": [],
   "source": [
    "pareto_val = np.load('/content/drive/MyDrive/ProdDesign_Numpy3/pareto_front_val.npy', allow_pickle=True)\n",
    "#/content/drive/MyDrive/ProdDesign_Numpy3/pareto_front.npy\n",
    "len(pareto_val[0])"
   ]
  },
  {
   "cell_type": "code",
   "execution_count": null,
   "metadata": {
    "colab": {
     "base_uri": "https://localhost:8080/"
    },
    "id": "c9w6nshq6WND",
    "outputId": "03d08564-fce5-435c-aed2-ac09839d9ae9"
   },
   "outputs": [],
   "source": [
    "pareto_val[0]"
   ]
  },
  {
   "cell_type": "code",
   "execution_count": null,
   "metadata": {
    "colab": {
     "base_uri": "https://localhost:8080/"
    },
    "id": "D1u33EGO4cei",
    "outputId": "f0f95824-f6f7-48c6-81e2-89beaf26c21b"
   },
   "outputs": [],
   "source": [
    "pareto_val[1]"
   ]
  },
  {
   "cell_type": "code",
   "execution_count": null,
   "metadata": {
    "colab": {
     "base_uri": "https://localhost:8080/"
    },
    "id": "FEG0g_4DuGoE",
    "outputId": "d4b6bead-677f-4015-8acb-343d42f8efba"
   },
   "outputs": [],
   "source": [
    "pareto = np.load('/content/drive/MyDrive/ProdDesign_Numpy3/pareto_front.npy', allow_pickle=True)\n",
    "#/content/drive/MyDrive/ProdDesign_Numpy3/pareto_front.npy\n",
    "pareto"
   ]
  },
  {
   "cell_type": "code",
   "execution_count": null,
   "metadata": {
    "colab": {
     "base_uri": "https://localhost:8080/"
    },
    "id": "htphZ_cJ2pLz",
    "outputId": "1553ec11-8f0f-4977-d3ad-2b950e55f476"
   },
   "outputs": [],
   "source": [
    "new_l = []\n",
    "for p in pareto_val[0]:\n",
    "  #print(p)\n",
    "  print(p)\n",
    "  if p not in pareto_val[1]:\n",
    "    if p not in new_l:\n",
    "      new_l.append(p)\n",
    "  \n",
    "      "
   ]
  },
  {
   "cell_type": "code",
   "execution_count": null,
   "metadata": {
    "id": "qe9NOutOngUw"
   },
   "outputs": [],
   "source": [
    "p0 = []\n",
    "p1 = []\n",
    "for el in new_l:\n",
    "  if (p not in pareto_val[1]) and (p in pareto_val[0]):\n",
    "    p0.append('true')\n",
    "\n"
   ]
  },
  {
   "cell_type": "code",
   "execution_count": null,
   "metadata": {
    "colab": {
     "base_uri": "https://localhost:8080/"
    },
    "id": "Tz-Kmeqs3_Kc",
    "outputId": "51e57e4e-5990-4b36-c3c3-1949922b47f8"
   },
   "outputs": [],
   "source": [
    "p0"
   ]
  },
  {
   "cell_type": "code",
   "execution_count": null,
   "metadata": {
    "colab": {
     "base_uri": "https://localhost:8080/"
    },
    "id": "hAWCyGqvN4Vm",
    "outputId": "eeaba70a-c3f9-44cd-bfbb-a4549774ae91"
   },
   "outputs": [],
   "source": [
    "len(new_l)"
   ]
  },
  {
   "cell_type": "code",
   "execution_count": null,
   "metadata": {
    "id": "U_f9hM_W-fLa"
   },
   "outputs": [],
   "source": [
    "reward_best_d_file_name = 'best_d_glog'+str(0)+'_'+str(1)\n",
    "best_d = np.load('/content/drive/MyDrive/ProdDesign_Numpy3/'+reward_best_d_file_name+'.npy')\n",
    "\n",
    "reward_avg_d_file_name = 'avg_d_glog'+str(0)+'_'+str(1)        \n",
    "avg_d = np.load('/content/drive/MyDrive/ProdDesign_Numpy3/'+reward_avg_d_file_name+'.npy')\n",
    "\n",
    "reward_rew_obt_file_name = 'rew_obt_glog'+str(0)+'_'+str(1)        \n",
    "rew_obt = np.load('/content/drive/MyDrive/ProdDesign_Numpy3/'+reward_rew_obt_file_name+'.npy')\n",
    "\n",
    "reward_best_pos_log_obt_file_name = 'rew_best_pos_glog'+str(0)+'_'+str(1)        \n",
    "best_pos = np.load('/content/drive/MyDrive/ProdDesign_Numpy3/'+reward_best_pos_log_obt_file_name+'.npy')\n",
    "\n",
    "reward_act_log_obt_file_name = 'rew_act_glog'+str(0)+'_'+str(1)        \n",
    "act_log = np.load('/content/drive/MyDrive/ProdDesign_Numpy3/'+reward_act_log_obt_file_name+'.npy')\n"
   ]
  },
  {
   "cell_type": "code",
   "execution_count": null,
   "metadata": {
    "colab": {
     "base_uri": "https://localhost:8080/",
     "height": 312
    },
    "id": "QXWDMU3a_igA",
    "outputId": "88ed82c9-456e-4c18-a15f-1346ed0bddda"
   },
   "outputs": [],
   "source": [
    "plt.plot(best_d[0:500])\n",
    "plt.xlabel('steps')\n",
    "plt.ylabel('best distance')\n",
    "plt.title('Best distance over first 500 steps [component 1]')"
   ]
  },
  {
   "cell_type": "code",
   "execution_count": null,
   "metadata": {
    "colab": {
     "base_uri": "https://localhost:8080/",
     "height": 312
    },
    "id": "HmHc1C2ru6d6",
    "outputId": "2c2040dd-00f0-402e-8ed4-5aae674f61e2"
   },
   "outputs": [],
   "source": [
    "plt.plot(best_d)\n",
    "plt.xlabel('steps')\n",
    "plt.ylabel('distance')\n",
    "plt.title('Best distance over all steps[component 1]')"
   ]
  },
  {
   "cell_type": "code",
   "execution_count": null,
   "metadata": {
    "colab": {
     "base_uri": "https://localhost:8080/",
     "height": 312
    },
    "id": "kRP6Yk3mvMMV",
    "outputId": "3dc27a62-8512-44fe-80ad-a5e1e6d47b0d"
   },
   "outputs": [],
   "source": [
    "plt.plot(avg_d[0:200])\n",
    "plt.xlabel('steps')\n",
    "plt.ylabel('avg dist')\n",
    "plt.title('Average Distance between components[first 200 steps] for comp 1')"
   ]
  },
  {
   "cell_type": "code",
   "execution_count": null,
   "metadata": {
    "colab": {
     "base_uri": "https://localhost:8080/",
     "height": 312
    },
    "id": "Q-h0K5akvDR3",
    "outputId": "774868c1-fe9c-424e-acac-8c6caacc9dbc"
   },
   "outputs": [],
   "source": [
    "plt.plot(avg_d)\n",
    "plt.xlabel('steps')\n",
    "plt.ylabel('avg dist')\n",
    "plt.title('Average Distance between components - comp1')"
   ]
  },
  {
   "cell_type": "code",
   "execution_count": null,
   "metadata": {
    "id": "mNf16i_ZyKP9"
   },
   "outputs": [],
   "source": [
    "point_five = list(rew_obt==0.5).count(True)\n",
    "neg_rew = list(rew_obt==-1).count(True)\n",
    "rew_two = list(rew_obt==2).count(True)\n",
    "rew_five = list(rew_obt==5).count(True)\n",
    "rew_ten = list(rew_obt==10).count(True)"
   ]
  },
  {
   "cell_type": "code",
   "execution_count": null,
   "metadata": {
    "colab": {
     "base_uri": "https://localhost:8080/",
     "height": 312
    },
    "id": "i07fgYOUxeWd",
    "outputId": "bb080c49-7e1c-49b7-a18e-364291d41d96"
   },
   "outputs": [],
   "source": [
    "x = ['-1','0.5','2','5','10']\n",
    "y = [neg_rew, point_five, rew_two, rew_five, rew_ten]\n",
    "plt.bar(x,y)\n",
    "plt.xlabel('Reward')\n",
    "plt.ylabel('Count')\n",
    "plt.title('Rewards for component 1')"
   ]
  },
  {
   "cell_type": "code",
   "execution_count": null,
   "metadata": {
    "colab": {
     "base_uri": "https://localhost:8080/",
     "height": 312
    },
    "id": "a5UBde2-0Xu7",
    "outputId": "c3a58227-7da2-40ed-94a6-4f3f0dcb8f22"
   },
   "outputs": [],
   "source": [
    "x = ['5','10']\n",
    "y = [rew_five, rew_ten]\n",
    "plt.bar(x,y)\n",
    "plt.xlabel('Reward')\n",
    "plt.ylabel('Count')\n",
    "plt.title('Rewards for component 1')"
   ]
  },
  {
   "cell_type": "code",
   "execution_count": null,
   "metadata": {
    "colab": {
     "base_uri": "https://localhost:8080/",
     "height": 312
    },
    "id": "_pwq3lvg-fCD",
    "outputId": "7752321a-4387-4a3b-8fc5-7193ffb7e8fe"
   },
   "outputs": [],
   "source": [
    "random_action_cnt = list(act_log).count(0)\n",
    "best_action_cnt = list(act_log).count(1)\n",
    "x = ['random','best']\n",
    "y = [random_action_cnt,best_action_cnt]\n",
    "plt.bar(x,y)\n",
    "plt.xlabel('Action')\n",
    "plt.ylabel('Count')\n",
    "plt.title('Exploit vs Explore for component 1')"
   ]
  },
  {
   "cell_type": "code",
   "execution_count": null,
   "metadata": {
    "id": "mcazMJVn1ngk"
   },
   "outputs": [],
   "source": [
    "reward_best_d_file_name = 'best_d_glog'+str(0)+'_'+str(2)\n",
    "best_d = np.load('/content/drive/MyDrive/ProdDesign_Numpy3/'+reward_best_d_file_name+'.npy')\n",
    "\n",
    "reward_avg_d_file_name = 'avg_d_glog'+str(0)+'_'+str(2)        \n",
    "avg_d = np.load('/content/drive/MyDrive/ProdDesign_Numpy3/'+reward_avg_d_file_name+'.npy')\n",
    "\n",
    "reward_rew_obt_file_name = 'rew_obt_glog'+str(0)+'_'+str(2)        \n",
    "rew_obt = np.load('/content/drive/MyDrive/ProdDesign_Numpy3/'+reward_rew_obt_file_name+'.npy')\n",
    "\n",
    "reward_best_pos_log_obt_file_name = 'rew_best_pos_glog'+str(0)+'_'+str(2)        \n",
    "best_pos = np.load('/content/drive/MyDrive/ProdDesign_Numpy3/'+reward_best_pos_log_obt_file_name+'.npy')\n",
    "\n",
    "reward_act_log_obt_file_name = 'rew_act_glog'+str(0)+'_'+str(2)        \n",
    "act_log = np.load('/content/drive/MyDrive/ProdDesign_Numpy3/'+reward_act_log_obt_file_name+'.npy')\n"
   ]
  },
  {
   "cell_type": "code",
   "execution_count": null,
   "metadata": {
    "colab": {
     "base_uri": "https://localhost:8080/",
     "height": 312
    },
    "id": "Tk0Nwsc32Ah-",
    "outputId": "b55df4c8-8370-4054-f3be-31d76d471c07"
   },
   "outputs": [],
   "source": [
    "plt.plot(best_d[0:500])\n",
    "plt.xlabel('steps')\n",
    "plt.ylabel('best distance')\n",
    "plt.title('Best distance over first 100 steps [component 2]')"
   ]
  },
  {
   "cell_type": "code",
   "execution_count": null,
   "metadata": {
    "colab": {
     "base_uri": "https://localhost:8080/",
     "height": 312
    },
    "id": "T6GexQBD2J0j",
    "outputId": "44c587df-d055-4419-ec6b-d798ca7d7e5a"
   },
   "outputs": [],
   "source": [
    "plt.plot(best_d)\n",
    "plt.xlabel('steps')\n",
    "plt.ylabel('distance')\n",
    "plt.title('Best distance over all steps[component 2]')"
   ]
  },
  {
   "cell_type": "code",
   "execution_count": null,
   "metadata": {
    "colab": {
     "base_uri": "https://localhost:8080/",
     "height": 312
    },
    "id": "iCPCEwKy2SZz",
    "outputId": "f8381209-8b82-4811-b80e-57d354ca4221"
   },
   "outputs": [],
   "source": [
    "plt.plot(avg_d[0:200])\n",
    "plt.xlabel('steps')\n",
    "plt.ylabel('avg dist')\n",
    "plt.title('Average Distance between components[first 200 steps] for comp 2')"
   ]
  },
  {
   "cell_type": "code",
   "execution_count": null,
   "metadata": {
    "colab": {
     "base_uri": "https://localhost:8080/",
     "height": 312
    },
    "id": "tPpE1mkE2eQ7",
    "outputId": "4aab62f2-ddc2-4523-88ec-e1e3bddc28cb"
   },
   "outputs": [],
   "source": [
    "plt.plot(avg_d)\n",
    "plt.xlabel('steps')\n",
    "plt.ylabel('avg dist')\n",
    "plt.title('Average Distance between components - comp 2')"
   ]
  },
  {
   "cell_type": "code",
   "execution_count": null,
   "metadata": {
    "id": "o_zQDcuk22ei"
   },
   "outputs": [],
   "source": [
    "point_five = list(rew_obt==0.5).count(True)\n",
    "neg_rew = list(rew_obt==-1).count(True)\n",
    "rew_two = list(rew_obt==2).count(True)\n",
    "rew_five = list(rew_obt==5).count(True)\n",
    "rew_ten = list(rew_obt==10).count(True)"
   ]
  },
  {
   "cell_type": "code",
   "execution_count": null,
   "metadata": {
    "colab": {
     "base_uri": "https://localhost:8080/",
     "height": 312
    },
    "id": "9U2atTtP2nPS",
    "outputId": "8b7afb24-1d95-42c4-a513-a9b24daffd54"
   },
   "outputs": [],
   "source": [
    "x = ['-1','0.5','2','5','10']\n",
    "y = [neg_rew, point_five, rew_two, rew_five, rew_ten]\n",
    "plt.bar(x,y)\n",
    "plt.xlabel('Reward')\n",
    "plt.ylabel('Count')\n",
    "plt.title('Rewards for component 2')"
   ]
  },
  {
   "cell_type": "code",
   "execution_count": null,
   "metadata": {
    "colab": {
     "base_uri": "https://localhost:8080/",
     "height": 312
    },
    "id": "KjJHllnd2kUu",
    "outputId": "e97c4868-d10f-446a-d68d-084cd169ff3f"
   },
   "outputs": [],
   "source": [
    "x = ['5','10']\n",
    "y = [rew_five, rew_ten]\n",
    "plt.bar(x,y)\n",
    "plt.xlabel('Reward')\n",
    "plt.ylabel('Count')\n",
    "plt.title('Rewards for component 2')"
   ]
  },
  {
   "cell_type": "code",
   "execution_count": null,
   "metadata": {
    "colab": {
     "base_uri": "https://localhost:8080/",
     "height": 312
    },
    "id": "BWCNjpyp3Kg4",
    "outputId": "f112e483-b5fd-4824-cccf-0773a19db662"
   },
   "outputs": [],
   "source": [
    "random_action_cnt = list(act_log).count(0)\n",
    "best_action_cnt = list(act_log).count(1)\n",
    "x = ['random','best']\n",
    "y = [random_action_cnt,best_action_cnt]\n",
    "plt.bar(x,y)\n",
    "plt.xlabel('Action')\n",
    "plt.ylabel('Count')\n",
    "plt.title('Exploit vs Explore for component 2')"
   ]
  },
  {
   "cell_type": "code",
   "execution_count": null,
   "metadata": {
    "id": "3KBGvmmG1oG5"
   },
   "outputs": [],
   "source": [
    "reward_best_d_file_name = 'best_d_glog'+str(0)+'_'+str(7)\n",
    "best_d = np.load('/content/drive/MyDrive/ProdDesign_Numpy3/'+reward_best_d_file_name+'.npy')\n",
    "\n",
    "reward_avg_d_file_name = 'avg_d_glog'+str(0)+'_'+str(7)        \n",
    "avg_d = np.load('/content/drive/MyDrive/ProdDesign_Numpy3/'+reward_avg_d_file_name+'.npy')\n",
    "\n",
    "reward_rew_obt_file_name = 'rew_obt_glog'+str(0)+'_'+str(7)        \n",
    "rew_obt = np.load('/content/drive/MyDrive/ProdDesign_Numpy3/'+reward_rew_obt_file_name+'.npy')\n",
    "\n",
    "reward_best_pos_log_obt_file_name = 'rew_best_pos_glog'+str(0)+'_'+str(7)        \n",
    "best_pos = np.load('/content/drive/MyDrive/ProdDesign_Numpy3/'+reward_best_pos_log_obt_file_name+'.npy')\n",
    "\n",
    "reward_act_log_obt_file_name = 'rew_act_glog'+str(0)+'_'+str(7)        \n",
    "act_log = np.load('/content/drive/MyDrive/ProdDesign_Numpy3/'+reward_act_log_obt_file_name+'.npy')"
   ]
  },
  {
   "cell_type": "code",
   "execution_count": null,
   "metadata": {
    "colab": {
     "base_uri": "https://localhost:8080/",
     "height": 312
    },
    "id": "ud-D6OuX3Vgx",
    "outputId": "9a0bbd90-51a7-4867-e9fc-86956c3e2c6a"
   },
   "outputs": [],
   "source": [
    "plt.plot(best_d[0:500])\n",
    "plt.xlabel('steps')\n",
    "plt.ylabel('best distance')\n",
    "plt.title('Best distance over first 500 steps [component 7]')"
   ]
  },
  {
   "cell_type": "code",
   "execution_count": null,
   "metadata": {
    "colab": {
     "base_uri": "https://localhost:8080/",
     "height": 312
    },
    "id": "ft3VzQGI3b-9",
    "outputId": "70a090b8-2ff2-4e06-fa17-83e61d6c8dff"
   },
   "outputs": [],
   "source": [
    "plt.plot(best_d)\n",
    "plt.xlabel('steps')\n",
    "plt.ylabel('distance')\n",
    "plt.title('Best distance over all steps[component 7]')"
   ]
  },
  {
   "cell_type": "code",
   "execution_count": null,
   "metadata": {
    "colab": {
     "base_uri": "https://localhost:8080/",
     "height": 312
    },
    "id": "7DPH2Awe3wnV",
    "outputId": "913333c4-e734-458f-ca8e-97eeeaa07119"
   },
   "outputs": [],
   "source": [
    "plt.plot(avg_d[0:200])\n",
    "plt.xlabel('steps')\n",
    "plt.ylabel('avg dist')\n",
    "plt.title('Average Distance between components[first 200 steps] for comp 7')"
   ]
  },
  {
   "cell_type": "code",
   "execution_count": null,
   "metadata": {
    "colab": {
     "base_uri": "https://localhost:8080/",
     "height": 312
    },
    "id": "ge6bXZFo31v3",
    "outputId": "86ea7682-ec96-41d5-fdf8-f0c892e13fac"
   },
   "outputs": [],
   "source": [
    "plt.plot(avg_d)\n",
    "plt.xlabel('steps')\n",
    "plt.ylabel('avg dist')\n",
    "plt.title('Average Distance between components - comp 7')"
   ]
  },
  {
   "cell_type": "code",
   "execution_count": null,
   "metadata": {
    "id": "FjMHh46p3_31"
   },
   "outputs": [],
   "source": [
    "point_five = list(rew_obt==0.5).count(True)\n",
    "neg_rew = list(rew_obt==-1).count(True)\n",
    "rew_two = list(rew_obt==2).count(True)\n",
    "rew_five = list(rew_obt==5).count(True)\n",
    "rew_ten = list(rew_obt==10).count(True)"
   ]
  },
  {
   "cell_type": "code",
   "execution_count": null,
   "metadata": {
    "colab": {
     "base_uri": "https://localhost:8080/",
     "height": 312
    },
    "id": "8Xh5uu1A4ED4",
    "outputId": "920c72be-b060-4b8a-988e-d0de87ae3a19"
   },
   "outputs": [],
   "source": [
    "x = ['-1','0.5','2','5','10']\n",
    "y = [neg_rew, point_five, rew_two, rew_five, rew_ten]\n",
    "plt.bar(x,y)\n",
    "plt.xlabel('Reward')\n",
    "plt.ylabel('Count')\n",
    "plt.title('Rewards for component 7')"
   ]
  },
  {
   "cell_type": "code",
   "execution_count": null,
   "metadata": {
    "colab": {
     "base_uri": "https://localhost:8080/",
     "height": 312
    },
    "id": "9rnQUcAb4Yi1",
    "outputId": "6bfd6521-3045-407e-d298-bd0b2925f3c2"
   },
   "outputs": [],
   "source": [
    "x = ['5','10']\n",
    "y = [rew_five, rew_ten]\n",
    "plt.bar(x,y)\n",
    "plt.xlabel('Reward')\n",
    "plt.ylabel('Count')\n",
    "plt.title('Rewards for component 7')"
   ]
  },
  {
   "cell_type": "code",
   "execution_count": null,
   "metadata": {
    "colab": {
     "base_uri": "https://localhost:8080/",
     "height": 312
    },
    "id": "Ez5-z1mC4cdA",
    "outputId": "a6995fcd-627e-4691-c423-cdbba0bcd7ed"
   },
   "outputs": [],
   "source": [
    "random_action_cnt = list(act_log).count(0)\n",
    "best_action_cnt = list(act_log).count(1)\n",
    "x = ['random','best']\n",
    "y = [random_action_cnt,best_action_cnt]\n",
    "plt.bar(x,y)\n",
    "plt.xlabel('Action')\n",
    "plt.ylabel('Count')\n",
    "plt.title('Exploit vs Explore for component 7')"
   ]
  },
  {
   "cell_type": "code",
   "execution_count": null,
   "metadata": {
    "id": "sd3WtFpLmm6x"
   },
   "outputs": [],
   "source": [
    "reward_best_d_file_name = 'best_d_glog'+str(1)+'_'+str(0)\n",
    "best_d = np.load('/content/drive/MyDrive/ProdDesign_Numpy3/'+reward_best_d_file_name+'.npy')\n",
    "\n",
    "reward_avg_d_file_name = 'avg_d_glog'+str(1)+'_'+str(0)        \n",
    "avg_d = np.load('/content/drive/MyDrive/ProdDesign_Numpy3/'+reward_avg_d_file_name+'.npy')\n",
    "\n",
    "reward_rew_obt_file_name = 'rew_obt_glog'+str(1)+'_'+str(0)        \n",
    "rew_obt = np.load('/content/drive/MyDrive/ProdDesign_Numpy3/'+reward_rew_obt_file_name+'.npy')\n",
    "\n",
    "reward_best_pos_log_obt_file_name = 'rew_best_pos_glog'+str(1)+'_'+str(0)        \n",
    "best_pos = np.load('/content/drive/MyDrive/ProdDesign_Numpy3/'+reward_best_pos_log_obt_file_name+'.npy')\n",
    "\n",
    "reward_act_log_obt_file_name = 'rew_act_glog'+str(1)+'_'+str(0)        \n",
    "act_log = np.load('/content/drive/MyDrive/ProdDesign_Numpy3/'+reward_act_log_obt_file_name+'.npy')"
   ]
  },
  {
   "cell_type": "code",
   "execution_count": null,
   "metadata": {
    "colab": {
     "base_uri": "https://localhost:8080/",
     "height": 312
    },
    "id": "UMJsmHM5mqb6",
    "outputId": "2c839b17-c11f-433b-eaed-3b1de287b034"
   },
   "outputs": [],
   "source": [
    "plt.plot(best_d[0:100])\n",
    "plt.xlabel('steps')\n",
    "plt.ylabel('best distance')\n",
    "plt.title('Best distance over first 100 steps [component 0]')"
   ]
  },
  {
   "cell_type": "code",
   "execution_count": null,
   "metadata": {
    "colab": {
     "base_uri": "https://localhost:8080/",
     "height": 312
    },
    "id": "WcoU24TfmvSy",
    "outputId": "ab930a52-6596-43e6-f6a3-cc808245979c"
   },
   "outputs": [],
   "source": [
    "plt.plot(best_d)\n",
    "plt.xlabel('steps')\n",
    "plt.ylabel('distance')\n",
    "plt.title('Best distance over all steps[component 0]')"
   ]
  },
  {
   "cell_type": "code",
   "execution_count": null,
   "metadata": {
    "colab": {
     "base_uri": "https://localhost:8080/",
     "height": 312
    },
    "id": "qbpE8nHlmy9f",
    "outputId": "bad188b5-a574-4eb2-ca24-a27558372e34"
   },
   "outputs": [],
   "source": [
    "plt.plot(avg_d[0:200])\n",
    "plt.xlabel('steps')\n",
    "plt.ylabel('avg dist')\n",
    "plt.title('Average Distance between components[first 200 steps] for comp 0')"
   ]
  },
  {
   "cell_type": "code",
   "execution_count": null,
   "metadata": {
    "colab": {
     "base_uri": "https://localhost:8080/",
     "height": 312
    },
    "id": "w19Eypw4m2eb",
    "outputId": "3a1b4cba-4952-4c2e-8798-84b073cac19b"
   },
   "outputs": [],
   "source": [
    "plt.plot(avg_d)\n",
    "plt.xlabel('steps')\n",
    "plt.ylabel('avg dist')\n",
    "plt.title('Average Distance between components - comp 0')"
   ]
  },
  {
   "cell_type": "code",
   "execution_count": null,
   "metadata": {
    "id": "nJeR7x1em6Au"
   },
   "outputs": [],
   "source": [
    "point_five = list(rew_obt==0.5).count(True)\n",
    "neg_rew = list(rew_obt==-1).count(True)\n",
    "rew_two = list(rew_obt==2).count(True)\n",
    "rew_five = list(rew_obt==5).count(True)\n",
    "rew_ten = list(rew_obt==10).count(True)"
   ]
  },
  {
   "cell_type": "code",
   "execution_count": null,
   "metadata": {
    "colab": {
     "base_uri": "https://localhost:8080/",
     "height": 312
    },
    "id": "ud3V4N_Nm9qI",
    "outputId": "62fe0f1d-21f6-4c07-de74-a1069cccbc1f"
   },
   "outputs": [],
   "source": [
    "x = ['-1','0.5','2','5','10']\n",
    "y = [neg_rew, point_five, rew_two, rew_five, rew_ten]\n",
    "plt.bar(x,y)\n",
    "plt.xlabel('Reward')\n",
    "plt.ylabel('Count')\n",
    "plt.title('Rewards for component 0')"
   ]
  },
  {
   "cell_type": "code",
   "execution_count": null,
   "metadata": {
    "colab": {
     "base_uri": "https://localhost:8080/",
     "height": 312
    },
    "id": "JBNchf0ZnCvs",
    "outputId": "bc1a8a2e-d649-4ad0-c92d-c19116e616ad"
   },
   "outputs": [],
   "source": [
    "x = ['5','10']\n",
    "y = [rew_five, rew_ten]\n",
    "plt.bar(x,y)\n",
    "plt.xlabel('Reward')\n",
    "plt.ylabel('Count')\n",
    "plt.title('Rewards for component 0')"
   ]
  },
  {
   "cell_type": "code",
   "execution_count": null,
   "metadata": {
    "colab": {
     "base_uri": "https://localhost:8080/",
     "height": 312
    },
    "id": "pUx1wjiJnIvs",
    "outputId": "e9430c84-8f92-4ece-9a70-926f06fab591"
   },
   "outputs": [],
   "source": [
    "random_action_cnt = list(act_log).count(0)\n",
    "best_action_cnt = list(act_log).count(1)\n",
    "x = ['random','best']\n",
    "y = [random_action_cnt,best_action_cnt]\n",
    "plt.bar(x,y)\n",
    "plt.xlabel('Action')\n",
    "plt.ylabel('Count')\n",
    "plt.title('Exploit vs Explore for component 0')"
   ]
  },
  {
   "cell_type": "code",
   "execution_count": null,
   "metadata": {
    "id": "8Zo1taaonrdW"
   },
   "outputs": [],
   "source": [
    "reward_best_d_file_name = 'best_d_glog'+str(1)+'_'+str(5)\n",
    "best_d = np.load('/content/drive/MyDrive/ProdDesign_Numpy3/'+reward_best_d_file_name+'.npy')\n",
    "\n",
    "reward_avg_d_file_name = 'avg_d_glog'+str(1)+'_'+str(5)        \n",
    "avg_d = np.load('/content/drive/MyDrive/ProdDesign_Numpy3/'+reward_avg_d_file_name+'.npy')\n",
    "\n",
    "reward_rew_obt_file_name = 'rew_obt_glog'+str(1)+'_'+str(5)        \n",
    "rew_obt = np.load('/content/drive/MyDrive/ProdDesign_Numpy3/'+reward_rew_obt_file_name+'.npy')\n",
    "\n",
    "reward_best_pos_log_obt_file_name = 'rew_best_pos_glog'+str(1)+'_'+str(5)        \n",
    "best_pos = np.load('/content/drive/MyDrive/ProdDesign_Numpy3/'+reward_best_pos_log_obt_file_name+'.npy')\n",
    "\n",
    "reward_act_log_obt_file_name = 'rew_act_glog'+str(1)+'_'+str(5)        \n",
    "act_log = np.load('/content/drive/MyDrive/ProdDesign_Numpy3/'+reward_act_log_obt_file_name+'.npy')"
   ]
  },
  {
   "cell_type": "code",
   "execution_count": null,
   "metadata": {
    "colab": {
     "base_uri": "https://localhost:8080/",
     "height": 312
    },
    "id": "hRevnJKnn5Cs",
    "outputId": "1fae93e0-040a-4392-ff37-c7a3214e57ec"
   },
   "outputs": [],
   "source": [
    "plt.plot(best_d[0:100])\n",
    "plt.xlabel('steps')\n",
    "plt.ylabel('best distance')\n",
    "plt.title('Best distance over first 100 steps [component 5]')"
   ]
  },
  {
   "cell_type": "code",
   "execution_count": null,
   "metadata": {
    "colab": {
     "base_uri": "https://localhost:8080/",
     "height": 312
    },
    "id": "2UldZ1etn_jH",
    "outputId": "74636558-36c9-449d-f847-0ce18890fc97"
   },
   "outputs": [],
   "source": [
    "plt.plot(best_d)\n",
    "plt.xlabel('steps')\n",
    "plt.ylabel('distance')\n",
    "plt.title('Best distance over all steps[component 5]')"
   ]
  },
  {
   "cell_type": "code",
   "execution_count": null,
   "metadata": {
    "colab": {
     "base_uri": "https://localhost:8080/",
     "height": 312
    },
    "id": "tn14hjWUoGSM",
    "outputId": "f0405e04-cafa-4437-8a6e-a4c658427416"
   },
   "outputs": [],
   "source": [
    "plt.plot(avg_d[0:200])\n",
    "plt.xlabel('steps')\n",
    "plt.ylabel('avg dist')\n",
    "plt.title('Average Distance between components[first 200 steps] for comp 5')"
   ]
  },
  {
   "cell_type": "code",
   "execution_count": null,
   "metadata": {
    "colab": {
     "base_uri": "https://localhost:8080/",
     "height": 312
    },
    "id": "lvEBfdseoKqg",
    "outputId": "23f5983e-6b14-421c-cb07-65bcc7b2842b"
   },
   "outputs": [],
   "source": [
    "plt.plot(avg_d)\n",
    "plt.xlabel('steps')\n",
    "plt.ylabel('avg dist')\n",
    "plt.title('Average Distance between components - comp 5')"
   ]
  },
  {
   "cell_type": "code",
   "execution_count": null,
   "metadata": {
    "id": "8LWbGuevoTNC"
   },
   "outputs": [],
   "source": [
    "point_five = list(rew_obt==0.5).count(True)\n",
    "neg_rew = list(rew_obt==-1).count(True)\n",
    "rew_two = list(rew_obt==2).count(True)\n",
    "rew_five = list(rew_obt==5).count(True)\n",
    "rew_ten = list(rew_obt==10).count(True)"
   ]
  },
  {
   "cell_type": "code",
   "execution_count": null,
   "metadata": {
    "colab": {
     "base_uri": "https://localhost:8080/",
     "height": 312
    },
    "id": "ITKe0CDioZD5",
    "outputId": "4fb53ac0-daae-41ae-a725-3259b5f773ac"
   },
   "outputs": [],
   "source": [
    "x = ['-1','0.5','2','5','10']\n",
    "y = [neg_rew, point_five, rew_two, rew_five, rew_ten]\n",
    "plt.bar(x,y)\n",
    "plt.xlabel('Reward')\n",
    "plt.ylabel('Count')\n",
    "plt.title('Rewards for component 5')"
   ]
  },
  {
   "cell_type": "code",
   "execution_count": null,
   "metadata": {
    "colab": {
     "base_uri": "https://localhost:8080/",
     "height": 312
    },
    "id": "kOUh4DsmojAJ",
    "outputId": "6746fece-774e-4200-aa2f-220245969456"
   },
   "outputs": [],
   "source": [
    "x = ['5','10']\n",
    "y = [rew_five, rew_ten]\n",
    "plt.bar(x,y)\n",
    "plt.xlabel('Reward')\n",
    "plt.ylabel('Count')\n",
    "plt.title('Rewards for component 5')"
   ]
  },
  {
   "cell_type": "code",
   "execution_count": null,
   "metadata": {
    "colab": {
     "base_uri": "https://localhost:8080/",
     "height": 312
    },
    "id": "2aoGCzvzorDP",
    "outputId": "bc6024de-7ed6-46fc-f528-05b0eaa9d119"
   },
   "outputs": [],
   "source": [
    "random_action_cnt = list(act_log).count(0)\n",
    "best_action_cnt = list(act_log).count(1)\n",
    "x = ['random','best']\n",
    "y = [random_action_cnt,best_action_cnt]\n",
    "plt.bar(x,y)\n",
    "plt.xlabel('Action')\n",
    "plt.ylabel('Count')\n",
    "plt.title('Exploit vs Explore for component 5')"
   ]
  },
  {
   "cell_type": "code",
   "execution_count": null,
   "metadata": {
    "id": "GXwICcNxHXjE"
   },
   "outputs": [],
   "source": [
    "reward_best_d_file_name = 'best_d_glog'+str(2)+'_'+str(3)\n",
    "best_d = np.load('/content/drive/MyDrive/ProdDesign_Numpy3/'+reward_best_d_file_name+'.npy')\n",
    "\n",
    "reward_avg_d_file_name = 'avg_d_glog'+str(2)+'_'+str(3)        \n",
    "avg_d = np.load('/content/drive/MyDrive/ProdDesign_Numpy3/'+reward_avg_d_file_name+'.npy')\n",
    "\n",
    "reward_rew_obt_file_name = 'rew_obt_glog'+str(2)+'_'+str(3)        \n",
    "rew_obt = np.load('/content/drive/MyDrive/ProdDesign_Numpy3/'+reward_rew_obt_file_name+'.npy')\n",
    "\n",
    "reward_best_pos_log_obt_file_name = 'rew_best_pos_glog'+str(2)+'_'+str(3)        \n",
    "best_pos = np.load('/content/drive/MyDrive/ProdDesign_Numpy3/'+reward_best_pos_log_obt_file_name+'.npy')\n",
    "\n",
    "reward_act_log_obt_file_name = 'rew_act_glog'+str(2)+'_'+str(3)        \n",
    "act_log = np.load('/content/drive/MyDrive/ProdDesign_Numpy3/'+reward_act_log_obt_file_name+'.npy')"
   ]
  },
  {
   "cell_type": "code",
   "execution_count": null,
   "metadata": {
    "colab": {
     "base_uri": "https://localhost:8080/",
     "height": 312
    },
    "id": "boc3E-0vHbCF",
    "outputId": "11ac5670-a3ff-4584-8ad1-37cd98bc12cf"
   },
   "outputs": [],
   "source": [
    "plt.plot(best_d[0:100])\n",
    "plt.xlabel('steps')\n",
    "plt.ylabel('best distance')\n",
    "plt.title('Best distance over first 100 steps [component 5]')"
   ]
  },
  {
   "cell_type": "code",
   "execution_count": null,
   "metadata": {
    "colab": {
     "base_uri": "https://localhost:8080/",
     "height": 312
    },
    "id": "LJr-mqeVHdgW",
    "outputId": "44c2d78a-be99-446e-84bb-e60d286b07d2"
   },
   "outputs": [],
   "source": [
    "plt.plot(best_d)\n",
    "plt.xlabel('steps')\n",
    "plt.ylabel('distance')\n",
    "plt.title('Best distance over all steps[component 5]')"
   ]
  },
  {
   "cell_type": "code",
   "execution_count": null,
   "metadata": {
    "colab": {
     "base_uri": "https://localhost:8080/",
     "height": 312
    },
    "id": "ObCSv1XcHgUR",
    "outputId": "e730f67a-8079-4bde-bda0-17b63a0b0634"
   },
   "outputs": [],
   "source": [
    "plt.plot(avg_d[0:200])\n",
    "plt.xlabel('steps')\n",
    "plt.ylabel('avg dist')\n",
    "plt.title('Average Distance between components[first 200 steps] for comp 5')"
   ]
  },
  {
   "cell_type": "code",
   "execution_count": null,
   "metadata": {
    "colab": {
     "base_uri": "https://localhost:8080/",
     "height": 312
    },
    "id": "S-y3H0PRHi4U",
    "outputId": "1b0dfc53-9601-448b-f42c-051af1b1f2cd"
   },
   "outputs": [],
   "source": [
    "plt.plot(avg_d)\n",
    "plt.xlabel('steps')\n",
    "plt.ylabel('avg dist')\n",
    "plt.title('Average Distance between components - comp 5')"
   ]
  },
  {
   "cell_type": "code",
   "execution_count": null,
   "metadata": {
    "id": "z5UjQ0wuHk_a"
   },
   "outputs": [],
   "source": [
    "point_five = list(rew_obt==0.5).count(True)\n",
    "neg_rew = list(rew_obt==-1).count(True)\n",
    "rew_two = list(rew_obt==2).count(True)\n",
    "rew_five = list(rew_obt==5).count(True)\n",
    "rew_ten = list(rew_obt==10).count(True)"
   ]
  },
  {
   "cell_type": "code",
   "execution_count": null,
   "metadata": {
    "colab": {
     "base_uri": "https://localhost:8080/",
     "height": 312
    },
    "id": "IDKmgaSuHnSt",
    "outputId": "a81e36f5-06f2-47da-bd0d-8104a5db138f"
   },
   "outputs": [],
   "source": [
    "x = ['-1','0.5','2','5','10']\n",
    "y = [neg_rew, point_five, rew_two, rew_five, rew_ten]\n",
    "plt.bar(x,y)\n",
    "plt.xlabel('Reward')\n",
    "plt.ylabel('Count')\n",
    "plt.title('Rewards for component 5')"
   ]
  },
  {
   "cell_type": "code",
   "execution_count": null,
   "metadata": {
    "colab": {
     "base_uri": "https://localhost:8080/",
     "height": 312
    },
    "id": "dLXTdjtdHpbi",
    "outputId": "465514e0-d1ea-4f1b-9858-2d3dc6b75b46"
   },
   "outputs": [],
   "source": [
    "x = ['5','10']\n",
    "y = [rew_five, rew_ten]\n",
    "plt.bar(x,y)\n",
    "plt.xlabel('Reward')\n",
    "plt.ylabel('Count')\n",
    "plt.title('Rewards for component 5')"
   ]
  },
  {
   "cell_type": "code",
   "execution_count": null,
   "metadata": {
    "colab": {
     "base_uri": "https://localhost:8080/",
     "height": 312
    },
    "id": "cNzmFkDPHrdg",
    "outputId": "5e41c691-5bdf-4b54-90f8-95d1bf6df5a9"
   },
   "outputs": [],
   "source": [
    "random_action_cnt = list(act_log).count(0)\n",
    "best_action_cnt = list(act_log).count(1)\n",
    "x = ['random','best']\n",
    "y = [random_action_cnt,best_action_cnt]\n",
    "plt.bar(x,y)\n",
    "plt.xlabel('Action')\n",
    "plt.ylabel('Count')\n",
    "plt.title('Exploit vs Explore for component 5')"
   ]
  },
  {
   "cell_type": "code",
   "execution_count": null,
   "metadata": {
    "id": "wRdbj0T8I0Hj"
   },
   "outputs": [],
   "source": [
    "reward_best_d_file_name = 'best_d_glog'+str(2)+'_'+str(6)\n",
    "best_d = np.load('/content/drive/MyDrive/ProdDesign_Numpy3/'+reward_best_d_file_name+'.npy')\n",
    "\n",
    "reward_avg_d_file_name = 'avg_d_glog'+str(2)+'_'+str(6)        \n",
    "avg_d = np.load('/content/drive/MyDrive/ProdDesign_Numpy3/'+reward_avg_d_file_name+'.npy')\n",
    "\n",
    "reward_rew_obt_file_name = 'rew_obt_glog'+str(2)+'_'+str(6)        \n",
    "rew_obt = np.load('/content/drive/MyDrive/ProdDesign_Numpy3/'+reward_rew_obt_file_name+'.npy')\n",
    "\n",
    "reward_best_pos_log_obt_file_name = 'rew_best_pos_glog'+str(2)+'_'+str(6)        \n",
    "best_pos = np.load('/content/drive/MyDrive/ProdDesign_Numpy3/'+reward_best_pos_log_obt_file_name+'.npy')\n",
    "\n",
    "reward_act_log_obt_file_name = 'rew_act_glog'+str(2)+'_'+str(6)        \n",
    "act_log = np.load('/content/drive/MyDrive/ProdDesign_Numpy3/'+reward_act_log_obt_file_name+'.npy')"
   ]
  },
  {
   "cell_type": "code",
   "execution_count": null,
   "metadata": {
    "colab": {
     "base_uri": "https://localhost:8080/",
     "height": 312
    },
    "id": "t4rCv3AUI8pK",
    "outputId": "cee96b0a-fa6b-4f75-b58e-e08b67b2665b"
   },
   "outputs": [],
   "source": [
    "plt.plot(best_d[0:100])\n",
    "plt.xlabel('steps')\n",
    "plt.ylabel('best distance')\n",
    "plt.title('Best distance over first 100 steps [component 5]')"
   ]
  },
  {
   "cell_type": "code",
   "execution_count": null,
   "metadata": {
    "colab": {
     "base_uri": "https://localhost:8080/",
     "height": 312
    },
    "id": "XpEY6ejdI9fR",
    "outputId": "bc3aa6db-d3df-404c-9e48-244701a98a6c"
   },
   "outputs": [],
   "source": [
    "plt.plot(best_d)\n",
    "plt.xlabel('steps')\n",
    "plt.ylabel('distance')\n",
    "plt.title('Best distance over all steps[component 5]')"
   ]
  },
  {
   "cell_type": "code",
   "execution_count": null,
   "metadata": {
    "colab": {
     "base_uri": "https://localhost:8080/",
     "height": 312
    },
    "id": "M0TRqt1XNBYT",
    "outputId": "0067f0f3-2469-4460-9a79-b052f917465a"
   },
   "outputs": [],
   "source": [
    "plt.plot(avg_d[0:200])\n",
    "plt.xlabel('steps')\n",
    "plt.ylabel('avg dist')\n",
    "plt.title('Average Distance between components[first 200 steps] for comp 5')"
   ]
  },
  {
   "cell_type": "code",
   "execution_count": null,
   "metadata": {
    "colab": {
     "base_uri": "https://localhost:8080/",
     "height": 312
    },
    "id": "ofRZeBlfNESR",
    "outputId": "4b1c6be1-1fe4-48c2-8820-55015600a4d3"
   },
   "outputs": [],
   "source": [
    "plt.plot(avg_d)\n",
    "plt.xlabel('steps')\n",
    "plt.ylabel('avg dist')\n",
    "plt.title('Average Distance between components - comp 5')"
   ]
  },
  {
   "cell_type": "code",
   "execution_count": null,
   "metadata": {
    "id": "YZMrw7ImNIX_"
   },
   "outputs": [],
   "source": [
    "point_five = list(rew_obt==0.5).count(True)\n",
    "neg_rew = list(rew_obt==-1).count(True)\n",
    "rew_two = list(rew_obt==2).count(True)\n",
    "rew_five = list(rew_obt==5).count(True)\n",
    "rew_ten = list(rew_obt==10).count(True)"
   ]
  },
  {
   "cell_type": "code",
   "execution_count": null,
   "metadata": {
    "colab": {
     "base_uri": "https://localhost:8080/",
     "height": 312
    },
    "id": "FHLY_O3eNK6T",
    "outputId": "774895c9-711b-4a43-b9c4-defdfb31f9ae"
   },
   "outputs": [],
   "source": [
    "x = ['-1','0.5','2','5','10']\n",
    "y = [neg_rew, point_five, rew_two, rew_five, rew_ten]\n",
    "plt.bar(x,y)\n",
    "plt.xlabel('Reward')\n",
    "plt.ylabel('Count')\n",
    "plt.title('Rewards for component 5')"
   ]
  },
  {
   "cell_type": "code",
   "execution_count": null,
   "metadata": {
    "colab": {
     "base_uri": "https://localhost:8080/",
     "height": 312
    },
    "id": "Ak09MrlmNNfI",
    "outputId": "eed9f251-32fa-402b-a9c3-8f8e0d3f9df2"
   },
   "outputs": [],
   "source": [
    "x = ['5','10']\n",
    "y = [rew_five, rew_ten]\n",
    "plt.bar(x,y)\n",
    "plt.xlabel('Reward')\n",
    "plt.ylabel('Count')\n",
    "plt.title('Rewards for component 5')"
   ]
  },
  {
   "cell_type": "code",
   "execution_count": null,
   "metadata": {
    "colab": {
     "base_uri": "https://localhost:8080/",
     "height": 312
    },
    "id": "LAi1EO-JNP6M",
    "outputId": "490649c7-d937-4ebd-91a4-e5414953ca53"
   },
   "outputs": [],
   "source": [
    "random_action_cnt = list(act_log).count(0)\n",
    "best_action_cnt = list(act_log).count(1)\n",
    "x = ['random','best']\n",
    "y = [random_action_cnt,best_action_cnt]\n",
    "plt.bar(x,y)\n",
    "plt.xlabel('Action')\n",
    "plt.ylabel('Count')\n",
    "plt.title('Exploit vs Explore for component 5')"
   ]
  },
  {
   "cell_type": "code",
   "execution_count": null,
   "metadata": {
    "id": "dkSqUHKTNf0b"
   },
   "outputs": [],
   "source": [
    "reward_best_d_file_name = 'best_d_glog'+str(3)+'_'+str(3)\n",
    "best_d = np.load('/content/drive/MyDrive/ProdDesign_Numpy3/'+reward_best_d_file_name+'.npy')\n",
    "\n",
    "reward_avg_d_file_name = 'avg_d_glog'+str(3)+'_'+str(3)        \n",
    "avg_d = np.load('/content/drive/MyDrive/ProdDesign_Numpy3/'+reward_avg_d_file_name+'.npy')\n",
    "\n",
    "reward_rew_obt_file_name = 'rew_obt_glog'+str(3)+'_'+str(3)        \n",
    "rew_obt = np.load('/content/drive/MyDrive/ProdDesign_Numpy3/'+reward_rew_obt_file_name+'.npy')\n",
    "\n",
    "reward_best_pos_log_obt_file_name = 'rew_best_pos_glog'+str(3)+'_'+str(3)        \n",
    "best_pos = np.load('/content/drive/MyDrive/ProdDesign_Numpy3/'+reward_best_pos_log_obt_file_name+'.npy')\n",
    "\n",
    "reward_act_log_obt_file_name = 'rew_act_glog'+str(3)+'_'+str(3)        \n",
    "act_log = np.load('/content/drive/MyDrive/ProdDesign_Numpy3/'+reward_act_log_obt_file_name+'.npy')"
   ]
  },
  {
   "cell_type": "code",
   "execution_count": null,
   "metadata": {
    "colab": {
     "base_uri": "https://localhost:8080/",
     "height": 312
    },
    "id": "-tCVTBK0NiXS",
    "outputId": "c60889e4-d049-4657-b15a-5d59377c6678"
   },
   "outputs": [],
   "source": [
    "plt.plot(best_d[0:100])\n",
    "plt.xlabel('steps')\n",
    "plt.ylabel('best distance')\n",
    "plt.title('Best distance over first 100 steps [component 5]')"
   ]
  },
  {
   "cell_type": "code",
   "execution_count": null,
   "metadata": {
    "colab": {
     "base_uri": "https://localhost:8080/",
     "height": 312
    },
    "id": "o311e4VoNlmB",
    "outputId": "62762da5-6f0b-4a7a-f0cc-813263df99c4"
   },
   "outputs": [],
   "source": [
    "plt.plot(best_d)\n",
    "plt.xlabel('steps')\n",
    "plt.ylabel('distance')\n",
    "plt.title('Best distance over all steps[component 5]')"
   ]
  },
  {
   "cell_type": "code",
   "execution_count": null,
   "metadata": {
    "colab": {
     "base_uri": "https://localhost:8080/",
     "height": 312
    },
    "id": "4119KoHINoTL",
    "outputId": "9b8cbbc1-dac0-495f-83ee-ce9b9dd35a62"
   },
   "outputs": [],
   "source": [
    "plt.plot(avg_d[0:200])\n",
    "plt.xlabel('steps')\n",
    "plt.ylabel('avg dist')\n",
    "plt.title('Average Distance between components[first 200 steps] for comp 5')"
   ]
  },
  {
   "cell_type": "code",
   "execution_count": null,
   "metadata": {
    "colab": {
     "base_uri": "https://localhost:8080/",
     "height": 312
    },
    "id": "ojKX8Z21NrQd",
    "outputId": "38a9f7fd-f939-4d09-ca12-4baab533cce9"
   },
   "outputs": [],
   "source": [
    "plt.plot(avg_d)\n",
    "plt.xlabel('steps')\n",
    "plt.ylabel('avg dist')\n",
    "plt.title('Average Distance between components - comp 5')"
   ]
  },
  {
   "cell_type": "code",
   "execution_count": null,
   "metadata": {
    "id": "pxRWVEb1NtlS"
   },
   "outputs": [],
   "source": [
    "point_five = list(rew_obt==0.5).count(True)\n",
    "neg_rew = list(rew_obt==-1).count(True)\n",
    "rew_two = list(rew_obt==2).count(True)\n",
    "rew_five = list(rew_obt==5).count(True)\n",
    "rew_ten = list(rew_obt==10).count(True)"
   ]
  },
  {
   "cell_type": "code",
   "execution_count": null,
   "metadata": {
    "colab": {
     "base_uri": "https://localhost:8080/",
     "height": 312
    },
    "id": "sXTO7zx9Nvzb",
    "outputId": "15913d04-eb6b-408d-f044-52de42daec2f"
   },
   "outputs": [],
   "source": [
    "x = ['-1','0.5','2','5','10']\n",
    "y = [neg_rew, point_five, rew_two, rew_five, rew_ten]\n",
    "plt.bar(x,y)\n",
    "plt.xlabel('Reward')\n",
    "plt.ylabel('Count')\n",
    "plt.title('Rewards for component 5')"
   ]
  },
  {
   "cell_type": "code",
   "execution_count": null,
   "metadata": {
    "colab": {
     "base_uri": "https://localhost:8080/",
     "height": 312
    },
    "id": "kDkk25X1Nx8S",
    "outputId": "8dc105f3-5dad-41dc-de6a-1102ef52beed"
   },
   "outputs": [],
   "source": [
    "x = ['5','10']\n",
    "y = [rew_five, rew_ten]\n",
    "plt.bar(x,y)\n",
    "plt.xlabel('Reward')\n",
    "plt.ylabel('Count')\n",
    "plt.title('Rewards for component 5')"
   ]
  },
  {
   "cell_type": "code",
   "execution_count": null,
   "metadata": {
    "colab": {
     "base_uri": "https://localhost:8080/",
     "height": 312
    },
    "id": "3ziWkW6rN0Ll",
    "outputId": "31bbc15f-ec11-47ac-c518-2868b576d8bc"
   },
   "outputs": [],
   "source": [
    "random_action_cnt = list(act_log).count(0)\n",
    "best_action_cnt = list(act_log).count(1)\n",
    "x = ['random','best']\n",
    "y = [random_action_cnt,best_action_cnt]\n",
    "plt.bar(x,y)\n",
    "plt.xlabel('Action')\n",
    "plt.ylabel('Count')\n",
    "plt.title('Exploit vs Explore for component 5')"
   ]
  },
  {
   "cell_type": "code",
   "execution_count": null,
   "metadata": {
    "id": "CmWJysRZN7lV"
   },
   "outputs": [],
   "source": []
  },
  {
   "cell_type": "code",
   "execution_count": null,
   "metadata": {
    "id": "qQXzdaw1N9Oo"
   },
   "outputs": [],
   "source": [
    "reward_best_d_file_name = 'best_d_glog'+str(3)+'_'+str(0)\n",
    "best_d = np.load('/content/drive/MyDrive/ProdDesign_Numpy3/'+reward_best_d_file_name+'.npy')\n",
    "\n",
    "reward_avg_d_file_name = 'avg_d_glog'+str(3)+'_'+str(0)        \n",
    "avg_d = np.load('/content/drive/MyDrive/ProdDesign_Numpy3/'+reward_avg_d_file_name+'.npy')\n",
    "\n",
    "reward_rew_obt_file_name = 'rew_obt_glog'+str(3)+'_'+str(0)        \n",
    "rew_obt = np.load('/content/drive/MyDrive/ProdDesign_Numpy3/'+reward_rew_obt_file_name+'.npy')\n",
    "\n",
    "reward_best_pos_log_obt_file_name = 'rew_best_pos_glog'+str(3)+'_'+str(0)        \n",
    "best_pos = np.load('/content/drive/MyDrive/ProdDesign_Numpy3/'+reward_best_pos_log_obt_file_name+'.npy')\n",
    "\n",
    "reward_act_log_obt_file_name = 'rew_act_glog'+str(3)+'_'+str(0)        \n",
    "act_log = np.load('/content/drive/MyDrive/ProdDesign_Numpy3/'+reward_act_log_obt_file_name+'.npy')"
   ]
  },
  {
   "cell_type": "code",
   "execution_count": null,
   "metadata": {
    "colab": {
     "base_uri": "https://localhost:8080/",
     "height": 312
    },
    "id": "j7gOz7qHN9Oo",
    "outputId": "6995c96a-998b-402e-99b6-3d4add874248"
   },
   "outputs": [],
   "source": [
    "plt.plot(best_d[0:100])\n",
    "plt.xlabel('steps')\n",
    "plt.ylabel('best distance')\n",
    "plt.title('Best distance over first 100 steps [component 5]')"
   ]
  },
  {
   "cell_type": "code",
   "execution_count": null,
   "metadata": {
    "colab": {
     "base_uri": "https://localhost:8080/",
     "height": 312
    },
    "id": "nXL6KWP5N9Op",
    "outputId": "7dac5319-885c-43bb-ce90-5a889309c461"
   },
   "outputs": [],
   "source": [
    "plt.plot(best_d)\n",
    "plt.xlabel('steps')\n",
    "plt.ylabel('distance')\n",
    "plt.title('Best distance over all steps[component 5]')"
   ]
  },
  {
   "cell_type": "code",
   "execution_count": null,
   "metadata": {
    "colab": {
     "base_uri": "https://localhost:8080/",
     "height": 312
    },
    "id": "nIpQ59AfN9Op",
    "outputId": "a455ddf0-d6d1-440e-c870-3bef8266fdee"
   },
   "outputs": [],
   "source": [
    "plt.plot(avg_d[0:200])\n",
    "plt.xlabel('steps')\n",
    "plt.ylabel('avg dist')\n",
    "plt.title('Average Distance between components[first 200 steps] for comp 5')"
   ]
  },
  {
   "cell_type": "code",
   "execution_count": null,
   "metadata": {
    "colab": {
     "base_uri": "https://localhost:8080/",
     "height": 312
    },
    "id": "60x890a6N9Op",
    "outputId": "0d14880f-bead-420e-9f67-bf2a8ef15218"
   },
   "outputs": [],
   "source": [
    "plt.plot(avg_d)\n",
    "plt.xlabel('steps')\n",
    "plt.ylabel('avg dist')\n",
    "plt.title('Average Distance between components - comp 5')"
   ]
  },
  {
   "cell_type": "code",
   "execution_count": null,
   "metadata": {
    "id": "Nrh06qsHN9Op"
   },
   "outputs": [],
   "source": [
    "point_five = list(rew_obt==0.5).count(True)\n",
    "neg_rew = list(rew_obt==-1).count(True)\n",
    "rew_two = list(rew_obt==2).count(True)\n",
    "rew_five = list(rew_obt==5).count(True)\n",
    "rew_ten = list(rew_obt==10).count(True)"
   ]
  },
  {
   "cell_type": "code",
   "execution_count": null,
   "metadata": {
    "colab": {
     "base_uri": "https://localhost:8080/",
     "height": 312
    },
    "id": "0QD5rOl3N9Op",
    "outputId": "e0c35803-0e45-492a-a872-a9930dfc2898"
   },
   "outputs": [],
   "source": [
    "x = ['-1','0.5','2','5','10']\n",
    "y = [neg_rew, point_five, rew_two, rew_five, rew_ten]\n",
    "plt.bar(x,y)\n",
    "plt.xlabel('Reward')\n",
    "plt.ylabel('Count')\n",
    "plt.title('Rewards for component 5')"
   ]
  },
  {
   "cell_type": "code",
   "execution_count": null,
   "metadata": {
    "colab": {
     "base_uri": "https://localhost:8080/",
     "height": 312
    },
    "id": "EIcacUCmN9Op",
    "outputId": "f8c5c855-79a3-4a3b-e380-be760b65d60f"
   },
   "outputs": [],
   "source": [
    "x = ['5','10']\n",
    "y = [rew_five, rew_ten]\n",
    "plt.bar(x,y)\n",
    "plt.xlabel('Reward')\n",
    "plt.ylabel('Count')\n",
    "plt.title('Rewards for component 5')"
   ]
  },
  {
   "cell_type": "code",
   "execution_count": null,
   "metadata": {
    "colab": {
     "base_uri": "https://localhost:8080/",
     "height": 312
    },
    "id": "_gQi1ffRN9Op",
    "outputId": "4d4e2f9a-f5be-459f-81e1-5ef809f39a7f"
   },
   "outputs": [],
   "source": [
    "random_action_cnt = list(act_log).count(0)\n",
    "best_action_cnt = list(act_log).count(1)\n",
    "x = ['random','best']\n",
    "y = [random_action_cnt,best_action_cnt]\n",
    "plt.bar(x,y)\n",
    "plt.xlabel('Action')\n",
    "plt.ylabel('Count')\n",
    "plt.title('Exploit vs Explore for component 5')"
   ]
  },
  {
   "cell_type": "code",
   "execution_count": null,
   "metadata": {
    "id": "Ftx-IN2QOcmt"
   },
   "outputs": [],
   "source": []
  },
  {
   "cell_type": "code",
   "execution_count": null,
   "metadata": {
    "id": "dYGMOR1HOdCz"
   },
   "outputs": [],
   "source": [
    "reward_best_d_file_name = 'best_d_glog'+str(4)+'_'+str(6)\n",
    "best_d = np.load('/content/drive/MyDrive/ProdDesign_Numpy3/'+reward_best_d_file_name+'.npy')\n",
    "\n",
    "reward_avg_d_file_name = 'avg_d_glog'+str(4)+'_'+str(6)        \n",
    "avg_d = np.load('/content/drive/MyDrive/ProdDesign_Numpy3/'+reward_avg_d_file_name+'.npy')\n",
    "\n",
    "reward_rew_obt_file_name = 'rew_obt_glog'+str(4)+'_'+str(6)        \n",
    "rew_obt = np.load('/content/drive/MyDrive/ProdDesign_Numpy3/'+reward_rew_obt_file_name+'.npy')\n",
    "\n",
    "reward_best_pos_log_obt_file_name = 'rew_best_pos_glog'+str(4)+'_'+str(6)        \n",
    "best_pos = np.load('/content/drive/MyDrive/ProdDesign_Numpy3/'+reward_best_pos_log_obt_file_name+'.npy')\n",
    "\n",
    "reward_act_log_obt_file_name = 'rew_act_glog'+str(4)+'_'+str(6)        \n",
    "act_log = np.load('/content/drive/MyDrive/ProdDesign_Numpy3/'+reward_act_log_obt_file_name+'.npy')"
   ]
  },
  {
   "cell_type": "code",
   "execution_count": null,
   "metadata": {
    "colab": {
     "base_uri": "https://localhost:8080/",
     "height": 312
    },
    "id": "dBtp58A4OdCz",
    "outputId": "0528fbd8-2730-4782-ad6f-937dfa01a3d8"
   },
   "outputs": [],
   "source": [
    "plt.plot(best_d[0:300])\n",
    "plt.xlabel('steps')\n",
    "plt.ylabel('best distance')\n",
    "plt.title('Best distance over first 100 steps [component 5]')"
   ]
  },
  {
   "cell_type": "code",
   "execution_count": null,
   "metadata": {
    "colab": {
     "base_uri": "https://localhost:8080/",
     "height": 312
    },
    "id": "zFpMDbHrOdCz",
    "outputId": "29518c53-df5e-46d5-895e-a627f508d5bc"
   },
   "outputs": [],
   "source": [
    "plt.plot(best_d)\n",
    "plt.xlabel('steps')\n",
    "plt.ylabel('distance')\n",
    "plt.title('Best distance over all steps[component 5]')"
   ]
  },
  {
   "cell_type": "code",
   "execution_count": null,
   "metadata": {
    "colab": {
     "base_uri": "https://localhost:8080/",
     "height": 312
    },
    "id": "uox-RgwjOdC0",
    "outputId": "51144e7a-abf8-4e01-b7be-425ff8ea8b98"
   },
   "outputs": [],
   "source": [
    "plt.plot(avg_d[0:200])\n",
    "plt.xlabel('steps')\n",
    "plt.ylabel('avg dist')\n",
    "plt.title('Average Distance between components[first 200 steps] for comp 5')"
   ]
  },
  {
   "cell_type": "code",
   "execution_count": null,
   "metadata": {
    "colab": {
     "base_uri": "https://localhost:8080/",
     "height": 312
    },
    "id": "6vQJXAyyOdC0",
    "outputId": "b0ec278e-5c81-465a-a354-79f67f92b3ff"
   },
   "outputs": [],
   "source": [
    "plt.plot(avg_d)\n",
    "plt.xlabel('steps')\n",
    "plt.ylabel('avg dist')\n",
    "plt.title('Average Distance between components - comp 5')"
   ]
  },
  {
   "cell_type": "code",
   "execution_count": null,
   "metadata": {
    "id": "kV2futMKOdC0"
   },
   "outputs": [],
   "source": [
    "point_five = list(rew_obt==0.5).count(True)\n",
    "neg_rew = list(rew_obt==-1).count(True)\n",
    "rew_two = list(rew_obt==2).count(True)\n",
    "rew_five = list(rew_obt==5).count(True)\n",
    "rew_ten = list(rew_obt==10).count(True)"
   ]
  },
  {
   "cell_type": "code",
   "execution_count": null,
   "metadata": {
    "colab": {
     "base_uri": "https://localhost:8080/",
     "height": 312
    },
    "id": "fc30Iez_OdC0",
    "outputId": "cbea7050-8a56-4c42-ccbc-e119aeac825e"
   },
   "outputs": [],
   "source": [
    "x = ['-1','0.5','2','5','10']\n",
    "y = [neg_rew, point_five, rew_two, rew_five, rew_ten]\n",
    "plt.bar(x,y)\n",
    "plt.xlabel('Reward')\n",
    "plt.ylabel('Count')\n",
    "plt.title('Rewards for component 5')"
   ]
  },
  {
   "cell_type": "code",
   "execution_count": null,
   "metadata": {
    "colab": {
     "base_uri": "https://localhost:8080/",
     "height": 312
    },
    "id": "P6lQFSVlOdC0",
    "outputId": "ee9b53b6-be47-423f-97ad-7f8609498836"
   },
   "outputs": [],
   "source": [
    "x = ['5','10']\n",
    "y = [rew_five, rew_ten]\n",
    "plt.bar(x,y)\n",
    "plt.xlabel('Reward')\n",
    "plt.ylabel('Count')\n",
    "plt.title('Rewards for component 5')"
   ]
  },
  {
   "cell_type": "code",
   "execution_count": null,
   "metadata": {
    "colab": {
     "base_uri": "https://localhost:8080/",
     "height": 312
    },
    "id": "1uY8qaXMOdC0",
    "outputId": "1d86c786-651b-44e8-c173-505f912646fb"
   },
   "outputs": [],
   "source": [
    "random_action_cnt = list(act_log).count(0)\n",
    "best_action_cnt = list(act_log).count(1)\n",
    "x = ['random','best']\n",
    "y = [random_action_cnt,best_action_cnt]\n",
    "plt.bar(x,y)\n",
    "plt.xlabel('Action')\n",
    "plt.ylabel('Count')\n",
    "plt.title('Exploit vs Explore for component 5')"
   ]
  },
  {
   "cell_type": "code",
   "execution_count": null,
   "metadata": {
    "id": "FrwpdMxeOoBl"
   },
   "outputs": [],
   "source": []
  },
  {
   "cell_type": "code",
   "execution_count": null,
   "metadata": {
    "id": "zFFw6UZ_OoZU"
   },
   "outputs": [],
   "source": [
    "reward_best_d_file_name = 'best_d_glog'+str(4)+'_'+str(2)\n",
    "best_d = np.load('/content/drive/MyDrive/ProdDesign_Numpy3/'+reward_best_d_file_name+'.npy')\n",
    "\n",
    "reward_avg_d_file_name = 'avg_d_glog'+str(4)+'_'+str(2)        \n",
    "avg_d = np.load('/content/drive/MyDrive/ProdDesign_Numpy3/'+reward_avg_d_file_name+'.npy')\n",
    "\n",
    "reward_rew_obt_file_name = 'rew_obt_glog'+str(4)+'_'+str(2)        \n",
    "rew_obt = np.load('/content/drive/MyDrive/ProdDesign_Numpy3/'+reward_rew_obt_file_name+'.npy')\n",
    "\n",
    "reward_best_pos_log_obt_file_name = 'rew_best_pos_glog'+str(4)+'_'+str(2)        \n",
    "best_pos = np.load('/content/drive/MyDrive/ProdDesign_Numpy3/'+reward_best_pos_log_obt_file_name+'.npy')\n",
    "\n",
    "reward_act_log_obt_file_name = 'rew_act_glog'+str(4)+'_'+str(2)        \n",
    "act_log = np.load('/content/drive/MyDrive/ProdDesign_Numpy3/'+reward_act_log_obt_file_name+'.npy')"
   ]
  },
  {
   "cell_type": "code",
   "execution_count": null,
   "metadata": {
    "colab": {
     "base_uri": "https://localhost:8080/",
     "height": 312
    },
    "id": "f9sLP1PGOoZV",
    "outputId": "c0690b5b-cd7b-4d25-b70d-51cabfab5e25"
   },
   "outputs": [],
   "source": [
    "plt.plot(best_d[0:100])\n",
    "plt.xlabel('steps')\n",
    "plt.ylabel('best distance')\n",
    "plt.title('Best distance over first 100 steps [component 5]')"
   ]
  },
  {
   "cell_type": "code",
   "execution_count": null,
   "metadata": {
    "colab": {
     "base_uri": "https://localhost:8080/",
     "height": 312
    },
    "id": "xrb8A8_SOoZV",
    "outputId": "f1552164-29cd-4432-d263-78671ae1f582"
   },
   "outputs": [],
   "source": [
    "plt.plot(best_d)\n",
    "plt.xlabel('steps')\n",
    "plt.ylabel('distance')\n",
    "plt.title('Best distance over all steps[component 5]')"
   ]
  },
  {
   "cell_type": "code",
   "execution_count": null,
   "metadata": {
    "colab": {
     "base_uri": "https://localhost:8080/",
     "height": 312
    },
    "id": "jS2ic_0WOoZW",
    "outputId": "0e7fff76-b341-4088-bf99-8e82378edeb3"
   },
   "outputs": [],
   "source": [
    "plt.plot(avg_d[0:200])\n",
    "plt.xlabel('steps')\n",
    "plt.ylabel('avg dist')\n",
    "plt.title('Average Distance between components[first 200 steps] for comp 5')"
   ]
  },
  {
   "cell_type": "code",
   "execution_count": null,
   "metadata": {
    "colab": {
     "base_uri": "https://localhost:8080/",
     "height": 312
    },
    "id": "FbltMhNYOoZW",
    "outputId": "f5a68ef2-b75c-4dff-f412-42b69fc67464"
   },
   "outputs": [],
   "source": [
    "plt.plot(avg_d)\n",
    "plt.xlabel('steps')\n",
    "plt.ylabel('avg dist')\n",
    "plt.title('Average Distance between components - comp 5')"
   ]
  },
  {
   "cell_type": "code",
   "execution_count": null,
   "metadata": {
    "id": "cwHt9FbrOoZW"
   },
   "outputs": [],
   "source": [
    "point_five = list(rew_obt==0.5).count(True)\n",
    "neg_rew = list(rew_obt==-1).count(True)\n",
    "rew_two = list(rew_obt==2).count(True)\n",
    "rew_five = list(rew_obt==5).count(True)\n",
    "rew_ten = list(rew_obt==10).count(True)"
   ]
  },
  {
   "cell_type": "code",
   "execution_count": null,
   "metadata": {
    "colab": {
     "base_uri": "https://localhost:8080/",
     "height": 312
    },
    "id": "K2SwM-I-OoZW",
    "outputId": "921229d5-bf51-4f8d-9115-23583d1f1695"
   },
   "outputs": [],
   "source": [
    "x = ['-1','0.5','2','5','10']\n",
    "y = [neg_rew, point_five, rew_two, rew_five, rew_ten]\n",
    "plt.bar(x,y)\n",
    "plt.xlabel('Reward')\n",
    "plt.ylabel('Count')\n",
    "plt.title('Rewards for component 5')"
   ]
  },
  {
   "cell_type": "code",
   "execution_count": null,
   "metadata": {
    "colab": {
     "base_uri": "https://localhost:8080/",
     "height": 312
    },
    "id": "sozVVFj6OoZW",
    "outputId": "782f1063-fb2e-4f98-e33e-910b9d4991e8"
   },
   "outputs": [],
   "source": [
    "x = ['5','10']\n",
    "y = [rew_five, rew_ten]\n",
    "plt.bar(x,y)\n",
    "plt.xlabel('Reward')\n",
    "plt.ylabel('Count')\n",
    "plt.title('Rewards for component 5')"
   ]
  },
  {
   "cell_type": "code",
   "execution_count": null,
   "metadata": {
    "colab": {
     "base_uri": "https://localhost:8080/",
     "height": 312
    },
    "id": "hoCRAFddOoZX",
    "outputId": "14616e77-73f8-4db7-fdc6-73816fbededa"
   },
   "outputs": [],
   "source": [
    "random_action_cnt = list(act_log).count(0)\n",
    "best_action_cnt = list(act_log).count(1)\n",
    "x = ['random','best']\n",
    "y = [random_action_cnt,best_action_cnt]\n",
    "plt.bar(x,y)\n",
    "plt.xlabel('Action')\n",
    "plt.ylabel('Count')\n",
    "plt.title('Exploit vs Explore for component 5')"
   ]
  },
  {
   "cell_type": "code",
   "execution_count": null,
   "metadata": {
    "id": "UhHHcLjkO0ll"
   },
   "outputs": [],
   "source": []
  },
  {
   "cell_type": "code",
   "execution_count": null,
   "metadata": {
    "id": "YDMYakCiO1TJ"
   },
   "outputs": [],
   "source": []
  },
  {
   "cell_type": "code",
   "execution_count": null,
   "metadata": {
    "id": "9f-GoxbNO1x8"
   },
   "outputs": [],
   "source": [
    "reward_best_d_file_name = 'best_d_glog'+str(5)+'_'+str(2)\n",
    "best_d = np.load('/content/drive/MyDrive/ProdDesign_Numpy3/'+reward_best_d_file_name+'.npy')\n",
    "\n",
    "reward_avg_d_file_name = 'avg_d_glog'+str(5)+'_'+str(2)        \n",
    "avg_d = np.load('/content/drive/MyDrive/ProdDesign_Numpy3/'+reward_avg_d_file_name+'.npy')\n",
    "\n",
    "reward_rew_obt_file_name = 'rew_obt_glog'+str(5)+'_'+str(2)        \n",
    "rew_obt = np.load('/content/drive/MyDrive/ProdDesign_Numpy3/'+reward_rew_obt_file_name+'.npy')\n",
    "\n",
    "reward_best_pos_log_obt_file_name = 'rew_best_pos_glog'+str(5)+'_'+str(2)        \n",
    "best_pos = np.load('/content/drive/MyDrive/ProdDesign_Numpy3/'+reward_best_pos_log_obt_file_name+'.npy')\n",
    "\n",
    "reward_act_log_obt_file_name = 'rew_act_glog'+str(5)+'_'+str(2)        \n",
    "act_log = np.load('/content/drive/MyDrive/ProdDesign_Numpy3/'+reward_act_log_obt_file_name+'.npy')"
   ]
  },
  {
   "cell_type": "code",
   "execution_count": null,
   "metadata": {
    "colab": {
     "base_uri": "https://localhost:8080/",
     "height": 312
    },
    "id": "ED16vU4bO1x9",
    "outputId": "a2a42f90-fec4-4593-e642-1cbf76753cd8"
   },
   "outputs": [],
   "source": [
    "plt.plot(best_d[0:100])\n",
    "plt.xlabel('steps')\n",
    "plt.ylabel('best distance')\n",
    "plt.title('Best distance over first 100 steps [component 5]')"
   ]
  },
  {
   "cell_type": "code",
   "execution_count": null,
   "metadata": {
    "colab": {
     "base_uri": "https://localhost:8080/",
     "height": 312
    },
    "id": "D0IBrB2ZO1x9",
    "outputId": "48b7cb44-f451-4d43-d4f9-19208338dca0"
   },
   "outputs": [],
   "source": [
    "plt.plot(best_d)\n",
    "plt.xlabel('steps')\n",
    "plt.ylabel('distance')\n",
    "plt.title('Best distance over all steps[component 5]')"
   ]
  },
  {
   "cell_type": "code",
   "execution_count": null,
   "metadata": {
    "colab": {
     "base_uri": "https://localhost:8080/",
     "height": 312
    },
    "id": "XKWj2WCUO1x9",
    "outputId": "1bef7dc4-af4f-4728-bcf9-d95f1aea5069"
   },
   "outputs": [],
   "source": [
    "plt.plot(avg_d[0:200])\n",
    "plt.xlabel('steps')\n",
    "plt.ylabel('avg dist')\n",
    "plt.title('Average Distance between components[first 200 steps] for comp 5')"
   ]
  },
  {
   "cell_type": "code",
   "execution_count": null,
   "metadata": {
    "colab": {
     "base_uri": "https://localhost:8080/",
     "height": 312
    },
    "id": "BgaG6JZtO1x9",
    "outputId": "31da6014-2f77-4270-d3f3-2da5a38d07dc"
   },
   "outputs": [],
   "source": [
    "plt.plot(avg_d)\n",
    "plt.xlabel('steps')\n",
    "plt.ylabel('avg dist')\n",
    "plt.title('Average Distance between components - comp 5')"
   ]
  },
  {
   "cell_type": "code",
   "execution_count": null,
   "metadata": {
    "id": "crqOw658O1x9"
   },
   "outputs": [],
   "source": [
    "point_five = list(rew_obt==0.5).count(True)\n",
    "neg_rew = list(rew_obt==-1).count(True)\n",
    "rew_two = list(rew_obt==2).count(True)\n",
    "rew_five = list(rew_obt==5).count(True)\n",
    "rew_ten = list(rew_obt==10).count(True)"
   ]
  },
  {
   "cell_type": "code",
   "execution_count": null,
   "metadata": {
    "colab": {
     "base_uri": "https://localhost:8080/",
     "height": 312
    },
    "id": "UJHa8G0YO1x9",
    "outputId": "dbf306a0-f46a-451f-e070-d582077557d5"
   },
   "outputs": [],
   "source": [
    "x = ['-1','0.5','2','5','10']\n",
    "y = [neg_rew, point_five, rew_two, rew_five, rew_ten]\n",
    "plt.bar(x,y)\n",
    "plt.xlabel('Reward')\n",
    "plt.ylabel('Count')\n",
    "plt.title('Rewards for component 5')"
   ]
  },
  {
   "cell_type": "code",
   "execution_count": null,
   "metadata": {
    "colab": {
     "base_uri": "https://localhost:8080/",
     "height": 312
    },
    "id": "IWY83SkPO1x-",
    "outputId": "a1ac32b5-ac04-4fbb-e6f3-d5dd101d85de"
   },
   "outputs": [],
   "source": [
    "x = ['5','10']\n",
    "y = [rew_five, rew_ten]\n",
    "plt.bar(x,y)\n",
    "plt.xlabel('Reward')\n",
    "plt.ylabel('Count')\n",
    "plt.title('Rewards for component 5')"
   ]
  },
  {
   "cell_type": "code",
   "execution_count": null,
   "metadata": {
    "colab": {
     "base_uri": "https://localhost:8080/",
     "height": 312
    },
    "id": "GNC5SdvmO1x-",
    "outputId": "9105cbde-8196-464f-e70c-efcf0247cae9"
   },
   "outputs": [],
   "source": [
    "random_action_cnt = list(act_log).count(0)\n",
    "best_action_cnt = list(act_log).count(1)\n",
    "x = ['random','best']\n",
    "y = [random_action_cnt,best_action_cnt]\n",
    "plt.bar(x,y)\n",
    "plt.xlabel('Action')\n",
    "plt.ylabel('Count')\n",
    "plt.title('Exploit vs Explore for component 5')"
   ]
  },
  {
   "cell_type": "code",
   "execution_count": null,
   "metadata": {
    "id": "CrClooVAO_4J"
   },
   "outputs": [],
   "source": []
  },
  {
   "cell_type": "code",
   "execution_count": null,
   "metadata": {
    "id": "PHSxpYg0PAGS"
   },
   "outputs": [],
   "source": [
    "reward_best_d_file_name = 'best_d_glog'+str(5)+'_'+str(4)\n",
    "best_d = np.load('/content/drive/MyDrive/ProdDesign_Numpy3/'+reward_best_d_file_name+'.npy')\n",
    "\n",
    "reward_avg_d_file_name = 'avg_d_glog'+str(5)+'_'+str(4)        \n",
    "avg_d = np.load('/content/drive/MyDrive/ProdDesign_Numpy3/'+reward_avg_d_file_name+'.npy')\n",
    "\n",
    "reward_rew_obt_file_name = 'rew_obt_glog'+str(5)+'_'+str(4)        \n",
    "rew_obt = np.load('/content/drive/MyDrive/ProdDesign_Numpy3/'+reward_rew_obt_file_name+'.npy')\n",
    "\n",
    "reward_best_pos_log_obt_file_name = 'rew_best_pos_glog'+str(5)+'_'+str(4)        \n",
    "best_pos = np.load('/content/drive/MyDrive/ProdDesign_Numpy3/'+reward_best_pos_log_obt_file_name+'.npy')\n",
    "\n",
    "reward_act_log_obt_file_name = 'rew_act_glog'+str(5)+'_'+str(4)        \n",
    "act_log = np.load('/content/drive/MyDrive/ProdDesign_Numpy3/'+reward_act_log_obt_file_name+'.npy')"
   ]
  },
  {
   "cell_type": "code",
   "execution_count": null,
   "metadata": {
    "colab": {
     "base_uri": "https://localhost:8080/",
     "height": 312
    },
    "id": "avvHKlZ7PAGT",
    "outputId": "f71e1427-3754-4d66-a4f7-8bc5ea271837"
   },
   "outputs": [],
   "source": [
    "plt.plot(best_d[0:100])\n",
    "plt.xlabel('steps')\n",
    "plt.ylabel('best distance')\n",
    "plt.title('Best distance over first 100 steps [component 5]')"
   ]
  },
  {
   "cell_type": "code",
   "execution_count": null,
   "metadata": {
    "colab": {
     "base_uri": "https://localhost:8080/",
     "height": 312
    },
    "id": "cxSZLv9UPAGU",
    "outputId": "6e06becf-e3cf-464e-b1ce-2c3c9b9f31f9"
   },
   "outputs": [],
   "source": [
    "plt.plot(best_d)\n",
    "plt.xlabel('steps')\n",
    "plt.ylabel('distance')\n",
    "plt.title('Best distance over all steps[component 5]')"
   ]
  },
  {
   "cell_type": "code",
   "execution_count": null,
   "metadata": {
    "colab": {
     "base_uri": "https://localhost:8080/",
     "height": 312
    },
    "id": "2wOroOkdPAGV",
    "outputId": "09e71e11-5d1b-4b00-d2a1-6c9093ed6f68"
   },
   "outputs": [],
   "source": [
    "plt.plot(avg_d[0:200])\n",
    "plt.xlabel('steps')\n",
    "plt.ylabel('avg dist')\n",
    "plt.title('Average Distance between components[first 200 steps] for comp 5')"
   ]
  },
  {
   "cell_type": "code",
   "execution_count": null,
   "metadata": {
    "colab": {
     "base_uri": "https://localhost:8080/",
     "height": 312
    },
    "id": "EWLpvmmsPAGV",
    "outputId": "d3391243-7179-49a1-d929-3a0b63cdd3cd"
   },
   "outputs": [],
   "source": [
    "plt.plot(avg_d)\n",
    "plt.xlabel('steps')\n",
    "plt.ylabel('avg dist')\n",
    "plt.title('Average Distance between components - comp 5')"
   ]
  },
  {
   "cell_type": "code",
   "execution_count": null,
   "metadata": {
    "id": "EbLmnZbtPAGW"
   },
   "outputs": [],
   "source": [
    "point_five = list(rew_obt==0.5).count(True)\n",
    "neg_rew = list(rew_obt==-1).count(True)\n",
    "rew_two = list(rew_obt==2).count(True)\n",
    "rew_five = list(rew_obt==5).count(True)\n",
    "rew_ten = list(rew_obt==10).count(True)"
   ]
  },
  {
   "cell_type": "code",
   "execution_count": null,
   "metadata": {
    "colab": {
     "base_uri": "https://localhost:8080/",
     "height": 312
    },
    "id": "V3c-89ONPAGW",
    "outputId": "66c14523-7ccb-403f-9628-b1ae116cc185"
   },
   "outputs": [],
   "source": [
    "x = ['-1','0.5','2','5','10']\n",
    "y = [neg_rew, point_five, rew_two, rew_five, rew_ten]\n",
    "plt.bar(x,y)\n",
    "plt.xlabel('Reward')\n",
    "plt.ylabel('Count')\n",
    "plt.title('Rewards for component 5')"
   ]
  },
  {
   "cell_type": "code",
   "execution_count": null,
   "metadata": {
    "colab": {
     "base_uri": "https://localhost:8080/",
     "height": 312
    },
    "id": "PIpZl8NMPAGX",
    "outputId": "9c398873-e58b-4cff-9bba-67f6b3da32d3"
   },
   "outputs": [],
   "source": [
    "x = ['5','10']\n",
    "y = [rew_five, rew_ten]\n",
    "plt.bar(x,y)\n",
    "plt.xlabel('Reward')\n",
    "plt.ylabel('Count')\n",
    "plt.title('Rewards for component 5')"
   ]
  },
  {
   "cell_type": "code",
   "execution_count": null,
   "metadata": {
    "colab": {
     "base_uri": "https://localhost:8080/",
     "height": 312
    },
    "id": "pY2bdSLXPAGY",
    "outputId": "afe5fb73-be0d-4705-f28b-de314e2fee0a"
   },
   "outputs": [],
   "source": [
    "random_action_cnt = list(act_log).count(0)\n",
    "best_action_cnt = list(act_log).count(1)\n",
    "x = ['random','best']\n",
    "y = [random_action_cnt,best_action_cnt]\n",
    "plt.bar(x,y)\n",
    "plt.xlabel('Action')\n",
    "plt.ylabel('Count')\n",
    "plt.title('Exploit vs Explore for component 5')"
   ]
  },
  {
   "cell_type": "code",
   "execution_count": null,
   "metadata": {
    "id": "B1nfajtJWT8h"
   },
   "outputs": [],
   "source": []
  }
 ],
 "metadata": {
  "colab": {
   "collapsed_sections": [],
   "name": "Modified Obj Pareto_DQN_All_Objectives.ipynb",
   "provenance": []
  },
  "kernelspec": {
   "display_name": "Python 3",
   "language": "python",
   "name": "python3"
  },
  "language_info": {
   "codemirror_mode": {
    "name": "ipython",
    "version": 3
   },
   "file_extension": ".py",
   "mimetype": "text/x-python",
   "name": "python",
   "nbconvert_exporter": "python",
   "pygments_lexer": "ipython3",
   "version": "3.8.3"
  }
 },
 "nbformat": 4,
 "nbformat_minor": 1
}
