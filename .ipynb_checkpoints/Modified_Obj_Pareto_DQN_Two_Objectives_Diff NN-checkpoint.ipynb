{
 "cells": [
  {
   "cell_type": "markdown",
   "metadata": {
    "id": "f4f5J83gfrM-"
   },
   "source": [
    "Just s,a,r\n",
    "https://tomroth.com.au/dqn-simple/\n",
    "https://markus-x-buchholz.medium.com/deep-reinforcement-learning-introduction-deep-q-network-dqn-algorithm-fb74bf4d6862\n",
    "\n",
    "Using images\n",
    "https://towardsdatascience.com/deep-q-network-with-pytorch-146bfa939dfe"
   ]
  },
  {
   "cell_type": "code",
   "execution_count": null,
   "metadata": {
    "colab": {
     "base_uri": "https://localhost:8080/"
    },
    "id": "NlQnqdWLnCFl",
    "outputId": "c14341f3-f229-4c3f-d280-f3265852b059"
   },
   "outputs": [],
   "source": [
    "val = np.array([1,2,3,4])\n",
    "print(np.argmax(val))"
   ]
  },
  {
   "cell_type": "code",
   "execution_count": null,
   "metadata": {
    "id": "l_3tDg6ERSTt"
   },
   "outputs": [],
   "source": [
    "import numpy as np\n",
    "import matplotlib.pyplot as plt\n",
    "import random\n",
    "import math\n",
    "import itertools\n",
    "import time\n",
    "from google.colab import output\n",
    "import pandas as pd\n",
    "from keras.models import Sequential\n",
    "from keras.layers import Dense\n",
    "from tensorflow.keras.optimizers import Adam\n",
    "import matplotlib.pyplot as plt\n",
    "import seaborn as sns"
   ]
  },
  {
   "cell_type": "markdown",
   "metadata": {
    "id": "Zt9nX80RQd1H"
   },
   "source": [
    "Building NN net"
   ]
  },
  {
   "cell_type": "code",
   "execution_count": null,
   "metadata": {
    "id": "-bcE4XdcPncV"
   },
   "outputs": [],
   "source": [
    "num_actions = 7\n",
    "#input_dim -> num of values in single state 1D or 3D\n",
    "model = Sequential()\n",
    "model.add(Dense(64,input_dim = 1, activation='relu'))\n",
    "model.add(Dense(32,activation='relu'))\n",
    "model.add(Dense(num_actions,activation='linear'))\n",
    "model.compile(optimizer=Adam(), loss='mse')"
   ]
  },
  {
   "cell_type": "code",
   "execution_count": null,
   "metadata": {
    "colab": {
     "base_uri": "https://localhost:8080/"
    },
    "id": "RkR5aURJHSfK",
    "outputId": "f1db12b2-aa60-4469-f131-aad0f2ade97e"
   },
   "outputs": [],
   "source": [
    "model.summary()"
   ]
  },
  {
   "cell_type": "markdown",
   "metadata": {
    "id": "F7KRpiBzQlSE"
   },
   "source": [
    "Some initial parameters"
   ]
  },
  {
   "cell_type": "code",
   "execution_count": null,
   "metadata": {
    "id": "_b_A2MvYQndP"
   },
   "outputs": [],
   "source": [
    "num_ep = 10\n",
    "gamma = 0.99\n",
    "epsilon = 1\n",
    "minibatch_size = 32\n",
    "rew_sums = [] #stores rew for each episode\n",
    "replay_memory1 = []\n",
    "replay_memory2 = [] #stores s,a,r,s'\n",
    "max_mem_size = 100000"
   ]
  },
  {
   "cell_type": "code",
   "execution_count": null,
   "metadata": {
    "colab": {
     "base_uri": "https://localhost:8080/",
     "height": 123
    },
    "id": "nYLT1Lj51Z5S",
    "outputId": "a6d56cf3-98dc-4c31-c1d4-0c68a5f14b12"
   },
   "outputs": [],
   "source": [
    "paretoList = [[27.365007703242995, 20.09975124224178],\n",
    " [27.039658301585717, 20.09975124224178],\n",
    " [27.641096998130227, 20.09975124224178],\n",
    " [26.55654914700754, 22.0],\n",
    " [25.97042057904419, 22.0],\n",
    " [25.38885062374585, 22.0],\n",
    " [24.81217606567878, 22.0]]\n",
    "\n",
    "'''\n",
    "paretoList = [[89.00031518164273, 65.86349520030045], [89.89961557343754, 64.389440128021], [89.43403953083185, 65.09992319503918],[83.5136611195402, 70.74602462329597],[88.9499343220807, 62.58828725834597],[89.08999189433153, 65.09992319503918], [89.05258736962958, 65.19202405202648],\n",
    " [89.07676981971224, 65.19202405202648], [87.02821495153329, 66.2117814289874], [89.08999189433153, 65.09992319503918], [89.05258736962958, 65.19202405202648],\n",
    " [89.07676981971224, 65.19202405202648], [87.02821495153329, 66.2117814289874], [86.80154054413104, 67.06713054842886], [83.84557463726141, 68.67313885355759], [83.69564109874385, 69.93568473962345],\n",
    " [83.5136611195402, 70.74602462329597],[90.01796235821872, 64.45153217728807], [89.50734353211787, 65.19202405202648], [89.55265145339347, 65.12296062065974], [89.53981905286764, 65.14598989960932], [88.9499343220807, 66.58828725834597],\n",
    " [87.69924734468235, 66.94027188471824], [87.10191723850293, 68.10286337592568], [84.32989997720018, 69.49820141557622], [84.11251564639825, 70.07139216541941], [84.17822101381995, 70.74602462329597],\n",
    " [83.54051281048423, 72.20110802473879], [83.86133969184611, 70.80254232723568]]\n",
    "\n",
    "'''"
   ]
  },
  {
   "cell_type": "code",
   "execution_count": null,
   "metadata": {
    "colab": {
     "base_uri": "https://localhost:8080/"
    },
    "id": "zmHUf9yZe7Ji",
    "outputId": "8ee5c54b-461c-4cca-9ed2-37a1ff62b778"
   },
   "outputs": [],
   "source": [
    "len(paretoList)"
   ]
  },
  {
   "cell_type": "code",
   "execution_count": null,
   "metadata": {
    "colab": {
     "base_uri": "https://localhost:8080/"
    },
    "id": "tAWVu_r9voqd",
    "outputId": "c1f4b9a8-af12-4835-bd38-294c54c9b8d9"
   },
   "outputs": [],
   "source": [
    "\n",
    "\n",
    "S=[[] for i in range(0,len(paretoList))]\n",
    "front = [[]]\n",
    "front_val = [[]]\n",
    "n=[0 for i in range(0,len(paretoList))]\n",
    "rank = [0 for i in range(0, len(paretoList))]\n",
    "append1 = []\n",
    "append2 = []\n",
    "append3 = []\n",
    "append4 = []\n",
    "append5 = []\n",
    "for p in range(0, len(paretoList)):\n",
    "  #n[p] = 0\n",
    "  #S[p] = []\n",
    "  \n",
    "  for q in range(0, len(paretoList)):\n",
    "    #if(e[1]<each[1] and e[0]<=each[0]) or (e[1]<=each[1] and e[0]<each[0]):\n",
    "    if (p!=q):\n",
    "      if ((paretoList[p][0]<paretoList[q][0] and paretoList[p][1]<=paretoList[q][1])\n",
    "      or (paretoList[p][0]<=paretoList[q][0] and paretoList[p][1]<paretoList[q][1])): #p dominates q\n",
    "        if q not in S[p]: #new added line\n",
    "          S[p].append(q)\n",
    "          append1.append(paretoList[p])\n",
    "      elif ((paretoList[p][0]>paretoList[q][0] and paretoList[p][1]>=paretoList[q][1])\n",
    "      or (paretoList[p][0]>=paretoList[q][0] and paretoList[p][1]>paretoList[q][1])): #p dominates q\n",
    "        n[p] = n[p] + 1\n",
    "        append2.append(paretoList[q])\n",
    "    \n",
    "  if n[p] == 0:\n",
    "    rank[p] = 0   #modified to 0 from 1\n",
    "    if p not in front[0]:  #adding distinct solutions to first front\n",
    "      front[0].append(p)\n",
    "      front_val[0].append(paretoList[p])\n",
    "      #paretoList.remove(paretoList[p])\n",
    "      append3.append(paretoList[p])\n",
    "\n",
    "    \n",
    "i = 0\n",
    "print('fronts',front[0])\n",
    "while (front[i] != []): #not empty\n",
    "  Q_P = []\n",
    "  Q_Pval = []\n",
    "  #print('front',i,'',front[i])\n",
    "  \n",
    "  for p in front[i]:\n",
    "    #print('S[p]',p,S[p])\n",
    "    for q in S[p]:\n",
    "      n[q] = n[q] - 1\n",
    "      if (n[q] == 0):\n",
    "        rank[q] = i+1\n",
    "        if q not in Q_P:\n",
    "          Q_P.append(q)\n",
    "          Q_Pval.append(paretoList[q])\n",
    "          #paretoList.remove(paretoList[q])\n",
    "          append4.append(paretoList[p])\n",
    "    \n",
    "  i = i+1\n",
    "  front.append(Q_P)\n",
    "  front_val.append(Q_Pval)\n",
    "  #append4 += 1\n",
    "        \n",
    "              \n",
    "del front[len(front)-1]\n",
    "del front_val[len(front_val)-1]\n",
    "\n",
    "print(len(front_val))"
   ]
  },
  {
   "cell_type": "code",
   "execution_count": null,
   "metadata": {
    "colab": {
     "base_uri": "https://localhost:8080/"
    },
    "id": "02siB2R6nkfe",
    "outputId": "a92b8dec-17b4-4f5e-dd27-14cd4be57be9"
   },
   "outputs": [],
   "source": [
    "paretoList[]"
   ]
  },
  {
   "cell_type": "code",
   "execution_count": null,
   "metadata": {
    "colab": {
     "base_uri": "https://localhost:8080/"
    },
    "id": "v4M6ubofhepz",
    "outputId": "a2ce5979-e58e-4dd7-9749-86d282b198dc"
   },
   "outputs": [],
   "source": [
    "paretoList[14]"
   ]
  },
  {
   "cell_type": "code",
   "execution_count": null,
   "metadata": {
    "colab": {
     "base_uri": "https://localhost:8080/"
    },
    "id": "vKAcR7Yz1wsP",
    "outputId": "21bb1caf-17e4-4eb8-bf2a-8439a5812188"
   },
   "outputs": [],
   "source": [
    "S"
   ]
  },
  {
   "cell_type": "code",
   "execution_count": null,
   "metadata": {
    "colab": {
     "base_uri": "https://localhost:8080/"
    },
    "id": "BDkTbNVSuXdz",
    "outputId": "8e9b8930-bd45-4e33-d7e4-f8bbbfee55b6"
   },
   "outputs": [],
   "source": [
    "front_val[0]"
   ]
  },
  {
   "cell_type": "code",
   "execution_count": null,
   "metadata": {
    "id": "LfiPTU75tnUg"
   },
   "outputs": [],
   "source": [
    "import matplotlib.pyplot as plt\n"
   ]
  },
  {
   "cell_type": "code",
   "execution_count": null,
   "metadata": {
    "colab": {
     "base_uri": "https://localhost:8080/",
     "height": 282
    },
    "id": "MS0MIKx6V6t0",
    "outputId": "d057246e-a854-4012-a862-5c90f725448f"
   },
   "outputs": [],
   "source": [
    "x = [1,2,3,4]\n",
    "y=[1,1,1,1]\n",
    "plt.plot(x,y)"
   ]
  },
  {
   "cell_type": "code",
   "execution_count": null,
   "metadata": {
    "colab": {
     "base_uri": "https://localhost:8080/",
     "height": 330
    },
    "id": "XwTCjUwuter6",
    "outputId": "9e982bdc-fa4b-43d5-fcc8-679f5e13fb2c"
   },
   "outputs": [],
   "source": [
    "a=[]\n",
    "\n",
    "for i in range(len(front_val[0])):\n",
    "  x = front_val[0][i][0]\n",
    "  \n",
    "  y = front_val[0][i][1]\n",
    "  plt.scatter(x,y,c='black')\n",
    "\n",
    "\n",
    "for i in range(len(front_val[1])):\n",
    "  x = front_val[1][i][0]\n",
    "  y = front_val[1][i][1]\n",
    "  plt.scatter(x,y,c='blue')\n",
    "plt.title('Objective 0[Min] vs Objective 1[Min]')\n",
    "plt.xlabel('Objective 0')\n",
    "plt.ylabel('Objective 1')\n",
    "#plt.axis([max(x),min(x),max(y),min(y)])\n",
    "print(x)\n",
    "print(y)"
   ]
  },
  {
   "cell_type": "code",
   "execution_count": null,
   "metadata": {
    "colab": {
     "base_uri": "https://localhost:8080/"
    },
    "id": "7ecSQ9vS1O4R",
    "outputId": "db97bec9-1b5e-45ac-deb7-53e26d2eaf95"
   },
   "outputs": [],
   "source": [
    "front_val"
   ]
  },
  {
   "cell_type": "code",
   "execution_count": null,
   "metadata": {
    "colab": {
     "base_uri": "https://localhost:8080/"
    },
    "id": "KlM8rAdIxT68",
    "outputId": "4d119055-9577-4f96-ba72-d6a8f0093358"
   },
   "outputs": [],
   "source": [
    "len(paretoList)"
   ]
  },
  {
   "cell_type": "code",
   "execution_count": null,
   "metadata": {
    "colab": {
     "base_uri": "https://localhost:8080/"
    },
    "id": "kv6jC4XwiOYk",
    "outputId": "3918282c-21c0-4fb8-f5a1-67cb24fd0e9f"
   },
   "outputs": [],
   "source": [
    "np.random.randn(1,4)*(20)"
   ]
  },
  {
   "cell_type": "code",
   "execution_count": null,
   "metadata": {
    "colab": {
     "base_uri": "https://localhost:8080/"
    },
    "id": "3VxO1iyyjzwj",
    "outputId": "10a0fd18-e81b-4cfe-ceb2-d21c4231b8ce"
   },
   "outputs": [],
   "source": [
    "from google.colab import drive\n",
    "\n",
    "drive.mount('/content/drive')"
   ]
  },
  {
   "cell_type": "code",
   "execution_count": null,
   "metadata": {
    "id": "qKbR5tpervXI"
   },
   "outputs": [],
   "source": [
    "class GreenHouseEnv(object):\n",
    "  def __init__(self,m,n,o):  #m, n and o is the dimension of the grid\n",
    "    #self.grid = np.zeros((m,n))\n",
    "    self.m = m\n",
    "    self.n = n\n",
    "    self.o = o\n",
    "    self.occupied = []\n",
    "    self.statePosDict ={}\n",
    "    self.statePositionDict(m,n,o)\n",
    "    #self.obsSpace = [[[k for k in range(self.o)] for j in range(self.n)] for i in range(self.m)]\n",
    "    self.obsSpace = [i for i in range(self.m * self.n * self.o)]\n",
    "    #print(self.obsSpace)\n",
    "    self.actSpace = {'U': 0, 'D': 1, 'L': 2, 'R': 3, 'B': 4, 'F': 5}\n",
    "    self.possibleAct = ['U','D','L','R', 'B', 'F']\n",
    "    self.addComponents()\n",
    "    self.rules_arr_rew = [9999,9999,0,0,9999,9999]\n",
    "    self.objectives_comp_1 = {\n",
    "        1: 'heater',\n",
    "        2: 'water tank'\n",
    "    }\n",
    "    self.env_pos_log = []\n",
    "    self.rew_vec = [99999,0,0,0,99999,99999] #6 is number of objectives\n",
    "    self.log_d = {0:[], 1: [], 2:[], 3:[], 4:[], 5:[], 6:[]}\n",
    "    self.log_best_d =  {0:[], 1: [], 2:[], 3:[], 4:[], 5:[], 6:[]}\n",
    "    self.rew_obtained =  {0:[], 1: [], 2:[], 3:[], 4:[], 5:[], 6:[]}\n",
    "    self.best_pos = [999,999,999]\n",
    "    self.best_pos_2 = [0,0]\n",
    "    self.best_pos_3 = [0,0]\n",
    "    self.best_pos_4 = [0,0]\n",
    "    self.best_pos_5 = [999,999]\n",
    "    self.best_pos_6 = [999,999]\n",
    "    self.best_pos_log_2 =  []\n",
    "    self.best_pos_log_3 =  []\n",
    "    self.best_pos_log_4 =  []\n",
    "    self.best_pos_log_5 =  []\n",
    "    self.best_pos_log_6 =  []\n",
    "    self.best_pos_log =  []\n",
    "    self.prev_distance = [99999,0,0,0,99999,99999] #to keep record of the prev distance\n",
    "  \n",
    "  def addComponents(self):\n",
    "    self.components = [1,2,3,4,5,6,7,8] #[1,2,3,4,5,6,7,8,9,10]\n",
    "\n",
    "    if len(self.components)> self.m*self.n*self.o:\n",
    "      print('errorrrr')\n",
    "      return 0\n",
    "\n",
    "    \n",
    "    self.comp_dictionary = {\n",
    "        1: 'heater',\n",
    "        2: 'water tank',\n",
    "        3: 'pack soil',\n",
    "        4: 'heat sensor',\n",
    "        5: 'camera',\n",
    "        6: 'fan',\n",
    "        7: 'led',\n",
    "        8: 'water pump',\n",
    "        9: 'PCB',\n",
    "        10: 'Pipes'\n",
    "    }\n",
    "\n",
    "    #self.grid = np.zeros((self.m,self.n,self.o))\n",
    "    #print('grid: 111', self.grid)  \n",
    "    \n",
    "    len_com = len(self.components)\n",
    "    i = 0\n",
    "    while len_com != 0:\n",
    "      #print('i',i)\n",
    "      x = random.choice(range(0,self.m))\n",
    "      y = random.choice(range(0,self.n))\n",
    "      z = random.choice(range(0,self.o))\n",
    "      if (x,y,z) not in self.occupied:\n",
    "        #self.grid[x,y,z] = components[i]\n",
    "        self.occupied.append((x,y,z))\n",
    "        len_com -= 1\n",
    "        i += 1\n",
    "      \n",
    "\n",
    "      #else:\n",
    "      #  x = random.choice(range(0,self.m))\n",
    "      #  y = random.choice(range(0,self.n))\n",
    "      #  z = random.choice(range(0,self.o))\n",
    "      #  self.grid[x,y,z] = components[i]\n",
    "      #  self.occupied.append((x,y,z))\n",
    "    #print('grid: ', np.shape(self.grid))   \n",
    "    print('occupied:',self.occupied)\n",
    "\n",
    "  def getComponentPosition(self, index):\n",
    "    return self.occupied[index]\n",
    "\n",
    "  def getComponentValue(self, pos):\n",
    "    if pos in self.occupied:\n",
    "      id = self.occupied.index(pos)\n",
    "      val = self.components[id]\n",
    "    else:\n",
    "      val = -1\n",
    "    return val\n",
    "\n",
    "  def setState(self, state, comp_id):\n",
    "    x,y,z = self.getComponentPosition(comp_id)\n",
    "    #self.grid[x,y,z] = -1\n",
    "    x,y,z = state\n",
    "    #self.grid[x,y,z] = components[comp_id]\n",
    "    self.occupied[comp_id] = state\n",
    "\n",
    "  def totalDistance(self, components):\n",
    "    total_dist = 0\n",
    "    for i in range(len(components)):\n",
    "      for j in range(len(components)):\n",
    "        i_pos = self.getComponentPosition(i+1)\n",
    "        j_pos = self.getComponentPosition(j+1)\n",
    "        dist_temp = self.calcDistance(i_pos, j_pos)\n",
    "        total_dist += dist_temp\n",
    "\n",
    "    return total_dist\n",
    "\n",
    "\n",
    "  def obj1(self):\n",
    "    #print(self.rules_arr_rew)\n",
    "    total = 0\n",
    "    rew_comp = np.zeros(6) #6 here is number of objective\n",
    "    temp_rew_vec = np.zeros(6)\n",
    "\n",
    "\n",
    "    \n",
    "    #rule 1 - minimize distance between pack soil, water tank and water pump\n",
    "    #if component == 2 or component == 3 or component == 8:\n",
    "    print('RULE 1')\n",
    "    d1 = self.calcDistance(1,2)\n",
    "    d2 = self.calcDistance(2,7)\n",
    "    d3 = self.calcDistance(1,7)\n",
    "    avg_d = (d1 + d2 + d3)/3\n",
    "    #print('avg',avg_d)\n",
    "      \n",
    "    temp_rew_vec[0] = avg_d\n",
    "\n",
    "    #find diff from last distance and new distance\n",
    "    diff_1 = avg_d - self.rew_vec[0]\n",
    "    diff_2 = self.prev_distance[0] - self.rew_vec[0]\n",
    "\n",
    "    diff = diff_1 - diff_2\n",
    "\n",
    "      \n",
    "    #reward for moving closer or away from the best distance\n",
    "    if avg_d>self.prev_distance[0]: # move away\n",
    "      rew_comp[0] = -1\n",
    "    elif avg_d<self.prev_distance[0]: # move closer\n",
    "      #if it moves closer then check for the best score\n",
    "      if avg_d<self.rew_vec[0]: #set a new best score\n",
    "        rew_comp[0] = 10\n",
    "        self.rew_vec[0] = avg_d\n",
    "        pos1 = self.getComponentPosition(1)\n",
    "        pos2 = self.getComponentPosition(2)\n",
    "        pos3 = self.getComponentPosition(7)\n",
    "        self.best_pos = [pos1, pos2, pos3]\n",
    "        self.best_pos_log.append(self.best_pos)\n",
    "      elif avg_d==self.rew_vec[0]: #find a similar best score\n",
    "        rew_comp[0] = 5\n",
    "        #add code here later to save the coordinates if it is different from the previous one\n",
    "      else:\n",
    "        rew_comp[0] = 2\n",
    "    elif avg_d==self.prev_distance[0]: # stay in same place\n",
    "      rew_comp[0] = 0.5\n",
    "\n",
    "        \n",
    "\n",
    "    #save the new distance as prev distance\n",
    "    self.prev_distance[0] = avg_d\n",
    "      \n",
    "    '''\n",
    "      if avg_d<self.rew_vec[0]:\n",
    "        rew_comp[0] = 1\n",
    "        self.rew_vec[0] = avg_d\n",
    "        \n",
    "      elif avg_d>self.rew_vec[0]:\n",
    "        rew_comp[0] = -20\n",
    "      else:\n",
    "        rew_comp[0] = 0\n",
    "      '''\n",
    "    self.log_d[0].append(avg_d)\n",
    "    self.log_best_d[0].append(self.rew_vec[0])\n",
    "    self.rew_obtained[0].append(rew_comp[0])\n",
    "    print('score obtained',rew_comp[0])\n",
    "    print('avg_d', avg_d)\n",
    "    print('slf.rew_vec', self.rew_vec[0])\n",
    "    print('reward',rew_comp[0])\n",
    "      \n",
    "      #total += rew1\n",
    "      #print('#MINIMIZE# old dist: ', self.rules_arr_rew[0], 'new dist:', avg_d ,'rew1:', rew1)\n",
    "    '''\n",
    "    #rule 2 - minimize distance between heater and the fan\n",
    "    if component == 1 or component == 6:\n",
    "      #print('RULE 2')\n",
    "      #print(self.rules_arr_rew)\n",
    "      hf = self.calcDistance(0,5)\n",
    "      #print('dist',hf)\n",
    "      \n",
    "      temp_rew_vec[1] = hf\n",
    "      if hf<self.rew_vec[1]:\n",
    "        rew_comp[1] = 1\n",
    "        \n",
    "      elif hf > self.rew_vec[1]:\n",
    "        rew_comp[1] = -1\n",
    "      else:\n",
    "        rew_comp[1] = 0\n",
    "      #print('#MINIMIZE# old dist: ', self.rules_arr_rew[1],'new dist:', hf , 'rew2:', rew2)\n",
    "\n",
    "    #rule 3 - maximize distance between LED and heat sensor\n",
    "    if component == 4 or component == 7:\n",
    "      #print('RULE 3')\n",
    "      lhs = self.calcDistance(3,6)\n",
    "      \n",
    "      temp_rew_vec[2] = lhs\n",
    "      if lhs>self.rew_vec[2]:\n",
    "        rew_comp[2] = 1\n",
    "        \n",
    "      elif lhs < self.rew_vec[2]:\n",
    "        rew_comp[2] = -1\n",
    "      else:\n",
    "        rew_comp[2] = 0\n",
    "      \n",
    "      #print('#MAXIMIZE# old dist: ', self.rules_arr_rew[2],'new dist:', lhs , 'rew3:', rew3)\n",
    "\n",
    "    #rule 4 - maximize distance between heater and heat sensor\n",
    "    \n",
    "    if component == 1 or component == 4:\n",
    "      #print('RULE 4')\n",
    "      hhs = self.calcDistance(0,3)\n",
    "      #print('hhs',hhs,'rules_arr',self.rules_arr_rew[3])\n",
    "      \n",
    "      temp_rew_vec[3] = hhs\n",
    "      if hhs>self.rew_vec[3]:\n",
    "        rew_comp[3] = 1\n",
    "        \n",
    "      elif hhs < self.rew_vec[3]:\n",
    "        rew_comp[3] = -1\n",
    "      else:\n",
    "        rew_comp[3] = 0\n",
    "      #print('#MAXIMIZE#  old dist: ', self.rules_arr_rew[3], 'new dist:', hhs ,'rew4:', rew4)\n",
    "    \n",
    "    #rule 5 - maximize lighting of pack soil by the LED\n",
    "    if component == 7 or component == 3:\n",
    "      #print('RULE 5')\n",
    "      x_1, y_1, z_1 = self.getComponentPosition(3)\n",
    "      z_1 = 0  #z moves to the top of the greenhouse\n",
    "      x_2, y_2, z_2 = self.getComponentPosition(7)\n",
    "      psl = math.sqrt((x_2 - x_1)**2 + (y_2 - y_1)**2 + (z_2 - z_1)**2)\n",
    "      \n",
    "      temp_rew_vec[4] = psl\n",
    "      if psl>self.rew_vec[4]:\n",
    "        rew_comp[4] = 1\n",
    "        \n",
    "      elif psl < self.rew_vec[4]:\n",
    "        rew_comp[4] = -1\n",
    "      else:\n",
    "        rew_comp[4] = 0\n",
    "      #print('#MAXIMIZE#  old dist: ', self.rules_arr_rew[4], 'new dist:', psl ,'rew5:', rew5)\n",
    "    \n",
    "    #rule 6 - maximize view of pack soil captured by the camera\n",
    "    if component == 5 or component == 3:\n",
    "      #print('RULE 6')\n",
    "      x_1, y_1, z_1 = self.getComponentPosition(3)\n",
    "      z_1 = 0  #z moves to the top of the greenhouse\n",
    "      x_2, y_2, z_2 = self.getComponentPosition(5)\n",
    "      psc = math.sqrt((x_2 - x_1)**2 + (y_2 - y_1)**2 + (z_2 - z_1)**2)\n",
    "      \n",
    "      temp_rew_vec[5] = psc\n",
    "      if psc>self.rew_vec[5]:\n",
    "        rew_comp[5] = 1\n",
    "        \n",
    "      elif psc < self.rew_vec[5]:\n",
    "        rew_comp[5] = -1\n",
    "      else:\n",
    "        rew_comp[5] = 0\n",
    "      #print('#MAXIMIZE#  old dist: ', self.rules_arr_rew[5], 'new dist:', psc , 'rew6:', rew6)\n",
    "    '''\n",
    "    return rew_comp,temp_rew_vec\n",
    "\n",
    "  def obj2(self):\n",
    "    '''\n",
    "    #print(self.rules_arr_rew)\n",
    "    total = 0\n",
    "    rew_comp = np.zeros(6) #6 here is number of objective\n",
    "    temp_rew_vec = np.zeros(6)\n",
    "    \n",
    "    #rule 2 - minimize distance between heater and the fan\n",
    "\n",
    "    #if component == 1 or component == 6:\n",
    "    #print('RULE 2')\n",
    "    #print(self.rules_arr_rew)\n",
    "    hf = self.calcDistance(0,5)\n",
    "    #print('dist',hf)\n",
    "    \n",
    "    temp_rew_vec[0] = hf\n",
    "\n",
    "    #find diff from last distance and new distance\n",
    "    diff_1 = hf - self.rew_vec[1]\n",
    "    diff_2 = self.prev_distance[1] - self.rew_vec[1]\n",
    "\n",
    "    diff = diff_1 - diff_2\n",
    "\n",
    "      \n",
    "    #reward for moving closer or away from the best distance\n",
    "    if hf>self.prev_distance[1]: # move away\n",
    "      rew_comp[1] = -1\n",
    "    elif hf<self.prev_distance[1]: # move closer\n",
    "      #if it moves closer then check for the best score\n",
    "      if hf<self.rew_vec[1]: #set a new best score\n",
    "        rew_comp[1] = 10\n",
    "        self.rew_vec[1] = hf\n",
    "        pos1 = self.getComponentPosition(0)\n",
    "        pos2 = self.getComponentPosition(5)\n",
    "        self.best_pos_2 = [pos1, pos2]\n",
    "        self.best_pos_log_2.append(self.best_pos_2)\n",
    "      elif hf==self.rew_vec[1]: #find a similar best score\n",
    "        rew_comp[1] = 5\n",
    "        #add code here later to save the coordinates if it is different from the previous one\n",
    "      else:\n",
    "        rew_comp[1] = 2\n",
    "    elif hf==self.prev_distance[1]: # stay in same place\n",
    "      rew_comp[1] = 0.5\n",
    "\n",
    "        \n",
    "\n",
    "    #save the new distance as prev distance\n",
    "    self.prev_distance[1] = hf\n",
    "    '''\n",
    "     #print(self.rules_arr_rew)\n",
    "    total = 0\n",
    "    rew_comp = np.zeros(6) #6 here is number of objective\n",
    "    temp_rew_vec = np.zeros(6)\n",
    "    \n",
    "    #rule 2 - minimize distance between heater and the fan\n",
    "\n",
    "    #if component == 1 or component == 6:\n",
    "    #print('RULE 2')\n",
    "    #print(self.rules_arr_rew)\n",
    "    hf = self.calcDistance(1,7)\n",
    "    #print('dist',hf)\n",
    "    \n",
    "    temp_rew_vec[0] = hf\n",
    "\n",
    "    #find diff from last distance and new distance\n",
    "    diff_1 = hf - self.rew_vec[1]\n",
    "    diff_2 = self.prev_distance[1] - self.rew_vec[1]\n",
    "\n",
    "    diff = diff_1 - diff_2\n",
    "\n",
    "      \n",
    "    #reward for moving closer or away from the best distance\n",
    "    if hf<self.prev_distance[1]: # move closer\n",
    "      rew_comp[1] = -1\n",
    "    elif hf>self.prev_distance[1]: # move away\n",
    "      #if it moves closer then check for the best score\n",
    "      if hf>self.rew_vec[1]: #set a new best score\n",
    "        rew_comp[1] = 10\n",
    "        self.rew_vec[1] = hf\n",
    "        pos1 = self.getComponentPosition(0)\n",
    "        pos2 = self.getComponentPosition(5)\n",
    "        self.best_pos_2 = [pos1, pos2]\n",
    "        self.best_pos_log_2.append(self.best_pos_2)\n",
    "      elif hf==self.rew_vec[1]: #find a similar best score\n",
    "        rew_comp[1] = 5\n",
    "        #add code here later to save the coordinates if it is different from the previous one\n",
    "      else:\n",
    "        rew_comp[1] = 2\n",
    "    elif hf==self.prev_distance[1]: # stay in same place\n",
    "      rew_comp[1] = 0.5\n",
    "\n",
    "        \n",
    "\n",
    "    #save the new distance as prev distance\n",
    "    self.prev_distance[1] = hf  \n",
    "    '''\n",
    "      if avg_d<self.rew_vec[0]:\n",
    "        rew_comp[0] = 1\n",
    "        self.rew_vec[0] = avg_d\n",
    "        \n",
    "      elif avg_d>self.rew_vec[0]:\n",
    "        rew_comp[0] = -20\n",
    "      else:\n",
    "        rew_comp[0] = 0\n",
    "      '''\n",
    "    self.log_d[1].append(hf)\n",
    "    self.log_best_d[1].append(self.rew_vec[1])\n",
    "    self.rew_obtained[1].append(rew_comp[1])\n",
    "    print('score obtained',rew_comp[1])\n",
    "    print('avg_d', hf)\n",
    "    print('slf.rew_vec', self.rew_vec[1])\n",
    "    print('reward',rew_comp[1])\n",
    "      \n",
    "    return rew_comp,temp_rew_vec\n",
    "\n",
    "  def obj3(self):\n",
    "\n",
    "    #rule 3 - maximize distance between LED and heat sensor\n",
    "    total = 0\n",
    "    rew_comp = np.zeros(6) #6 here is number of objective\n",
    "    temp_rew_vec = np.zeros(6)\n",
    "\n",
    "    lhs = self.calcDistance(3,6)\n",
    "\n",
    "    temp_rew_vec[0] = lhs\n",
    "    \n",
    "    #reward for moving closer or away from the best distance\n",
    "    if lhs<self.prev_distance[2]: # move closer\n",
    "      rew_comp[2] = -1\n",
    "    elif lhs>self.prev_distance[2]: # move away\n",
    "      #if it moves closer then check for the best score\n",
    "      if lhs>self.rew_vec[2]: #set a new best score\n",
    "        rew_comp[2] = 10\n",
    "        self.rew_vec[2] = lhs\n",
    "        pos1 = self.getComponentPosition(3)\n",
    "        pos2 = self.getComponentPosition(6)\n",
    "        self.best_pos_3 = [pos1, pos2]\n",
    "        self.best_pos_log_3.append(self.best_pos_3)\n",
    "      elif lhs==self.rew_vec[2]: #find a similar best score\n",
    "        rew_comp[2] = 5\n",
    "        #add code here later to save the coordinates if it is different from the previous one\n",
    "      else:\n",
    "        rew_comp[2] = 2\n",
    "    elif lhs==self.prev_distance[2]: # stay in same place\n",
    "      rew_comp[2] = 0.5\n",
    "    \n",
    "    self.prev_distance[2] = lhs\n",
    "    \n",
    "    self.log_d[2].append(lhs)\n",
    "    self.log_best_d[2].append(self.rew_vec[2])\n",
    "    self.rew_obtained[2].append(rew_comp[2])\n",
    "    print('score obtained',rew_comp[2])\n",
    "    print('avg_d', lhs)\n",
    "    print('slf.rew_vec', self.rew_vec[2])\n",
    "    print('reward',rew_comp[2])\n",
    "      \n",
    "    return rew_comp,temp_rew_vec\n",
    "\n",
    "  def obj4(self):\n",
    "\n",
    "    #rule 4 - maximize distance between heater and heat sensor\n",
    "    total = 0\n",
    "    rew_comp = np.zeros(6) #6 here is number of objective\n",
    "    temp_rew_vec = np.zeros(6)\n",
    "\n",
    "    hhs = self.calcDistance(0,3)\n",
    "\n",
    "    temp_rew_vec[0] = hhs\n",
    "    \n",
    "    #reward for moving closer or away from the best distance\n",
    "    if hhs<self.prev_distance[3]: # move closer\n",
    "      rew_comp[3] = -1\n",
    "    elif hhs>self.prev_distance[3]: # move away\n",
    "      #if it moves closer then check for the best score\n",
    "      if hhs>self.rew_vec[3]: #set a new best score\n",
    "        rew_comp[3] = 10\n",
    "        self.rew_vec[3] = hhs\n",
    "        pos1 = self.getComponentPosition(0)\n",
    "        pos2 = self.getComponentPosition(3)\n",
    "        self.best_pos_4 = [pos1, pos2]\n",
    "        self.best_pos_log_4.append(self.best_pos_4)\n",
    "      elif hhs==self.rew_vec[3]: #find a similar best score\n",
    "        rew_comp[3] = 5\n",
    "        #add code here later to save the coordinates if it is different from the previous one\n",
    "      else:\n",
    "        rew_comp[3] = 2\n",
    "    elif hhs==self.prev_distance[3]: # stay in same place\n",
    "      rew_comp[3] = 0.5\n",
    "    \n",
    "    self.prev_distance[3] = hhs\n",
    "\n",
    "    self.log_d[3].append(hhs)\n",
    "    self.log_best_d[3].append(self.rew_vec[3])\n",
    "    self.rew_obtained[3].append(rew_comp[3])\n",
    "    print('score obtained',rew_comp[3])\n",
    "    print('avg_d', hhs)\n",
    "    print('slf.rew_vec', self.rew_vec[3])\n",
    "    print('reward',rew_comp[3])\n",
    "      \n",
    "    return rew_comp,temp_rew_vec\n",
    "\n",
    "  def obj5(self):\n",
    "\n",
    "    #rule 5 - maximize lighting of pack soil by the LED\n",
    "    total = 0\n",
    "    rew_comp = np.zeros(6) #6 here is number of objective\n",
    "    temp_rew_vec = np.zeros(6)\n",
    "\n",
    "    x_1, y_1, z_1 = self.getComponentPosition(2)\n",
    "    z_1 = 0  #z moves to the top of the greenhouse for ps(ideal led position)\n",
    "    x_2, y_2, z_2 = self.getComponentPosition(6)\n",
    "    psl = math.sqrt((x_2 - x_1)**2 + (y_2 - y_1)**2 + (z_2 - z_1)**2)\n",
    "    \n",
    "\n",
    "    temp_rew_vec[0] = psl\n",
    "    \n",
    "    #reward for moving closer or away from the best distance\n",
    "    if psl>self.prev_distance[4]: # move away\n",
    "      rew_comp[4] = -1\n",
    "    elif psl<self.prev_distance[4]: # move closer\n",
    "      #if it moves closer then check for the best score\n",
    "      if psl<self.rew_vec[4]: #set a new best score\n",
    "        rew_comp[4] = 10\n",
    "        self.rew_vec[4] = psl\n",
    "        pos1 = self.getComponentPosition(2)\n",
    "        pos2 = self.getComponentPosition(6)\n",
    "        self.best_pos_5 = [pos1, pos2]\n",
    "        self.best_pos_log_5.append(self.best_pos_5)\n",
    "      elif psl==self.rew_vec[4]: #find a similar best score\n",
    "        rew_comp[4] = 5\n",
    "        #add code here later to save the coordinates if it is different from the previous one\n",
    "      else:\n",
    "        rew_comp[4] = 2\n",
    "    elif psl==self.prev_distance[4]: # stay in same place\n",
    "      rew_comp[4] = 0.5\n",
    "    \n",
    "    self.prev_distance[4] = psl\n",
    "    \n",
    "    self.log_d[4].append(psl)\n",
    "    self.log_best_d[4].append(self.rew_vec[4])\n",
    "    self.rew_obtained[4].append(rew_comp[4])\n",
    "    print('score obtained',rew_comp[4])\n",
    "    print('avg_d', psl)\n",
    "    print('slf.rew_vec', self.rew_vec[4])\n",
    "    print('reward',rew_comp[4])\n",
    "      \n",
    "    return rew_comp,temp_rew_vec\n",
    "\n",
    "  def obj6(self):\n",
    "\n",
    "    #rule 6 - maximize view of pack soil captured by the camera\n",
    "    total = 0\n",
    "    rew_comp = np.zeros(6) #6 here is number of objective\n",
    "    temp_rew_vec = np.zeros(6)\n",
    "\n",
    "    x_1, y_1, z_1 = self.getComponentPosition(2)\n",
    "    z_1 = 0  #z moves to the top of the greenhouse\n",
    "    x_2, y_2, z_2 = self.getComponentPosition(4)\n",
    "    psc = math.sqrt((x_2 - x_1)**2 + (y_2 - y_1)**2 + (z_2 - z_1)**2)\n",
    "\n",
    "    temp_rew_vec[0] = psc\n",
    "    \n",
    "    #reward for moving closer or away from the best distance\n",
    "    if psc>self.prev_distance[5]: # move away\n",
    "      rew_comp[5] = -1\n",
    "    elif psc<self.prev_distance[5]: # move closer\n",
    "      #if it moves closer then check for the best score\n",
    "      if psc<self.rew_vec[5]: #set a new best score\n",
    "        rew_comp[5] = 10\n",
    "        self.rew_vec[5] = psc\n",
    "        pos1 = self.getComponentPosition(2)\n",
    "        pos2 = self.getComponentPosition(4)\n",
    "        self.best_pos_5 = [pos1, pos2]\n",
    "        self.best_pos_log_5.append(self.best_pos_5)\n",
    "      elif psc==self.rew_vec[5]: #find a similar best score\n",
    "        rew_comp[5] = 5\n",
    "        #add code here later to save the coordinates if it is different from the previous one\n",
    "      else:\n",
    "        rew_comp[5] = 2\n",
    "    elif psc==self.prev_distance[5]: # stay in same place\n",
    "      rew_comp[5] = 0.5\n",
    "    \n",
    "    self.prev_distance[5] = psc\n",
    "    \n",
    "    self.log_d[5].append(psc)\n",
    "    self.log_best_d[5].append(self.rew_vec[5])\n",
    "    self.rew_obtained[5].append(rew_comp[5])\n",
    "    print('score obtained',rew_comp[5])\n",
    "    print('avg_d', psc)\n",
    "    print('slf.rew_vec', self.rew_vec[5])\n",
    "    print('reward',rew_comp[5])\n",
    "      \n",
    "    return rew_comp,temp_rew_vec\n",
    "\n",
    "\n",
    "\n",
    "\n",
    "\n",
    "  \n",
    "  #handling in step func\n",
    "  def avoidOffGrid(self, newState, oldState):\n",
    "    if newState not in self.obsSpace:\n",
    "      return True\n",
    "    ##add code here\n",
    "\n",
    "  def step(self, action, comp_id, obj): #,rule_val_arr\n",
    "    \n",
    "    obj_fun = {0:self.obj1 , 1:self.obj2, 2:self.obj3, 3:self.obj4, 4:self.obj5, 5:self.obj6}\n",
    "    x,y,z = self.getComponentPosition(comp_id)\n",
    "    if action == 0:\n",
    "      #up\n",
    "      if z == 0:  #checking end of grid\n",
    "        new_z = z\n",
    "        nextState = (x,y,new_z)\n",
    "        \n",
    "      elif self.getComponentValue((x,y,z-1)) > 0:\n",
    "        new_z = z\n",
    "        nextState = (x,y,new_z)\n",
    "        \n",
    "      else:\n",
    "        new_z = z - 1\n",
    "        nextState = (x,y,new_z)\n",
    "      self.setState(nextState,comp_id)\n",
    "      st = self.posToState(tuple(nextState))\n",
    "      \n",
    "    elif action == 1:\n",
    "      #down\n",
    "      if z == self.o-1:\n",
    "        new_z = z\n",
    "        nextState = (x,y,new_z)\n",
    "      elif self.getComponentValue((x,y,z+1)) > 0:\n",
    "        new_z = z\n",
    "        nextState = (x,y,new_z)\n",
    "      else:\n",
    "        new_z = z + 1\n",
    "        nextState = (x,y,new_z)\n",
    "      self.setState(nextState,comp_id)\n",
    "      st = self.posToState(tuple(nextState))\n",
    "      \n",
    "      \n",
    "    elif action == 2:\n",
    "      #left\n",
    "      if x == 0:\n",
    "        new_x = x\n",
    "        nextState = (new_x,y,z)\n",
    "      elif self.getComponentValue((x-1,y,z)) > 0:\n",
    "        new_x = x\n",
    "        nextState = (new_x,y,z)\n",
    "      else:\n",
    "        new_x = x - 1\n",
    "        nextState = (new_x,y,z)\n",
    "      self.setState(nextState,comp_id)\n",
    "      st = self.posToState(tuple(nextState))\n",
    "      \n",
    "\n",
    "    elif action == 3:\n",
    "      #right\n",
    "      if x == self.m - 1:\n",
    "        new_x = x\n",
    "        nextState = (new_x,y,z)\n",
    "      elif self.getComponentValue((x+1,y,z)) > 0:\n",
    "        new_x = x\n",
    "        nextState = (new_x,y,z)\n",
    "      else:\n",
    "        new_x = x + 1\n",
    "        nextState = (new_x,y,z)\n",
    "      self.setState(nextState,comp_id)\n",
    "      st = self.posToState(tuple(nextState))\n",
    "      \n",
    "\n",
    "    elif action == 4:\n",
    "      #front\n",
    "      if y == 0:\n",
    "        new_y = y\n",
    "        nextState = (x,new_y,z)\n",
    "      elif self.getComponentValue((x,y-1,z)) > 0:\n",
    "        new_y = y\n",
    "        nextState = (x,new_y,z)\n",
    "      else:\n",
    "        new_y = y - 1\n",
    "        nextState = (x,new_y,z)\n",
    "      self.setState(nextState,comp_id)\n",
    "      st = self.posToState(tuple(nextState))\n",
    "      \n",
    "\n",
    "    elif action == 5:\n",
    "      #back\n",
    "      if y == self.n - 1:\n",
    "        new_y = y\n",
    "        nextState = (x,new_y,z)\n",
    "      elif self.getComponentValue((x,y+1,z)) > 0:\n",
    "        new_y = y\n",
    "        nextState = (x,new_y,z)\n",
    "      else:\n",
    "        new_y = y + 1\n",
    "        nextState = (x,new_y,z)\n",
    "      self.setState(nextState,comp_id)\n",
    "      st = self.posToState(tuple(nextState))\n",
    "      \n",
    "\n",
    "    elif action == 6:\n",
    "      #don't move\n",
    "      nextState = (x,y,z)\n",
    "      self.setState(nextState,comp_id)\n",
    "      st = self.posToState(tuple(nextState))\n",
    "    temp1 = self.occupied\n",
    "    self.env_pos_log.append(temp1) \n",
    "    t = comp_id + 1\n",
    "    rew,trv = obj_fun[obj]()# self.rewardComponents(t)\n",
    "\n",
    "    \n",
    "\n",
    "    \n",
    "    rew = list(rew)\n",
    "    dom = rew.count(1)\n",
    "    non_dom = rew.count(-1)\n",
    "    #print('rew', rew)\n",
    "    #print('dom', dom)\n",
    "    #print('non dom', non_dom)\n",
    "    '''\n",
    "    if dom>non_dom:\n",
    "      reward_ret = 1\n",
    "      self.rew_vec = trv\n",
    "      #print('mi aahe')\n",
    "    elif dom<non_dom:\n",
    "      reward_ret = -1\n",
    "      #print('mi nai')\n",
    "    else:\n",
    "      reward_ret = 0.5\n",
    "      if random.uniform(0,1) < 0.5:\n",
    "        self.rew_vec = trv            \n",
    "    '''\n",
    "\n",
    "    \n",
    "\n",
    "    '''\n",
    "    dis = self.calcDistance(1,2)\n",
    "    if dis <= self.dist_arr[0]:\n",
    "      reward = 1\n",
    "      self.dist_arr[0] = dis\n",
    "    else:\n",
    "      reward = -1\n",
    "    '''\n",
    "    #print('next state innn', st)\n",
    "    return st, rew[obj], trv\n",
    "\n",
    "  def tupleToState(self, tup):\n",
    "    tem = ''\n",
    "    for i in tup:\n",
    "      s = str(i)\n",
    "      tem = tem + s\n",
    "    tem = int(tem)\n",
    "\n",
    "    return tem\n",
    "\n",
    "  \n",
    "\n",
    "  def step_main(self,state, act,comp_id_1, comp_id_2):\n",
    "    act_1 = int(act/7)\n",
    "    act_2 = int(act%7)\n",
    "\n",
    "    print('action 1: ', act_1)\n",
    "    print('action 2: ', act_2)\n",
    "    self.step(act_1,comp_id_1)\n",
    "    self.step(act_2,comp_id_2)\n",
    "    \n",
    "    dis = self.calcDistance(comp_id_1,comp_id_2)\n",
    "    if dis <= self.dist_arr[0]:\n",
    "      reward = 1\n",
    "    else:\n",
    "      reward = -1\n",
    "    \n",
    "    idx1 = comp_id_1 - 1\n",
    "    idx2 = comp_id_2 - 1\n",
    "\n",
    "    pos1 = self.getComponentPosition(idx1)\n",
    "    pos2 = self.getComponentPosition(idx2)\n",
    "    print('Comp',comp_id_1,' pos is: ',pos1)\n",
    "    print('Comp',comp_id_2,' pos is: ',pos2)\n",
    "\n",
    "    next_state = pos1 + pos2\n",
    "    next_state = self.tupleToState(next_state)\n",
    "\n",
    "    if dis<= 3:\n",
    "      done = True\n",
    "    else:\n",
    "      done = False\n",
    "\n",
    "    return next_state, reward, done\n",
    "\n",
    "  def statePositionDict(self,m,n,o):\n",
    "    cnt = 0\n",
    "    for i in range(m):\n",
    "      for j in range(n):\n",
    "        for k in range(o):\n",
    "          self.statePosDict[cnt] = (i,j,k)\n",
    "          cnt += 1\n",
    "    \n",
    "  def posToState(self,tup):\n",
    "    #print(self.statePosDict)\n",
    "    for k,v in self.statePosDict.items():\n",
    "      if v == tup:\n",
    "        ptos = k\n",
    "    return ptos\n",
    "\n",
    "  def stateToPos(self,s):\n",
    "    ret = self.statePosDict[s]\n",
    "\n",
    "    return ret\n",
    "\n",
    "\n",
    "  def calcDistance(self, comp_id_1, comp_id_2):\n",
    "    x_1, y_1, z_1 = self.getComponentPosition(comp_id_1)\n",
    "    x_2, y_2, z_2 = self.getComponentPosition(comp_id_2)\n",
    "    dist = math.sqrt((x_2 - x_1)**2 + (y_2 - y_1)**2 + (z_2 - z_1)**2)\n",
    "    return dist\n",
    "\n",
    "  \n",
    "  def reset(self):\n",
    "    #self.grid = np.zeros((self.m, self.n,self.o))\n",
    "    self.__init__(self.m, self.n,self.o)\n",
    "\n",
    "  def render(self):\n",
    "    #print(self.occupied)\n",
    "    print('components',self.components)\n",
    "    #print(\n",
    "    #    '#####################################################################'+\n",
    "    #    '#####################################################################'\n",
    "    #    +'########################')\n",
    "    x = []\n",
    "    y = []\n",
    "    z = []\n",
    "    for tup in self.occupied:\n",
    "      x.append(tup[0])\n",
    "      y.append(tup[1])\n",
    "      z.append(tup[2])\n",
    "    \n",
    "    print('*****FRONT VIEW*****')\n",
    "    print('Z_AXIS \\u2193')\n",
    "    \n",
    "    i=1\n",
    "    for y_id in range(self.n):\n",
    "      print('LAYER_',y_id)\n",
    "      for i in range(self.m):\n",
    "        print('################',end='')\n",
    "      print()\n",
    "      for z_id in range((self.o)):\n",
    "        for x_id in range((self.m)):\n",
    "          print('|',end='\\t')\n",
    "          temp = self.getComponentValue((x_id,y_id,z_id))\n",
    "          if temp>0:\n",
    "            print(temp,end='\\t')\n",
    "            #i+=1\n",
    "          else:\n",
    "            print(-1, end='\\t')\n",
    "        print('|',end='\\t')\n",
    "        print()\n",
    "        for i in range(self.m):\n",
    "          print('################',end='')\n",
    "        print()\n",
    "    print('X_AXIS \\u2192')\n",
    "    print('\\n\\n')\n",
    "    print('*****TOP VIEW*****')\n",
    "    print('Y_AXIS \\u2193')\n",
    "    \n",
    "    i=1\n",
    "    for z_id in range(self.o):\n",
    "      print('LAYER_',z_id)\n",
    "      for i in range(self.m):\n",
    "        print('################',end='')\n",
    "      print()\n",
    "      for y_id in range((self.n)):\n",
    "        for x_id in range((self.m)):\n",
    "          print('|',end='\\t')\n",
    "          temp = self.getComponentValue((x_id,y_id,z_id))\n",
    "          if temp>0:\n",
    "            print(temp,end='\\t')\n",
    "          #  i+=1\n",
    "          else:\n",
    "            print(-1, end='\\t')\n",
    "        print('|',end='\\t')\n",
    "        print()\n",
    "        for i in range(self.m):\n",
    "          print('################',end='')\n",
    "        print()\n",
    "      print('X_AXIS \\u2192')\n",
    "        \n",
    "\n"
   ]
  },
  {
   "cell_type": "code",
   "execution_count": null,
   "metadata": {
    "id": "HXnl4MvI_sJj"
   },
   "outputs": [],
   "source": [
    "def replay(replay_memory, minibatch_size=32):\n",
    "  minibatch = np.random.choice(replay_memory, minibatch_size, replace = True)\n",
    "  \n",
    "  state_ =      np.array(list(map(lambda x: x['state'], minibatch)))\n",
    "  action_ =      np.array(list(map(lambda x: x['action'], minibatch)))\n",
    "  reward_ =      np.array(list(map(lambda x: x['reward'], minibatch)))\n",
    "  next_state_ = np.array(list(map(lambda x: x['next_state'], minibatch)))\n",
    "  done_ = np.array(list(map(lambda x: x['done'], minibatch)))\n",
    "\n",
    "  #print('s prime', next_state_)\n",
    "  q_next_state_ = model.predict(next_state_)\n",
    "  target_f = model.predict(state_)\n",
    "\n",
    "  for i, (state,action,reward,q_next_state,done) in enumerate(zip(state_,action_,reward_,q_next_state_,done_)):\n",
    "    if not done:\n",
    "      target = reward + gamma * np.max(q_next_state)\n",
    "    else:\n",
    "      target = reward\n",
    "  \n",
    "  model.fit(state_,target_f,epochs = 1, verbose = 0)\n",
    "\n",
    "  return model\n",
    "\n",
    "\n"
   ]
  },
  {
   "cell_type": "code",
   "execution_count": null,
   "metadata": {
    "id": "ElmQOzX9HGbj"
   },
   "outputs": [],
   "source": [
    "from collections import defaultdict\n",
    "from copy import deepcopy\n",
    "class Agent:\n",
    "  def __init__(self, eps_prob):\n",
    "    self.time_step = 0\n",
    "    self.eps_prob = eps_prob\n",
    "    self.total_rew = 0\n",
    "    self.prev_action = None\n",
    "    self.action_cnt = 0\n",
    "    self.action_log = []\n",
    "    self.env_pos_log = []\n",
    "    self.obj_pos = {0: [], 1: [], 2: [], 3: [], 4: [], 5: [], 6: [], 7: []}\n",
    "    \n",
    "\n",
    "  def greedy_eps(self, Q, eps, num_act):\n",
    "    #https://www.geeksforgeeks.org/q-learning-in-python/\n",
    "    #https://www.learndatasci.com/tutorials/reinforcement-q-learning-scratch-python-openai-gym/\n",
    "\n",
    "    def policyFunc(state):\n",
    "      act_prob = np.ones(num_act, dtype = float) * eps / num_act\n",
    "\n",
    "      best_act = np.argmax(Q[state])\n",
    "      act_prob[best_act] += (1 - eps)\n",
    "      \n",
    "      return act_prob\n",
    "\n",
    "    return policyFunc\n",
    "\n",
    "  def qLearning(self, env, nS, nA, num_episodes, disc_fac = 1.0, alpha = 0.5, epsilon = 0.1):\n",
    "    \n",
    "    '''\n",
    "    Q_1 = np.zeros((nS,nA)) #num of action hardcoded\n",
    "    Q_2 = np.zeros((nS,nA))\n",
    "    Q_3 = np.zeros((nS,nA))\n",
    "    Q_4 = np.zeros((nS,nA))\n",
    "    Q_5 = np.zeros((nS,nA))\n",
    "    Q_6 = np.zeros((nS,nA))\n",
    "    '''\n",
    "\n",
    "    Q_1 = np.zeros((nS,nA))\n",
    "    Q_2 = np.zeros((nS,nA))\n",
    "    Q = np.zeros((nS,nA))\n",
    "    \n",
    "    \n",
    "    m1 = deepcopy(model)\n",
    "    m2 = deepcopy(model)\n",
    "    #num_obj = 2\n",
    "\n",
    "    obj_dict = {0:[1,2,7], 1:[1,7]} #0:[1,2,7], 1:[0,5], 2:[3,6], 3:[0,3], 4:[2,6], 5:[2,4]\n",
    "    \n",
    "    \n",
    "\n",
    "    step_cnt = 0\n",
    "\n",
    "    reward_total = 0\n",
    "\n",
    "    lr = 0.9\n",
    "\n",
    "    y = 0.95\n",
    "\n",
    "    '''Pareto Front Initializations'''\n",
    "    \n",
    "    paretoList = []\n",
    "\n",
    "    front1 = []\n",
    "\n",
    "    front2 = []\n",
    "\n",
    "    compList = []\n",
    "\n",
    "    check_arr = []\n",
    "    while reward_total<50000:\n",
    "\n",
    "    #for x in range(num_episodes):\n",
    "      #env.reset()\n",
    "      check_arr.append(step_cnt)\n",
    "      step_cnt += 1\n",
    "\n",
    "      for obj in obj_dict:\n",
    "        \n",
    "        for i in obj_dict[obj]:\n",
    "          \n",
    "          \n",
    "          state = env.getComponentPosition(i)\n",
    "          state = env.posToState(state)\n",
    "          #print('state is: ',state)\n",
    "          done = False\n",
    "          \n",
    "          start = time.time()\n",
    "\n",
    "          reward_log = [] #np.array(3000)\n",
    "\n",
    "          \n",
    "          \n",
    "          reward_total_log = [] #np.array(7)\n",
    "\n",
    "          while not done:\n",
    "            #if step_cnt % 200 == 0:\n",
    "            \n",
    "\n",
    "            #print('env occ', env.occupied)\n",
    "            #print('log', env.env_pos_log)\n",
    "\n",
    "            step_cnt += 1\n",
    "\n",
    "            '''\n",
    "            if random.uniform(0,1) < epsilon:\n",
    "              action = np.random.choice(7)\n",
    "              self.action_log.append(0) # 0 for random action\n",
    "            else:\n",
    "              if obj == 0:\n",
    "                action = np.argmax(Q_1[state])\n",
    "              elif obj == 1:\n",
    "                action = np.argmax(Q_2[state])\n",
    "              elif obj == 2:\n",
    "                action = np.argmax(Q_3[state])\n",
    "              elif obj == 3:\n",
    "                action = np.argmax(Q_4[state])\n",
    "              elif obj == 4:\n",
    "                action = np.argmax(Q_5[state])\n",
    "              elif obj == 5:\n",
    "                action = np.argmax(Q_6[state])\n",
    "              self.action_log.append(1) # 1 for best action\n",
    "            #print('action',action)\n",
    "            '''\n",
    "            print(Q[state, :])\n",
    "            #action = np.argmax(Q[state, :] + np.random.randn(1,7)*20)\n",
    "            state_s = np.array(state)\n",
    "            if obj==0:\n",
    "              qvals_s = m1.predict(state_s.reshape(1,1))\n",
    "            elif obj ==1:\n",
    "              qvals_s = m2.predict(state_s.reshape(1,1))\n",
    "\n",
    "\n",
    "            if np.random.random() < epsilon:\n",
    "              action = np.random.randint(0,7)\n",
    "            else:\n",
    "              #print('qvals is', qvals_s)\n",
    "              action = np.argmax(qvals_s) \n",
    "              #action = np.argmax(Q[state, :]) \n",
    "            #print('action: ', action)\n",
    "\n",
    "            \n",
    "            next_state, reward, dist = env.step(action, i, obj)\n",
    "\n",
    "            reward_total += reward\n",
    "\n",
    "            print('reward total', reward_total)\n",
    "            reward_log.append(reward)\n",
    "            if obj == 0:\n",
    "              if len(replay_memory1) > max_mem_size:\n",
    "                replay_memory1.pop(0)\n",
    "            \n",
    "              replay_memory1.append({'state':state, 'action':action, 'reward':reward,'next_state':next_state, 'done':done})\n",
    "            \n",
    "            elif obj == 1:\n",
    "              if len(replay_memory2) > max_mem_size:\n",
    "                replay_memory2.pop(0)\n",
    "            \n",
    "              replay_memory2.append({'state':state, 'action':action, 'reward':reward,'next_state':next_state, 'done':done})\n",
    "\n",
    "\n",
    "\n",
    "            obj1_w = 0.5\n",
    "            obj2_w = 0.5\n",
    "\n",
    "\n",
    "\n",
    "            if obj == 0:\n",
    "              old_val = Q_1[state, action]\n",
    "              next_max = np.max(Q_1[next_state])\n",
    "\n",
    "              #new_value = (1 - alpha) * old_val + alpha * (reward + disc_fac * next_max)\n",
    "\n",
    "              #Q_1[state,action] = Q_1[state,action] + lr*((obj1_w) * y*np.max(Q_1[state,:]) - Q_1[state,action])\n",
    "              #print('stateval',qvals_s)\n",
    "              #print('act',action)\n",
    "              Q_1[state,action] = qvals_s[0][action]\n",
    "\n",
    "              #Q[state,action] = obj1_w*Q_1[state,action] + obj2_w*Q_2[state,action]\n",
    "\n",
    "              state = next_state\n",
    "            \n",
    "            \n",
    "              #comment starts here\n",
    "              '''\n",
    "              avg_d_glog = np.array(env.log_d[0])\n",
    "\n",
    "              best_d_glog = np.array(env.log_best_d[0])\n",
    "\n",
    "              rew_obt_glog = np.array(env.rew_obtained[0])\n",
    "\n",
    "              reward_avg_d_file_name = 'avg_d_glog'+str(obj)+'_'+str(i)        \n",
    "              np.save('/content/drive/MyDrive/ProdDesign_Numpy3/'+reward_avg_d_file_name+'.npy', avg_d_glog)\n",
    "              \n",
    "              reward_best_d_file_name = 'best_d_glog'+str(obj)+'_'+str(i)\n",
    "              np.save('/content/drive/MyDrive/ProdDesign_Numpy3/'+reward_best_d_file_name+'.npy', best_d_glog)\n",
    "\n",
    "              reward_rew_obt_file_name = 'rew_obt_glog'+str(obj)+'_'+str(i)        \n",
    "              np.save('/content/drive/MyDrive/ProdDesign_Numpy3/'+reward_rew_obt_file_name+'.npy', rew_obt_glog)\n",
    "\n",
    "              reward_best_pos_log_obt_file_name = 'rew_best_pos_glog'+str(obj)+'_'+str(i)        \n",
    "              np.save('/content/drive/MyDrive/ProdDesign_Numpy3/'+reward_best_pos_log_obt_file_name+'.npy', env.best_pos_log)\n",
    "              '''\n",
    "              #comment ends here\n",
    "            elif obj == 1:\n",
    "              old_val = Q_2[state, action]\n",
    "              next_max = np.max(Q_2[next_state])\n",
    "\n",
    "              #new_value = (1 - alpha) * old_val + alpha * (reward + disc_fac * next_max)\n",
    "\n",
    "              Q_2[state,action] = qvals_s[0][action]\n",
    "\n",
    "              state = next_state\n",
    "              '''\n",
    "              avg_d_glog = np.array(env.log_d[5])\n",
    "\n",
    "              best_d_glog = np.array(env.log_best_d[5])\n",
    "\n",
    "              rew_obt_glog = np.array(env.rew_obtained[5])\n",
    "\n",
    "              reward_avg_d_file_name = 'avg_d_glog'+str(obj)+'_'+str(i)        \n",
    "              np.save('/content/drive/MyDrive/ProdDesign_Numpy3/'+reward_avg_d_file_name+'.npy', avg_d_glog)\n",
    "              reward_best_d_file_name = 'best_d_glog'+str(obj)+'_'+str(i)\n",
    "              np.save('/content/drive/MyDrive/ProdDesign_Numpy3/'+reward_best_d_file_name+'.npy', best_d_glog)\n",
    "\n",
    "              reward_rew_obt_file_name = 'rew_obt_glog'+str(obj)+'_'+str(i)        \n",
    "              np.save('/content/drive/MyDrive/ProdDesign_Numpy3/'+reward_rew_obt_file_name+'.npy', rew_obt_glog)\n",
    "\n",
    "              reward_best_pos_log_obt_file_name = 'rew_best_pos_glog'+str(obj)+'_'+str(i)        \n",
    "              np.save('/content/drive/MyDrive/ProdDesign_Numpy3/'+reward_best_pos_log_obt_file_name+'.npy', env.best_pos_log_4)\n",
    "              ''' \n",
    "            '''\n",
    "            elif obj == 1:\n",
    "              old_val = Q_2[state, action]\n",
    "              next_max = np.max(Q_2[next_state])\n",
    "\n",
    "              #new_value = (1 - alpha) * old_val + alpha * (reward + disc_fac * next_max)\n",
    "\n",
    "              #Q_2[state,action] = new_value\n",
    "\n",
    "              #Q_2[state,action] = Q_2[state,action] + lr*((obj2_w) * y*np.max(Q_2[state,:]) - Q_2[state,action])\n",
    "\n",
    "              Q_2[state,action] = qvals_s[0][action]\n",
    "              #Q[state,action] = obj1_w*Q_1[state,action] + obj2_w*Q_2[state,action]\n",
    "\n",
    "              state = next_state\n",
    "              \n",
    "              #comment starts here\n",
    "              \n",
    "              avg_d_glog = np.array(env.log_d[1])\n",
    "\n",
    "              best_d_glog = np.array(env.log_best_d[1])\n",
    "\n",
    "              rew_obt_glog = np.array(env.rew_obtained[1])\n",
    "\n",
    "              reward_avg_d_file_name = 'avg_d_glog'+str(obj)+'_'+str(i)        \n",
    "              np.save('/content/drive/MyDrive/ProdDesign_Numpy3/'+reward_avg_d_file_name+'.npy', avg_d_glog)\n",
    "              reward_best_d_file_name = 'best_d_glog'+str(obj)+'_'+str(i)\n",
    "              np.save('/content/drive/MyDrive/ProdDesign_Numpy3/'+reward_best_d_file_name+'.npy', best_d_glog)\n",
    "\n",
    "              reward_rew_obt_file_name = 'rew_obt_glog'+str(obj)+'_'+str(i)        \n",
    "              np.save('/content/drive/MyDrive/ProdDesign_Numpy3/'+reward_rew_obt_file_name+'.npy', rew_obt_glog)\n",
    "\n",
    "              reward_best_pos_log_obt_file_name = 'rew_best_pos_glog'+str(obj)+'_'+str(i)        \n",
    "              np.save('/content/drive/MyDrive/ProdDesign_Numpy3/'+reward_best_pos_log_obt_file_name+'.npy', env.best_pos_log_2)\n",
    "              \n",
    "              #comment ends here\n",
    "            \n",
    "            \n",
    "            elif obj == 2:\n",
    "              old_val = Q_3[state, action]\n",
    "              next_max = np.max(Q_3[next_state])\n",
    "\n",
    "              new_value = (1 - alpha) * old_val + alpha * (reward + disc_fac * next_max)\n",
    "\n",
    "              Q_3[state,action] = new_value\n",
    "\n",
    "              state = next_state\n",
    "\n",
    "              avg_d_glog = np.array(env.log_d[2])\n",
    "\n",
    "              best_d_glog = np.array(env.log_best_d[2])\n",
    "\n",
    "              rew_obt_glog = np.array(env.rew_obtained[2])\n",
    "\n",
    "              reward_avg_d_file_name = 'avg_d_glog'+str(obj)+'_'+str(i)        \n",
    "              np.save('/content/drive/MyDrive/ProdDesign_Numpy3/'+reward_avg_d_file_name+'.npy', avg_d_glog)\n",
    "              reward_best_d_file_name = 'best_d_glog'+str(obj)+'_'+str(i)\n",
    "              np.save('/content/drive/MyDrive/ProdDesign_Numpy3/'+reward_best_d_file_name+'.npy', best_d_glog)\n",
    "\n",
    "              reward_rew_obt_file_name = 'rew_obt_glog'+str(obj)+'_'+str(i)        \n",
    "              np.save('/content/drive/MyDrive/ProdDesign_Numpy3/'+reward_rew_obt_file_name+'.npy', rew_obt_glog)\n",
    "\n",
    "              reward_best_pos_log_obt_file_name = 'rew_best_pos_glog'+str(obj)+'_'+str(i)        \n",
    "              np.save('/content/drive/MyDrive/ProdDesign_Numpy3/'+reward_best_pos_log_obt_file_name+'.npy', env.best_pos_log_3)\n",
    "            \n",
    "            elif obj == 3:\n",
    "              old_val = Q_4[state, action]\n",
    "              next_max = np.max(Q_4[next_state])\n",
    "\n",
    "              new_value = (1 - alpha) * old_val + alpha * (reward + disc_fac * next_max)\n",
    "\n",
    "              Q_4[state,action] = new_value\n",
    "\n",
    "              state = next_state\n",
    "\n",
    "              avg_d_glog = np.array(env.log_d[3])\n",
    "\n",
    "              best_d_glog = np.array(env.log_best_d[3])\n",
    "\n",
    "              rew_obt_glog = np.array(env.rew_obtained[3])\n",
    "\n",
    "              reward_avg_d_file_name = 'avg_d_glog'+str(obj)+'_'+str(i)        \n",
    "              np.save('/content/drive/MyDrive/ProdDesign_Numpy3/'+reward_avg_d_file_name+'.npy', avg_d_glog)\n",
    "              reward_best_d_file_name = 'best_d_glog'+str(obj)+'_'+str(i)\n",
    "              np.save('/content/drive/MyDrive/ProdDesign_Numpy3/'+reward_best_d_file_name+'.npy', best_d_glog)\n",
    "\n",
    "              reward_rew_obt_file_name = 'rew_obt_glog'+str(obj)+'_'+str(i)        \n",
    "              np.save('/content/drive/MyDrive/ProdDesign_Numpy3/'+reward_rew_obt_file_name+'.npy', rew_obt_glog)\n",
    "\n",
    "              reward_best_pos_log_obt_file_name = 'rew_best_pos_glog'+str(obj)+'_'+str(i)        \n",
    "              np.save('/content/drive/MyDrive/ProdDesign_Numpy3/'+reward_best_pos_log_obt_file_name+'.npy', env.best_pos_log_4)\n",
    "\n",
    "            elif obj == 4:\n",
    "              old_val = Q_5[state, action]\n",
    "              next_max = np.max(Q_5[next_state])\n",
    "\n",
    "              new_value = (1 - alpha) * old_val + alpha * (reward + disc_fac * next_max)\n",
    "\n",
    "              Q_5[state,action] = new_value\n",
    "\n",
    "              state = next_state\n",
    "\n",
    "              avg_d_glog = np.array(env.log_d[4])\n",
    "\n",
    "              best_d_glog = np.array(env.log_best_d[4])\n",
    "\n",
    "              rew_obt_glog = np.array(env.rew_obtained[4])\n",
    "\n",
    "              reward_avg_d_file_name = 'avg_d_glog'+str(obj)+'_'+str(i)        \n",
    "              np.save('/content/drive/MyDrive/ProdDesign_Numpy3/'+reward_avg_d_file_name+'.npy', avg_d_glog)\n",
    "              reward_best_d_file_name = 'best_d_glog'+str(obj)+'_'+str(i)\n",
    "              np.save('/content/drive/MyDrive/ProdDesign_Numpy3/'+reward_best_d_file_name+'.npy', best_d_glog)\n",
    "\n",
    "              reward_rew_obt_file_name = 'rew_obt_glog'+str(obj)+'_'+str(i)        \n",
    "              np.save('/content/drive/MyDrive/ProdDesign_Numpy3/'+reward_rew_obt_file_name+'.npy', rew_obt_glog)\n",
    "\n",
    "              reward_best_pos_log_obt_file_name = 'rew_best_pos_glog'+str(obj)+'_'+str(i)        \n",
    "              np.save('/content/drive/MyDrive/ProdDesign_Numpy3/'+reward_best_pos_log_obt_file_name+'.npy', env.best_pos_log_4)\n",
    "            '''\n",
    "            \n",
    "            \n",
    "            for ind in range(8):\n",
    "              self.obj_pos[ind].append(env.getComponentPosition(ind))\n",
    "              \n",
    "\n",
    "\n",
    "            end = time.time()\n",
    "\n",
    "            diff = end - start\n",
    "\n",
    "            if obj == 0:\n",
    "              m1 = replay(replay_memory1, minibatch_size=minibatch_size)\n",
    "            elif obj == 1:\n",
    "              m2 = replay(replay_memory2, minibatch_size=minibatch_size)\n",
    "\n",
    "            if epsilon > 0.01:\n",
    "              epsilon -= 0.001\n",
    "            \n",
    "            #val = 0\n",
    "            if reward>0:# or diff>90: #actual code was reward>=0 then done\n",
    "              done = True\n",
    "              #print('ep:',x)\n",
    "              #print('rew_tot', reward_total)\n",
    "              #print('diff', diff)\n",
    "\n",
    "          #log reward total outside the if loop\n",
    "          #log distance for each inside the if condition\n",
    "          #log individual reward inside the if condition\n",
    "          #log best distance inside the if condition\n",
    "          \n",
    "          #reward_total_log.append(reward_total)\n",
    "\n",
    "          #reward_log = np.array(reward_log)\n",
    "          #reward_total_log = np.array(reward_total_log)\n",
    "\n",
    "          #reward_file_name = 'reward_random_'+str(x)+'_'+str(i)\n",
    "\n",
    "                  \n",
    "          avg_d_glog = np.array(env.log_d[obj])\n",
    "\n",
    "          best_d_glog = np.array(env.log_best_d[obj])\n",
    "\n",
    "          rew_obt_glog = np.array(env.rew_obtained[obj])\n",
    "\n",
    "          reward_avg_d_file_name = 'avg_d_glog'+str(obj)+'_'+str(i)        \n",
    "          np.save('/content/drive/MyDrive/ProdDesign_Numpy3/'+reward_avg_d_file_name+'.npy', avg_d_glog)\n",
    "              \n",
    "          reward_best_d_file_name = 'best_d_glog'+str(obj)+'_'+str(i)\n",
    "          np.save('/content/drive/MyDrive/ProdDesign_Numpy3/'+reward_best_d_file_name+'.npy', best_d_glog)\n",
    "\n",
    "          reward_rew_obt_file_name = 'rew_obt_glog'+str(obj)+'_'+str(i)        \n",
    "          np.save('/content/drive/MyDrive/ProdDesign_Numpy3/'+reward_rew_obt_file_name+'.npy', rew_obt_glog)\n",
    "\n",
    "          reward_best_pos_log_obt_file_name = 'rew_best_pos_glog'+str(obj)+'_'+str(i)        \n",
    "          np.save('/content/drive/MyDrive/ProdDesign_Numpy3/'+reward_best_pos_log_obt_file_name+'.npy', env.best_pos_log)\n",
    "          \n",
    "          reward_act_log_obt_file_name = 'rew_act_glog'+str(obj)+'_'+str(i)        \n",
    "          np.save('/content/drive/MyDrive/ProdDesign_Numpy3/'+reward_act_log_obt_file_name+'.npy', self.action_log)\n",
    "\n",
    "        output.clear()\n",
    "        #np.save('/content/drive/MyDrive/ProdDesign_Numpy3/'+reward_file_name+'.npy', reward_log)\n",
    "      \n",
    "        #reward_total_file_name = 'reward_total_random_'+str(num_episodes)\n",
    "        #np.save('/content/drive/MyDrive/ProdDesign_Numpy3/'+reward_total_file_name+'.npy', reward_total_log)\n",
    "\n",
    "      paretoList.append([env.log_d[0][-1],env.log_d[1][-1]])\n",
    "      compList.append([env.getComponentPosition(1),env.getComponentPosition(2),env.getComponentPosition(7)])\n",
    "      paretoL = np.array(paretoList)\n",
    "      compL = np.array(compList)\n",
    "      np.save('/content/drive/MyDrive/ProdDesign_Numpy3/paretoList.npy', paretoL)\n",
    "      np.save('/content/drive/MyDrive/ProdDesign_Numpy3/compList.npy', compL)\n",
    "\n",
    "      #try to add count here if needed\n",
    "      # http://studentsrepo.um.edu.my/4592/1/APPENDIX_A.pdf\n",
    "\n",
    "      \n",
    "\n",
    "\n",
    "\n",
    "\n",
    "\n",
    "      '''\n",
    "      if front1: #1st front not empty\n",
    "        ob_val = [env.log_d[0][-1],env.log_d[1][-1]]]\n",
    "        temp_front = [] #keep temporary values to move to front2 at once later\n",
    "        for each in front1:\n",
    "          if (ob_val[0]<each[0] and ob_val[1]<=each[1]) or (ob_val[0]<=each[0] and ob_val[1]<each[1]) or (ob_val[0]<each[0] and ob_val[1]<each[1]): #check if new soln is dominating\n",
    "            temp_front.append(each)\n",
    "          elif (ob_val[0]>each[0] and ob_val[1]>=each[1]) or (ob_val[0]>=each[0] and ob_val[1]>each[1]) or (ob_val[0]>each[0] and ob_val[1]>each[1]): #new soln is dominated\n",
    "            temp_front.append(each)\n",
    "          \n",
    "\n",
    "\n",
    "        front2 = front1\n",
    "        front1 = temp_front\n",
    "      \n",
    "      elif not front1: #1st front empty\n",
    "        front1.append([env.log_d[0][-1],env.log_d[1][-1]])\n",
    "\n",
    "      '''\n",
    "\n",
    "      #comment #1 starts\n",
    "      '''\n",
    "      paretoList.append([env.log_d[0][-1],env.log_d[1][-1]])\n",
    "\n",
    "      paretoFront = []\n",
    "\n",
    "      paretoFront1 = []\n",
    "\n",
    "      for each in paretoList:\n",
    "        paretoFront.append(each)\n",
    "        for e in paretoList:\n",
    "          if(e[1]<each[1] and e[0]<=each[0]) or (e[1]<=each[1] and e[0]<each[0]):\n",
    "            paretoFront.remove(each) #each gets removed as e is dominating\n",
    "            paretoList.remove(each)\n",
    "            break\n",
    "\n",
    "      \n",
    "\n",
    "      for each in paretoFront:\n",
    "        if each not in paretoFront1:\n",
    "          paretoFront1.append(each)\n",
    "\n",
    "      #if len(env.log_best_d)>\n",
    "\n",
    "      #if env.log_best_d[-1]<env.log_best_d[-2]: #Just less than because both of the objective is minimize\n",
    "      #  paretoList.clear()\n",
    "      #print('log d len',len(env.log_d[0][-1]))\n",
    "\n",
    "    '''\n",
    "    #comment #1 ends\n",
    "    \n",
    "    '''\n",
    "    S=[[] for i in range(0,len(paretoList))]\n",
    "    front = [[]]\n",
    "    front_val = [[]]\n",
    "    n=[0 for i in range(0,len(paretoList))]\n",
    "    rank = [0 for i in range(0, len(paretoList))]\n",
    "    \n",
    "\n",
    "    for p in range(0, len(paretoList)):\n",
    "      n[p] = 0\n",
    "      S[p] = []\n",
    "      \n",
    "      for q in range(0, len(paretoList)):\n",
    "        #if(e[1]<each[1] and e[0]<=each[0]) or (e[1]<=each[1] and e[0]<each[0]):\n",
    "        if(p != q):\n",
    "          if ((paretoList[p][0]<paretoList[q][0] and paretoList[p][1]<=paretoList[q][1])\n",
    "          or (paretoList[p][0]<=paretoList[q][0] and paretoList[p][1]<paretoList[q][1])): #p dominates q\n",
    "            S[p].append(q)\n",
    "            \n",
    "          elif ((paretoList[q][0]<paretoList[p][0] and paretoList[q][1]<paretoList[p][1])): #q dominates p\n",
    "            n[p] = n[p] + 1\n",
    "        \n",
    "        if n[p] == 0:\n",
    "          rank[p] = 0\n",
    "          if p not in front[0]:  #adding distinct solutions to first front\n",
    "            front[0].append(p)\n",
    "            front_val[0].append(paretoList[p])\n",
    "            \n",
    "\n",
    "      \n",
    "    i = 0\n",
    "    while (front[i] != []): #empty\n",
    "      Q_P = []\n",
    "      Q_Pval = []\n",
    "      for p in front[i]:\n",
    "        for q in S[p]:\n",
    "          n[q] = n[q] - 1\n",
    "          if (n[q] == 0):\n",
    "            rank[q] = i+1\n",
    "            if q not in Q_P:\n",
    "              Q_P.append(q)\n",
    "              Q_Pval.append(paretoList[q])\n",
    "              \n",
    "        \n",
    "      i = i+1\n",
    "      front.append(Q_P)\n",
    "      front_val.append(Q_Pval)\n",
    "      \n",
    "        \n",
    "              \n",
    "    del front[len(front)-1]\n",
    "    del front_val[len(front_val)-1]\n",
    "\n",
    "    paretoFront = np.array(front)\n",
    "    np.save('/content/drive/MyDrive/ProdDesign_Numpy3/pareto_front.npy', paretoFront)\n",
    "    paretoFrontVal = np.array(front_val)\n",
    "    np.save('/content/drive/MyDrive/ProdDesign_Numpy3/pareto_front_val.npy', paretoFrontVal)\n",
    "    \n",
    "    '''\n",
    "\n",
    "    '''\n",
    "    print('Pareto Front')\n",
    "    paretoFront = []\n",
    "    paretoRem = []\n",
    "    for each in paretoList:\n",
    "      paretoFront.append(each)\n",
    "      for e in paretoList:\n",
    "        if(e[1]<each[1] and e[0]<=each[0]) or (e[1]<=each[1] and e[0]<each[0]):\n",
    "          paretoFront.remove(each) #each gets removed as e is dominating\n",
    "          paretoList.remove(each)\n",
    "          paretoRem.append([e[1],each[1]])\n",
    "          break\n",
    "    \n",
    "    paretoFront1 = []    #remove duplicate solutions\n",
    "    \n",
    "    for each in paretoFront:\n",
    "      if each not in paretoFront1:\n",
    "        paretoFront1.append(each)\n",
    "\n",
    "    print('The solution in pareto front have distance of obj 1 and obj 2 resp')\n",
    "    print(paretoFront1)\n",
    "    print('The solution removed')\n",
    "    print(paretoRem)\n",
    "    \n",
    "    paretoFront1 = np.array(paretoFront1)\n",
    "    np.save('/content/drive/MyDrive/ProdDesign_Numpy3/pareto_front.npy', paretoFront1)\n",
    "    #paretoRem = np.array(paretoRem)\n",
    "    #np.save('/content/drive/MyDrive/ProdDesign_Numpy3/pareto_rem.npy', paretoRem)\n",
    "    '''\n",
    "    env_occ_file_name = 'env_occ_glog'        \n",
    "    np.save('/content/drive/MyDrive/ProdDesign_Numpy3/'+env_occ_file_name+'.npy', self.env_pos_log)\n",
    "\n",
    "    print('CHECK', check_arr)\n",
    "    #print('append', append1, ' ', append2, ' ', append3, ' ', append4)\n",
    "    #print('OBJ POS', obj_pos[0])"
   ]
  },
  {
   "cell_type": "code",
   "execution_count": null,
   "metadata": {
    "colab": {
     "base_uri": "https://localhost:8080/"
    },
    "id": "E0nbhgNK1ZI1",
    "outputId": "70d01264-c41f-44db-8aa4-a9f1ea465012"
   },
   "outputs": [],
   "source": [
    "env = GreenHouseEnv(50 ,50, 50)"
   ]
  },
  {
   "cell_type": "code",
   "execution_count": null,
   "metadata": {
    "id": "OCglRNWSrwq1"
   },
   "outputs": [],
   "source": [
    "agent = Agent(0.1)"
   ]
  },
  {
   "cell_type": "code",
   "execution_count": null,
   "metadata": {
    "colab": {
     "base_uri": "https://localhost:8080/"
    },
    "id": "vG3irsyjsIpx",
    "outputId": "51faf24b-0553-467c-e994-73b312d8c0ab"
   },
   "outputs": [],
   "source": [
    "agent.qLearning(env=env,nS=50*50*50,nA=7,num_episodes=1000)"
   ]
  },
  {
   "cell_type": "code",
   "execution_count": null,
   "metadata": {
    "colab": {
     "base_uri": "https://localhost:8080/"
    },
    "id": "QZq38keuiJ6-",
    "outputId": "b9859568-c531-440f-9177-8351c938878e"
   },
   "outputs": [],
   "source": [
    "paretoList = np.load('/content/drive/MyDrive/ProdDesign_Numpy3/paretoList.npy')\n",
    "paretoList = paretoList.tolist()\n",
    "len(paretoList)"
   ]
  },
  {
   "cell_type": "code",
   "execution_count": null,
   "metadata": {
    "colab": {
     "base_uri": "https://localhost:8080/"
    },
    "id": "OcJTixIsATio",
    "outputId": "0afe7f7f-cba0-4da7-d1b9-a143c0771cf4"
   },
   "outputs": [],
   "source": [
    "len(paretoList)"
   ]
  },
  {
   "cell_type": "code",
   "execution_count": null,
   "metadata": {
    "colab": {
     "base_uri": "https://localhost:8080/",
     "height": 34
    },
    "id": "xo4al41Ym1dD",
    "outputId": "1d908ecb-78b2-45b6-96b0-0fb0464f49e8"
   },
   "outputs": [],
   "source": [
    "from IPython.display import HTML, display\n",
    "import time\n",
    "\n",
    "def progress(value, max=100):\n",
    "    return HTML(\"\"\"\n",
    "        <progress\n",
    "            value='{value}'\n",
    "            max='{max}',\n",
    "            style='width: 100%'\n",
    "        >\n",
    "            {value}\n",
    "        </progress>\n",
    "    \"\"\".format(value=value, max=max))\n",
    "\n",
    "out = display(progress(0, 100), display_id=True)\n",
    "for ii in range(101):\n",
    "    time.sleep(0.02)\n",
    "    out.update(progress(ii, 100))"
   ]
  },
  {
   "cell_type": "code",
   "execution_count": null,
   "metadata": {
    "id": "YbFegG5AeQg7"
   },
   "outputs": [],
   "source": [
    "def paretoFrontFunc(paretoList, compList):\n",
    "  S=[[] for i in range(0,len(paretoList))]\n",
    "  front_val_comp = [[]]\n",
    "  front = [[]]\n",
    "  front_val = [[]]\n",
    "  n=[0 for i in range(0,len(paretoList))]\n",
    "  rank = [0 for i in range(0, len(paretoList))]\n",
    "  append1 = []\n",
    "  append2 = []\n",
    "  append3 = []\n",
    "  append4 = []\n",
    "  append5 = []\n",
    "  out = display(progress(0, 100), display_id=True)\n",
    "  for p in range(0, len(paretoList)):\n",
    "    #n[p] = 0\n",
    "    #S[p] = []\n",
    "  \n",
    "    for q in range(0, len(paretoList)):\n",
    "      #if(e[1]<each[1] and e[0]<=each[0]) or (e[1]<=each[1] and e[0]<each[0]):\n",
    "      if (p!=q):\n",
    "        if ((paretoList[p][0]<paretoList[q][0] and paretoList[p][1]>=paretoList[q][1])\n",
    "        or (paretoList[p][0]<=paretoList[q][0] and paretoList[p][1]>paretoList[q][1])): #p dominates q\n",
    "          if q not in S[p]: #new added line\n",
    "            S[p].append(q)\n",
    "            append1.append(paretoList[p])\n",
    "        elif ((paretoList[q][0]<=paretoList[p][0] and paretoList[q][1]>paretoList[p][1])\n",
    "        or (paretoList[q][0]<paretoList[p][0] and paretoList[q][1]>=paretoList[p][1])): #q dominates p\n",
    "          n[p] = n[p] + 1\n",
    "          append2.append(paretoList[q])\n",
    "    \n",
    "    if n[p] == 0:\n",
    "      rank[p] = 0   #modified to 0 from 1\n",
    "      if p not in front[0]:  #adding distinct solutions to first front\n",
    "        front[0].append(p)\n",
    "        front_val_comp[0].append(compList[p])\n",
    "\n",
    "        #adding to remove duplicates in front val [remove later based on co-ord]\n",
    "        if paretoList[p] not in front_val[0]:\n",
    "          front_val[0].append(paretoList[p])\n",
    "          front_val_comp[0].append(compList[p])\n",
    "          #paretoList.remove(paretoList[p])\n",
    "          append3.append(paretoList[p])\n",
    "    #output.clear()\n",
    "    completion = (p/len(paretoList))*50\n",
    "    out.update(progress(completion, 100))\n",
    "  \n",
    "    #print('completed:', completion,'%')\n",
    "    \n",
    "  i = 0\n",
    "  print('fronts',front[0])\n",
    "  while (front[i] != []): #not empty\n",
    "    Q_P = []\n",
    "    Q_Pval = []\n",
    "    #print('front',i,'',front[i])\n",
    "  \n",
    "    for p in front[i]:\n",
    "      #print('S[p]',p,S[p])\n",
    "      for q in S[p]:\n",
    "        n[q] = n[q] - 1\n",
    "        if (n[q] == 0):\n",
    "          rank[q] = i+1\n",
    "          if q not in Q_P:\n",
    "            Q_P.append(q)\n",
    "            #adding to remove duplicates in front val [remove later based on co-ord]\n",
    "            if paretoList[q] not in Q_Pval:\n",
    "              Q_Pval.append(paretoList[q])\n",
    "              #paretoList.remove(paretoList[q])\n",
    "              append4.append(paretoList[p])\n",
    "    \n",
    "    i = i+1\n",
    "\n",
    "    front.append(Q_P)\n",
    "    front_val.append(Q_Pval)\n",
    "    #append4 += 1\n",
    "    f_len = len(front)\n",
    "    output.clear()\n",
    "    completion = ((i/f_len)*50)+50\n",
    "    #print('completed:', completion,'%')    \n",
    "    out.update(progress(completion, 100))  \n",
    "              \n",
    "  del front[len(front)-1]\n",
    "  del front_val[len(front_val)-1]\n",
    "\n",
    "  print(len(front_val))\n",
    "\n",
    "  paretoFront = np.array(front)\n",
    "  np.save('/content/drive/MyDrive/ProdDesign_Numpy3/pareto_front.npy', front)\n",
    "  paretoFrontVal = np.array(front_val)\n",
    "  np.save('/content/drive/MyDrive/ProdDesign_Numpy3/pareto_front_val.npy', front_val)\n",
    "\n",
    "  return paretoFront, paretoFrontVal"
   ]
  },
  {
   "cell_type": "code",
   "execution_count": null,
   "metadata": {
    "colab": {
     "base_uri": "https://localhost:8080/",
     "height": 141
    },
    "id": "OqB1FYP0nQ1n",
    "outputId": "3a9765dd-1a76-4b67-d12d-05b46b983a68"
   },
   "outputs": [],
   "source": [
    "paretoList = np.load('/content/drive/MyDrive/ProdDesign_Numpy3/paretoList.npy')\n",
    "paretoList = paretoList.tolist()\n",
    "compList = np.load('/content/drive/MyDrive/ProdDesign_Numpy3/compList.npy')\n",
    "compList = compList.tolist()\n",
    "p,val = paretoFrontFunc(paretoList,compList)"
   ]
  },
  {
   "cell_type": "code",
   "execution_count": null,
   "metadata": {
    "id": "PAgcSr33tuh0"
   },
   "outputs": [],
   "source": [
    "comp = []\n",
    "for i in p[0]:\n",
    "  if compList[i] not in comp:\n",
    "    comp.append(compList[i])\n"
   ]
  },
  {
   "cell_type": "code",
   "execution_count": null,
   "metadata": {
    "colab": {
     "base_uri": "https://localhost:8080/"
    },
    "id": "mhoQ8ZWCassh",
    "outputId": "64e9ca00-6d71-4087-8c97-af7c1f69addd"
   },
   "outputs": [],
   "source": [
    "len(compList[0])"
   ]
  },
  {
   "cell_type": "code",
   "execution_count": null,
   "metadata": {
    "id": "5vYYXw6ruHTB"
   },
   "outputs": [],
   "source": [
    "pareto_val = val"
   ]
  },
  {
   "cell_type": "code",
   "execution_count": null,
   "metadata": {
    "colab": {
     "base_uri": "https://localhost:8080/"
    },
    "id": "DRDuqTMqan7B",
    "outputId": "60c97f5f-2218-48f7-cd3d-ab2a006890d8"
   },
   "outputs": [],
   "source": [
    "len(pareto_val[0])"
   ]
  },
  {
   "cell_type": "code",
   "execution_count": null,
   "metadata": {
    "colab": {
     "base_uri": "https://localhost:8080/"
    },
    "id": "Acr50Q6RvAXP",
    "outputId": "5b6410ee-5f07-4d5a-a710-a601b783960e"
   },
   "outputs": [],
   "source": [
    "comp[0]"
   ]
  },
  {
   "cell_type": "code",
   "execution_count": null,
   "metadata": {
    "colab": {
     "base_uri": "https://localhost:8080/",
     "height": 1000
    },
    "id": "JAmzOHSFv4Ah",
    "outputId": "2bdc177e-7971-48dc-cf4c-d6cd8b8bba31"
   },
   "outputs": [],
   "source": [
    "for i in range(len(comp)):\n",
    "\n",
    "  fig = plt.figure(figsize=(8,8))\n",
    "\n",
    "  ax = fig.add_subplot(111, projection='3d')\n",
    "\n",
    "  ax.scatter(comp[i][0][0],comp[i][0][1],comp[i][0][2], label='water tank', s=50)\n",
    "  ax.scatter(comp[i][1][0],comp[i][1][1],comp[i][1][2], label='Pack Soil', s=50)\n",
    "  ax.scatter(comp[i][2][0],comp[i][2][1],comp[i][2][2], label='water pump', s=50)\n",
    "  ax.set_xlim3d(xmin=0,xmax=50)\n",
    "  ax.set_ylim3d(ymin=0,ymax=50)\n",
    "  ax.set_zlim3d(zmin=0,zmax=50)\n",
    "  plt.legend()\n",
    "  plt.show()\n",
    "  #output.clear(wait=True)"
   ]
  },
  {
   "cell_type": "code",
   "execution_count": null,
   "metadata": {
    "colab": {
     "base_uri": "https://localhost:8080/",
     "height": 778
    },
    "id": "MLMqXvcnyAHD",
    "outputId": "c65b3650-c269-4e34-8440-f899897acad9"
   },
   "outputs": [],
   "source": [
    " orig = [[[4, 6, 18], [16, 27, 46], [24, 38, 18]]]\n",
    " \n",
    "\n",
    " for i in range(len(orig)):\n",
    "\n",
    "  fig = plt.figure(figsize=(8,8))\n",
    "\n",
    "  ax = fig.add_subplot(111, projection='3d')\n",
    "\n",
    "  ax.scatter(orig[i][0][0],orig[i][0][1],orig[i][0][2], label='water tank')\n",
    "  ax.scatter(orig[i][1][0],orig[i][1][1],orig[i][1][2], label='Pack Soil')\n",
    "  ax.scatter(orig[i][2][0],orig[i][2][1],orig[i][2][2], label='water pump')\n",
    "  ax.set_xlim3d(xmin=0,xmax=50)\n",
    "  ax.set_ylim3d(ymin=0,ymax=50)\n",
    "  ax.set_zlim3d(zmin=0,zmax=50)\n",
    "  plt.legend()\n",
    "  plt.show()\n",
    "  #output.clear(wait=True)"
   ]
  },
  {
   "cell_type": "code",
   "execution_count": null,
   "metadata": {
    "colab": {
     "base_uri": "https://localhost:8080/"
    },
    "id": "p6bW33AmuoYW",
    "outputId": "b47dd179-fddf-4a93-de4a-f18df6d828f2"
   },
   "outputs": [],
   "source": [
    "val[0]"
   ]
  },
  {
   "cell_type": "code",
   "execution_count": null,
   "metadata": {
    "colab": {
     "base_uri": "https://localhost:8080/"
    },
    "id": "NcX3LjPf3JuD",
    "outputId": "8e102abf-a0a5-49bd-a602-a5628cefdb68"
   },
   "outputs": [],
   "source": [
    "pareto_val = np.load('/content/drive/MyDrive/ProdDesign_Numpy3/pareto_front_val.npy', allow_pickle=True)\n",
    "#/content/drive/MyDrive/ProdDesign_Numpy3/pareto_front.npy\n",
    "len(pareto_val[0])"
   ]
  },
  {
   "cell_type": "code",
   "execution_count": null,
   "metadata": {
    "colab": {
     "base_uri": "https://localhost:8080/"
    },
    "id": "c9w6nshq6WND",
    "outputId": "68c61b84-404a-463a-c5c6-f29a0a4a136b"
   },
   "outputs": [],
   "source": [
    "pareto_val[0] = np.array(pareto_val[0])\n",
    "pareto_val[0] = pareto_val[0].astype(int)\n",
    "pareto_val[0]"
   ]
  },
  {
   "cell_type": "code",
   "execution_count": null,
   "metadata": {
    "colab": {
     "base_uri": "https://localhost:8080/"
    },
    "id": "D1u33EGO4cei",
    "outputId": "f0f95824-f6f7-48c6-81e2-89beaf26c21b"
   },
   "outputs": [],
   "source": [
    "pareto_val[1]"
   ]
  },
  {
   "cell_type": "code",
   "execution_count": null,
   "metadata": {
    "colab": {
     "base_uri": "https://localhost:8080/"
    },
    "id": "FEG0g_4DuGoE",
    "outputId": "5a3d5fae-18db-40c9-c19d-b91e40747263"
   },
   "outputs": [],
   "source": [
    "pareto = np.load('/content/drive/MyDrive/ProdDesign_Numpy3/pareto_front.npy', allow_pickle=True)\n",
    "#/content/drive/MyDrive/ProdDesign_Numpy3/pareto_front.npy\n",
    "pareto"
   ]
  },
  {
   "cell_type": "code",
   "execution_count": null,
   "metadata": {
    "colab": {
     "base_uri": "https://localhost:8080/",
     "height": 312
    },
    "id": "MnRGia4NBIom",
    "outputId": "2f71b383-d44f-40d9-c94b-d7d2f926c74b"
   },
   "outputs": [],
   "source": [
    "for i in range(len(pareto_val[0])):\n",
    "  x = pareto_val[0][i][0]\n",
    "  y = pareto_val[0][i][1]\n",
    "  plt.scatter(x,y)\n",
    "plt.title('Objective 0[Min] vs Objective 1[Max]')\n",
    "plt.xlabel('Objective 0')\n",
    "plt.ylabel('Objective 1')\n",
    "#plt.axis([max(x),min(x),max(y),min(y)])"
   ]
  },
  {
   "cell_type": "code",
   "execution_count": null,
   "metadata": {
    "colab": {
     "base_uri": "https://localhost:8080/",
     "height": 312
    },
    "id": "50HfOxnr6JwJ",
    "outputId": "1a079dc4-8d71-452c-fd8f-dfe67312643e"
   },
   "outputs": [],
   "source": [
    "for i in range(len(pareto_val[1])):\n",
    "  x = pareto_val[1][i][0]\n",
    "  y = pareto_val[1][i][1]\n",
    "  plt.scatter(x,y)\n",
    "plt.title('Objective 0[Min] vs Objective 1[Max]')\n",
    "plt.xlabel('Objective 0')\n",
    "plt.ylabel('Objective 1')\n",
    "#plt.axis([max(x),min(x),max(y),min(y)])"
   ]
  },
  {
   "cell_type": "code",
   "execution_count": null,
   "metadata": {
    "colab": {
     "base_uri": "https://localhost:8080/"
    },
    "id": "htphZ_cJ2pLz",
    "outputId": "2b589b07-6264-4b3e-d609-9759f75fc8eb"
   },
   "outputs": [],
   "source": [
    "new_l = []\n",
    "for p in pareto_val[0]:\n",
    "  #print(p)\n",
    "  print(p)\n",
    "  if p not in pareto_val[1]:\n",
    "    if p not in new_l:\n",
    "      new_l.append(p)\n",
    "  \n",
    "      "
   ]
  },
  {
   "cell_type": "code",
   "execution_count": null,
   "metadata": {
    "id": "qe9NOutOngUw"
   },
   "outputs": [],
   "source": [
    "p0 = []\n",
    "p1 = []\n",
    "for el in new_l:\n",
    "  if (p not in pareto_val[1]) and (p in pareto_val[0]):\n",
    "    p0.append('true')\n",
    "\n"
   ]
  },
  {
   "cell_type": "code",
   "execution_count": null,
   "metadata": {
    "colab": {
     "base_uri": "https://localhost:8080/"
    },
    "id": "Tz-Kmeqs3_Kc",
    "outputId": "51e57e4e-5990-4b36-c3c3-1949922b47f8"
   },
   "outputs": [],
   "source": [
    "p0"
   ]
  },
  {
   "cell_type": "code",
   "execution_count": null,
   "metadata": {
    "colab": {
     "base_uri": "https://localhost:8080/",
     "height": 312
    },
    "id": "6-_TdUID4oHG",
    "outputId": "020da768-4939-4e3d-eaf1-3f9ecd231900"
   },
   "outputs": [],
   "source": [
    "for i in range(len(new_l)):\n",
    "  x = new_l[i][0]\n",
    "  y = new_l[i][1]\n",
    "  plt.scatter(x,y)\n",
    "plt.title('Objective 0[Min] vs Objective 1[Min]')\n",
    "plt.xlabel('Objective 0')\n",
    "plt.ylabel('Objective 1')\n",
    "#plt.axis([max(x),min(x),max(y),min(y)])"
   ]
  },
  {
   "cell_type": "code",
   "execution_count": null,
   "metadata": {
    "colab": {
     "base_uri": "https://localhost:8080/"
    },
    "id": "hAWCyGqvN4Vm",
    "outputId": "eb7a5158-b391-448b-fc5f-0737e2e9b3d8"
   },
   "outputs": [],
   "source": [
    "len(new_l)"
   ]
  },
  {
   "cell_type": "code",
   "execution_count": null,
   "metadata": {
    "colab": {
     "base_uri": "https://localhost:8080/"
    },
    "id": "9hoayRHcN8_C",
    "outputId": "62e285f7-909a-4aad-8315-ced626f4539e"
   },
   "outputs": [],
   "source": [
    "new_l"
   ]
  },
  {
   "cell_type": "code",
   "execution_count": null,
   "metadata": {
    "colab": {
     "base_uri": "https://localhost:8080/",
     "height": 330
    },
    "id": "WWEdedP48ceN",
    "outputId": "27de8043-739a-4d1e-c945-e0f084668570"
   },
   "outputs": [],
   "source": [
    "a=[]\n",
    "\n",
    "for i in range(len(pareto_val[0])):\n",
    "  x = pareto_val[0][i][0]\n",
    "  \n",
    "  y = pareto_val[0][i][1]\n",
    "  plt.scatter(x,y,c='black')\n",
    "\n",
    "\n",
    "for i in range(len(pareto_val[1])):\n",
    "  x = pareto_val[1][i][0]\n",
    "  y = pareto_val[1][i][1]\n",
    "  plt.scatter(x,y,c='blue')\n",
    "plt.title('Objective 0[Min] vs Objective 1[Max]')\n",
    "plt.xlabel('Objective 0')\n",
    "plt.ylabel('Objective 1')\n",
    "#plt.axis([int(max(x)),int(max(x)),int(max(y)),int(max(y))])\n",
    "print(x)\n",
    "print(y)"
   ]
  },
  {
   "cell_type": "code",
   "execution_count": null,
   "metadata": {
    "colab": {
     "base_uri": "https://localhost:8080/",
     "height": 312
    },
    "id": "si5OhH4a7JfF",
    "outputId": "cbc5b494-5e28-4124-a419-488d8fee78e8"
   },
   "outputs": [],
   "source": [
    "for i in range(len(pareto_val[2])):\n",
    "  x = pareto_val[2][i][0]\n",
    "  y = pareto_val[2][i][1]\n",
    "  plt.scatter(x,y)\n",
    "plt.title('Objective 0[Min] vs Objective 1[Min]')\n",
    "plt.xlabel('Objective 0')\n",
    "plt.ylabel('Objective 1')\n",
    "#plt.axis([max(x),min(x),max(y),min(y)])"
   ]
  },
  {
   "cell_type": "code",
   "execution_count": null,
   "metadata": {
    "colab": {
     "base_uri": "https://localhost:8080/",
     "height": 304
    },
    "id": "65pi2_4k-V0E",
    "outputId": "af62ea7b-36c4-4513-d321-85929037d664"
   },
   "outputs": [],
   "source": [
    "pareto_rem = np.load('/content/drive/MyDrive/ProdDesign_Numpy3/pareto_rem.npy')\n",
    "len(pareto_rem)"
   ]
  },
  {
   "cell_type": "code",
   "execution_count": null,
   "metadata": {
    "id": "U_f9hM_W-fLa"
   },
   "outputs": [],
   "source": [
    "reward_best_d_file_name = 'best_d_glog'+str(0)+'_'+str(1)\n",
    "best_d = np.load('/content/drive/MyDrive/ProdDesign_Numpy3/'+reward_best_d_file_name+'.npy')\n",
    "\n",
    "reward_avg_d_file_name = 'avg_d_glog'+str(0)+'_'+str(1)        \n",
    "avg_d = np.load('/content/drive/MyDrive/ProdDesign_Numpy3/'+reward_avg_d_file_name+'.npy')\n",
    "\n",
    "reward_rew_obt_file_name = 'rew_obt_glog'+str(0)+'_'+str(1)        \n",
    "rew_obt = np.load('/content/drive/MyDrive/ProdDesign_Numpy3/'+reward_rew_obt_file_name+'.npy')\n",
    "\n",
    "reward_best_pos_log_obt_file_name = 'rew_best_pos_glog'+str(0)+'_'+str(1)        \n",
    "best_pos = np.load('/content/drive/MyDrive/ProdDesign_Numpy3/'+reward_best_pos_log_obt_file_name+'.npy')\n",
    "\n",
    "reward_act_log_obt_file_name = 'rew_act_glog'+str(0)+'_'+str(1)        \n",
    "act_log = np.load('/content/drive/MyDrive/ProdDesign_Numpy3/'+reward_act_log_obt_file_name+'.npy')\n"
   ]
  },
  {
   "cell_type": "code",
   "execution_count": null,
   "metadata": {
    "colab": {
     "base_uri": "https://localhost:8080/"
    },
    "id": "_z7mnNHFPKuD",
    "outputId": "ec538a49-6277-40b2-a957-7260c1360433"
   },
   "outputs": [],
   "source": [
    "best_d"
   ]
  },
  {
   "cell_type": "code",
   "execution_count": null,
   "metadata": {
    "colab": {
     "base_uri": "https://localhost:8080/",
     "height": 312
    },
    "id": "QXWDMU3a_igA",
    "outputId": "c4d85b3b-42c8-4698-8055-6c17c902fb55"
   },
   "outputs": [],
   "source": [
    "plt.plot(best_d[0:500])\n",
    "plt.xlabel('steps')\n",
    "plt.ylabel('best distance')\n",
    "plt.title('Best distance over first 500 steps [component 1]')"
   ]
  },
  {
   "cell_type": "code",
   "execution_count": null,
   "metadata": {
    "colab": {
     "base_uri": "https://localhost:8080/",
     "height": 312
    },
    "id": "HmHc1C2ru6d6",
    "outputId": "3b158cdd-b86e-42e8-e7ab-3504e9c9e0af"
   },
   "outputs": [],
   "source": [
    "plt.plot(best_d)\n",
    "plt.xlabel('steps')\n",
    "plt.ylabel('distance')\n",
    "plt.title('Best distance over all steps[component 1]')"
   ]
  },
  {
   "cell_type": "code",
   "execution_count": null,
   "metadata": {
    "colab": {
     "base_uri": "https://localhost:8080/",
     "height": 312
    },
    "id": "kRP6Yk3mvMMV",
    "outputId": "624a329a-29a6-4288-e1b7-752f0dd14e90"
   },
   "outputs": [],
   "source": [
    "plt.plot(avg_d[0:200])\n",
    "plt.xlabel('steps')\n",
    "plt.ylabel('avg dist')\n",
    "plt.title('Average Distance between components[first 200 steps] for comp 1')"
   ]
  },
  {
   "cell_type": "code",
   "execution_count": null,
   "metadata": {
    "colab": {
     "base_uri": "https://localhost:8080/",
     "height": 312
    },
    "id": "Q-h0K5akvDR3",
    "outputId": "efe80330-9d80-4450-a7de-1fd889d6caf0"
   },
   "outputs": [],
   "source": [
    "plt.plot(avg_d)\n",
    "plt.xlabel('steps')\n",
    "plt.ylabel('avg dist')\n",
    "plt.title('Average Distance between components - comp1')"
   ]
  },
  {
   "cell_type": "code",
   "execution_count": null,
   "metadata": {
    "id": "mNf16i_ZyKP9"
   },
   "outputs": [],
   "source": [
    "point_five = list(rew_obt==0.5).count(True)\n",
    "neg_rew = list(rew_obt==-1).count(True)\n",
    "rew_two = list(rew_obt==2).count(True)\n",
    "rew_five = list(rew_obt==5).count(True)\n",
    "rew_ten = list(rew_obt==10).count(True)"
   ]
  },
  {
   "cell_type": "code",
   "execution_count": null,
   "metadata": {
    "colab": {
     "base_uri": "https://localhost:8080/",
     "height": 312
    },
    "id": "i07fgYOUxeWd",
    "outputId": "b747d3ca-c4ee-427e-858d-ad367ac27ad2"
   },
   "outputs": [],
   "source": [
    "x = ['-1','0.5','2','5','10']\n",
    "y = [neg_rew, point_five, rew_two, rew_five, rew_ten]\n",
    "plt.bar(x,y)\n",
    "plt.xlabel('Reward')\n",
    "plt.ylabel('Count')\n",
    "plt.title('Rewards for component 1')"
   ]
  },
  {
   "cell_type": "code",
   "execution_count": null,
   "metadata": {
    "colab": {
     "base_uri": "https://localhost:8080/",
     "height": 312
    },
    "id": "a5UBde2-0Xu7",
    "outputId": "d9f4c46a-135a-4734-c802-f240e2e5cbe8"
   },
   "outputs": [],
   "source": [
    "x = ['5','10']\n",
    "y = [rew_five, rew_ten]\n",
    "plt.bar(x,y)\n",
    "plt.xlabel('Reward')\n",
    "plt.ylabel('Count')\n",
    "plt.title('Rewards for component 1')"
   ]
  },
  {
   "cell_type": "code",
   "execution_count": null,
   "metadata": {
    "colab": {
     "base_uri": "https://localhost:8080/",
     "height": 312
    },
    "id": "_pwq3lvg-fCD",
    "outputId": "c99d8d44-5a11-4a86-c391-39cf1aa46733"
   },
   "outputs": [],
   "source": [
    "random_action_cnt = list(act_log).count(0)\n",
    "best_action_cnt = list(act_log).count(1)\n",
    "x = ['random','best']\n",
    "y = [random_action_cnt,best_action_cnt]\n",
    "plt.bar(x,y)\n",
    "plt.xlabel('Action')\n",
    "plt.ylabel('Count')\n",
    "plt.title('Exploit vs Explore for component 1')"
   ]
  },
  {
   "cell_type": "code",
   "execution_count": null,
   "metadata": {
    "id": "mcazMJVn1ngk"
   },
   "outputs": [],
   "source": [
    "reward_best_d_file_name = 'best_d_glog'+str(0)+'_'+str(2)\n",
    "best_d = np.load('/content/drive/MyDrive/ProdDesign_Numpy3/'+reward_best_d_file_name+'.npy')\n",
    "\n",
    "reward_avg_d_file_name = 'avg_d_glog'+str(0)+'_'+str(2)        \n",
    "avg_d = np.load('/content/drive/MyDrive/ProdDesign_Numpy3/'+reward_avg_d_file_name+'.npy')\n",
    "\n",
    "reward_rew_obt_file_name = 'rew_obt_glog'+str(0)+'_'+str(2)        \n",
    "rew_obt = np.load('/content/drive/MyDrive/ProdDesign_Numpy3/'+reward_rew_obt_file_name+'.npy')\n",
    "\n",
    "reward_best_pos_log_obt_file_name = 'rew_best_pos_glog'+str(0)+'_'+str(2)        \n",
    "best_pos = np.load('/content/drive/MyDrive/ProdDesign_Numpy3/'+reward_best_pos_log_obt_file_name+'.npy')\n",
    "\n",
    "reward_act_log_obt_file_name = 'rew_act_glog'+str(0)+'_'+str(2)        \n",
    "act_log = np.load('/content/drive/MyDrive/ProdDesign_Numpy3/'+reward_act_log_obt_file_name+'.npy')\n"
   ]
  },
  {
   "cell_type": "code",
   "execution_count": null,
   "metadata": {
    "colab": {
     "base_uri": "https://localhost:8080/",
     "height": 312
    },
    "id": "Tk0Nwsc32Ah-",
    "outputId": "b2323e5c-c25a-45e0-ab0d-f87f60ae4dbc"
   },
   "outputs": [],
   "source": [
    "plt.plot(best_d[0:500])\n",
    "plt.xlabel('steps')\n",
    "plt.ylabel('best distance')\n",
    "plt.title('Best distance over first 100 steps [component 2]')"
   ]
  },
  {
   "cell_type": "code",
   "execution_count": null,
   "metadata": {
    "colab": {
     "base_uri": "https://localhost:8080/",
     "height": 312
    },
    "id": "T6GexQBD2J0j",
    "outputId": "e8ebf5de-d33d-4ebd-9531-cf66827abc26"
   },
   "outputs": [],
   "source": [
    "plt.plot(best_d)\n",
    "plt.xlabel('steps')\n",
    "plt.ylabel('distance')\n",
    "plt.title('Best distance over all steps[component 2]')"
   ]
  },
  {
   "cell_type": "code",
   "execution_count": null,
   "metadata": {
    "colab": {
     "base_uri": "https://localhost:8080/",
     "height": 312
    },
    "id": "iCPCEwKy2SZz",
    "outputId": "2888bc7d-3c13-433d-956f-57f9827e2b8d"
   },
   "outputs": [],
   "source": [
    "plt.plot(avg_d[0:200])\n",
    "plt.xlabel('steps')\n",
    "plt.ylabel('avg dist')\n",
    "plt.title('Average Distance between components[first 200 steps] for comp 2')"
   ]
  },
  {
   "cell_type": "code",
   "execution_count": null,
   "metadata": {
    "colab": {
     "base_uri": "https://localhost:8080/",
     "height": 312
    },
    "id": "tPpE1mkE2eQ7",
    "outputId": "d714f8c9-c372-44f7-b3a5-abc16f393930"
   },
   "outputs": [],
   "source": [
    "plt.plot(avg_d)\n",
    "plt.xlabel('steps')\n",
    "plt.ylabel('avg dist')\n",
    "plt.title('Average Distance between components - comp 2')"
   ]
  },
  {
   "cell_type": "code",
   "execution_count": null,
   "metadata": {
    "id": "o_zQDcuk22ei"
   },
   "outputs": [],
   "source": [
    "point_five = list(rew_obt==0.5).count(True)\n",
    "neg_rew = list(rew_obt==-1).count(True)\n",
    "rew_two = list(rew_obt==2).count(True)\n",
    "rew_five = list(rew_obt==5).count(True)\n",
    "rew_ten = list(rew_obt==10).count(True)"
   ]
  },
  {
   "cell_type": "code",
   "execution_count": null,
   "metadata": {
    "colab": {
     "base_uri": "https://localhost:8080/",
     "height": 312
    },
    "id": "9U2atTtP2nPS",
    "outputId": "1437c5b2-a71d-4a7e-a55c-e513e79143a0"
   },
   "outputs": [],
   "source": [
    "x = ['-1','0.5','2','5','10']\n",
    "y = [neg_rew, point_five, rew_two, rew_five, rew_ten]\n",
    "plt.bar(x,y)\n",
    "plt.xlabel('Reward')\n",
    "plt.ylabel('Count')\n",
    "plt.title('Rewards for component 2')"
   ]
  },
  {
   "cell_type": "code",
   "execution_count": null,
   "metadata": {
    "colab": {
     "base_uri": "https://localhost:8080/",
     "height": 312
    },
    "id": "KjJHllnd2kUu",
    "outputId": "c62e8867-11df-460d-9986-56f5fe1c0a97"
   },
   "outputs": [],
   "source": [
    "x = ['5','10']\n",
    "y = [rew_five, rew_ten]\n",
    "plt.bar(x,y)\n",
    "plt.xlabel('Reward')\n",
    "plt.ylabel('Count')\n",
    "plt.title('Rewards for component 2')"
   ]
  },
  {
   "cell_type": "code",
   "execution_count": null,
   "metadata": {
    "colab": {
     "base_uri": "https://localhost:8080/",
     "height": 312
    },
    "id": "BWCNjpyp3Kg4",
    "outputId": "908841a1-5417-44b4-e418-ef4d7c4e9166"
   },
   "outputs": [],
   "source": [
    "random_action_cnt = list(act_log).count(0)\n",
    "best_action_cnt = list(act_log).count(1)\n",
    "x = ['random','best']\n",
    "y = [random_action_cnt,best_action_cnt]\n",
    "plt.bar(x,y)\n",
    "plt.xlabel('Action')\n",
    "plt.ylabel('Count')\n",
    "plt.title('Exploit vs Explore for component 2')"
   ]
  },
  {
   "cell_type": "code",
   "execution_count": null,
   "metadata": {
    "id": "3KBGvmmG1oG5"
   },
   "outputs": [],
   "source": [
    "reward_best_d_file_name = 'best_d_glog'+str(0)+'_'+str(7)\n",
    "best_d = np.load('/content/drive/MyDrive/ProdDesign_Numpy3/'+reward_best_d_file_name+'.npy')\n",
    "\n",
    "reward_avg_d_file_name = 'avg_d_glog'+str(0)+'_'+str(7)        \n",
    "avg_d = np.load('/content/drive/MyDrive/ProdDesign_Numpy3/'+reward_avg_d_file_name+'.npy')\n",
    "\n",
    "reward_rew_obt_file_name = 'rew_obt_glog'+str(0)+'_'+str(7)        \n",
    "rew_obt = np.load('/content/drive/MyDrive/ProdDesign_Numpy3/'+reward_rew_obt_file_name+'.npy')\n",
    "\n",
    "reward_best_pos_log_obt_file_name = 'rew_best_pos_glog'+str(0)+'_'+str(7)        \n",
    "best_pos = np.load('/content/drive/MyDrive/ProdDesign_Numpy3/'+reward_best_pos_log_obt_file_name+'.npy')\n",
    "\n",
    "reward_act_log_obt_file_name = 'rew_act_glog'+str(0)+'_'+str(7)        \n",
    "act_log = np.load('/content/drive/MyDrive/ProdDesign_Numpy3/'+reward_act_log_obt_file_name+'.npy')"
   ]
  },
  {
   "cell_type": "code",
   "execution_count": null,
   "metadata": {
    "colab": {
     "base_uri": "https://localhost:8080/",
     "height": 312
    },
    "id": "ud-D6OuX3Vgx",
    "outputId": "f0720a8a-64b1-4031-dc65-ba834ea9c66b"
   },
   "outputs": [],
   "source": [
    "plt.plot(best_d[0:500])\n",
    "plt.xlabel('steps')\n",
    "plt.ylabel('best distance')\n",
    "plt.title('Best distance over first 500 steps [component 7]')"
   ]
  },
  {
   "cell_type": "code",
   "execution_count": null,
   "metadata": {
    "colab": {
     "base_uri": "https://localhost:8080/",
     "height": 312
    },
    "id": "ft3VzQGI3b-9",
    "outputId": "1e854cdd-44c1-453c-bd4c-dca38e584587"
   },
   "outputs": [],
   "source": [
    "plt.plot(best_d)\n",
    "plt.xlabel('steps')\n",
    "plt.ylabel('distance')\n",
    "plt.title('Best distance over all steps[component 7]')"
   ]
  },
  {
   "cell_type": "code",
   "execution_count": null,
   "metadata": {
    "colab": {
     "base_uri": "https://localhost:8080/",
     "height": 312
    },
    "id": "7DPH2Awe3wnV",
    "outputId": "401a28b2-f872-4882-d541-92635007ef19"
   },
   "outputs": [],
   "source": [
    "plt.plot(avg_d[0:200])\n",
    "plt.xlabel('steps')\n",
    "plt.ylabel('avg dist')\n",
    "plt.title('Average Distance between components[first 200 steps] for comp 7')"
   ]
  },
  {
   "cell_type": "code",
   "execution_count": null,
   "metadata": {
    "colab": {
     "base_uri": "https://localhost:8080/",
     "height": 312
    },
    "id": "ge6bXZFo31v3",
    "outputId": "c9fb8749-281a-4c9c-acf2-400264008fe9"
   },
   "outputs": [],
   "source": [
    "plt.plot(avg_d)\n",
    "plt.xlabel('steps')\n",
    "plt.ylabel('avg dist')\n",
    "plt.title('Average Distance between components - comp 7')"
   ]
  },
  {
   "cell_type": "code",
   "execution_count": null,
   "metadata": {
    "id": "FjMHh46p3_31"
   },
   "outputs": [],
   "source": [
    "point_five = list(rew_obt==0.5).count(True)\n",
    "neg_rew = list(rew_obt==-1).count(True)\n",
    "rew_two = list(rew_obt==2).count(True)\n",
    "rew_five = list(rew_obt==5).count(True)\n",
    "rew_ten = list(rew_obt==10).count(True)"
   ]
  },
  {
   "cell_type": "code",
   "execution_count": null,
   "metadata": {
    "colab": {
     "base_uri": "https://localhost:8080/",
     "height": 312
    },
    "id": "8Xh5uu1A4ED4",
    "outputId": "2fd01d1a-2554-411e-dc8f-1a6bc1a63410"
   },
   "outputs": [],
   "source": [
    "x = ['-1','0.5','2','5','10']\n",
    "y = [neg_rew, point_five, rew_two, rew_five, rew_ten]\n",
    "plt.bar(x,y)\n",
    "plt.xlabel('Reward')\n",
    "plt.ylabel('Count')\n",
    "plt.title('Rewards for component 7')"
   ]
  },
  {
   "cell_type": "code",
   "execution_count": null,
   "metadata": {
    "colab": {
     "base_uri": "https://localhost:8080/",
     "height": 312
    },
    "id": "9rnQUcAb4Yi1",
    "outputId": "01594648-0569-402a-b1df-d122a12e39c2"
   },
   "outputs": [],
   "source": [
    "x = ['5','10']\n",
    "y = [rew_five, rew_ten]\n",
    "plt.bar(x,y)\n",
    "plt.xlabel('Reward')\n",
    "plt.ylabel('Count')\n",
    "plt.title('Rewards for component 7')"
   ]
  },
  {
   "cell_type": "code",
   "execution_count": null,
   "metadata": {
    "colab": {
     "base_uri": "https://localhost:8080/",
     "height": 312
    },
    "id": "Ez5-z1mC4cdA",
    "outputId": "3ca6093b-9333-4c1f-950c-fb031b8c5e40"
   },
   "outputs": [],
   "source": [
    "random_action_cnt = list(act_log).count(0)\n",
    "best_action_cnt = list(act_log).count(1)\n",
    "x = ['random','best']\n",
    "y = [random_action_cnt,best_action_cnt]\n",
    "plt.bar(x,y)\n",
    "plt.xlabel('Action')\n",
    "plt.ylabel('Count')\n",
    "plt.title('Exploit vs Explore for component 7')"
   ]
  },
  {
   "cell_type": "code",
   "execution_count": null,
   "metadata": {
    "id": "sd3WtFpLmm6x"
   },
   "outputs": [],
   "source": [
    "reward_best_d_file_name = 'best_d_glog'+str(1)+'_'+str(1)\n",
    "best_d = np.load('/content/drive/MyDrive/ProdDesign_Numpy3/'+reward_best_d_file_name+'.npy')\n",
    "\n",
    "reward_avg_d_file_name = 'avg_d_glog'+str(1)+'_'+str(1)        \n",
    "avg_d = np.load('/content/drive/MyDrive/ProdDesign_Numpy3/'+reward_avg_d_file_name+'.npy')\n",
    "\n",
    "reward_rew_obt_file_name = 'rew_obt_glog'+str(1)+'_'+str(1)        \n",
    "rew_obt = np.load('/content/drive/MyDrive/ProdDesign_Numpy3/'+reward_rew_obt_file_name+'.npy')\n",
    "\n",
    "reward_best_pos_log_obt_file_name = 'rew_best_pos_glog'+str(1)+'_'+str(1)        \n",
    "best_pos = np.load('/content/drive/MyDrive/ProdDesign_Numpy3/'+reward_best_pos_log_obt_file_name+'.npy')\n",
    "\n",
    "reward_act_log_obt_file_name = 'rew_act_glog'+str(1)+'_'+str(1)        \n",
    "act_log = np.load('/content/drive/MyDrive/ProdDesign_Numpy3/'+reward_act_log_obt_file_name+'.npy')"
   ]
  },
  {
   "cell_type": "code",
   "execution_count": null,
   "metadata": {
    "colab": {
     "base_uri": "https://localhost:8080/",
     "height": 312
    },
    "id": "UMJsmHM5mqb6",
    "outputId": "c171c6e4-8239-4a2e-eef0-39cf538afa77"
   },
   "outputs": [],
   "source": [
    "plt.plot(best_d[0:100])\n",
    "plt.xlabel('steps')\n",
    "plt.ylabel('best distance')\n",
    "plt.title('Best distance over first 100 steps [component 0]')"
   ]
  },
  {
   "cell_type": "code",
   "execution_count": null,
   "metadata": {
    "colab": {
     "base_uri": "https://localhost:8080/",
     "height": 312
    },
    "id": "WcoU24TfmvSy",
    "outputId": "be2e6be9-84b5-47c6-fad8-e8667adc802b"
   },
   "outputs": [],
   "source": [
    "plt.plot(best_d)\n",
    "plt.xlabel('steps')\n",
    "plt.ylabel('distance')\n",
    "plt.title('Best distance over all steps[component 0]')"
   ]
  },
  {
   "cell_type": "code",
   "execution_count": null,
   "metadata": {
    "colab": {
     "base_uri": "https://localhost:8080/",
     "height": 312
    },
    "id": "qbpE8nHlmy9f",
    "outputId": "4c8a98d9-d799-4f11-e73d-f9e6da3f90ee"
   },
   "outputs": [],
   "source": [
    "plt.plot(avg_d[0:200])\n",
    "plt.xlabel('steps')\n",
    "plt.ylabel('avg dist')\n",
    "plt.title('Average Distance between components[first 200 steps] for comp 0')"
   ]
  },
  {
   "cell_type": "code",
   "execution_count": null,
   "metadata": {
    "colab": {
     "base_uri": "https://localhost:8080/",
     "height": 312
    },
    "id": "w19Eypw4m2eb",
    "outputId": "53acd991-96a6-4697-de42-095da27a4aa7"
   },
   "outputs": [],
   "source": [
    "plt.plot(avg_d)\n",
    "plt.xlabel('steps')\n",
    "plt.ylabel('avg dist')\n",
    "plt.title('Average Distance between components - comp 0')"
   ]
  },
  {
   "cell_type": "code",
   "execution_count": null,
   "metadata": {
    "id": "nJeR7x1em6Au"
   },
   "outputs": [],
   "source": [
    "point_five = list(rew_obt==0.5).count(True)\n",
    "neg_rew = list(rew_obt==-1).count(True)\n",
    "rew_two = list(rew_obt==2).count(True)\n",
    "rew_five = list(rew_obt==5).count(True)\n",
    "rew_ten = list(rew_obt==10).count(True)"
   ]
  },
  {
   "cell_type": "code",
   "execution_count": null,
   "metadata": {
    "colab": {
     "base_uri": "https://localhost:8080/",
     "height": 312
    },
    "id": "ud3V4N_Nm9qI",
    "outputId": "b8ef8710-9083-4e71-b450-67ecf40c4f32"
   },
   "outputs": [],
   "source": [
    "x = ['-1','0.5','2','5','10']\n",
    "y = [neg_rew, point_five, rew_two, rew_five, rew_ten]\n",
    "plt.bar(x,y)\n",
    "plt.xlabel('Reward')\n",
    "plt.ylabel('Count')\n",
    "plt.title('Rewards for component 0')"
   ]
  },
  {
   "cell_type": "code",
   "execution_count": null,
   "metadata": {
    "colab": {
     "base_uri": "https://localhost:8080/",
     "height": 312
    },
    "id": "JBNchf0ZnCvs",
    "outputId": "535658b9-b0b5-47f0-c594-308316cbacb6"
   },
   "outputs": [],
   "source": [
    "x = ['5','10']\n",
    "y = [rew_five, rew_ten]\n",
    "plt.bar(x,y)\n",
    "plt.xlabel('Reward')\n",
    "plt.ylabel('Count')\n",
    "plt.title('Rewards for component 0')"
   ]
  },
  {
   "cell_type": "code",
   "execution_count": null,
   "metadata": {
    "colab": {
     "base_uri": "https://localhost:8080/",
     "height": 312
    },
    "id": "pUx1wjiJnIvs",
    "outputId": "2200e8cc-a23f-4965-ae2b-249a12e0e306"
   },
   "outputs": [],
   "source": [
    "random_action_cnt = list(act_log).count(0)\n",
    "best_action_cnt = list(act_log).count(1)\n",
    "x = ['random','best']\n",
    "y = [random_action_cnt,best_action_cnt]\n",
    "plt.bar(x,y)\n",
    "plt.xlabel('Action')\n",
    "plt.ylabel('Count')\n",
    "plt.title('Exploit vs Explore for component 0')"
   ]
  },
  {
   "cell_type": "code",
   "execution_count": null,
   "metadata": {
    "id": "8Zo1taaonrdW"
   },
   "outputs": [],
   "source": [
    "reward_best_d_file_name = 'best_d_glog'+str(1)+'_'+str(5)\n",
    "best_d = np.load('/content/drive/MyDrive/ProdDesign_Numpy3/'+reward_best_d_file_name+'.npy')\n",
    "\n",
    "reward_avg_d_file_name = 'avg_d_glog'+str(1)+'_'+str(5)        \n",
    "avg_d = np.load('/content/drive/MyDrive/ProdDesign_Numpy3/'+reward_avg_d_file_name+'.npy')\n",
    "\n",
    "reward_rew_obt_file_name = 'rew_obt_glog'+str(1)+'_'+str(5)        \n",
    "rew_obt = np.load('/content/drive/MyDrive/ProdDesign_Numpy3/'+reward_rew_obt_file_name+'.npy')\n",
    "\n",
    "reward_best_pos_log_obt_file_name = 'rew_best_pos_glog'+str(1)+'_'+str(5)        \n",
    "best_pos = np.load('/content/drive/MyDrive/ProdDesign_Numpy3/'+reward_best_pos_log_obt_file_name+'.npy')\n",
    "\n",
    "reward_act_log_obt_file_name = 'rew_act_glog'+str(1)+'_'+str(5)        \n",
    "act_log = np.load('/content/drive/MyDrive/ProdDesign_Numpy3/'+reward_act_log_obt_file_name+'.npy')"
   ]
  },
  {
   "cell_type": "code",
   "execution_count": null,
   "metadata": {
    "colab": {
     "base_uri": "https://localhost:8080/",
     "height": 312
    },
    "id": "hRevnJKnn5Cs",
    "outputId": "ae106566-de9d-47c2-d682-7bf3979c6e77"
   },
   "outputs": [],
   "source": [
    "plt.plot(best_d[0:100])\n",
    "plt.xlabel('steps')\n",
    "plt.ylabel('best distance')\n",
    "plt.title('Best distance over first 100 steps [component 5]')"
   ]
  },
  {
   "cell_type": "code",
   "execution_count": null,
   "metadata": {
    "colab": {
     "base_uri": "https://localhost:8080/",
     "height": 312
    },
    "id": "2UldZ1etn_jH",
    "outputId": "9f88b236-613a-4af7-a405-9e55f3dfade9"
   },
   "outputs": [],
   "source": [
    "plt.plot(best_d)\n",
    "plt.xlabel('steps')\n",
    "plt.ylabel('distance')\n",
    "plt.title('Best distance over all steps[component 5]')"
   ]
  },
  {
   "cell_type": "code",
   "execution_count": null,
   "metadata": {
    "colab": {
     "base_uri": "https://localhost:8080/",
     "height": 312
    },
    "id": "tn14hjWUoGSM",
    "outputId": "69477aae-56b3-4eac-9854-11dac3dc7c87"
   },
   "outputs": [],
   "source": [
    "plt.plot(avg_d[0:200])\n",
    "plt.xlabel('steps')\n",
    "plt.ylabel('avg dist')\n",
    "plt.title('Average Distance between components[first 200 steps] for comp 5')"
   ]
  },
  {
   "cell_type": "code",
   "execution_count": null,
   "metadata": {
    "colab": {
     "base_uri": "https://localhost:8080/",
     "height": 312
    },
    "id": "lvEBfdseoKqg",
    "outputId": "c1bf280f-16f2-40f9-d7e4-56c5dc37d404"
   },
   "outputs": [],
   "source": [
    "plt.plot(avg_d)\n",
    "plt.xlabel('steps')\n",
    "plt.ylabel('avg dist')\n",
    "plt.title('Average Distance between components - comp 5')"
   ]
  },
  {
   "cell_type": "code",
   "execution_count": null,
   "metadata": {
    "id": "8LWbGuevoTNC"
   },
   "outputs": [],
   "source": [
    "point_five = list(rew_obt==0.5).count(True)\n",
    "neg_rew = list(rew_obt==-1).count(True)\n",
    "rew_two = list(rew_obt==2).count(True)\n",
    "rew_five = list(rew_obt==5).count(True)\n",
    "rew_ten = list(rew_obt==10).count(True)"
   ]
  },
  {
   "cell_type": "code",
   "execution_count": null,
   "metadata": {
    "colab": {
     "base_uri": "https://localhost:8080/",
     "height": 312
    },
    "id": "ITKe0CDioZD5",
    "outputId": "58de29b3-80f4-4023-f7d6-9aa3851da987"
   },
   "outputs": [],
   "source": [
    "x = ['-1','0.5','2','5','10']\n",
    "y = [neg_rew, point_five, rew_two, rew_five, rew_ten]\n",
    "plt.bar(x,y)\n",
    "plt.xlabel('Reward')\n",
    "plt.ylabel('Count')\n",
    "plt.title('Rewards for component 5')"
   ]
  },
  {
   "cell_type": "code",
   "execution_count": null,
   "metadata": {
    "colab": {
     "base_uri": "https://localhost:8080/",
     "height": 312
    },
    "id": "kOUh4DsmojAJ",
    "outputId": "3a82f07d-8889-461b-96d7-b374a858929c"
   },
   "outputs": [],
   "source": [
    "x = ['5','10']\n",
    "y = [rew_five, rew_ten]\n",
    "plt.bar(x,y)\n",
    "plt.xlabel('Reward')\n",
    "plt.ylabel('Count')\n",
    "plt.title('Rewards for component 5')"
   ]
  },
  {
   "cell_type": "code",
   "execution_count": null,
   "metadata": {
    "colab": {
     "base_uri": "https://localhost:8080/",
     "height": 312
    },
    "id": "2aoGCzvzorDP",
    "outputId": "bc49b03e-604d-4c32-e193-c76ab7f63f1e"
   },
   "outputs": [],
   "source": [
    "random_action_cnt = list(act_log).count(0)\n",
    "best_action_cnt = list(act_log).count(1)\n",
    "x = ['random','best']\n",
    "y = [random_action_cnt,best_action_cnt]\n",
    "plt.bar(x,y)\n",
    "plt.xlabel('Action')\n",
    "plt.ylabel('Count')\n",
    "plt.title('Exploit vs Explore for component 5')"
   ]
  },
  {
   "cell_type": "code",
   "execution_count": null,
   "metadata": {
    "id": "GXwICcNxHXjE"
   },
   "outputs": [],
   "source": [
    "reward_best_d_file_name = 'best_d_glog'+str(2)+'_'+str(3)\n",
    "best_d = np.load('/content/drive/MyDrive/ProdDesign_Numpy3/'+reward_best_d_file_name+'.npy')\n",
    "\n",
    "reward_avg_d_file_name = 'avg_d_glog'+str(2)+'_'+str(3)        \n",
    "avg_d = np.load('/content/drive/MyDrive/ProdDesign_Numpy3/'+reward_avg_d_file_name+'.npy')\n",
    "\n",
    "reward_rew_obt_file_name = 'rew_obt_glog'+str(2)+'_'+str(3)        \n",
    "rew_obt = np.load('/content/drive/MyDrive/ProdDesign_Numpy3/'+reward_rew_obt_file_name+'.npy')\n",
    "\n",
    "reward_best_pos_log_obt_file_name = 'rew_best_pos_glog'+str(2)+'_'+str(3)        \n",
    "best_pos = np.load('/content/drive/MyDrive/ProdDesign_Numpy3/'+reward_best_pos_log_obt_file_name+'.npy')\n",
    "\n",
    "reward_act_log_obt_file_name = 'rew_act_glog'+str(2)+'_'+str(3)        \n",
    "act_log = np.load('/content/drive/MyDrive/ProdDesign_Numpy3/'+reward_act_log_obt_file_name+'.npy')"
   ]
  },
  {
   "cell_type": "code",
   "execution_count": null,
   "metadata": {
    "colab": {
     "base_uri": "https://localhost:8080/",
     "height": 312
    },
    "id": "boc3E-0vHbCF",
    "outputId": "62bb69b7-823f-4062-f473-4aa425e64fae"
   },
   "outputs": [],
   "source": [
    "plt.plot(best_d[0:100])\n",
    "plt.xlabel('steps')\n",
    "plt.ylabel('best distance')\n",
    "plt.title('Best distance over first 100 steps [component 5]')"
   ]
  },
  {
   "cell_type": "code",
   "execution_count": null,
   "metadata": {
    "colab": {
     "base_uri": "https://localhost:8080/",
     "height": 312
    },
    "id": "LJr-mqeVHdgW",
    "outputId": "4796b852-9912-4822-c202-378ae3d22efe"
   },
   "outputs": [],
   "source": [
    "plt.plot(best_d)\n",
    "plt.xlabel('steps')\n",
    "plt.ylabel('distance')\n",
    "plt.title('Best distance over all steps[component 5]')"
   ]
  },
  {
   "cell_type": "code",
   "execution_count": null,
   "metadata": {
    "colab": {
     "base_uri": "https://localhost:8080/",
     "height": 312
    },
    "id": "ObCSv1XcHgUR",
    "outputId": "cda234db-9955-4915-f427-3f1ebc9e07d1"
   },
   "outputs": [],
   "source": [
    "plt.plot(avg_d[0:200])\n",
    "plt.xlabel('steps')\n",
    "plt.ylabel('avg dist')\n",
    "plt.title('Average Distance between components[first 200 steps] for comp 5')"
   ]
  },
  {
   "cell_type": "code",
   "execution_count": null,
   "metadata": {
    "colab": {
     "base_uri": "https://localhost:8080/",
     "height": 312
    },
    "id": "S-y3H0PRHi4U",
    "outputId": "e709567c-e108-4abe-98a5-d5c9a7bc4224"
   },
   "outputs": [],
   "source": [
    "plt.plot(avg_d)\n",
    "plt.xlabel('steps')\n",
    "plt.ylabel('avg dist')\n",
    "plt.title('Average Distance between components - comp 5')"
   ]
  },
  {
   "cell_type": "code",
   "execution_count": null,
   "metadata": {
    "id": "z5UjQ0wuHk_a"
   },
   "outputs": [],
   "source": [
    "point_five = list(rew_obt==0.5).count(True)\n",
    "neg_rew = list(rew_obt==-1).count(True)\n",
    "rew_two = list(rew_obt==2).count(True)\n",
    "rew_five = list(rew_obt==5).count(True)\n",
    "rew_ten = list(rew_obt==10).count(True)"
   ]
  },
  {
   "cell_type": "code",
   "execution_count": null,
   "metadata": {
    "colab": {
     "base_uri": "https://localhost:8080/",
     "height": 312
    },
    "id": "IDKmgaSuHnSt",
    "outputId": "97a9ba61-4d47-4d77-b8c7-945e7c780718"
   },
   "outputs": [],
   "source": [
    "x = ['-1','0.5','2','5','10']\n",
    "y = [neg_rew, point_five, rew_two, rew_five, rew_ten]\n",
    "plt.bar(x,y)\n",
    "plt.xlabel('Reward')\n",
    "plt.ylabel('Count')\n",
    "plt.title('Rewards for component 5')"
   ]
  },
  {
   "cell_type": "code",
   "execution_count": null,
   "metadata": {
    "colab": {
     "base_uri": "https://localhost:8080/",
     "height": 312
    },
    "id": "dLXTdjtdHpbi",
    "outputId": "31829461-75bc-44cb-9822-96e8640e6227"
   },
   "outputs": [],
   "source": [
    "x = ['5','10']\n",
    "y = [rew_five, rew_ten]\n",
    "plt.bar(x,y)\n",
    "plt.xlabel('Reward')\n",
    "plt.ylabel('Count')\n",
    "plt.title('Rewards for component 5')"
   ]
  },
  {
   "cell_type": "code",
   "execution_count": null,
   "metadata": {
    "colab": {
     "base_uri": "https://localhost:8080/",
     "height": 312
    },
    "id": "cNzmFkDPHrdg",
    "outputId": "73c2afa2-0136-45ad-d9da-8a9b7816c087"
   },
   "outputs": [],
   "source": [
    "random_action_cnt = list(act_log).count(0)\n",
    "best_action_cnt = list(act_log).count(1)\n",
    "x = ['random','best']\n",
    "y = [random_action_cnt,best_action_cnt]\n",
    "plt.bar(x,y)\n",
    "plt.xlabel('Action')\n",
    "plt.ylabel('Count')\n",
    "plt.title('Exploit vs Explore for component 5')"
   ]
  },
  {
   "cell_type": "code",
   "execution_count": null,
   "metadata": {
    "id": "wRdbj0T8I0Hj"
   },
   "outputs": [],
   "source": [
    "reward_best_d_file_name = 'best_d_glog'+str(2)+'_'+str(6)\n",
    "best_d = np.load('/content/drive/MyDrive/ProdDesign_Numpy3/'+reward_best_d_file_name+'.npy')\n",
    "\n",
    "reward_avg_d_file_name = 'avg_d_glog'+str(2)+'_'+str(6)        \n",
    "avg_d = np.load('/content/drive/MyDrive/ProdDesign_Numpy3/'+reward_avg_d_file_name+'.npy')\n",
    "\n",
    "reward_rew_obt_file_name = 'rew_obt_glog'+str(2)+'_'+str(6)        \n",
    "rew_obt = np.load('/content/drive/MyDrive/ProdDesign_Numpy3/'+reward_rew_obt_file_name+'.npy')\n",
    "\n",
    "reward_best_pos_log_obt_file_name = 'rew_best_pos_glog'+str(2)+'_'+str(6)        \n",
    "best_pos = np.load('/content/drive/MyDrive/ProdDesign_Numpy3/'+reward_best_pos_log_obt_file_name+'.npy')\n",
    "\n",
    "reward_act_log_obt_file_name = 'rew_act_glog'+str(2)+'_'+str(6)        \n",
    "act_log = np.load('/content/drive/MyDrive/ProdDesign_Numpy3/'+reward_act_log_obt_file_name+'.npy')"
   ]
  },
  {
   "cell_type": "code",
   "execution_count": null,
   "metadata": {
    "colab": {
     "base_uri": "https://localhost:8080/",
     "height": 312
    },
    "id": "t4rCv3AUI8pK",
    "outputId": "051547ba-79e0-49fb-a42b-7cbae92bf276"
   },
   "outputs": [],
   "source": [
    "plt.plot(best_d[0:100])\n",
    "plt.xlabel('steps')\n",
    "plt.ylabel('best distance')\n",
    "plt.title('Best distance over first 100 steps [component 5]')"
   ]
  },
  {
   "cell_type": "code",
   "execution_count": null,
   "metadata": {
    "colab": {
     "base_uri": "https://localhost:8080/",
     "height": 312
    },
    "id": "XpEY6ejdI9fR",
    "outputId": "2ab23707-75df-4c1f-f68d-e5cc0e70e36d"
   },
   "outputs": [],
   "source": [
    "plt.plot(best_d)\n",
    "plt.xlabel('steps')\n",
    "plt.ylabel('distance')\n",
    "plt.title('Best distance over all steps[component 5]')"
   ]
  },
  {
   "cell_type": "code",
   "execution_count": null,
   "metadata": {
    "colab": {
     "base_uri": "https://localhost:8080/",
     "height": 312
    },
    "id": "M0TRqt1XNBYT",
    "outputId": "d1dafbb3-11a4-48d7-9da5-05979978327e"
   },
   "outputs": [],
   "source": [
    "plt.plot(avg_d[0:200])\n",
    "plt.xlabel('steps')\n",
    "plt.ylabel('avg dist')\n",
    "plt.title('Average Distance between components[first 200 steps] for comp 5')"
   ]
  },
  {
   "cell_type": "code",
   "execution_count": null,
   "metadata": {
    "colab": {
     "base_uri": "https://localhost:8080/",
     "height": 312
    },
    "id": "ofRZeBlfNESR",
    "outputId": "1408c7d5-6b88-4551-9d49-d9d8e6d36b52"
   },
   "outputs": [],
   "source": [
    "plt.plot(avg_d)\n",
    "plt.xlabel('steps')\n",
    "plt.ylabel('avg dist')\n",
    "plt.title('Average Distance between components - comp 5')"
   ]
  },
  {
   "cell_type": "code",
   "execution_count": null,
   "metadata": {
    "id": "YZMrw7ImNIX_"
   },
   "outputs": [],
   "source": [
    "point_five = list(rew_obt==0.5).count(True)\n",
    "neg_rew = list(rew_obt==-1).count(True)\n",
    "rew_two = list(rew_obt==2).count(True)\n",
    "rew_five = list(rew_obt==5).count(True)\n",
    "rew_ten = list(rew_obt==10).count(True)"
   ]
  },
  {
   "cell_type": "code",
   "execution_count": null,
   "metadata": {
    "colab": {
     "base_uri": "https://localhost:8080/",
     "height": 312
    },
    "id": "FHLY_O3eNK6T",
    "outputId": "0fcca986-8a1f-4ad9-b826-c067ac43b68f"
   },
   "outputs": [],
   "source": [
    "x = ['-1','0.5','2','5','10']\n",
    "y = [neg_rew, point_five, rew_two, rew_five, rew_ten]\n",
    "plt.bar(x,y)\n",
    "plt.xlabel('Reward')\n",
    "plt.ylabel('Count')\n",
    "plt.title('Rewards for component 5')"
   ]
  },
  {
   "cell_type": "code",
   "execution_count": null,
   "metadata": {
    "colab": {
     "base_uri": "https://localhost:8080/",
     "height": 312
    },
    "id": "Ak09MrlmNNfI",
    "outputId": "5dcb15eb-3fb5-4cd6-a09a-84ffa8bbd106"
   },
   "outputs": [],
   "source": [
    "x = ['5','10']\n",
    "y = [rew_five, rew_ten]\n",
    "plt.bar(x,y)\n",
    "plt.xlabel('Reward')\n",
    "plt.ylabel('Count')\n",
    "plt.title('Rewards for component 5')"
   ]
  },
  {
   "cell_type": "code",
   "execution_count": null,
   "metadata": {
    "colab": {
     "base_uri": "https://localhost:8080/",
     "height": 312
    },
    "id": "LAi1EO-JNP6M",
    "outputId": "eeb0b791-87f2-4b80-83be-ed06d5531b2c"
   },
   "outputs": [],
   "source": [
    "random_action_cnt = list(act_log).count(0)\n",
    "best_action_cnt = list(act_log).count(1)\n",
    "x = ['random','best']\n",
    "y = [random_action_cnt,best_action_cnt]\n",
    "plt.bar(x,y)\n",
    "plt.xlabel('Action')\n",
    "plt.ylabel('Count')\n",
    "plt.title('Exploit vs Explore for component 5')"
   ]
  },
  {
   "cell_type": "code",
   "execution_count": null,
   "metadata": {
    "id": "dkSqUHKTNf0b"
   },
   "outputs": [],
   "source": [
    "reward_best_d_file_name = 'best_d_glog'+str(3)+'_'+str(3)\n",
    "best_d = np.load('/content/drive/MyDrive/ProdDesign_Numpy3/'+reward_best_d_file_name+'.npy')\n",
    "\n",
    "reward_avg_d_file_name = 'avg_d_glog'+str(3)+'_'+str(3)        \n",
    "avg_d = np.load('/content/drive/MyDrive/ProdDesign_Numpy3/'+reward_avg_d_file_name+'.npy')\n",
    "\n",
    "reward_rew_obt_file_name = 'rew_obt_glog'+str(3)+'_'+str(3)        \n",
    "rew_obt = np.load('/content/drive/MyDrive/ProdDesign_Numpy3/'+reward_rew_obt_file_name+'.npy')\n",
    "\n",
    "reward_best_pos_log_obt_file_name = 'rew_best_pos_glog'+str(3)+'_'+str(3)        \n",
    "best_pos = np.load('/content/drive/MyDrive/ProdDesign_Numpy3/'+reward_best_pos_log_obt_file_name+'.npy')\n",
    "\n",
    "reward_act_log_obt_file_name = 'rew_act_glog'+str(3)+'_'+str(3)        \n",
    "act_log = np.load('/content/drive/MyDrive/ProdDesign_Numpy3/'+reward_act_log_obt_file_name+'.npy')"
   ]
  },
  {
   "cell_type": "code",
   "execution_count": null,
   "metadata": {
    "colab": {
     "base_uri": "https://localhost:8080/",
     "height": 312
    },
    "id": "-tCVTBK0NiXS",
    "outputId": "e519d0ef-7ad0-4f16-a7fc-f5a74ef3c8c8"
   },
   "outputs": [],
   "source": [
    "plt.plot(best_d[0:100])\n",
    "plt.xlabel('steps')\n",
    "plt.ylabel('best distance')\n",
    "plt.title('Best distance over first 100 steps [component 5]')"
   ]
  },
  {
   "cell_type": "code",
   "execution_count": null,
   "metadata": {
    "colab": {
     "base_uri": "https://localhost:8080/",
     "height": 312
    },
    "id": "o311e4VoNlmB",
    "outputId": "21f30186-5b3b-481a-c5dd-e2e6e60036b7"
   },
   "outputs": [],
   "source": [
    "plt.plot(best_d)\n",
    "plt.xlabel('steps')\n",
    "plt.ylabel('distance')\n",
    "plt.title('Best distance over all steps[component 5]')"
   ]
  },
  {
   "cell_type": "code",
   "execution_count": null,
   "metadata": {
    "colab": {
     "base_uri": "https://localhost:8080/",
     "height": 312
    },
    "id": "4119KoHINoTL",
    "outputId": "770e32d2-cdd0-45dc-94dc-8ed96c9cb9a3"
   },
   "outputs": [],
   "source": [
    "plt.plot(avg_d[0:200])\n",
    "plt.xlabel('steps')\n",
    "plt.ylabel('avg dist')\n",
    "plt.title('Average Distance between components[first 200 steps] for comp 5')"
   ]
  },
  {
   "cell_type": "code",
   "execution_count": null,
   "metadata": {
    "colab": {
     "base_uri": "https://localhost:8080/",
     "height": 312
    },
    "id": "ojKX8Z21NrQd",
    "outputId": "d7af60b0-a60a-4c1d-9d84-5cda5fcf550c"
   },
   "outputs": [],
   "source": [
    "plt.plot(avg_d)\n",
    "plt.xlabel('steps')\n",
    "plt.ylabel('avg dist')\n",
    "plt.title('Average Distance between components - comp 5')"
   ]
  },
  {
   "cell_type": "code",
   "execution_count": null,
   "metadata": {
    "id": "pxRWVEb1NtlS"
   },
   "outputs": [],
   "source": [
    "point_five = list(rew_obt==0.5).count(True)\n",
    "neg_rew = list(rew_obt==-1).count(True)\n",
    "rew_two = list(rew_obt==2).count(True)\n",
    "rew_five = list(rew_obt==5).count(True)\n",
    "rew_ten = list(rew_obt==10).count(True)"
   ]
  },
  {
   "cell_type": "code",
   "execution_count": null,
   "metadata": {
    "colab": {
     "base_uri": "https://localhost:8080/",
     "height": 312
    },
    "id": "sXTO7zx9Nvzb",
    "outputId": "01bc4e3e-8e6c-4762-935c-38455a2d72e6"
   },
   "outputs": [],
   "source": [
    "x = ['-1','0.5','2','5','10']\n",
    "y = [neg_rew, point_five, rew_two, rew_five, rew_ten]\n",
    "plt.bar(x,y)\n",
    "plt.xlabel('Reward')\n",
    "plt.ylabel('Count')\n",
    "plt.title('Rewards for component 5')"
   ]
  },
  {
   "cell_type": "code",
   "execution_count": null,
   "metadata": {
    "colab": {
     "base_uri": "https://localhost:8080/",
     "height": 312
    },
    "id": "kDkk25X1Nx8S",
    "outputId": "11a8c3a6-caf7-4ed5-89f8-54ac5f60ee73"
   },
   "outputs": [],
   "source": [
    "x = ['5','10']\n",
    "y = [rew_five, rew_ten]\n",
    "plt.bar(x,y)\n",
    "plt.xlabel('Reward')\n",
    "plt.ylabel('Count')\n",
    "plt.title('Rewards for component 5')"
   ]
  },
  {
   "cell_type": "code",
   "execution_count": null,
   "metadata": {
    "colab": {
     "base_uri": "https://localhost:8080/",
     "height": 312
    },
    "id": "3ziWkW6rN0Ll",
    "outputId": "a59e338a-67db-447f-92d3-428a2c97a392"
   },
   "outputs": [],
   "source": [
    "random_action_cnt = list(act_log).count(0)\n",
    "best_action_cnt = list(act_log).count(1)\n",
    "x = ['random','best']\n",
    "y = [random_action_cnt,best_action_cnt]\n",
    "plt.bar(x,y)\n",
    "plt.xlabel('Action')\n",
    "plt.ylabel('Count')\n",
    "plt.title('Exploit vs Explore for component 5')"
   ]
  },
  {
   "cell_type": "code",
   "execution_count": null,
   "metadata": {
    "id": "CmWJysRZN7lV"
   },
   "outputs": [],
   "source": []
  },
  {
   "cell_type": "code",
   "execution_count": null,
   "metadata": {
    "id": "qQXzdaw1N9Oo"
   },
   "outputs": [],
   "source": [
    "reward_best_d_file_name = 'best_d_glog'+str(3)+'_'+str(0)\n",
    "best_d = np.load('/content/drive/MyDrive/ProdDesign_Numpy3/'+reward_best_d_file_name+'.npy')\n",
    "\n",
    "reward_avg_d_file_name = 'avg_d_glog'+str(3)+'_'+str(0)        \n",
    "avg_d = np.load('/content/drive/MyDrive/ProdDesign_Numpy3/'+reward_avg_d_file_name+'.npy')\n",
    "\n",
    "reward_rew_obt_file_name = 'rew_obt_glog'+str(3)+'_'+str(0)        \n",
    "rew_obt = np.load('/content/drive/MyDrive/ProdDesign_Numpy3/'+reward_rew_obt_file_name+'.npy')\n",
    "\n",
    "reward_best_pos_log_obt_file_name = 'rew_best_pos_glog'+str(3)+'_'+str(0)        \n",
    "best_pos = np.load('/content/drive/MyDrive/ProdDesign_Numpy3/'+reward_best_pos_log_obt_file_name+'.npy')\n",
    "\n",
    "reward_act_log_obt_file_name = 'rew_act_glog'+str(3)+'_'+str(0)        \n",
    "act_log = np.load('/content/drive/MyDrive/ProdDesign_Numpy3/'+reward_act_log_obt_file_name+'.npy')"
   ]
  },
  {
   "cell_type": "code",
   "execution_count": null,
   "metadata": {
    "colab": {
     "base_uri": "https://localhost:8080/",
     "height": 312
    },
    "id": "j7gOz7qHN9Oo",
    "outputId": "b442b2a6-12bc-4dde-80b9-b94d9e8b68a3"
   },
   "outputs": [],
   "source": [
    "plt.plot(best_d[0:100])\n",
    "plt.xlabel('steps')\n",
    "plt.ylabel('best distance')\n",
    "plt.title('Best distance over first 100 steps [component 5]')"
   ]
  },
  {
   "cell_type": "code",
   "execution_count": null,
   "metadata": {
    "colab": {
     "base_uri": "https://localhost:8080/",
     "height": 312
    },
    "id": "nXL6KWP5N9Op",
    "outputId": "dc151f16-f185-4cd5-afeb-bdf959ebe8e1"
   },
   "outputs": [],
   "source": [
    "plt.plot(best_d)\n",
    "plt.xlabel('steps')\n",
    "plt.ylabel('distance')\n",
    "plt.title('Best distance over all steps[component 5]')"
   ]
  },
  {
   "cell_type": "code",
   "execution_count": null,
   "metadata": {
    "colab": {
     "base_uri": "https://localhost:8080/",
     "height": 312
    },
    "id": "nIpQ59AfN9Op",
    "outputId": "af5eb169-9d55-4763-a16b-c7a8aad441c2"
   },
   "outputs": [],
   "source": [
    "plt.plot(avg_d[0:200])\n",
    "plt.xlabel('steps')\n",
    "plt.ylabel('avg dist')\n",
    "plt.title('Average Distance between components[first 200 steps] for comp 5')"
   ]
  },
  {
   "cell_type": "code",
   "execution_count": null,
   "metadata": {
    "colab": {
     "base_uri": "https://localhost:8080/",
     "height": 312
    },
    "id": "60x890a6N9Op",
    "outputId": "a67566c1-65f3-4625-b379-751d4c7d605a"
   },
   "outputs": [],
   "source": [
    "plt.plot(avg_d)\n",
    "plt.xlabel('steps')\n",
    "plt.ylabel('avg dist')\n",
    "plt.title('Average Distance between components - comp 5')"
   ]
  },
  {
   "cell_type": "code",
   "execution_count": null,
   "metadata": {
    "id": "Nrh06qsHN9Op"
   },
   "outputs": [],
   "source": [
    "point_five = list(rew_obt==0.5).count(True)\n",
    "neg_rew = list(rew_obt==-1).count(True)\n",
    "rew_two = list(rew_obt==2).count(True)\n",
    "rew_five = list(rew_obt==5).count(True)\n",
    "rew_ten = list(rew_obt==10).count(True)"
   ]
  },
  {
   "cell_type": "code",
   "execution_count": null,
   "metadata": {
    "colab": {
     "base_uri": "https://localhost:8080/",
     "height": 312
    },
    "id": "0QD5rOl3N9Op",
    "outputId": "72bfcdc3-a8b2-4f70-f1f0-11a3ee041266"
   },
   "outputs": [],
   "source": [
    "x = ['-1','0.5','2','5','10']\n",
    "y = [neg_rew, point_five, rew_two, rew_five, rew_ten]\n",
    "plt.bar(x,y)\n",
    "plt.xlabel('Reward')\n",
    "plt.ylabel('Count')\n",
    "plt.title('Rewards for component 5')"
   ]
  },
  {
   "cell_type": "code",
   "execution_count": null,
   "metadata": {
    "colab": {
     "base_uri": "https://localhost:8080/",
     "height": 312
    },
    "id": "EIcacUCmN9Op",
    "outputId": "41938138-331e-4fde-ce35-a2c785788583"
   },
   "outputs": [],
   "source": [
    "x = ['5','10']\n",
    "y = [rew_five, rew_ten]\n",
    "plt.bar(x,y)\n",
    "plt.xlabel('Reward')\n",
    "plt.ylabel('Count')\n",
    "plt.title('Rewards for component 5')"
   ]
  },
  {
   "cell_type": "code",
   "execution_count": null,
   "metadata": {
    "colab": {
     "base_uri": "https://localhost:8080/",
     "height": 312
    },
    "id": "_gQi1ffRN9Op",
    "outputId": "25c3169e-cff3-44b3-b9b2-a234149eb365"
   },
   "outputs": [],
   "source": [
    "random_action_cnt = list(act_log).count(0)\n",
    "best_action_cnt = list(act_log).count(1)\n",
    "x = ['random','best']\n",
    "y = [random_action_cnt,best_action_cnt]\n",
    "plt.bar(x,y)\n",
    "plt.xlabel('Action')\n",
    "plt.ylabel('Count')\n",
    "plt.title('Exploit vs Explore for component 5')"
   ]
  },
  {
   "cell_type": "code",
   "execution_count": null,
   "metadata": {
    "id": "Ftx-IN2QOcmt"
   },
   "outputs": [],
   "source": []
  },
  {
   "cell_type": "code",
   "execution_count": null,
   "metadata": {
    "id": "dYGMOR1HOdCz"
   },
   "outputs": [],
   "source": [
    "reward_best_d_file_name = 'best_d_glog'+str(4)+'_'+str(6)\n",
    "best_d = np.load('/content/drive/MyDrive/ProdDesign_Numpy3/'+reward_best_d_file_name+'.npy')\n",
    "\n",
    "reward_avg_d_file_name = 'avg_d_glog'+str(4)+'_'+str(6)        \n",
    "avg_d = np.load('/content/drive/MyDrive/ProdDesign_Numpy3/'+reward_avg_d_file_name+'.npy')\n",
    "\n",
    "reward_rew_obt_file_name = 'rew_obt_glog'+str(4)+'_'+str(6)        \n",
    "rew_obt = np.load('/content/drive/MyDrive/ProdDesign_Numpy3/'+reward_rew_obt_file_name+'.npy')\n",
    "\n",
    "reward_best_pos_log_obt_file_name = 'rew_best_pos_glog'+str(4)+'_'+str(6)        \n",
    "best_pos = np.load('/content/drive/MyDrive/ProdDesign_Numpy3/'+reward_best_pos_log_obt_file_name+'.npy')\n",
    "\n",
    "reward_act_log_obt_file_name = 'rew_act_glog'+str(4)+'_'+str(6)        \n",
    "act_log = np.load('/content/drive/MyDrive/ProdDesign_Numpy3/'+reward_act_log_obt_file_name+'.npy')"
   ]
  },
  {
   "cell_type": "code",
   "execution_count": null,
   "metadata": {
    "colab": {
     "base_uri": "https://localhost:8080/",
     "height": 312
    },
    "id": "dBtp58A4OdCz",
    "outputId": "829e3e27-5bb7-4fd9-bccd-0538bc359411"
   },
   "outputs": [],
   "source": [
    "plt.plot(best_d[0:300])\n",
    "plt.xlabel('steps')\n",
    "plt.ylabel('best distance')\n",
    "plt.title('Best distance over first 100 steps [component 5]')"
   ]
  },
  {
   "cell_type": "code",
   "execution_count": null,
   "metadata": {
    "colab": {
     "base_uri": "https://localhost:8080/",
     "height": 312
    },
    "id": "zFpMDbHrOdCz",
    "outputId": "59e525f6-bb61-42b8-f0fb-4ed3222d4930"
   },
   "outputs": [],
   "source": [
    "plt.plot(best_d)\n",
    "plt.xlabel('steps')\n",
    "plt.ylabel('distance')\n",
    "plt.title('Best distance over all steps[component 5]')"
   ]
  },
  {
   "cell_type": "code",
   "execution_count": null,
   "metadata": {
    "colab": {
     "base_uri": "https://localhost:8080/",
     "height": 312
    },
    "id": "uox-RgwjOdC0",
    "outputId": "2abb3aa1-6505-442c-dc08-35f23b617d0e"
   },
   "outputs": [],
   "source": [
    "plt.plot(avg_d[0:200])\n",
    "plt.xlabel('steps')\n",
    "plt.ylabel('avg dist')\n",
    "plt.title('Average Distance between components[first 200 steps] for comp 5')"
   ]
  },
  {
   "cell_type": "code",
   "execution_count": null,
   "metadata": {
    "colab": {
     "base_uri": "https://localhost:8080/",
     "height": 312
    },
    "id": "6vQJXAyyOdC0",
    "outputId": "321888f5-4cb8-43d8-b20c-6e93c590722d"
   },
   "outputs": [],
   "source": [
    "plt.plot(avg_d)\n",
    "plt.xlabel('steps')\n",
    "plt.ylabel('avg dist')\n",
    "plt.title('Average Distance between components - comp 5')"
   ]
  },
  {
   "cell_type": "code",
   "execution_count": null,
   "metadata": {
    "id": "kV2futMKOdC0"
   },
   "outputs": [],
   "source": [
    "point_five = list(rew_obt==0.5).count(True)\n",
    "neg_rew = list(rew_obt==-1).count(True)\n",
    "rew_two = list(rew_obt==2).count(True)\n",
    "rew_five = list(rew_obt==5).count(True)\n",
    "rew_ten = list(rew_obt==10).count(True)"
   ]
  },
  {
   "cell_type": "code",
   "execution_count": null,
   "metadata": {
    "colab": {
     "base_uri": "https://localhost:8080/",
     "height": 312
    },
    "id": "fc30Iez_OdC0",
    "outputId": "d6c34437-2666-4f9d-e6ba-0174aea1339e"
   },
   "outputs": [],
   "source": [
    "x = ['-1','0.5','2','5','10']\n",
    "y = [neg_rew, point_five, rew_two, rew_five, rew_ten]\n",
    "plt.bar(x,y)\n",
    "plt.xlabel('Reward')\n",
    "plt.ylabel('Count')\n",
    "plt.title('Rewards for component 5')"
   ]
  },
  {
   "cell_type": "code",
   "execution_count": null,
   "metadata": {
    "colab": {
     "base_uri": "https://localhost:8080/",
     "height": 312
    },
    "id": "P6lQFSVlOdC0",
    "outputId": "2ec47628-afda-459c-a192-d01498281038"
   },
   "outputs": [],
   "source": [
    "x = ['5','10']\n",
    "y = [rew_five, rew_ten]\n",
    "plt.bar(x,y)\n",
    "plt.xlabel('Reward')\n",
    "plt.ylabel('Count')\n",
    "plt.title('Rewards for component 5')"
   ]
  },
  {
   "cell_type": "code",
   "execution_count": null,
   "metadata": {
    "colab": {
     "base_uri": "https://localhost:8080/",
     "height": 312
    },
    "id": "1uY8qaXMOdC0",
    "outputId": "4f67b4da-3773-44b3-e53c-d0b43c6620bb"
   },
   "outputs": [],
   "source": [
    "random_action_cnt = list(act_log).count(0)\n",
    "best_action_cnt = list(act_log).count(1)\n",
    "x = ['random','best']\n",
    "y = [random_action_cnt,best_action_cnt]\n",
    "plt.bar(x,y)\n",
    "plt.xlabel('Action')\n",
    "plt.ylabel('Count')\n",
    "plt.title('Exploit vs Explore for component 5')"
   ]
  },
  {
   "cell_type": "code",
   "execution_count": null,
   "metadata": {
    "id": "FrwpdMxeOoBl"
   },
   "outputs": [],
   "source": []
  },
  {
   "cell_type": "code",
   "execution_count": null,
   "metadata": {
    "id": "zFFw6UZ_OoZU"
   },
   "outputs": [],
   "source": [
    "reward_best_d_file_name = 'best_d_glog'+str(4)+'_'+str(2)\n",
    "best_d = np.load('/content/drive/MyDrive/ProdDesign_Numpy3/'+reward_best_d_file_name+'.npy')\n",
    "\n",
    "reward_avg_d_file_name = 'avg_d_glog'+str(4)+'_'+str(2)        \n",
    "avg_d = np.load('/content/drive/MyDrive/ProdDesign_Numpy3/'+reward_avg_d_file_name+'.npy')\n",
    "\n",
    "reward_rew_obt_file_name = 'rew_obt_glog'+str(4)+'_'+str(2)        \n",
    "rew_obt = np.load('/content/drive/MyDrive/ProdDesign_Numpy3/'+reward_rew_obt_file_name+'.npy')\n",
    "\n",
    "reward_best_pos_log_obt_file_name = 'rew_best_pos_glog'+str(4)+'_'+str(2)        \n",
    "best_pos = np.load('/content/drive/MyDrive/ProdDesign_Numpy3/'+reward_best_pos_log_obt_file_name+'.npy')\n",
    "\n",
    "reward_act_log_obt_file_name = 'rew_act_glog'+str(4)+'_'+str(2)        \n",
    "act_log = np.load('/content/drive/MyDrive/ProdDesign_Numpy3/'+reward_act_log_obt_file_name+'.npy')"
   ]
  },
  {
   "cell_type": "code",
   "execution_count": null,
   "metadata": {
    "colab": {
     "base_uri": "https://localhost:8080/",
     "height": 312
    },
    "id": "f9sLP1PGOoZV",
    "outputId": "aa033cd5-0de0-4781-a5db-ddc8aad832c0"
   },
   "outputs": [],
   "source": [
    "plt.plot(best_d[0:100])\n",
    "plt.xlabel('steps')\n",
    "plt.ylabel('best distance')\n",
    "plt.title('Best distance over first 100 steps [component 5]')"
   ]
  },
  {
   "cell_type": "code",
   "execution_count": null,
   "metadata": {
    "colab": {
     "base_uri": "https://localhost:8080/",
     "height": 312
    },
    "id": "xrb8A8_SOoZV",
    "outputId": "a346b3d9-17b3-4075-fd35-3b2447a1c57b"
   },
   "outputs": [],
   "source": [
    "plt.plot(best_d)\n",
    "plt.xlabel('steps')\n",
    "plt.ylabel('distance')\n",
    "plt.title('Best distance over all steps[component 5]')"
   ]
  },
  {
   "cell_type": "code",
   "execution_count": null,
   "metadata": {
    "colab": {
     "base_uri": "https://localhost:8080/",
     "height": 312
    },
    "id": "jS2ic_0WOoZW",
    "outputId": "0c1b5c81-5f24-4970-cd9b-62b7de2b1722"
   },
   "outputs": [],
   "source": [
    "plt.plot(avg_d[0:200])\n",
    "plt.xlabel('steps')\n",
    "plt.ylabel('avg dist')\n",
    "plt.title('Average Distance between components[first 200 steps] for comp 5')"
   ]
  },
  {
   "cell_type": "code",
   "execution_count": null,
   "metadata": {
    "colab": {
     "base_uri": "https://localhost:8080/",
     "height": 312
    },
    "id": "FbltMhNYOoZW",
    "outputId": "986543f0-cbfa-4a98-c29e-42821a1e2b5d"
   },
   "outputs": [],
   "source": [
    "plt.plot(avg_d)\n",
    "plt.xlabel('steps')\n",
    "plt.ylabel('avg dist')\n",
    "plt.title('Average Distance between components - comp 5')"
   ]
  },
  {
   "cell_type": "code",
   "execution_count": null,
   "metadata": {
    "id": "cwHt9FbrOoZW"
   },
   "outputs": [],
   "source": [
    "point_five = list(rew_obt==0.5).count(True)\n",
    "neg_rew = list(rew_obt==-1).count(True)\n",
    "rew_two = list(rew_obt==2).count(True)\n",
    "rew_five = list(rew_obt==5).count(True)\n",
    "rew_ten = list(rew_obt==10).count(True)"
   ]
  },
  {
   "cell_type": "code",
   "execution_count": null,
   "metadata": {
    "colab": {
     "base_uri": "https://localhost:8080/",
     "height": 312
    },
    "id": "K2SwM-I-OoZW",
    "outputId": "c92f39b9-9842-47ba-ac04-0ff98c53c970"
   },
   "outputs": [],
   "source": [
    "x = ['-1','0.5','2','5','10']\n",
    "y = [neg_rew, point_five, rew_two, rew_five, rew_ten]\n",
    "plt.bar(x,y)\n",
    "plt.xlabel('Reward')\n",
    "plt.ylabel('Count')\n",
    "plt.title('Rewards for component 5')"
   ]
  },
  {
   "cell_type": "code",
   "execution_count": null,
   "metadata": {
    "colab": {
     "base_uri": "https://localhost:8080/",
     "height": 312
    },
    "id": "sozVVFj6OoZW",
    "outputId": "96f90c6c-4bc8-48de-be0b-36ded33f6a77"
   },
   "outputs": [],
   "source": [
    "x = ['5','10']\n",
    "y = [rew_five, rew_ten]\n",
    "plt.bar(x,y)\n",
    "plt.xlabel('Reward')\n",
    "plt.ylabel('Count')\n",
    "plt.title('Rewards for component 5')"
   ]
  },
  {
   "cell_type": "code",
   "execution_count": null,
   "metadata": {
    "colab": {
     "base_uri": "https://localhost:8080/",
     "height": 312
    },
    "id": "hoCRAFddOoZX",
    "outputId": "a6c9d5df-f992-4df1-ccac-5f95bfea7e55"
   },
   "outputs": [],
   "source": [
    "random_action_cnt = list(act_log).count(0)\n",
    "best_action_cnt = list(act_log).count(1)\n",
    "x = ['random','best']\n",
    "y = [random_action_cnt,best_action_cnt]\n",
    "plt.bar(x,y)\n",
    "plt.xlabel('Action')\n",
    "plt.ylabel('Count')\n",
    "plt.title('Exploit vs Explore for component 5')"
   ]
  },
  {
   "cell_type": "code",
   "execution_count": null,
   "metadata": {
    "id": "UhHHcLjkO0ll"
   },
   "outputs": [],
   "source": []
  },
  {
   "cell_type": "code",
   "execution_count": null,
   "metadata": {
    "id": "YDMYakCiO1TJ"
   },
   "outputs": [],
   "source": []
  },
  {
   "cell_type": "code",
   "execution_count": null,
   "metadata": {
    "id": "9f-GoxbNO1x8"
   },
   "outputs": [],
   "source": [
    "reward_best_d_file_name = 'best_d_glog'+str(5)+'_'+str(2)\n",
    "best_d = np.load('/content/drive/MyDrive/ProdDesign_Numpy3/'+reward_best_d_file_name+'.npy')\n",
    "\n",
    "reward_avg_d_file_name = 'avg_d_glog'+str(5)+'_'+str(2)        \n",
    "avg_d = np.load('/content/drive/MyDrive/ProdDesign_Numpy3/'+reward_avg_d_file_name+'.npy')\n",
    "\n",
    "reward_rew_obt_file_name = 'rew_obt_glog'+str(5)+'_'+str(2)        \n",
    "rew_obt = np.load('/content/drive/MyDrive/ProdDesign_Numpy3/'+reward_rew_obt_file_name+'.npy')\n",
    "\n",
    "reward_best_pos_log_obt_file_name = 'rew_best_pos_glog'+str(5)+'_'+str(2)        \n",
    "best_pos = np.load('/content/drive/MyDrive/ProdDesign_Numpy3/'+reward_best_pos_log_obt_file_name+'.npy')\n",
    "\n",
    "reward_act_log_obt_file_name = 'rew_act_glog'+str(5)+'_'+str(2)        \n",
    "act_log = np.load('/content/drive/MyDrive/ProdDesign_Numpy3/'+reward_act_log_obt_file_name+'.npy')"
   ]
  },
  {
   "cell_type": "code",
   "execution_count": null,
   "metadata": {
    "colab": {
     "base_uri": "https://localhost:8080/",
     "height": 312
    },
    "id": "ED16vU4bO1x9",
    "outputId": "df127bb1-21ee-49bc-f90f-5e03cc8067f6"
   },
   "outputs": [],
   "source": [
    "plt.plot(best_d[0:100])\n",
    "plt.xlabel('steps')\n",
    "plt.ylabel('best distance')\n",
    "plt.title('Best distance over first 100 steps [component 5]')"
   ]
  },
  {
   "cell_type": "code",
   "execution_count": null,
   "metadata": {
    "colab": {
     "base_uri": "https://localhost:8080/",
     "height": 312
    },
    "id": "D0IBrB2ZO1x9",
    "outputId": "fb1ae28c-cb88-4bca-d1a6-33c26908365e"
   },
   "outputs": [],
   "source": [
    "plt.plot(best_d)\n",
    "plt.xlabel('steps')\n",
    "plt.ylabel('distance')\n",
    "plt.title('Best distance over all steps[component 5]')"
   ]
  },
  {
   "cell_type": "code",
   "execution_count": null,
   "metadata": {
    "colab": {
     "base_uri": "https://localhost:8080/",
     "height": 312
    },
    "id": "XKWj2WCUO1x9",
    "outputId": "1b2764cd-fcbe-4834-bc22-5bb4647a707e"
   },
   "outputs": [],
   "source": [
    "plt.plot(avg_d[0:200])\n",
    "plt.xlabel('steps')\n",
    "plt.ylabel('avg dist')\n",
    "plt.title('Average Distance between components[first 200 steps] for comp 5')"
   ]
  },
  {
   "cell_type": "code",
   "execution_count": null,
   "metadata": {
    "colab": {
     "base_uri": "https://localhost:8080/",
     "height": 312
    },
    "id": "BgaG6JZtO1x9",
    "outputId": "26ec4e3e-94da-4ba0-c87d-e5618604d703"
   },
   "outputs": [],
   "source": [
    "plt.plot(avg_d)\n",
    "plt.xlabel('steps')\n",
    "plt.ylabel('avg dist')\n",
    "plt.title('Average Distance between components - comp 5')"
   ]
  },
  {
   "cell_type": "code",
   "execution_count": null,
   "metadata": {
    "id": "crqOw658O1x9"
   },
   "outputs": [],
   "source": [
    "point_five = list(rew_obt==0.5).count(True)\n",
    "neg_rew = list(rew_obt==-1).count(True)\n",
    "rew_two = list(rew_obt==2).count(True)\n",
    "rew_five = list(rew_obt==5).count(True)\n",
    "rew_ten = list(rew_obt==10).count(True)"
   ]
  },
  {
   "cell_type": "code",
   "execution_count": null,
   "metadata": {
    "colab": {
     "base_uri": "https://localhost:8080/",
     "height": 312
    },
    "id": "UJHa8G0YO1x9",
    "outputId": "9de6c4b3-9adc-40a9-acad-f17ca3258a79"
   },
   "outputs": [],
   "source": [
    "x = ['-1','0.5','2','5','10']\n",
    "y = [neg_rew, point_five, rew_two, rew_five, rew_ten]\n",
    "plt.bar(x,y)\n",
    "plt.xlabel('Reward')\n",
    "plt.ylabel('Count')\n",
    "plt.title('Rewards for component 5')"
   ]
  },
  {
   "cell_type": "code",
   "execution_count": null,
   "metadata": {
    "colab": {
     "base_uri": "https://localhost:8080/",
     "height": 312
    },
    "id": "IWY83SkPO1x-",
    "outputId": "bafe0f11-66c6-44c4-edee-d784c63e07e5"
   },
   "outputs": [],
   "source": [
    "x = ['5','10']\n",
    "y = [rew_five, rew_ten]\n",
    "plt.bar(x,y)\n",
    "plt.xlabel('Reward')\n",
    "plt.ylabel('Count')\n",
    "plt.title('Rewards for component 5')"
   ]
  },
  {
   "cell_type": "code",
   "execution_count": null,
   "metadata": {
    "colab": {
     "base_uri": "https://localhost:8080/",
     "height": 312
    },
    "id": "GNC5SdvmO1x-",
    "outputId": "1fcf14a1-30a9-41db-e696-a6174dc4f3b0"
   },
   "outputs": [],
   "source": [
    "random_action_cnt = list(act_log).count(0)\n",
    "best_action_cnt = list(act_log).count(1)\n",
    "x = ['random','best']\n",
    "y = [random_action_cnt,best_action_cnt]\n",
    "plt.bar(x,y)\n",
    "plt.xlabel('Action')\n",
    "plt.ylabel('Count')\n",
    "plt.title('Exploit vs Explore for component 5')"
   ]
  },
  {
   "cell_type": "code",
   "execution_count": null,
   "metadata": {
    "id": "CrClooVAO_4J"
   },
   "outputs": [],
   "source": []
  },
  {
   "cell_type": "code",
   "execution_count": null,
   "metadata": {
    "id": "PHSxpYg0PAGS"
   },
   "outputs": [],
   "source": [
    "reward_best_d_file_name = 'best_d_glog'+str(5)+'_'+str(4)\n",
    "best_d = np.load('/content/drive/MyDrive/ProdDesign_Numpy3/'+reward_best_d_file_name+'.npy')\n",
    "\n",
    "reward_avg_d_file_name = 'avg_d_glog'+str(5)+'_'+str(4)        \n",
    "avg_d = np.load('/content/drive/MyDrive/ProdDesign_Numpy3/'+reward_avg_d_file_name+'.npy')\n",
    "\n",
    "reward_rew_obt_file_name = 'rew_obt_glog'+str(5)+'_'+str(4)        \n",
    "rew_obt = np.load('/content/drive/MyDrive/ProdDesign_Numpy3/'+reward_rew_obt_file_name+'.npy')\n",
    "\n",
    "reward_best_pos_log_obt_file_name = 'rew_best_pos_glog'+str(5)+'_'+str(4)        \n",
    "best_pos = np.load('/content/drive/MyDrive/ProdDesign_Numpy3/'+reward_best_pos_log_obt_file_name+'.npy')\n",
    "\n",
    "reward_act_log_obt_file_name = 'rew_act_glog'+str(5)+'_'+str(4)        \n",
    "act_log = np.load('/content/drive/MyDrive/ProdDesign_Numpy3/'+reward_act_log_obt_file_name+'.npy')"
   ]
  },
  {
   "cell_type": "code",
   "execution_count": null,
   "metadata": {
    "colab": {
     "base_uri": "https://localhost:8080/",
     "height": 312
    },
    "id": "avvHKlZ7PAGT",
    "outputId": "72c8fdb0-9189-46bb-ffa3-8c90236e9c3f"
   },
   "outputs": [],
   "source": [
    "plt.plot(best_d[0:100])\n",
    "plt.xlabel('steps')\n",
    "plt.ylabel('best distance')\n",
    "plt.title('Best distance over first 100 steps [component 5]')"
   ]
  },
  {
   "cell_type": "code",
   "execution_count": null,
   "metadata": {
    "colab": {
     "base_uri": "https://localhost:8080/",
     "height": 312
    },
    "id": "cxSZLv9UPAGU",
    "outputId": "a38ee6db-4db0-4c21-a680-2051beceb3ee"
   },
   "outputs": [],
   "source": [
    "plt.plot(best_d)\n",
    "plt.xlabel('steps')\n",
    "plt.ylabel('distance')\n",
    "plt.title('Best distance over all steps[component 5]')"
   ]
  },
  {
   "cell_type": "code",
   "execution_count": null,
   "metadata": {
    "colab": {
     "base_uri": "https://localhost:8080/",
     "height": 312
    },
    "id": "2wOroOkdPAGV",
    "outputId": "9fede75c-c73b-425f-c4a8-b48e2ccf41eb"
   },
   "outputs": [],
   "source": [
    "plt.plot(avg_d[0:200])\n",
    "plt.xlabel('steps')\n",
    "plt.ylabel('avg dist')\n",
    "plt.title('Average Distance between components[first 200 steps] for comp 5')"
   ]
  },
  {
   "cell_type": "code",
   "execution_count": null,
   "metadata": {
    "colab": {
     "base_uri": "https://localhost:8080/",
     "height": 312
    },
    "id": "EWLpvmmsPAGV",
    "outputId": "39195cf4-7a80-4e1d-8864-daf4170bea5e"
   },
   "outputs": [],
   "source": [
    "plt.plot(avg_d)\n",
    "plt.xlabel('steps')\n",
    "plt.ylabel('avg dist')\n",
    "plt.title('Average Distance between components - comp 5')"
   ]
  },
  {
   "cell_type": "code",
   "execution_count": null,
   "metadata": {
    "id": "EbLmnZbtPAGW"
   },
   "outputs": [],
   "source": [
    "point_five = list(rew_obt==0.5).count(True)\n",
    "neg_rew = list(rew_obt==-1).count(True)\n",
    "rew_two = list(rew_obt==2).count(True)\n",
    "rew_five = list(rew_obt==5).count(True)\n",
    "rew_ten = list(rew_obt==10).count(True)"
   ]
  },
  {
   "cell_type": "code",
   "execution_count": null,
   "metadata": {
    "colab": {
     "base_uri": "https://localhost:8080/",
     "height": 312
    },
    "id": "V3c-89ONPAGW",
    "outputId": "5a8a8dd5-331e-4445-b1dc-c73033207961"
   },
   "outputs": [],
   "source": [
    "x = ['-1','0.5','2','5','10']\n",
    "y = [neg_rew, point_five, rew_two, rew_five, rew_ten]\n",
    "plt.bar(x,y)\n",
    "plt.xlabel('Reward')\n",
    "plt.ylabel('Count')\n",
    "plt.title('Rewards for component 5')"
   ]
  },
  {
   "cell_type": "code",
   "execution_count": null,
   "metadata": {
    "colab": {
     "base_uri": "https://localhost:8080/",
     "height": 312
    },
    "id": "PIpZl8NMPAGX",
    "outputId": "330111c2-41c3-4479-f53d-753fab9201f5"
   },
   "outputs": [],
   "source": [
    "x = ['5','10']\n",
    "y = [rew_five, rew_ten]\n",
    "plt.bar(x,y)\n",
    "plt.xlabel('Reward')\n",
    "plt.ylabel('Count')\n",
    "plt.title('Rewards for component 5')"
   ]
  },
  {
   "cell_type": "code",
   "execution_count": null,
   "metadata": {
    "colab": {
     "base_uri": "https://localhost:8080/",
     "height": 312
    },
    "id": "pY2bdSLXPAGY",
    "outputId": "a528bc7b-28c7-4af5-c322-9b0f986fe449"
   },
   "outputs": [],
   "source": [
    "random_action_cnt = list(act_log).count(0)\n",
    "best_action_cnt = list(act_log).count(1)\n",
    "x = ['random','best']\n",
    "y = [random_action_cnt,best_action_cnt]\n",
    "plt.bar(x,y)\n",
    "plt.xlabel('Action')\n",
    "plt.ylabel('Count')\n",
    "plt.title('Exploit vs Explore for component 5')"
   ]
  },
  {
   "cell_type": "code",
   "execution_count": null,
   "metadata": {
    "id": "xTlZ40o_lhPQ"
   },
   "outputs": [],
   "source": []
  }
 ],
 "metadata": {
  "colab": {
   "collapsed_sections": [],
   "name": "Modified Obj Pareto_DQN_Two_Objectives.ipynb",
   "provenance": []
  },
  "kernelspec": {
   "display_name": "Python 3",
   "language": "python",
   "name": "python3"
  },
  "language_info": {
   "codemirror_mode": {
    "name": "ipython",
    "version": 3
   },
   "file_extension": ".py",
   "mimetype": "text/x-python",
   "name": "python",
   "nbconvert_exporter": "python",
   "pygments_lexer": "ipython3",
   "version": "3.8.3"
  }
 },
 "nbformat": 4,
 "nbformat_minor": 1
}
