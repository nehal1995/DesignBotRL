{
  "cells": [
    {
      "cell_type": "code",
      "source": [
        "import numpy as np\n",
        "import matplotlib.pyplot as plt\n",
        "import random\n",
        "import math\n",
        "import itertools\n",
        "import time\n",
        "from google.colab import output\n",
        "import pandas as pd\n",
        "from keras.models import Sequential\n",
        "from keras.layers import Dense\n",
        "from tensorflow.keras.optimizers import Adam\n",
        "import matplotlib.pyplot as plt\n",
        "import seaborn as sns"
      ],
      "metadata": {
        "id": "90m57cyMgA7q"
      },
      "execution_count": 1,
      "outputs": []
    },
    {
      "cell_type": "code",
      "source": [
        "from google.colab import drive\n",
        "\n",
        "drive.mount('/content/drive')"
      ],
      "metadata": {
        "colab": {
          "base_uri": "https://localhost:8080/"
        },
        "id": "in_LgCyMgHu0",
        "outputId": "41892a16-4f05-4ffc-adc4-791d439fa3f4"
      },
      "execution_count": 2,
      "outputs": [
        {
          "output_type": "stream",
          "name": "stdout",
          "text": [
            "Mounted at /content/drive\n"
          ]
        }
      ]
    },
    {
      "cell_type": "code",
      "source": [
        "class GreenHouseEnv(object):\n",
        "  def __init__(self,m,n,o):  #m, n and o is the dimension of the grid\n",
        "    #self.grid = np.zeros((m,n))\n",
        "    self.m = m\n",
        "    self.n = n\n",
        "    self.o = o\n",
        "    self.occupied = []\n",
        "    self.statePosDict ={}\n",
        "    self.statePositionDict(m,n,o)\n",
        "    #self.obsSpace = [[[k for k in range(self.o)] for j in range(self.n)] for i in range(self.m)]\n",
        "    self.obsSpace = [i for i in range(self.m * self.n * self.o)]\n",
        "    #print(self.obsSpace)\n",
        "    self.actSpace = [i for i in range(self.m * self.n * self.o)] #{'U': 0, 'D': 1, 'L': 2, 'R': 3, 'B': 4, 'F': 5}\n",
        "    self.possibleAct = ['U','D','L','R', 'B', 'F']\n",
        "    self.addComponents()\n",
        "    self.rules_arr_rew = [9999,9999,0,0,9999,9999]\n",
        "    self.env_pos_log = []\n",
        "    self.rew_vec = [99999,99999,0,0,99999,99999] #6 is number of objectives\n",
        "    self.log_d = {0:[], 1: [], 2:[], 3:[], 4:[], 5:[], 6:[]}\n",
        "    self.log_best_d =  {0:[], 1: [], 2:[], 3:[], 4:[], 5:[], 6:[]}\n",
        "    self.rew_obtained =  {0:[], 1: [], 2:[], 3:[], 4:[], 5:[], 6:[]}\n",
        "    self.best_pos = [999,999,999]\n",
        "    self.best_pos_2 = [999,999]\n",
        "    self.best_pos_3 = [0,0]\n",
        "    self.best_pos_4 = [0,0]\n",
        "    self.best_pos_5 = [999,999]\n",
        "    self.best_pos_6 = [999,999]\n",
        "    self.best_pos_log_2 =  []\n",
        "    self.best_pos_log_3 =  []\n",
        "    self.best_pos_log_4 =  []\n",
        "    self.best_pos_log_5 =  []\n",
        "    self.best_pos_log_6 =  []\n",
        "    self.best_pos_log =  []\n",
        "    self.prev_distance = [99999,99999,0,0,99999,99999] #to keep record of the prev distance\n",
        "    self.env_front_1 = []\n",
        "    self.env_front_2 = []\n",
        "  \n",
        "  def addComponents(self):\n",
        "    self.components = [0,1,2,3,4,5,6,7] #[0,1,2,3,4,5,6,7,8,9]\n",
        "\n",
        "    if len(self.components)> self.m*self.n*self.o:\n",
        "      print('errorrrr')\n",
        "      return 0\n",
        "\n",
        "    \n",
        "    self.comp_dictionary = {\n",
        "        1: 'heater',\n",
        "        2: 'water tank',\n",
        "        3: 'pack soil',\n",
        "        4: 'heat sensor',\n",
        "        5: 'camera',\n",
        "        6: 'fan',\n",
        "        7: 'led',\n",
        "        8: 'water pump',\n",
        "        9: 'PCB',\n",
        "        10: 'Pipes'\n",
        "    }\n",
        "\n",
        "    #self.grid = np.zeros((self.m,self.n,self.o))\n",
        "    #print('grid: 111', self.grid)  \n",
        "    \n",
        "    len_com = len(self.components)\n",
        "    i = 0\n",
        "    while len_com != 0:\n",
        "      #print('i',i)\n",
        "      x = random.choice(range(0,self.m))\n",
        "      y = random.choice(range(0,self.n))\n",
        "      z = random.choice(range(0,self.o))\n",
        "      if (x,y,z) not in self.occupied:\n",
        "        #self.grid[x,y,z] = components[i]\n",
        "        self.occupied.append((x,y,z))\n",
        "        len_com -= 1\n",
        "        i += 1\n",
        "      \n",
        "\n",
        "      #else:\n",
        "      #  x = random.choice(range(0,self.m))\n",
        "      #  y = random.choice(range(0,self.n))\n",
        "      #  z = random.choice(range(0,self.o))\n",
        "      #  self.grid[x,y,z] = components[i]\n",
        "      #  self.occupied.append((x,y,z))\n",
        "    #print('grid: ', np.shape(self.grid))   \n",
        "    print('occupied:',self.occupied)\n",
        "\n",
        "  def getComponentPosition(self, index):\n",
        "    return self.occupied[index]\n",
        "\n",
        "  def getComponentValue(self, pos):\n",
        "    if pos in self.occupied:\n",
        "      id = self.occupied.index(pos)\n",
        "      val = self.components[id]\n",
        "    else:\n",
        "      val = -1\n",
        "    return val\n",
        "\n",
        "  def setState(self, state, comp_id):\n",
        "    x,y,z = self.getComponentPosition(comp_id)\n",
        "    #self.grid[x,y,z] = -1\n",
        "    x,y,z = state\n",
        "    #self.grid[x,y,z] = components[comp_id]\n",
        "    self.occupied[comp_id] = state\n",
        "\n",
        "  def calcDistance(self, comp_id_1, comp_id_2):\n",
        "    x_1, y_1, z_1 = self.getComponentPosition(comp_id_1)\n",
        "    x_2, y_2, z_2 = self.getComponentPosition(comp_id_2)\n",
        "    dist = math.sqrt((x_2 - x_1)**2 + (y_2 - y_1)**2 + (z_2 - z_1)**2)\n",
        "    return dist\n",
        "  \n",
        "  def totalDistance(self, components):\n",
        "    total_dist = 0\n",
        "    for i in range(len(components)):\n",
        "      for j in range(len(components)):\n",
        "        i_pos = self.getComponentPosition(i+1)\n",
        "        j_pos = self.getComponentPosition(j+1)\n",
        "        dist_temp = self.calcDistance(i_pos, j_pos)\n",
        "        total_dist += dist_temp\n",
        "\n",
        "    return total_dist\n",
        "\n",
        "\n",
        "  def obj1(self):\n",
        "    #print(self.rules_arr_rew)\n",
        "    total = 0\n",
        "    rew_comp = np.zeros(6) #6 here is number of objective\n",
        "    temp_rew_vec = np.zeros(6)\n",
        "\n",
        "\n",
        "    \n",
        "    #rule 1 - minimize distance between pack soil, water tank and water pump\n",
        "    #if component == 2 or component == 3 or component == 8:\n",
        "    #print('RULE 1')\n",
        "    d1 = self.calcDistance(1,2)\n",
        "    d2 = self.calcDistance(2,7)\n",
        "    d3 = self.calcDistance(1,7)\n",
        "    avg_d = (d1 + d2 + d3)/3\n",
        "    #print('avg',avg_d)\n",
        "      \n",
        "    temp_rew_vec[0] = avg_d\n",
        "\n",
        "    #find diff from last distance and new distance\n",
        "    diff_1 = avg_d - self.rew_vec[0]\n",
        "    diff_2 = self.prev_distance[0] - self.rew_vec[0]\n",
        "\n",
        "    diff = diff_1 - diff_2\n",
        "\n",
        "      \n",
        "    #reward for moving closer or away from the best distance\n",
        "    if avg_d>self.prev_distance[0]: # move away\n",
        "      rew_comp[0] = -1\n",
        "    elif avg_d<self.prev_distance[0]: # move closer\n",
        "      #if it moves closer then check for the best score\n",
        "      if avg_d<self.rew_vec[0]: #set a new best score\n",
        "        rew_comp[0] = 10\n",
        "        self.rew_vec[0] = avg_d\n",
        "        pos1 = self.getComponentPosition(1)\n",
        "        pos2 = self.getComponentPosition(2)\n",
        "        pos3 = self.getComponentPosition(7)\n",
        "        self.best_pos = [pos1, pos2, pos3]\n",
        "        self.best_pos_log.append(self.best_pos)\n",
        "      elif avg_d==self.rew_vec[0]: #find a similar best score\n",
        "        rew_comp[0] = 5\n",
        "        #add code here later to save the coordinates if it is different from the previous one\n",
        "      else:\n",
        "        rew_comp[0] = 2\n",
        "    elif avg_d==self.prev_distance[0]: # stay in same place\n",
        "      rew_comp[0] = 0.5\n",
        "\n",
        "        \n",
        "\n",
        "    #save the new distance as prev distance\n",
        "    self.prev_distance[0] = avg_d\n",
        "      \n",
        "    '''\n",
        "      if avg_d<self.rew_vec[0]:\n",
        "        rew_comp[0] = 1\n",
        "        self.rew_vec[0] = avg_d\n",
        "        \n",
        "      elif avg_d>self.rew_vec[0]:\n",
        "        rew_comp[0] = -20\n",
        "      else:\n",
        "        rew_comp[0] = 0\n",
        "      '''\n",
        "    self.log_d[0].append(avg_d)\n",
        "    self.log_best_d[0].append(self.rew_vec[0])\n",
        "    self.rew_obtained[0].append(rew_comp[0])\n",
        "    #print('score obtained',rew_comp[0])\n",
        "    #print('avg_d', avg_d)\n",
        "    #print('slf.rew_vec', self.rew_vec[0])\n",
        "    #print('reward',rew_comp[0])\n",
        "      \n",
        "      #total += rew1\n",
        "      #print('#MINIMIZE# old dist: ', self.rules_arr_rew[0], 'new dist:', avg_d ,'rew1:', rew1)\n",
        "    '''\n",
        "    #rule 2 - minimize distance between heater and the fan\n",
        "    if component == 1 or component == 6:\n",
        "      #print('RULE 2')\n",
        "      #print(self.rules_arr_rew)\n",
        "      hf = self.calcDistance(0,5)\n",
        "      #print('dist',hf)\n",
        "      \n",
        "      temp_rew_vec[1] = hf\n",
        "      if hf<self.rew_vec[1]:\n",
        "        rew_comp[1] = 1\n",
        "        \n",
        "      elif hf > self.rew_vec[1]:\n",
        "        rew_comp[1] = -1\n",
        "      else:\n",
        "        rew_comp[1] = 0\n",
        "      #print('#MINIMIZE# old dist: ', self.rules_arr_rew[1],'new dist:', hf , 'rew2:', rew2)\n",
        "\n",
        "    #rule 3 - maximize distance between LED and heat sensor\n",
        "    if component == 4 or component == 7:\n",
        "      #print('RULE 3')\n",
        "      lhs = self.calcDistance(3,6)\n",
        "      \n",
        "      temp_rew_vec[2] = lhs\n",
        "      if lhs>self.rew_vec[2]:\n",
        "        rew_comp[2] = 1\n",
        "        \n",
        "      elif lhs < self.rew_vec[2]:\n",
        "        rew_comp[2] = -1\n",
        "      else:\n",
        "        rew_comp[2] = 0\n",
        "      \n",
        "      #print('#MAXIMIZE# old dist: ', self.rules_arr_rew[2],'new dist:', lhs , 'rew3:', rew3)\n",
        "\n",
        "    #rule 4 - maximize distance between heater and heat sensor\n",
        "    \n",
        "    if component == 1 or component == 4:\n",
        "      #print('RULE 4')\n",
        "      hhs = self.calcDistance(0,3)\n",
        "      #print('hhs',hhs,'rules_arr',self.rules_arr_rew[3])\n",
        "      \n",
        "      temp_rew_vec[3] = hhs\n",
        "      if hhs>self.rew_vec[3]:\n",
        "        rew_comp[3] = 1\n",
        "        \n",
        "      elif hhs < self.rew_vec[3]:\n",
        "        rew_comp[3] = -1\n",
        "      else:\n",
        "        rew_comp[3] = 0\n",
        "      #print('#MAXIMIZE#  old dist: ', self.rules_arr_rew[3], 'new dist:', hhs ,'rew4:', rew4)\n",
        "    \n",
        "    #rule 5 - maximize lighting of pack soil by the LED\n",
        "    if component == 7 or component == 3:\n",
        "      #print('RULE 5')\n",
        "      x_1, y_1, z_1 = self.getComponentPosition(3)\n",
        "      z_1 = 0  #z moves to the top of the greenhouse\n",
        "      x_2, y_2, z_2 = self.getComponentPosition(7)\n",
        "      psl = math.sqrt((x_2 - x_1)**2 + (y_2 - y_1)**2 + (z_2 - z_1)**2)\n",
        "      \n",
        "      temp_rew_vec[4] = psl\n",
        "      if psl>self.rew_vec[4]:\n",
        "        rew_comp[4] = 1\n",
        "        \n",
        "      elif psl < self.rew_vec[4]:\n",
        "        rew_comp[4] = -1\n",
        "      else:\n",
        "        rew_comp[4] = 0\n",
        "      #print('#MAXIMIZE#  old dist: ', self.rules_arr_rew[4], 'new dist:', psl ,'rew5:', rew5)\n",
        "    \n",
        "    #rule 6 - maximize view of pack soil captured by the camera\n",
        "    if component == 5 or component == 3:\n",
        "      #print('RULE 6')\n",
        "      x_1, y_1, z_1 = self.getComponentPosition(3)\n",
        "      z_1 = 0  #z moves to the top of the greenhouse\n",
        "      x_2, y_2, z_2 = self.getComponentPosition(5)\n",
        "      psc = math.sqrt((x_2 - x_1)**2 + (y_2 - y_1)**2 + (z_2 - z_1)**2)\n",
        "      \n",
        "      temp_rew_vec[5] = psc\n",
        "      if psc>self.rew_vec[5]:\n",
        "        rew_comp[5] = 1\n",
        "        \n",
        "      elif psc < self.rew_vec[5]:\n",
        "        rew_comp[5] = -1\n",
        "      else:\n",
        "        rew_comp[5] = 0\n",
        "      #print('#MAXIMIZE#  old dist: ', self.rules_arr_rew[5], 'new dist:', psc , 'rew6:', rew6)\n",
        "    '''\n",
        "    #return rew_comp,temp_rew_vec\n",
        "    return temp_rew_vec[0]\n",
        "\n",
        "  def obj2(self):\n",
        "    #print(self.rules_arr_rew)\n",
        "    total = 0\n",
        "    rew_comp = np.zeros(6) #6 here is number of objective\n",
        "    temp_rew_vec = np.zeros(6)\n",
        "    \n",
        "    #rule 2 - minimize distance between heater and the fan\n",
        "\n",
        "    hf = self.calcDistance(0,5)\n",
        "    #print('dist',hf)\n",
        "    \n",
        "    temp_rew_vec[0] = hf\n",
        "\n",
        "    #find diff from last distance and new distance\n",
        "    diff_1 = hf - self.rew_vec[1]\n",
        "    diff_2 = self.prev_distance[1] - self.rew_vec[1]\n",
        "\n",
        "    diff = diff_1 - diff_2\n",
        "\n",
        "      \n",
        "    #reward for moving closer or away from the best distance\n",
        "    if hf>self.prev_distance[1]: # move away\n",
        "      rew_comp[1] = -1\n",
        "    elif hf<self.prev_distance[1]: # move closer\n",
        "      #if it moves closer then check for the best score\n",
        "      if hf<self.rew_vec[1]: #set a new best score\n",
        "        rew_comp[1] = 10\n",
        "        self.rew_vec[1] = hf\n",
        "        pos1 = self.getComponentPosition(0)\n",
        "        pos2 = self.getComponentPosition(5)\n",
        "        self.best_pos_2 = [pos1, pos2]\n",
        "        self.best_pos_log_2.append(self.best_pos_2)\n",
        "      elif hf==self.rew_vec[1]: #find a similar best score\n",
        "        rew_comp[1] = 5\n",
        "        #add code here later to save the coordinates if it is different from the previous one\n",
        "      else:\n",
        "        rew_comp[1] = 2\n",
        "    elif hf==self.prev_distance[1]: # stay in same place\n",
        "      rew_comp[1] = 0.5\n",
        "\n",
        "        \n",
        "\n",
        "    #save the new distance as prev distance\n",
        "    self.prev_distance[1] = hf\n",
        "      \n",
        "    self.log_d[1].append(hf)\n",
        "    self.log_best_d[1].append(self.rew_vec[1])\n",
        "    self.rew_obtained[1].append(rew_comp[1])\n",
        "    #print('score obtained',rew_comp[1])\n",
        "    #print('avg_d', hf)\n",
        "    #print('slf.rew_vec', self.rew_vec[1])\n",
        "    #print('reward',rew_comp[1])\n",
        "      \n",
        "    #return rew_comp,temp_rew_vec\n",
        "    return temp_rew_vec[0]\n",
        "\n",
        "  def obj3(self):\n",
        "\n",
        "    #rule 3 - maximize distance between LED and heat sensor\n",
        "    total = 0\n",
        "    rew_comp = np.zeros(6) #6 here is number of objective\n",
        "    temp_rew_vec = np.zeros(6)\n",
        "\n",
        "    lhs = self.calcDistance(3,6)\n",
        "\n",
        "    temp_rew_vec[0] = lhs\n",
        "    \n",
        "    #reward for moving closer or away from the best distance\n",
        "    if lhs<self.prev_distance[2]: # move closer\n",
        "      rew_comp[2] = -1\n",
        "    elif lhs>self.prev_distance[2]: # move away\n",
        "      #if it moves closer then check for the best score\n",
        "      if lhs>self.rew_vec[2]: #set a new best score\n",
        "        rew_comp[2] = 10\n",
        "        self.rew_vec[2] = lhs\n",
        "        pos1 = self.getComponentPosition(3)\n",
        "        pos2 = self.getComponentPosition(6)\n",
        "        self.best_pos_3 = [pos1, pos2]\n",
        "        self.best_pos_log_3.append(self.best_pos_3)\n",
        "      elif lhs==self.rew_vec[2]: #find a similar best score\n",
        "        rew_comp[2] = 5\n",
        "        #add code here later to save the coordinates if it is different from the previous one\n",
        "      else:\n",
        "        rew_comp[2] = 2\n",
        "    elif lhs==self.prev_distance[2]: # stay in same place\n",
        "      rew_comp[2] = 0.5\n",
        "    \n",
        "    self.prev_distance[2] = lhs\n",
        "    \n",
        "    self.log_d[2].append(lhs)\n",
        "    self.log_best_d[2].append(self.rew_vec[2])\n",
        "    self.rew_obtained[2].append(rew_comp[2])\n",
        "    #print('score obtained',rew_comp[2])\n",
        "    #print('avg_d', lhs)\n",
        "    #print('slf.rew_vec', self.rew_vec[2])\n",
        "    #print('reward',rew_comp[2])\n",
        "      \n",
        "    #return rew_comp,temp_rew_vec\n",
        "    return temp_rew_vec[0]\n",
        "\n",
        "  def obj4(self):\n",
        "\n",
        "    #rule 4 - maximize distance between heater and heat sensor\n",
        "    total = 0\n",
        "    rew_comp = np.zeros(6) #6 here is number of objective\n",
        "    temp_rew_vec = np.zeros(6)\n",
        "\n",
        "    hhs = self.calcDistance(0,3)\n",
        "\n",
        "    temp_rew_vec[0] = hhs\n",
        "    \n",
        "    #reward for moving closer or away from the best distance\n",
        "    if hhs<self.prev_distance[3]: # move closer\n",
        "      rew_comp[3] = -1\n",
        "    elif hhs>self.prev_distance[3]: # move away\n",
        "      #if it moves closer then check for the best score\n",
        "      if hhs>self.rew_vec[3]: #set a new best score\n",
        "        rew_comp[3] = 10\n",
        "        self.rew_vec[3] = hhs\n",
        "        pos1 = self.getComponentPosition(0)\n",
        "        pos2 = self.getComponentPosition(3)\n",
        "        self.best_pos_4 = [pos1, pos2]\n",
        "        self.best_pos_log_4.append(self.best_pos_4)\n",
        "      elif hhs==self.rew_vec[3]: #find a similar best score\n",
        "        rew_comp[3] = 5\n",
        "        #add code here later to save the coordinates if it is different from the previous one\n",
        "      else:\n",
        "        rew_comp[3] = 2\n",
        "    elif hhs==self.prev_distance[3]: # stay in same place\n",
        "      rew_comp[3] = 0.5\n",
        "    \n",
        "    self.prev_distance[3] = hhs\n",
        "\n",
        "    self.log_d[3].append(hhs)\n",
        "    self.log_best_d[3].append(self.rew_vec[3])\n",
        "    self.rew_obtained[3].append(rew_comp[3])\n",
        "    #print('score obtained',rew_comp[3])\n",
        "    #print('avg_d', hhs)\n",
        "    #print('slf.rew_vec', self.rew_vec[3])\n",
        "    #print('reward',rew_comp[3])\n",
        "      \n",
        "    #return rew_comp,temp_rew_vec\n",
        "    return temp_rew_vec[0]\n",
        "\n",
        "  def obj5(self):\n",
        "\n",
        "    #rule 5 - maximize lighting of pack soil by the LED\n",
        "    total = 0\n",
        "    rew_comp = np.zeros(6) #6 here is number of objective\n",
        "    temp_rew_vec = np.zeros(6)\n",
        "\n",
        "    x_1, y_1, z_1 = self.getComponentPosition(2)\n",
        "    z_1 = 0  #z moves to the top of the greenhouse for ps(ideal led position)\n",
        "    x_2, y_2, z_2 = self.getComponentPosition(6)\n",
        "    psl = math.sqrt((x_2 - x_1)**2 + (y_2 - y_1)**2 + (z_2 - z_1)**2)\n",
        "    \n",
        "\n",
        "    temp_rew_vec[0] = psl\n",
        "    \n",
        "    #reward for moving closer or away from the best distance\n",
        "    if psl>self.prev_distance[4]: # move away\n",
        "      rew_comp[4] = -1\n",
        "    elif psl<self.prev_distance[4]: # move closer\n",
        "      #if it moves closer then check for the best score\n",
        "      if psl<self.rew_vec[4]: #set a new best score\n",
        "        rew_comp[4] = 10\n",
        "        self.rew_vec[4] = psl\n",
        "        pos1 = self.getComponentPosition(2)\n",
        "        pos2 = self.getComponentPosition(6)\n",
        "        self.best_pos_5 = [pos1, pos2]\n",
        "        self.best_pos_log_5.append(self.best_pos_5)\n",
        "      elif psl==self.rew_vec[4]: #find a similar best score\n",
        "        rew_comp[4] = 5\n",
        "        #add code here later to save the coordinates if it is different from the previous one\n",
        "      else:\n",
        "        rew_comp[4] = 2\n",
        "    elif psl==self.prev_distance[4]: # stay in same place\n",
        "      rew_comp[4] = 0.5\n",
        "    \n",
        "    self.prev_distance[4] = psl\n",
        "    \n",
        "    self.log_d[4].append(psl)\n",
        "    self.log_best_d[4].append(self.rew_vec[4])\n",
        "    self.rew_obtained[4].append(rew_comp[4])\n",
        "    #print('score obtained',rew_comp[4])\n",
        "    #print('avg_d', psl)\n",
        "    #print('slf.rew_vec', self.rew_vec[4])\n",
        "    #print('reward',rew_comp[4])\n",
        "      \n",
        "    #return rew_comp,temp_rew_vec\n",
        "    return temp_rew_vec[0]\n",
        "\n",
        "  def obj6(self):\n",
        "\n",
        "    #rule 6 - maximize view of pack soil captured by the camera\n",
        "    total = 0\n",
        "    rew_comp = np.zeros(6) #6 here is number of objective\n",
        "    temp_rew_vec = np.zeros(6)\n",
        "\n",
        "    x_1, y_1, z_1 = self.getComponentPosition(2)\n",
        "    z_1 = 0  #z moves to the top of the greenhouse\n",
        "    x_2, y_2, z_2 = self.getComponentPosition(4)\n",
        "    psc = math.sqrt((x_2 - x_1)**2 + (y_2 - y_1)**2 + (z_2 - z_1)**2)\n",
        "\n",
        "    temp_rew_vec[0] = psc\n",
        "    \n",
        "    #reward for moving closer or away from the best distance\n",
        "    if psc>self.prev_distance[5]: # move away\n",
        "      rew_comp[5] = -1\n",
        "    elif psc<self.prev_distance[5]: # move closer\n",
        "      #if it moves closer then check for the best score\n",
        "      if psc<self.rew_vec[5]: #set a new best score\n",
        "        rew_comp[5] = 10\n",
        "        self.rew_vec[5] = psc\n",
        "        pos1 = self.getComponentPosition(2)\n",
        "        pos2 = self.getComponentPosition(4)\n",
        "        self.best_pos_5 = [pos1, pos2]\n",
        "        self.best_pos_log_5.append(self.best_pos_5)\n",
        "      elif psc==self.rew_vec[5]: #find a similar best score\n",
        "        rew_comp[5] = 5\n",
        "        #add code here later to save the coordinates if it is different from the previous one\n",
        "      else:\n",
        "        rew_comp[5] = 2\n",
        "    elif psc==self.prev_distance[5]: # stay in same place\n",
        "      rew_comp[5] = 0.5\n",
        "    \n",
        "    self.prev_distance[5] = psc\n",
        "    \n",
        "    self.log_d[5].append(psc)\n",
        "    self.log_best_d[5].append(self.rew_vec[5])\n",
        "    self.rew_obtained[5].append(rew_comp[5])\n",
        "    #print('score obtained',rew_comp[5])\n",
        "    #print('avg_d', psc)\n",
        "    #print('slf.rew_vec', self.rew_vec[5])\n",
        "    #print('reward',rew_comp[5])\n",
        "      \n",
        "    #return rew_comp,temp_rew_vec\n",
        "    return temp_rew_vec[0]\n",
        "\n",
        "  def paretoFrontFunc(self, paretoList):\n",
        "    S=[[] for i in range(0,len(paretoList))]\n",
        "    front_val_comp = [[]]\n",
        "    front = [[]]\n",
        "    front_val = [[]]\n",
        "    n=[0 for i in range(0,len(paretoList))]\n",
        "    rank = [0 for i in range(0, len(paretoList))]\n",
        "    append1 = []\n",
        "    append2 = []\n",
        "    append3 = []\n",
        "    append4 = []\n",
        "    append5 = []\n",
        "\n",
        "    for p in range(0, len(paretoList)):\n",
        "      #n[p] = 0\n",
        "      #S[p] = []\n",
        "\n",
        "      for q in range(0, len(paretoList)):\n",
        "        #if(e[1]<each[1] and e[0]<=each[0]) or (e[1]<=each[1] and e[0]<each[0]):\n",
        "        if (p!=q):\n",
        "          '''\n",
        "          if ((paretoList[p][0]<paretoList[q][0] and paretoList[p][1]<=paretoList[q][1] and paretoList[p][2]>=paretoList[q][2] and paretoList[p][3]>=paretoList[q][3] and paretoList[p][4]<=paretoList[q][4] and paretoList[p][5]<=paretoList[q][5])\n",
        "          or (paretoList[p][0]<=paretoList[q][0] and paretoList[p][1]<paretoList[q][1] and paretoList[p][2]>=paretoList[q][2] and paretoList[p][3]>=paretoList[q][3] and paretoList[p][4]<=paretoList[q][4] and paretoList[p][5]<=paretoList[q][5])\n",
        "          or (paretoList[p][0]<=paretoList[q][0] and paretoList[p][1]<=paretoList[q][1] and paretoList[p][2]>paretoList[q][2]) and paretoList[p][3]>=paretoList[q][3] and paretoList[p][4]<=paretoList[q][4] and paretoList[p][5]<=paretoList[q][5]\n",
        "          or (paretoList[p][0]<=paretoList[q][0] and paretoList[p][1]<=paretoList[q][1] and paretoList[p][2]>=paretoList[q][2]) and paretoList[p][3]>paretoList[q][3] and paretoList[p][4]<=paretoList[q][4] and paretoList[p][5]<=paretoList[q][5]\n",
        "          or (paretoList[p][0]<=paretoList[q][0] and paretoList[p][1]<=paretoList[q][1] and paretoList[p][2]>=paretoList[q][2]) and paretoList[p][3]>=paretoList[q][3] and paretoList[p][4]<paretoList[q][4] and paretoList[p][5]<=paretoList[q][5]\n",
        "          or (paretoList[p][0]<=paretoList[q][0] and paretoList[p][1]<=paretoList[q][1] and paretoList[p][2]>=paretoList[q][2]) and paretoList[p][3]>=paretoList[q][3] and paretoList[p][4]<=paretoList[q][4] and paretoList[p][5]<paretoList[q][5]): #p dominates q\n",
        "            if q not in S[p]: #new added line\n",
        "              S[p].append(q)\n",
        "              append1.append(paretoList[p])\n",
        "          elif ((paretoList[p][0]>paretoList[q][0] and paretoList[p][1]>=paretoList[q][1] and paretoList[p][2]<=paretoList[q][2] and paretoList[p][3]<=paretoList[q][3] and paretoList[p][4]>=paretoList[q][4] and paretoList[p][5]>=paretoList[q][5])\n",
        "          or (paretoList[p][0]>=paretoList[q][0] and paretoList[p][1]>paretoList[q][1] and paretoList[p][2]<=paretoList[q][2] and paretoList[p][3]<=paretoList[q][3] and paretoList[p][4]>=paretoList[q][4] and paretoList[p][5]>=paretoList[q][5])\n",
        "          or (paretoList[p][0]>=paretoList[q][0] and paretoList[p][1]>=paretoList[q][1] and paretoList[p][2]<paretoList[q][2]) and paretoList[p][3]<=paretoList[q][3] and paretoList[p][4]>=paretoList[q][4] and paretoList[p][5]>=paretoList[q][5]\n",
        "          or (paretoList[p][0]>=paretoList[q][0] and paretoList[p][1]>=paretoList[q][1] and paretoList[p][2]<=paretoList[q][2]) and paretoList[p][3]<paretoList[q][3] and paretoList[p][4]>=paretoList[q][4] and paretoList[p][5]>=paretoList[q][5]\n",
        "          or (paretoList[p][0]>=paretoList[q][0] and paretoList[p][1]>=paretoList[q][1] and paretoList[p][2]<=paretoList[q][2]) and paretoList[p][3]<=paretoList[q][3] and paretoList[p][4]>paretoList[q][4] and paretoList[p][5]>=paretoList[q][5]\n",
        "          or (paretoList[p][0]>=paretoList[q][0] and paretoList[p][1]>=paretoList[q][1] and paretoList[p][2]<=paretoList[q][2]) and paretoList[p][3]<=paretoList[q][3] and paretoList[p][4]>=paretoList[q][4] and paretoList[p][5]>paretoList[q][5]): #q dominates p\n",
        "            n[p] = n[p] + 1\n",
        "            append2.append(paretoList[q])\n",
        "          '''\n",
        "          if ((paretoList[p][0]<paretoList[q][0] and paretoList[p][1]<=paretoList[q][1])\n",
        "          or (paretoList[p][0]<=paretoList[q][0] and paretoList[p][1]<paretoList[q][1])): #p dominates q\n",
        "            if q not in S[p]: #new added line\n",
        "              S[p].append(q)\n",
        "              append1.append(paretoList[p])\n",
        "          elif ((paretoList[q][0]<=paretoList[p][0] and paretoList[q][1]<paretoList[p][1])\n",
        "          or (paretoList[q][0]<paretoList[p][0] and paretoList[q][1]<=paretoList[p][1])): #q dominates p\n",
        "            n[p] = n[p] + 1\n",
        "            append2.append(paretoList[q])\n",
        "\n",
        "      if n[p] == 0:\n",
        "        rank[p] = 0   #modified to 0 from 1\n",
        "        if p not in front[0]:  #adding distinct solutions to first front\n",
        "          front[0].append(p)\n",
        "          #front_val_comp[0].append(compList[p])\n",
        "\n",
        "          #adding to remove duplicates in front val [remove later based on co-ord]\n",
        "          if paretoList[p] not in front_val[0]:\n",
        "            front_val[0].append(paretoList[p])\n",
        "            #front_val_comp[0].append(compList[p])\n",
        "            #paretoList.remove(paretoList[p])\n",
        "            append3.append(paretoList[p])\n",
        "      #output.clear()\n",
        "      completion = (p/len(paretoList))*50\n",
        "      #out.update(progress(completion, 100))\n",
        "  \n",
        "      #print('completed:', completion,'%')\n",
        "    \n",
        "    i = 0\n",
        "    #print('fronts',front[0])\n",
        "    while (front[i] != []): #not empty\n",
        "      Q_P = []\n",
        "      Q_Pval = []\n",
        "      #print('front',i,'',front[i])\n",
        "\n",
        "      for p in front[i]:\n",
        "        #print('S[p]',p,S[p])\n",
        "        for q in S[p]:\n",
        "          n[q] = n[q] - 1\n",
        "          if (n[q] == 0):\n",
        "            rank[q] = i+1\n",
        "            if q not in Q_P:\n",
        "              Q_P.append(q)\n",
        "              #adding to remove duplicates in front val [remove later based on co-ord]\n",
        "              if paretoList[q] not in Q_Pval:\n",
        "                Q_Pval.append(paretoList[q])\n",
        "                #paretoList.remove(paretoList[q])\n",
        "                append4.append(paretoList[p])\n",
        "    \n",
        "      i = i+1\n",
        "\n",
        "      front.append(Q_P)\n",
        "      front_val.append(Q_Pval)\n",
        "      #append4 += 1\n",
        "      f_len = len(front)\n",
        "      #output.clear()\n",
        "      completion = ((i/f_len)*50)+50\n",
        "      #print('completed:', completion,'%')    \n",
        "      #out.update(progress(completion, 100))  \n",
        "              \n",
        "    del front[len(front)-1]\n",
        "    del front_val[len(front_val)-1]\n",
        "\n",
        "    #print(len(front_val))\n",
        "\n",
        "  \n",
        "    paretoFront = np.array(front)\n",
        "    #np.save('/content/drive/MyDrive/DesignBot_Numpy3/pareto_front.npy', front)\n",
        "    paretoFrontVal = np.array(front_val)\n",
        "    #np.save('/content/drive/MyDrive/DesignBot_Numpy3/pareto_front_val.npy', front_val)\n",
        "  \n",
        "\n",
        "    return front, front_val\n",
        "\n",
        "  def step(self, comp_id, action): #,rule_val_arr,,,, action, comp_id, obj\n",
        "    \n",
        "    obj_fun = {0:self.obj1 , 1:self.obj2}#, 2:self.obj3, 3:self.obj4, 4:self.obj5, 5:self.obj6\n",
        "    \n",
        "    #temp = np.array(len(obj_fun))\n",
        "    temp = []\n",
        "    \n",
        "    state = self.stateToPos(action)\n",
        "    paretoList = []\n",
        "    self.setState(state,comp_id)\n",
        "    if comp_id == len(self.components)-1:\n",
        "      #rew = 0\n",
        "      for i in obj_fun:\n",
        "        temp.append(obj_fun[i]())\n",
        "\n",
        "      #temp = np.array(temp)\n",
        "      #print('temp', temp)\n",
        "      #print('env f1', self.env_front_1)\n",
        "      if self.env_front_1 == []:\n",
        "        self.env_front_1.append(temp)\n",
        "        rew = 0.5\n",
        "      \n",
        "      elif temp in self.env_front_1:\n",
        "        rew = 1\n",
        "      else:\n",
        "        self.env_front_1.append(temp)\n",
        "        if len(self.env_front_2)>0:\n",
        "          for elem in self.env_front_2:\n",
        "            self.env_front_1.append(elem)\n",
        "        #paretoList.append(self.env_front_2)\n",
        "        #paretoList.append(temp)\n",
        "        #print('pareto',self.env_front_1)\n",
        "        p,val = self.paretoFrontFunc(self.env_front_1)\n",
        "        if temp in val[0]:\n",
        "          rew = 10\n",
        "        elif temp in val[1]:\n",
        "          rew = 5\n",
        "        else:\n",
        "          rew = -1\n",
        "        self.env_front_1 = val[0]\n",
        "        if len(val)>1:\n",
        "          self.env_front_2 = val[1]\n",
        "    else:\n",
        "      rew = 0\n",
        "    \n",
        "    return rew, temp\n",
        "\n",
        "  def tupleToState(self, tup):\n",
        "    tem = ''\n",
        "    for i in tup:\n",
        "      s = str(i)\n",
        "      tem = tem + s\n",
        "    tem = int(tem)\n",
        "\n",
        "    return tem\n",
        "\n",
        "\n",
        "  def statePositionDict(self,m,n,o):\n",
        "    cnt = 0\n",
        "    for i in range(m):\n",
        "      for j in range(n):\n",
        "        for k in range(o):\n",
        "          self.statePosDict[cnt] = (i,j,k)\n",
        "          cnt += 1\n",
        "    \n",
        "  def posToState(self,tup):\n",
        "    #print(self.statePosDict)\n",
        "    for k,v in self.statePosDict.items():\n",
        "      if v == tup:\n",
        "        ptos = k\n",
        "    return ptos\n",
        "\n",
        "  def stateToPos(self,s):\n",
        "    ret = self.statePosDict[s]\n",
        "\n",
        "    return ret\n",
        "\n",
        "  \n",
        "  def reset(self):\n",
        "    #self.grid = np.zeros((self.m, self.n,self.o))\n",
        "    self.__init__(self.m, self.n,self.o)\n",
        "\n",
        "  def render(self):\n",
        "    #print(self.occupied)\n",
        "    print('components',self.components)\n",
        "    #print(\n",
        "    #    '#####################################################################'+\n",
        "    #    '#####################################################################'\n",
        "    #    +'########################')\n",
        "    x = []\n",
        "    y = []\n",
        "    z = []\n",
        "    for tup in self.occupied:\n",
        "      x.append(tup[0])\n",
        "      y.append(tup[1])\n",
        "      z.append(tup[2])\n",
        "    \n",
        "    print('*****FRONT VIEW*****')\n",
        "    print('Z_AXIS \\u2193')\n",
        "    \n",
        "    i=1\n",
        "    for y_id in range(self.n):\n",
        "      print('LAYER_',y_id)\n",
        "      for i in range(self.m):\n",
        "        print('################',end='')\n",
        "      print()\n",
        "      for z_id in range((self.o)):\n",
        "        for x_id in range((self.m)):\n",
        "          print('|',end='\\t')\n",
        "          temp = self.getComponentValue((x_id,y_id,z_id))\n",
        "          if temp>0:\n",
        "            print(temp,end='\\t')\n",
        "            #i+=1\n",
        "          else:\n",
        "            print(-1, end='\\t')\n",
        "        print('|',end='\\t')\n",
        "        print()\n",
        "        for i in range(self.m):\n",
        "          print('################',end='')\n",
        "        print()\n",
        "    print('X_AXIS \\u2192')\n",
        "    print('\\n\\n')\n",
        "    print('*****TOP VIEW*****')\n",
        "    print('Y_AXIS \\u2193')\n",
        "    \n",
        "    i=1\n",
        "    for z_id in range(self.o):\n",
        "      print('LAYER_',z_id)\n",
        "      for i in range(self.m):\n",
        "        print('################',end='')\n",
        "      print()\n",
        "      for y_id in range((self.n)):\n",
        "        for x_id in range((self.m)):\n",
        "          print('|',end='\\t')\n",
        "          temp = self.getComponentValue((x_id,y_id,z_id))\n",
        "          if temp>0:\n",
        "            print(temp,end='\\t')\n",
        "          #  i+=1\n",
        "          else:\n",
        "            print(-1, end='\\t')\n",
        "        print('|',end='\\t')\n",
        "        print()\n",
        "        for i in range(self.m):\n",
        "          print('################',end='')\n",
        "        print()\n",
        "      print('X_AXIS \\u2192')\n",
        "        \n",
        "\n"
      ],
      "metadata": {
        "id": "6cMTw8cQgai3"
      },
      "execution_count": 135,
      "outputs": []
    },
    {
      "cell_type": "code",
      "source": [
        "env = GreenHouseEnv(10 ,10, 10)"
      ],
      "metadata": {
        "colab": {
          "base_uri": "https://localhost:8080/"
        },
        "id": "RPHp3HvsltZe",
        "outputId": "fd87099e-4bff-4d4e-e2c9-3e7d0f97387e"
      },
      "execution_count": 22,
      "outputs": [
        {
          "output_type": "stream",
          "name": "stdout",
          "text": [
            "occupied: [(2, 6, 9), (9, 3, 1), (4, 0, 9), (7, 2, 7), (7, 0, 0), (1, 0, 7), (4, 9, 9), (7, 1, 7)]\n"
          ]
        }
      ]
    },
    {
      "cell_type": "code",
      "source": [
        "env.occupied"
      ],
      "metadata": {
        "colab": {
          "base_uri": "https://localhost:8080/"
        },
        "id": "A-cM526H0Iki",
        "outputId": "2037c98a-ec8e-4635-9fa6-f3ef4f8b25d7"
      },
      "execution_count": null,
      "outputs": [
        {
          "output_type": "execute_result",
          "data": {
            "text/plain": [
              "[(5, 1, 6),\n",
              " (3, 3, 2),\n",
              " (8, 9, 0),\n",
              " (1, 0, 4),\n",
              " (5, 1, 2),\n",
              " (4, 6, 1),\n",
              " (7, 4, 9),\n",
              " (0, 3, 6)]"
            ]
          },
          "metadata": {},
          "execution_count": 42
        }
      ]
    },
    {
      "cell_type": "code",
      "source": [
        "env.step(1,3)"
      ],
      "metadata": {
        "colab": {
          "base_uri": "https://localhost:8080/"
        },
        "id": "KXd1TVlX0KEq",
        "outputId": "1300e110-18db-47b1-de99-449a906b4948"
      },
      "execution_count": null,
      "outputs": [
        {
          "output_type": "execute_result",
          "data": {
            "text/plain": [
              "0"
            ]
          },
          "metadata": {},
          "execution_count": 6
        }
      ]
    },
    {
      "cell_type": "code",
      "source": [
        "env.occupied\n"
      ],
      "metadata": {
        "colab": {
          "base_uri": "https://localhost:8080/"
        },
        "id": "7_bxClVW0REb",
        "outputId": "4b16b35f-d820-4d88-960d-c9f610c244b1"
      },
      "execution_count": null,
      "outputs": [
        {
          "output_type": "execute_result",
          "data": {
            "text/plain": [
              "[(9, 9, 8),\n",
              " (0, 0, 0),\n",
              " (0, 0, 0),\n",
              " (0, 0, 0),\n",
              " (7, 3, 5),\n",
              " (0, 0, 0),\n",
              " (0, 0, 0),\n",
              " (0, 0, 0)]"
            ]
          },
          "metadata": {},
          "execution_count": 31
        }
      ]
    },
    {
      "cell_type": "code",
      "source": [
        "Q = {(1,2,3):1}\n",
        "Q[(1,2,3)]\n",
        "if (1,2,3) in Q:\n",
        "  print('TRUE')\n",
        "\n",
        "A = [1,2,3,4]\n",
        "A = tuple(A)\n",
        "Q[A] = 3\n",
        "B = list(A)\n",
        "Q\n",
        "B\n",
        "print(max(Q, key =Q.get))\n"
      ],
      "metadata": {
        "colab": {
          "base_uri": "https://localhost:8080/"
        },
        "id": "2Drz1QZKsrMm",
        "outputId": "d253a07d-00bb-4b30-94fe-e84ff7409a47"
      },
      "execution_count": 35,
      "outputs": [
        {
          "output_type": "stream",
          "name": "stdout",
          "text": [
            "TRUE\n",
            "(1, 2, 3, 4)\n"
          ]
        }
      ]
    },
    {
      "cell_type": "code",
      "source": [
        "state = [env.posToState(env.getComponentPosition(j)) for j in range(7)]\n",
        "state"
      ],
      "metadata": {
        "colab": {
          "base_uri": "https://localhost:8080/"
        },
        "id": "ZqFk3lpgaAQJ",
        "outputId": "dcc0c29e-29a5-4a8b-df11-3b7e930a42af"
      },
      "execution_count": null,
      "outputs": [
        {
          "output_type": "execute_result",
          "data": {
            "text/plain": [
              "[78, 762, 91, 272, 905, 231, 791]"
            ]
          },
          "metadata": {},
          "execution_count": 50
        }
      ]
    },
    {
      "cell_type": "code",
      "source": [
        "Q = {}"
      ],
      "metadata": {
        "id": "HwRHNtSrancy"
      },
      "execution_count": null,
      "outputs": []
    },
    {
      "cell_type": "code",
      "source": [
        "Q[tuple(state)] = 0"
      ],
      "metadata": {
        "id": "Z04l7BFLc0wO"
      },
      "execution_count": null,
      "outputs": []
    },
    {
      "cell_type": "code",
      "source": [
        "Q[(78, 762, 91, 272, 905, 231, 791)]"
      ],
      "metadata": {
        "colab": {
          "base_uri": "https://localhost:8080/"
        },
        "id": "nAKXInDMexEz",
        "outputId": "64969a64-de29-42cf-87df-c4fb55858d2e"
      },
      "execution_count": null,
      "outputs": [
        {
          "output_type": "execute_result",
          "data": {
            "text/plain": [
              "0"
            ]
          },
          "metadata": {},
          "execution_count": 70
        }
      ]
    },
    {
      "cell_type": "code",
      "source": [
        "Q.shape"
      ],
      "metadata": {
        "colab": {
          "base_uri": "https://localhost:8080/"
        },
        "id": "DZlMbn9Tbt7G",
        "outputId": "abe70161-61f1-40bd-f5b7-8a6ad5e20dab"
      },
      "execution_count": null,
      "outputs": [
        {
          "output_type": "execute_result",
          "data": {
            "text/plain": [
              "(1000, 1000)"
            ]
          },
          "metadata": {},
          "execution_count": 60
        }
      ]
    },
    {
      "cell_type": "code",
      "source": [
        "Q[tuple(state)] = 1"
      ],
      "metadata": {
        "colab": {
          "base_uri": "https://localhost:8080/",
          "height": 165
        },
        "id": "yWMZgKn2asOe",
        "outputId": "a76effa1-4608-4e44-971d-6d1de90efb77"
      },
      "execution_count": null,
      "outputs": [
        {
          "output_type": "error",
          "ename": "IndexError",
          "evalue": "ignored",
          "traceback": [
            "\u001b[0;31m---------------------------------------------------------------------------\u001b[0m",
            "\u001b[0;31mIndexError\u001b[0m                                Traceback (most recent call last)",
            "\u001b[0;32m<ipython-input-58-720d46bb7074>\u001b[0m in \u001b[0;36m<module>\u001b[0;34m()\u001b[0m\n\u001b[0;32m----> 1\u001b[0;31m \u001b[0mQ\u001b[0m\u001b[0;34m[\u001b[0m\u001b[0mtuple\u001b[0m\u001b[0;34m(\u001b[0m\u001b[0mstate\u001b[0m\u001b[0;34m)\u001b[0m\u001b[0;34m]\u001b[0m \u001b[0;34m=\u001b[0m \u001b[0;36m1\u001b[0m\u001b[0;34m\u001b[0m\u001b[0;34m\u001b[0m\u001b[0m\n\u001b[0m",
            "\u001b[0;31mIndexError\u001b[0m: too many indices for array: array is 2-dimensional, but 7 were indexed"
          ]
        }
      ]
    },
    {
      "cell_type": "code",
      "source": [
        "Q[(78, 762, 91, 272, 905, 231, 791)]"
      ],
      "metadata": {
        "colab": {
          "base_uri": "https://localhost:8080/",
          "height": 165
        },
        "id": "NCjigdoQa-wu",
        "outputId": "33c4dab4-73bc-44df-a7e8-7d066c0dda2f"
      },
      "execution_count": null,
      "outputs": [
        {
          "output_type": "error",
          "ename": "IndexError",
          "evalue": "ignored",
          "traceback": [
            "\u001b[0;31m---------------------------------------------------------------------------\u001b[0m",
            "\u001b[0;31mIndexError\u001b[0m                                Traceback (most recent call last)",
            "\u001b[0;32m<ipython-input-55-8882a8292804>\u001b[0m in \u001b[0;36m<module>\u001b[0;34m()\u001b[0m\n\u001b[0;32m----> 1\u001b[0;31m \u001b[0mQ\u001b[0m\u001b[0;34m[\u001b[0m\u001b[0;34m(\u001b[0m\u001b[0;36m78\u001b[0m\u001b[0;34m,\u001b[0m \u001b[0;36m762\u001b[0m\u001b[0;34m,\u001b[0m \u001b[0;36m91\u001b[0m\u001b[0;34m,\u001b[0m \u001b[0;36m272\u001b[0m\u001b[0;34m,\u001b[0m \u001b[0;36m905\u001b[0m\u001b[0;34m,\u001b[0m \u001b[0;36m231\u001b[0m\u001b[0;34m,\u001b[0m \u001b[0;36m791\u001b[0m\u001b[0;34m)\u001b[0m\u001b[0;34m]\u001b[0m\u001b[0;34m\u001b[0m\u001b[0;34m\u001b[0m\u001b[0m\n\u001b[0m",
            "\u001b[0;31mIndexError\u001b[0m: too many indices for array: array is 2-dimensional, but 7 were indexed"
          ]
        }
      ]
    },
    {
      "cell_type": "code",
      "source": [
        "from collections import defaultdict\n",
        "class Agent:\n",
        "  def __init__(self, eps_prob):\n",
        "    self.time_step = 0\n",
        "    self.eps_prob = eps_prob\n",
        "    self.total_rew = 0\n",
        "    self.prev_action = None\n",
        "    self.action_cnt = 0\n",
        "    self.action_log = []\n",
        "    self.env_pos_log = []\n",
        "    self.random_cnt = 0\n",
        "    self.best_cnt = 0\n",
        "    self.obj_pos = {0: [], 1: [], 2: [], 3: [], 4: [], 5: [], 6: [], 7: []}\n",
        "    \n",
        "\n",
        "  def greedy_eps(self, Q, eps, num_act):\n",
        "    #https://www.geeksforgeeks.org/q-learning-in-python/\n",
        "    #https://www.learndatasci.com/tutorials/reinforcement-q-learning-scratch-python-openai-gym/\n",
        "\n",
        "    def policyFunc(state):\n",
        "      act_prob = np.ones(num_act, dtype = float) * eps / num_act\n",
        "\n",
        "      best_act = np.argmax(Q[state])\n",
        "      act_prob[best_act] += (1 - eps)\n",
        "      \n",
        "      return act_prob\n",
        "\n",
        "    return policyFunc\n",
        "\n",
        "  def qLearning(self, env, nS, nA, num_episodes, disc_fac = 1.0, alpha = 0.5, epsilon = 0.1):\n",
        "    \n",
        "    '''\n",
        "    Q_1 = np.zeros((nS,nA)) #num of action hardcoded\n",
        "    Q_2 = np.zeros((nS,nA))\n",
        "    Q_3 = np.zeros((nS,nA))\n",
        "    Q_4 = np.zeros((nS,nA))\n",
        "    Q_5 = np.zeros((nS,nA))\n",
        "    Q_6 = np.zeros((nS,nA))\n",
        "    '''\n",
        "\n",
        "    #Q_1 = np.zeros((nS,nA))\n",
        "    #Q_2 = np.zeros((nS,nA))\n",
        "    #Q_3 = np.zeros((nS,nA))\n",
        "    print('init Q val')\n",
        "    #Q = np.zeros((nS,nA))\n",
        "    #Q = np.zeros((8,1000)) \n",
        "    Q = {}\n",
        "    print('init Q val done')\n",
        "    #num_obj = 2\n",
        "\n",
        "    obj_dict = {0:[1,2,7], 1:[0,5], 2:[3,6]} #0:[1,2,7], 1:[0,5], 2:[3,6], 3:[0,3], 4:[2,6], 5:[2,4]\n",
        "    \n",
        "    env.reset()\n",
        "\n",
        "    lr = 0.9\n",
        "\n",
        "    y = 0.95\n",
        "\n",
        "    '''Pareto Front Initializations'''\n",
        "    \n",
        "    paretoList = []\n",
        "\n",
        "    front1 = []\n",
        "\n",
        "    front2 = []\n",
        "\n",
        "    check_arr = []\n",
        "    \n",
        "    step_cnt = 0\n",
        "    reward_total = 0\n",
        "    rew_arr = []\n",
        "    obj_arr = []\n",
        "    Q_arr = []\n",
        "    \n",
        "    #while reward_total<1:\n",
        "    for ep in range(num_episodes):\n",
        "      output.clear()\n",
        "      print('itr',ep)\n",
        "    #for x in range(num_episodes):\n",
        "      #check_arr.append(step_cnt)\n",
        "      #print('Q',Q)\n",
        "      step_cnt += 1\n",
        "      state = [env.posToState(env.getComponentPosition(j)) for j in range(8)]\n",
        "      next_state = [0,0,0,0,0,0,0,0]\n",
        "      if random.uniform(0,1) < epsilon:\n",
        "        self.random_cnt += 1\n",
        "        #action = np.random.choice(env.actSpace)\n",
        "        temp = []\n",
        "        for j in range(8):\n",
        "          valid = True\n",
        "          while valid:\n",
        "            rn = np.random.choice(env.actSpace)\n",
        "            if rn in temp:\n",
        "              valid = True\n",
        "            else:\n",
        "              temp.append(rn)\n",
        "              next_state[j] = rn\n",
        "              valid = False\n",
        "        action = next_state  \n",
        "        #print('1',action)\n",
        "      else:\n",
        "        self.best_cnt += 1\n",
        "        #print('st',s)\n",
        "        #print(Q)\n",
        "        #code for dict with more value gets the action\n",
        "        #if tuple(state) in Q:\n",
        "        if Q:\n",
        "          \n",
        "          action = max(Q, key =Q.get)\n",
        "          #print('2',action)\n",
        "        else:\n",
        "          temp = []\n",
        "          for j in range(8):\n",
        "            valid = True\n",
        "            while valid:\n",
        "              rn = np.random.choice(env.actSpace)\n",
        "              if rn in temp:\n",
        "                valid = True\n",
        "              else:\n",
        "                temp.append(rn)\n",
        "                next_state[j] = rn\n",
        "                valid = False\n",
        "          action = next_state\n",
        "          #print('3',action)\n",
        "\n",
        "        #print('act',action)\n",
        "      '''\n",
        "      for i in env.components:\n",
        "        s = env.getComponentPosition(i)\n",
        "        s = env.posToState(s)\n",
        "\n",
        "\n",
        "\n",
        "        if random.uniform(0,1) < epsilon:\n",
        "          action = np.random.choice(env.actSpace)\n",
        "          \n",
        "        else:\n",
        "          print('st',s)\n",
        "          print(Q)\n",
        "          action = np.argmax(Q)\n",
        "          print('act',action)\n",
        "      '''  \n",
        "      for x in range(len(action)):  \n",
        "        rew,obj = env.step(x,list(action)[x])\n",
        "      rew_arr.append(rew)\n",
        "      obj_arr.append(obj)\n",
        "      reward_total += rew\n",
        "      #print(rew)\n",
        "      \n",
        "      next_state = env.occupied\n",
        "      #state = env.getComponentPosition(i)\n",
        "      #state = env.posToState(state)\n",
        "      old_val = Q\n",
        "      #next_max = max(Q[next_state])\n",
        "\n",
        "      #new_value = (1 - alpha) * old_val + alpha * (rew + disc_fac * next_max)\n",
        "      #print(state)\n",
        "      if not tuple(state) in Q:\n",
        "        Q[tuple(state)] = 0\n",
        "      #print(Q[tuple(state)])\n",
        "      #print(Q[max(Q)])\n",
        "      new_value = Q[tuple(state)] + alpha * (rew + disc_fac * Q[max(Q)] - Q[tuple(state)])\n",
        "      Q[tuple(state)] = new_value\n",
        "      state = next_state\n",
        "    rew_arr = np.array(rew_arr)       \n",
        "    np.save('/content/drive/MyDrive/DesignBot_Numpy3/rew_arr.npy', rew_arr)\n",
        "    Q_arr.append(Q)\n",
        "    Q_arr = np.array(Q_arr)       \n",
        "    np.save('/content/drive/MyDrive/DesignBot_Numpy3/Q_arr.npy', Q_arr)\n",
        "    obj_arr = np.array(obj_arr)       \n",
        "    np.save('/content/drive/MyDrive/DesignBot_Numpy3/obj_arr.npy', obj_arr)"
      ],
      "metadata": {
        "id": "bVGR0AiRR4It"
      },
      "execution_count": 140,
      "outputs": []
    },
    {
      "cell_type": "code",
      "source": [
        "env = GreenHouseEnv(50 ,50, 50)"
      ],
      "metadata": {
        "colab": {
          "base_uri": "https://localhost:8080/"
        },
        "id": "BlqHZfQmxO8V",
        "outputId": "17a0832f-ec63-4a53-99bf-474e32be23f7"
      },
      "execution_count": 186,
      "outputs": [
        {
          "output_type": "stream",
          "name": "stdout",
          "text": [
            "occupied: [(18, 17, 25), (23, 31, 32), (8, 10, 11), (22, 0, 2), (26, 33, 41), (46, 10, 26), (15, 34, 22), (29, 44, 33)]\n"
          ]
        }
      ]
    },
    {
      "cell_type": "code",
      "source": [
        "env.occupied"
      ],
      "metadata": {
        "colab": {
          "base_uri": "https://localhost:8080/"
        },
        "id": "Jr5ePT6r8kFp",
        "outputId": "8aadaeb8-9e65-4a74-8578-d9bb32880f48"
      },
      "execution_count": null,
      "outputs": [
        {
          "output_type": "execute_result",
          "data": {
            "text/plain": [
              "[(5, 1, 7),\n",
              " (9, 8, 0),\n",
              " (6, 1, 4),\n",
              " (8, 3, 5),\n",
              " (1, 6, 6),\n",
              " (8, 3, 2),\n",
              " (5, 0, 9),\n",
              " (4, 2, 7)]"
            ]
          },
          "metadata": {},
          "execution_count": 27
        }
      ]
    },
    {
      "cell_type": "code",
      "source": [
        "agent = Agent(0.1)"
      ],
      "metadata": {
        "id": "br6q4KVuxSCt"
      },
      "execution_count": 187,
      "outputs": []
    },
    {
      "cell_type": "code",
      "source": [
        "S = [[0,1,2],[3,4,5],[6,7,8],[9,10,11]]\n",
        "S = np.zeros((100*100*100,7))\n",
        "S.shape\n",
        "ndarr = np.zeros((11,11,11,11,11,11,11,11))\n",
        "ndarr[0,0,0,0,0,0,0,1] = 11\n",
        "ndarr[0,0,0,1,0,0,0,1] = 12\n",
        "\n",
        "np.argmax(ndarr)\n",
        "q = np.zeros(8)\n",
        "q"
      ],
      "metadata": {
        "colab": {
          "base_uri": "https://localhost:8080/"
        },
        "id": "LqNMD_sRxc1F",
        "outputId": "a205a7a0-c7f1-44c1-df86-97e55ece06e9"
      },
      "execution_count": 10,
      "outputs": [
        {
          "output_type": "execute_result",
          "data": {
            "text/plain": [
              "array([0., 0., 0., 0., 0., 0., 0., 0.])"
            ]
          },
          "metadata": {},
          "execution_count": 10
        }
      ]
    },
    {
      "cell_type": "code",
      "source": [
        "agent.qLearning(env=env,nS=50*50*50,nA=50*50*50,num_episodes=100000)"
      ],
      "metadata": {
        "colab": {
          "base_uri": "https://localhost:8080/"
        },
        "id": "z0qeviCUxT01",
        "outputId": "37b1dd5f-95f3-44a6-f454-f1dafc02a130"
      },
      "execution_count": 188,
      "outputs": [
        {
          "output_type": "stream",
          "name": "stdout",
          "text": [
            "itr 99999\n"
          ]
        }
      ]
    },
    {
      "cell_type": "code",
      "source": [
        "for x in range(1):\n",
        "  print('iter',x)\n",
        "  for i in env.components:\n",
        "    action = np.random.choice(env.actSpace)\n",
        "    #print(env.stateToPos(v))\n",
        "    #print(action)\n",
        "    rew = env.step(i,action)\n",
        "    print(rew)\n",
        "\n",
        "#print('rew',rew)\n",
        "\n",
        "#env.step()"
      ],
      "metadata": {
        "colab": {
          "base_uri": "https://localhost:8080/"
        },
        "id": "cBW9U4Pulufw",
        "outputId": "97c443df-5c82-4bbe-a047-f2cf4f86513e"
      },
      "execution_count": null,
      "outputs": [
        {
          "output_type": "stream",
          "name": "stdout",
          "text": [
            "iter 0\n",
            "0\n",
            "0\n",
            "0\n",
            "0\n",
            "0\n",
            "0\n",
            "0\n",
            "fronts [0, 1]\n",
            "3\n",
            "-10\n"
          ]
        },
        {
          "output_type": "stream",
          "name": "stderr",
          "text": [
            "/usr/local/lib/python3.7/dist-packages/ipykernel_launcher.py:627: VisibleDeprecationWarning: Creating an ndarray from ragged nested sequences (which is a list-or-tuple of lists-or-tuples-or ndarrays with different lengths or shapes) is deprecated. If you meant to do this, you must specify 'dtype=object' when creating the ndarray.\n",
            "/usr/local/lib/python3.7/dist-packages/ipykernel_launcher.py:629: VisibleDeprecationWarning: Creating an ndarray from ragged nested sequences (which is a list-or-tuple of lists-or-tuples-or ndarrays with different lengths or shapes) is deprecated. If you meant to do this, you must specify 'dtype=object' when creating the ndarray.\n"
          ]
        }
      ]
    },
    {
      "cell_type": "code",
      "source": [
        "env.env_front_1"
      ],
      "metadata": {
        "colab": {
          "base_uri": "https://localhost:8080/"
        },
        "id": "XewLgXOL0NY8",
        "outputId": "1d6b49c5-5bf4-49fb-bb2a-7467b9b63300"
      },
      "execution_count": 189,
      "outputs": [
        {
          "output_type": "execute_result",
          "data": {
            "text/plain": [
              "[[15.397794739335845, 1.4142135623730951],\n",
              " [11.079604209177646, 11.489125293076057],\n",
              " [13.442821187530788, 7.54983443527075],\n",
              " [10.43842093628391, 19.72308292331602],\n",
              " [6.019853287397443, 21.2602916254693]]"
            ]
          },
          "metadata": {},
          "execution_count": 189
        }
      ]
    },
    {
      "cell_type": "code",
      "source": [
        "env.env_front_2"
      ],
      "metadata": {
        "colab": {
          "base_uri": "https://localhost:8080/"
        },
        "id": "neIY2s9H_ucs",
        "outputId": "5470282b-ddd2-4cdd-fca6-3d722056fff3"
      },
      "execution_count": 190,
      "outputs": [
        {
          "output_type": "execute_result",
          "data": {
            "text/plain": [
              "[[20.44346905713344, 3.605551275463989],\n",
              " [19.010025368922566, 3.7416573867739413],\n",
              " [18.908548312678615, 6.164414002968976],\n",
              " [21.992039916873395, 2.23606797749979],\n",
              " [11.487436242277061, 17.146428199482248],\n",
              " [18.050716358668602, 7.810249675906654],\n",
              " [13.693875558266187, 16.0312195418814],\n",
              " [14.067677420455075, 13.74772708486752],\n",
              " [15.23901354142585, 11.445523142259598],\n",
              " [13.992632538646362, 14.696938456699069],\n",
              " [14.37299878820239, 12.884098726725126],\n",
              " [11.021857932043673, 21.587033144922902],\n",
              " [6.138524034796525, 21.77154105707724]]"
            ]
          },
          "metadata": {},
          "execution_count": 190
        }
      ]
    },
    {
      "cell_type": "code",
      "source": [
        "rew_arr = np.load('/content/drive/MyDrive/DesignBot_Numpy3/rew_arr.npy')\n",
        "Q_arr = np.load('/content/drive/MyDrive/DesignBot_Numpy3/Q_arr.npy', allow_pickle=True)\n",
        "obj_arr = np.load('/content/drive/MyDrive/DesignBot_Numpy3/obj_arr.npy')\n",
        "random_cnt = agent.random_cnt\n",
        "best_cnt = agent.best_cnt"
      ],
      "metadata": {
        "id": "w-v7yjfnrY6M"
      },
      "execution_count": 191,
      "outputs": []
    },
    {
      "cell_type": "code",
      "source": [
        "print(random_cnt,best_cnt)"
      ],
      "metadata": {
        "colab": {
          "base_uri": "https://localhost:8080/"
        },
        "id": "EkbZZle3sTVs",
        "outputId": "ae5372ba-1402-4ccd-9887-08bd93a4ce8e"
      },
      "execution_count": 192,
      "outputs": [
        {
          "output_type": "stream",
          "name": "stdout",
          "text": [
            "9995 90005\n"
          ]
        }
      ]
    },
    {
      "cell_type": "code",
      "source": [
        "rew_arr"
      ],
      "metadata": {
        "colab": {
          "base_uri": "https://localhost:8080/"
        },
        "id": "4MIk-2ypug9L",
        "outputId": "0595697a-4bb8-47d6-a577-0f5dfa4b400a"
      },
      "execution_count": 193,
      "outputs": [
        {
          "output_type": "execute_result",
          "data": {
            "text/plain": [
              "array([ 0.5, 10. ,  1. , ..., -1. , -1. , -1. ])"
            ]
          },
          "metadata": {},
          "execution_count": 193
        }
      ]
    },
    {
      "cell_type": "code",
      "source": [
        "list(rew_arr==5).count(True)"
      ],
      "metadata": {
        "colab": {
          "base_uri": "https://localhost:8080/"
        },
        "id": "gyp5TTyRtv0Z",
        "outputId": "2110f9fb-d0cf-4e27-ebe9-5173ffe85f34"
      },
      "execution_count": 194,
      "outputs": [
        {
          "output_type": "execute_result",
          "data": {
            "text/plain": [
              "5820"
            ]
          },
          "metadata": {},
          "execution_count": 194
        }
      ]
    },
    {
      "cell_type": "code",
      "source": [
        "plt.plot(rew_arr)\n",
        "plt.xlabel('steps')\n",
        "plt.ylabel('Reward')\n",
        "plt.title('Rewards')"
      ],
      "metadata": {
        "colab": {
          "base_uri": "https://localhost:8080/",
          "height": 312
        },
        "id": "kp68KkWEx63r",
        "outputId": "f9178a1b-1a68-4d4c-95ef-504188204ccc"
      },
      "execution_count": 195,
      "outputs": [
        {
          "output_type": "execute_result",
          "data": {
            "text/plain": [
              "Text(0.5, 1.0, 'Rewards')"
            ]
          },
          "metadata": {},
          "execution_count": 195
        },
        {
          "output_type": "display_data",
          "data": {
            "text/plain": [
              "<Figure size 432x288 with 1 Axes>"
            ],
            "image/png": "[encoded data removed]"
          },
          "metadata": {
            "needs_background": "light"
          }
        }
      ]
    },
    {
      "cell_type": "code",
      "source": [
        "point_five = list(rew_arr==0.5).count(True)\n",
        "rew_one = list(rew_arr==-1).count(True)\n",
        "rew_ten = list(rew_arr==10).count(True)\n",
        "rew_five = list(rew_arr==5).count(True)\n",
        "rew_neg = list(rew_arr==-1).count(True)"
      ],
      "metadata": {
        "id": "B8tWpby4tpp4"
      },
      "execution_count": 196,
      "outputs": []
    },
    {
      "cell_type": "code",
      "source": [
        "x = ['1','10','5','-1']\n",
        "y = [rew_one, rew_ten, rew_five, rew_neg]\n",
        "plt.bar(x,y)\n",
        "plt.xlabel('Reward')\n",
        "plt.ylabel('Count')\n",
        "plt.title('Rewards')"
      ],
      "metadata": {
        "colab": {
          "base_uri": "https://localhost:8080/",
          "height": 312
        },
        "id": "APpoZZN7tqah",
        "outputId": "09b48ff4-c72d-41fe-ac85-7259a33cda85"
      },
      "execution_count": 197,
      "outputs": [
        {
          "output_type": "execute_result",
          "data": {
            "text/plain": [
              "Text(0.5, 1.0, 'Rewards')"
            ]
          },
          "metadata": {},
          "execution_count": 197
        },
        {
          "output_type": "display_data",
          "data": {
            "text/plain": [
              "<Figure size 432x288 with 1 Axes>"
            ],
            "image/png": "[encoded data removed]"
          },
          "metadata": {
            "needs_background": "light"
          }
        }
      ]
    },
    {
      "cell_type": "code",
      "source": [
        "x = ['5','10']\n",
        "y = [rew_five, rew_ten]\n",
        "plt.bar(x,y)\n",
        "plt.xlabel('Reward')\n",
        "plt.ylabel('Count')\n",
        "plt.title('Rewards')"
      ],
      "metadata": {
        "colab": {
          "base_uri": "https://localhost:8080/",
          "height": 312
        },
        "id": "GW1EPttDzGyD",
        "outputId": "e91e9495-d91d-4d67-d091-91cd197d8d5c"
      },
      "execution_count": 198,
      "outputs": [
        {
          "output_type": "execute_result",
          "data": {
            "text/plain": [
              "Text(0.5, 1.0, 'Rewards')"
            ]
          },
          "metadata": {},
          "execution_count": 198
        },
        {
          "output_type": "display_data",
          "data": {
            "text/plain": [
              "<Figure size 432x288 with 1 Axes>"
            ],
            "image/png": "[encoded data removed]"
          },
          "metadata": {
            "needs_background": "light"
          }
        }
      ]
    },
    {
      "cell_type": "code",
      "source": [
        "rew_ten"
      ],
      "metadata": {
        "colab": {
          "base_uri": "https://localhost:8080/"
        },
        "id": "fFGXt0u5zO0n",
        "outputId": "568ec531-41e5-4d74-d840-168d6ef285d8"
      },
      "execution_count": 199,
      "outputs": [
        {
          "output_type": "execute_result",
          "data": {
            "text/plain": [
              "43"
            ]
          },
          "metadata": {},
          "execution_count": 199
        }
      ]
    },
    {
      "cell_type": "code",
      "source": [
        "x = ['exploit','explore']\n",
        "y = [best_cnt, random_cnt]\n",
        "plt.bar(x,y)\n",
        "plt.xlabel('Exploit vs Explore')\n",
        "plt.ylabel('Count')\n",
        "plt.title('Rewards for component 0')"
      ],
      "metadata": {
        "colab": {
          "base_uri": "https://localhost:8080/",
          "height": 312
        },
        "id": "0SY3Fw2Zw2vx",
        "outputId": "3bd51059-5287-4e54-a304-824db3d325c7"
      },
      "execution_count": 200,
      "outputs": [
        {
          "output_type": "execute_result",
          "data": {
            "text/plain": [
              "Text(0.5, 1.0, 'Rewards for component 0')"
            ]
          },
          "metadata": {},
          "execution_count": 200
        },
        {
          "output_type": "display_data",
          "data": {
            "text/plain": [
              "<Figure size 432x288 with 1 Axes>"
            ],
            "image/png": "[encoded data removed]"
          },
          "metadata": {
            "needs_background": "light"
          }
        }
      ]
    },
    {
      "cell_type": "code",
      "source": [
        "obj_arr[:,0]"
      ],
      "metadata": {
        "colab": {
          "base_uri": "https://localhost:8080/"
        },
        "id": "iYjhWBjZxcg4",
        "outputId": "b991449f-80cd-4537-ef4a-38473d23acad"
      },
      "execution_count": 201,
      "outputs": [
        {
          "output_type": "execute_result",
          "data": {
            "text/plain": [
              "array([47.66837974, 23.74933794, 47.66837974, ..., 34.48382694,\n",
              "       31.39599387, 31.39599387])"
            ]
          },
          "metadata": {},
          "execution_count": 201
        }
      ]
    },
    {
      "cell_type": "code",
      "source": [
        "plt.plot(obj_arr[:,0])\n",
        "plt.xlabel('steps')\n",
        "plt.ylabel('avg dist')\n",
        "plt.title('Average Distance between components Obj 1')"
      ],
      "metadata": {
        "colab": {
          "base_uri": "https://localhost:8080/",
          "height": 312
        },
        "id": "4TDY7jhmxZZm",
        "outputId": "6e8e5ae1-01e0-412b-cef5-5ac4f06ed55f"
      },
      "execution_count": 202,
      "outputs": [
        {
          "output_type": "execute_result",
          "data": {
            "text/plain": [
              "Text(0.5, 1.0, 'Average Distance between components Obj 1')"
            ]
          },
          "metadata": {},
          "execution_count": 202
        },
        {
          "output_type": "display_data",
          "data": {
            "text/plain": [
              "<Figure size 432x288 with 1 Axes>"
            ],
            "image/png": "[encoded data removed]"
          },
          "metadata": {
            "needs_background": "light"
          }
        }
      ]
    },
    {
      "cell_type": "code",
      "source": [
        "plt.plot(obj_arr[:,1])\n",
        "plt.xlabel('steps')\n",
        "plt.ylabel('avg dist')\n",
        "plt.title('Average Distance between components Obj 2')"
      ],
      "metadata": {
        "colab": {
          "base_uri": "https://localhost:8080/",
          "height": 312
        },
        "id": "g0uWjl8hx1Tz",
        "outputId": "24a5a2e5-b392-4dcb-d17f-82b260214227"
      },
      "execution_count": 204,
      "outputs": [
        {
          "output_type": "execute_result",
          "data": {
            "text/plain": [
              "Text(0.5, 1.0, 'Average Distance between components Obj 2')"
            ]
          },
          "metadata": {},
          "execution_count": 204
        },
        {
          "output_type": "display_data",
          "data": {
            "text/plain": [
              "<Figure size 432x288 with 1 Axes>"
            ],
            "image/png": "[encoded data removed]"
          },
          "metadata": {
            "needs_background": "light"
          }
        }
      ]
    },
    {
      "cell_type": "code",
      "source": [
        "a=[]\n",
        "\n",
        "for i in range(len(env.env_front_1)):\n",
        "  x = env.env_front_1[i][0]\n",
        "  \n",
        "  y = env.env_front_1[i][1]\n",
        "  plt.scatter(x,y,c='black')\n",
        "\n",
        "'''\n",
        "for i in range(len(front_val[1])):\n",
        "  x = front_val[1][i][0]\n",
        "  y = front_val[1][i][1]\n",
        "  plt.scatter(x,y,c='blue')'''\n",
        "plt.title('Objective 0[Min] vs Objective 1[Min]')\n",
        "plt.xlabel('Objective 0')\n",
        "plt.ylabel('Objective 1')\n",
        "#plt.axis([max(x),min(x),max(y),min(y)])\n",
        "print(x)\n",
        "print(y)"
      ],
      "metadata": {
        "colab": {
          "base_uri": "https://localhost:8080/",
          "height": 330
        },
        "id": "2oDI80Op-NVN",
        "outputId": "7a3d3fe4-2827-48c0-af15-bdf508d921ae"
      },
      "execution_count": 205,
      "outputs": [
        {
          "output_type": "stream",
          "name": "stdout",
          "text": [
            "6.019853287397443\n",
            "21.2602916254693\n"
          ]
        },
        {
          "output_type": "display_data",
          "data": {
            "text/plain": [
              "<Figure size 432x288 with 1 Axes>"
            ],
            "image/png": "[encoded data removed]"
          },
          "metadata": {
            "needs_background": "light"
          }
        }
      ]
    },
    {
      "cell_type": "code",
      "source": [
        "a=[]\n",
        "\n",
        "for i in range(len(env.env_front_1)):\n",
        "  x = env.env_front_1[i][0]\n",
        "  \n",
        "  y = env.env_front_1[i][1]\n",
        "  plt.scatter(x,y,c='black')\n",
        "\n",
        "\n",
        "for i in range(len(env.env_front_2)):\n",
        "  x =env.env_front_2[i][0]\n",
        "  y = env.env_front_2[i][1]\n",
        "  plt.scatter(x,y,c='blue')\n",
        "plt.title('Objective 0[Min] vs Objective 1[Min]')\n",
        "plt.xlabel('Objective 0')\n",
        "plt.ylabel('Objective 1')\n",
        "#plt.axis([max(x),min(x),max(y),min(y)])\n",
        "print(x)\n",
        "print(y)"
      ],
      "metadata": {
        "colab": {
          "base_uri": "https://localhost:8080/",
          "height": 330
        },
        "id": "72NAmp9bApWl",
        "outputId": "3fd347fa-4367-43e1-938b-81b85f8e3eaf"
      },
      "execution_count": 206,
      "outputs": [
        {
          "output_type": "stream",
          "name": "stdout",
          "text": [
            "6.138524034796525\n",
            "21.77154105707724\n"
          ]
        },
        {
          "output_type": "display_data",
          "data": {
            "text/plain": [
              "<Figure size 432x288 with 1 Axes>"
            ],
            "image/png": "[encoded data removed]"
          },
          "metadata": {
            "needs_background": "light"
          }
        }
      ]
    }
  ],
  "metadata": {
    "colab": {
      "collapsed_sections": [],
      "name": "New_Environment_Two_Objective.ipynb",
      "provenance": []
    },
    "kernelspec": {
      "display_name": "Python 3",
      "name": "python3"
    },
    "language_info": {
      "name": "python"
    }
  },
  "nbformat": 4,
  "nbformat_minor": 0
}